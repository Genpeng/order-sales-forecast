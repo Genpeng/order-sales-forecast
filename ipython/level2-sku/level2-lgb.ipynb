{
 "cells": [
  {
   "cell_type": "code",
   "execution_count": 1,
   "metadata": {},
   "outputs": [],
   "source": [
    "import gc\n",
    "import numpy as np\n",
    "import pandas as pd\n",
    "import lightgbm as lgb\n",
    "import matplotlib.pyplot as plt\n",
    "from time import time\n",
    "from datetime import date\n",
    "from sklearn.metrics import mean_squared_error\n",
    "from sklearn.preprocessing import LabelEncoder\n",
    "\n",
    "%matplotlib inline"
   ]
  },
  {
   "cell_type": "code",
   "execution_count": 2,
   "metadata": {},
   "outputs": [],
   "source": [
    "pd.set_option('display.max_columns', 1000)"
   ]
  },
  {
   "cell_type": "markdown",
   "metadata": {},
   "source": [
    "# 1 数据预处理"
   ]
  },
  {
   "cell_type": "code",
   "execution_count": 147,
   "metadata": {},
   "outputs": [],
   "source": [
    "# 载入数据\n",
    "order = pd.read_csv(\"../../data/level2/m111-order-sku.csv\", sep=',', parse_dates=['order_date'])\n",
    "dis = pd.read_csv(\"../../data/level2/m111-dis-sku.csv\", sep=',', parse_dates=['dis_date'])\n",
    "inv = pd.read_csv(\n",
    "    \"../../data/level2/m111-inv-sku.csv\", sep=',', parse_dates=['period_wid']\n",
    ").rename(columns={'period_wid': 'inv_date'})\n",
    "category = pd.read_csv(\n",
    "    \"../../data/level2/m111-item-category.csv\", sep=','\n",
    ").rename(columns={'sales_segment1_code': 'category'})"
   ]
  },
  {
   "cell_type": "markdown",
   "metadata": {},
   "source": [
    "## 1.1 处理订单数据"
   ]
  },
  {
   "cell_type": "code",
   "execution_count": 148,
   "metadata": {},
   "outputs": [],
   "source": [
    "# 取2017年至2018年区间中的数据\n",
    "order = order.loc[(order['order_date'] >= '2017-01-01') & (order['order_date'] <= '2018-12-31')]"
   ]
  },
  {
   "cell_type": "code",
   "execution_count": 149,
   "metadata": {},
   "outputs": [],
   "source": [
    "# 删除订单量为0的记录\n",
    "order = order.loc[~(order.qty == 0)]"
   ]
  },
  {
   "cell_type": "code",
   "execution_count": 150,
   "metadata": {},
   "outputs": [],
   "source": [
    "# 删除异常值\n",
    "order = order.join(category.set_index('item_code'), on='item_code', how='left').fillna('-1')\n",
    "order = order.loc[~(order.category == 'TGWL')]\n",
    "order = order.loc[~(order.category == -1)]\n",
    "order = order.loc[~((order.category == 'CRYJ') & (order.qty > 10000))]\n",
    "order = order.loc[~((order.category == 'CRZJ') & (order.qty > 10000))]\n",
    "order = order.loc[~((order.category == 'CRZTCF') & (order.qty > 10000))]\n",
    "order = order.loc[~((order.category == 'RR') & (order.qty > 10000))]"
   ]
  },
  {
   "cell_type": "code",
   "execution_count": 151,
   "metadata": {},
   "outputs": [],
   "source": [
    "# 划分数据集\n",
    "df_test = order.loc[order['order_date'] >= '2018-10-01']\n",
    "order = order.loc[order['order_date'] <= '2018-09-30']"
   ]
  },
  {
   "cell_type": "code",
   "execution_count": 152,
   "metadata": {},
   "outputs": [],
   "source": [
    "# 取对数\n",
    "order['qty'] = np.log1p(order['qty'])"
   ]
  },
  {
   "cell_type": "code",
   "execution_count": 143,
   "metadata": {},
   "outputs": [],
   "source": [
    "df_test['month'] = df_test['order_date'].astype('str').apply(lambda x: x[:7])\n",
    "df_test = df_test.groupby(['item_code', 'month'])[['qty']].sum()"
   ]
  },
  {
   "cell_type": "code",
   "execution_count": 144,
   "metadata": {},
   "outputs": [],
   "source": [
    "order_month = order.copy()\n",
    "order_month['month'] = order_month['order_date'].astype('str').apply(lambda x: x[:7])\n",
    "order_month = order_month.groupby(['item_code', 'month'])[['qty']].sum()\n",
    "order_month = order_month.unstack(level=-1).fillna(0)\n",
    "order_month.columns = pd.date_range('2017-01-31', '2018-09-30', freq='M')"
   ]
  },
  {
   "cell_type": "code",
   "execution_count": 146,
   "metadata": {},
   "outputs": [
    {
     "data": {
      "text/plain": [
       "2017-01-31    134.011422\n",
       "2017-02-28    183.566300\n",
       "2017-03-31    218.085962\n",
       "2017-04-30    197.334593\n",
       "2017-05-31    202.509418\n",
       "2017-06-30    211.804348\n",
       "2017-07-31    193.135912\n",
       "2017-08-31    214.188567\n",
       "2017-09-30    197.569899\n",
       "2017-10-31    178.609036\n",
       "2017-11-30    210.801347\n",
       "2017-12-31    203.466181\n",
       "2018-01-31    225.432875\n",
       "2018-02-28    112.873987\n",
       "2018-03-31    218.139181\n",
       "2018-04-30    207.971889\n",
       "2018-05-31    181.807937\n",
       "2018-06-30    188.515586\n",
       "2018-07-31    215.171512\n",
       "2018-08-31    237.144476\n",
       "2018-09-30    225.412598\n",
       "Freq: M, dtype: float64"
      ]
     },
     "execution_count": 146,
     "metadata": {},
     "output_type": "execute_result"
    }
   ],
   "source": [
    "order_month.max()"
   ]
  },
  {
   "cell_type": "markdown",
   "metadata": {},
   "source": [
    "## 1.2 处理分销数据"
   ]
  },
  {
   "cell_type": "code",
   "execution_count": 124,
   "metadata": {},
   "outputs": [],
   "source": [
    "# 取2017年至2018年区间中的数据（分销数据只有从3月份开始的数据且3月份不完整）>_<|||\n",
    "dis = dis.loc[(dis['dis_date'] >= '2017-04-01') & (dis['dis_date'] <= '2018-09-30')]"
   ]
  },
  {
   "cell_type": "code",
   "execution_count": 125,
   "metadata": {},
   "outputs": [],
   "source": [
    "# 处理分销量为负数的情况\n",
    "dis['qty'] = dis['qty'].apply(lambda x: -x if x < 0 else x)"
   ]
  },
  {
   "cell_type": "code",
   "execution_count": 126,
   "metadata": {},
   "outputs": [],
   "source": [
    "# 删除分销量为0的记录\n",
    "dis = dis.loc[~(dis.qty == 0)]"
   ]
  },
  {
   "cell_type": "code",
   "execution_count": 127,
   "metadata": {},
   "outputs": [],
   "source": [
    "# 删除异常值\n",
    "dis = dis.join(category.set_index('item_code'), on='item_code', how='left').fillna('-1')\n",
    "dis = dis.loc[~(dis.category == 'TGWL')]\n",
    "dis = dis.loc[~(dis.category == '-1')]\n",
    "dis = dis.loc[~((dis.category == 'CRYJ') & (dis.item_code == '12173000000014'))]\n",
    "dis = dis.loc[~((dis.category == 'CRZTCF') & (dis.qty > 10000))]\n",
    "dis = dis.loc[~((dis.category == 'RR') & (dis.item_code == '21099910000123'))]"
   ]
  },
  {
   "cell_type": "code",
   "execution_count": 131,
   "metadata": {},
   "outputs": [],
   "source": [
    "dis['qty'] = np.log1p(dis['qty'])"
   ]
  },
  {
   "cell_type": "code",
   "execution_count": 128,
   "metadata": {},
   "outputs": [],
   "source": [
    "dis_month = dis.copy()\n",
    "dis_month['month'] = dis_month['dis_date'].astype('str').apply(lambda x: x[:7])\n",
    "dis_month = dis_month.groupby(['item_code', 'month'])[['qty']].sum()\n",
    "dis_month = dis_month.unstack(level=-1).fillna(0)\n",
    "dis_month.columns = pd.date_range('2017-04-30', '2018-09-30', freq='M')\n",
    "dis_month = dis_month.reindex(order_month.index).fillna(0)"
   ]
  },
  {
   "cell_type": "markdown",
   "metadata": {},
   "source": [
    "## 1.3 处理库存数据"
   ]
  },
  {
   "cell_type": "code",
   "execution_count": 13,
   "metadata": {},
   "outputs": [],
   "source": [
    "# 取2017年至2018年区间中的数据（库存数据只有从2017年6月份开始的数据）>_<|||\n",
    "inv = inv.loc[(inv['inv_date'] >= '2017-06-01') & (inv['inv_date'] <= '2018-09-30')]"
   ]
  },
  {
   "cell_type": "code",
   "execution_count": 14,
   "metadata": {},
   "outputs": [],
   "source": [
    "# 处理分销量为负数的情况\n",
    "inv['qty'] = inv['qty'].apply(lambda x: -x if x < 0 else x)"
   ]
  },
  {
   "cell_type": "code",
   "execution_count": 15,
   "metadata": {},
   "outputs": [],
   "source": [
    "# 删除异常值\n",
    "inv = inv.loc[~(inv.qty > 1000000)]"
   ]
  },
  {
   "cell_type": "code",
   "execution_count": 16,
   "metadata": {},
   "outputs": [],
   "source": [
    "# 取每月的最后一天作为当月的库存\n",
    "inv = inv.loc[inv['inv_date'].isin(pd.date_range('2017-06-30', '2018-09-30', freq='M'))]"
   ]
  },
  {
   "cell_type": "code",
   "execution_count": 17,
   "metadata": {},
   "outputs": [],
   "source": [
    "inv['qty'] = np.log1p(inv['qty'])"
   ]
  },
  {
   "cell_type": "code",
   "execution_count": 18,
   "metadata": {},
   "outputs": [],
   "source": [
    "inv_month = inv.copy()\n",
    "inv_month['month'] = inv_month['inv_date'].astype('str').apply(lambda x: x[:7])\n",
    "inv_month = inv_month.groupby(['item_code', 'month'])[['qty']].sum()\n",
    "inv_month = inv_month.unstack(level=-1).fillna(0)\n",
    "inv_month.columns = pd.date_range('2017-06-30', '2018-09-30', freq='M')\n",
    "inv_month = inv_month.reindex(order_month.index).fillna(0)"
   ]
  },
  {
   "cell_type": "markdown",
   "metadata": {},
   "source": [
    "## 1.4 处理品类信息"
   ]
  },
  {
   "cell_type": "code",
   "execution_count": 19,
   "metadata": {},
   "outputs": [],
   "source": [
    "# Pandas的bug：'21054110000024', '21054110000025', '21054110000084', '21054110000085' 这4个字符串居然是重复的，取消注释即可看到\n",
    "# category.loc[category.item_code.duplicated()]"
   ]
  },
  {
   "cell_type": "code",
   "execution_count": 20,
   "metadata": {},
   "outputs": [],
   "source": [
    "# 解决上面bug的下策，避免下面reindex报错\n",
    "category.drop_duplicates(['item_code'], keep='first', inplace=True)"
   ]
  },
  {
   "cell_type": "code",
   "execution_count": 21,
   "metadata": {},
   "outputs": [],
   "source": [
    "category = category.set_index('item_code').reindex(order_month.index)"
   ]
  },
  {
   "cell_type": "code",
   "execution_count": 22,
   "metadata": {},
   "outputs": [],
   "source": [
    "encoder = LabelEncoder()\n",
    "category['category'] = encoder.fit_transform(category['category'])"
   ]
  },
  {
   "cell_type": "markdown",
   "metadata": {},
   "source": [
    "## 1.5 得到每个品类每个月的提货数据"
   ]
  },
  {
   "cell_type": "code",
   "execution_count": 23,
   "metadata": {},
   "outputs": [],
   "source": [
    "order_cate_month = order_month.reset_index()\n",
    "order_cate_month['category'] = category['category'].values\n",
    "order_cate_month = order_cate_month.groupby('category')[order_month.columns].sum()"
   ]
  },
  {
   "cell_type": "markdown",
   "metadata": {},
   "source": [
    "## 1.6 得到每个品类每个月的分销数据"
   ]
  },
  {
   "cell_type": "code",
   "execution_count": 24,
   "metadata": {},
   "outputs": [],
   "source": [
    "dis_cate_month = dis_month.reset_index()\n",
    "dis_cate_month['category'] = category['category'].values\n",
    "dis_cate_month = dis_cate_month.groupby('category')[dis_month.columns].sum()"
   ]
  },
  {
   "cell_type": "markdown",
   "metadata": {},
   "source": [
    "## 1.7 得到每个品类每个月的库存数据"
   ]
  },
  {
   "cell_type": "code",
   "execution_count": 25,
   "metadata": {},
   "outputs": [],
   "source": [
    "inv_cate_month = inv_month.reset_index()\n",
    "inv_cate_month['category'] = category['category'].values\n",
    "inv_cate_month = inv_cate_month.groupby('category')[inv_month.columns].sum()"
   ]
  },
  {
   "cell_type": "markdown",
   "metadata": {},
   "source": [
    "# 2 特征工程"
   ]
  },
  {
   "cell_type": "code",
   "execution_count": 26,
   "metadata": {},
   "outputs": [],
   "source": [
    "def prepare_dataset(order, dis, inv, year, month, is_train=True, name_prefix=None):\n",
    "    X = {}\n",
    "    \n",
    "    # 提货的统计特征（28个特征）\n",
    "    for i in [3, 6, 9, 12]:\n",
    "        dt = date(year, month, 1)\n",
    "        tmp = order[pd.date_range(end=dt, periods=i, freq='M')]  # 前i个月提货量\n",
    "        X['ord_diff_mean_pre_%s' % i] = tmp.diff(axis=1).mean(axis=1).values  # 前i个月提货量的平均一阶差分\n",
    "        X['ord_sum_decay_pre_%s' % i] = (tmp * np.power(0.9, np.arange(i)[::-1])).sum(axis=1).values  # 前i个月提货量的和（带衰减）\n",
    "        X['ord_mean_pre_%s' % i] = tmp.mean(axis=1).values  # 前i个月提货量的平均值\n",
    "        X['ord_median_pre_%s' % i] = tmp.median(axis=1).values  # 前i个月提货量的中位数\n",
    "        X['ord_max_pre_%s' % i] = tmp.max(axis=1).values  # 前i个月提货量的最大值\n",
    "        X['ord_min_pre_%s' % i] = tmp.min(axis=1).values  # 前i个月提货量的最小值\n",
    "        X['ord_std_pre_%s' % i] = tmp.std(axis=1).values  # 前i个月提货量的标准差\n",
    "        \n",
    "    # 分销的统计特征（21个特征）>_<|||\n",
    "    for i in [3, 6, 9]:\n",
    "        dt = date(year, month, 1)\n",
    "        tmp = dis[pd.date_range(end=dt, periods=i, freq='M')]  # 前i个月分销量\n",
    "        X['dis_diff_mean_pre_%s' % i] = tmp.diff(axis=1).mean(axis=1).values  # 前i个月分销量的平均一阶差分\n",
    "        X['dis_sum_decay_pre_%s' % i] = (tmp * np.power(0.9, np.arange(i)[::-1])).sum(axis=1).values  # 前i个月分销量的和（带衰减）\n",
    "        X['dis_mean_pre_%s' % i] = tmp.mean(axis=1).values  # 前i个月分销量的均值\n",
    "        X['dis_median_pre_%s' % i] = tmp.median(axis=1).values  # 前i个月分销量的中位数\n",
    "        X['dis_max_pre_%s' % i] = tmp.max(axis=1).values  # 前i个月分销量的最大值\n",
    "        X['dis_min_pre_%s' % i] = tmp.min(axis=1).values  # 前i个月分销量的最小值\n",
    "        X['dis_std_pre_%s' % i] = tmp.std(axis=1).values  # 前i个月分销量的标准差\n",
    "        \n",
    "    # 库存的统计特征（14个）>_<|||\n",
    "    for i in [3, 6]:\n",
    "        dt = date(year, month, 1)\n",
    "        tmp = inv[pd.date_range(end=dt, periods=i, freq='M')]  # 前i个月库存量\n",
    "        X['inv_diff_mean_pre_%s' % i] = tmp.diff(axis=1).mean(axis=1).values  # 前i个月库存量的平均一阶差分\n",
    "        X['inv_sum_decay_pre_%s' % i] = (tmp * np.power(0.9, np.arange(i)[::-1])).sum(axis=1).values  # 前i个月库存量的和（带衰减）\n",
    "        X['inv_mean_pre_%s' % i] = tmp.mean(axis=1).values  # 前i个月库存量的均值\n",
    "        X['inv_median_pre_%s' % i] = tmp.median(axis=1).values  # 前i个月库存量的中位数\n",
    "        X['inv_max_pre_%s' % i] = tmp.max(axis=1).values  # 前i个月库存量的最大值\n",
    "        X['inv_min_pre_%s' % i] = tmp.min(axis=1).values  # 前i个月库存量的最小值\n",
    "        X['inv_std_pre_%s' % i] = tmp.std(axis=1).values  # 前i个月库存量的标准差\n",
    "        \n",
    "    # 提货天数特征（12个特征）\n",
    "    for i in [3, 6, 9, 12]:\n",
    "        dt = date(year, month, 1)\n",
    "        tmp = order[pd.date_range(end=dt, periods=i, freq='M')]\n",
    "        X['has_ord_pre_%s' % i] = (tmp > 0).sum(axis=1).values  # 前i个月有提货的天数\n",
    "        X['last_ord_pre_%s' % i] = i - ((tmp > 0) * np.arange(i)).max(axis=1).values  # 前i个月距离上一次有提货的天数\n",
    "        X['first_ord_pre_%s' % i] = ((tmp > 0) * np.arange(i, 0, -1)).max(axis=1).values  # 前i个月距离第一次有提货的天数\n",
    "        \n",
    "    # 分销天数特征（9个特征）>_<|||\n",
    "    for i in [3, 6, 9]:\n",
    "        dt = date(year, month, 1)\n",
    "        tmp = dis[pd.date_range(end=dt, periods=i, freq='M')]\n",
    "        X['has_dis_pre_%s' % i] = (tmp > 0).sum(axis=1).values  # 前i个月有分销的天数\n",
    "        X['last_dis_pre_%s' % i] = i - ((tmp > 0) * np.arange(i)).max(axis=1).values  # 前i个月距离上一次有分销的天数\n",
    "        X['first_dis_pre_%s' % i] = ((tmp > 0) * np.arange(i, 0, -1)).max(axis=1).values  # 前i个月距离第一次有分销的天数\n",
    "        \n",
    "    # 库存天数特征（6个特征）>_<|||\n",
    "    for i in [3, 6]:\n",
    "        dt = date(year, month, 1)\n",
    "        tmp = inv[pd.date_range(end=dt, periods=i, freq='M')]\n",
    "        X['has_inv_pre_%s' % i] = (tmp > 0).sum(axis=1).values  # 前i个月有库存的天数\n",
    "        X['last_inv_pre_%s' % i] = i - ((tmp > 0) * np.arange(i)).max(axis=1).values  # 前i个月距离上一次有库存的天数\n",
    "        X['first_inv_pre_%s' % i] = ((tmp > 0) * np.arange(i, 0, -1)).max(axis=1).values  # 前i个月距离第一次有库存的天数\n",
    "        \n",
    "    # 前12个月的提货量\n",
    "    for i in range(1, 13):\n",
    "        if month - i <= 0:\n",
    "            start_dt = date(year - 1, month + 12 - i, 1)\n",
    "        else:\n",
    "            start_dt = date(year, month - i, 1)\n",
    "        X['ord_pre_%s' % i] = order[pd.date_range(start_dt, periods=1, freq='M')].values.ravel()\n",
    "        \n",
    "    # 前9个月的分销量>_<|||\n",
    "    for i in range(1, 10):\n",
    "        if month - i <= 0:\n",
    "            start_dt = date(year - 1, month + 12 - i, 1)\n",
    "        else:\n",
    "            start_dt = date(year, month - i, 1)\n",
    "        X['dis_pre_%s' % i] = dis[pd.date_range(start_dt, periods=1, freq='M')].values.ravel()\n",
    "       \n",
    "    # 前6个月的库存量>_<|||\n",
    "    for i in range(1, 7):\n",
    "        if month - i <= 0:\n",
    "            start_dt = date(year - 1, month + 12 - i, 1)\n",
    "        else:\n",
    "            start_dt = date(year, month - i, 1)\n",
    "        X['inv_pre_%s' % i] = inv[pd.date_range(start_dt, periods=1, freq='M')].values.ravel()\n",
    "        \n",
    "    X = pd.DataFrame(X)\n",
    "    \n",
    "    if is_train:\n",
    "        start_dt = date(year, month, 1)\n",
    "        y = order[pd.date_range(start_dt, periods=3, freq='M')].values\n",
    "        return X, y\n",
    "    \n",
    "    if name_prefix is not None:\n",
    "        X.columns = ['%s_%s' % (name_prefix, c) for c in X.columns]\n",
    "        \n",
    "    return X"
   ]
  },
  {
   "cell_type": "markdown",
   "metadata": {},
   "source": [
    "## 2.1 准备训练集"
   ]
  },
  {
   "cell_type": "code",
   "execution_count": 27,
   "metadata": {},
   "outputs": [],
   "source": [
    "train_month = [ \n",
    "    '2018-01', \n",
    "    '2018-02', \n",
    "    '2018-03', \n",
    "    '2018-04'\n",
    "]\n",
    "\n",
    "X_l, y_l = [], []\n",
    "for month in train_month:\n",
    "    y, m = int(month.split('-')[0]), int(month.split('-')[1])\n",
    "    \n",
    "    X_tmp, y_tmp = prepare_dataset(order_month, dis_month, inv_month, y, m)\n",
    "    \n",
    "    X_tmp2 = prepare_dataset(order_cate_month, dis_cate_month, inv_cate_month, y, m, is_train=False, name_prefix='cate')\n",
    "    X_tmp2.index = order_cate_month.index\n",
    "    X_tmp2 = X_tmp2.reindex(category['category']).reset_index(drop=True)\n",
    "    \n",
    "    X_tmp = pd.concat([X_tmp, X_tmp2, category.reset_index(drop=True)], axis=1)\n",
    "    X_l.append(X_tmp)\n",
    "    y_l.append(y_tmp)\n",
    "    \n",
    "    del X_tmp, y_tmp, X_tmp2\n",
    "    gc.collect()\n",
    "    \n",
    "X_train = pd.concat(X_l, axis=0)\n",
    "y_train = np.concatenate(y_l, axis=0)"
   ]
  },
  {
   "cell_type": "markdown",
   "metadata": {},
   "source": [
    "## 2.2 准备验证集"
   ]
  },
  {
   "cell_type": "code",
   "execution_count": 28,
   "metadata": {},
   "outputs": [
    {
     "data": {
      "text/plain": [
       "0"
      ]
     },
     "execution_count": 28,
     "metadata": {},
     "output_type": "execute_result"
    }
   ],
   "source": [
    "X_val, y_val = prepare_dataset(order_month, dis_month, inv_month, 2018, 7)\n",
    "\n",
    "X_val2 = prepare_dataset(order_cate_month, dis_cate_month, inv_cate_month, 2018, 7, is_train=False, name_prefix='cate')\n",
    "X_val2.index = order_cate_month.index\n",
    "X_val2 = X_val2.reindex(category['category']).reset_index(drop=True)\n",
    "\n",
    "X_val = pd.concat([X_val, X_val2, category.reset_index(drop=True)], axis=1)\n",
    "\n",
    "del X_val2\n",
    "gc.collect()"
   ]
  },
  {
   "cell_type": "markdown",
   "metadata": {},
   "source": [
    "## 2.3 准备测试集"
   ]
  },
  {
   "cell_type": "code",
   "execution_count": 29,
   "metadata": {},
   "outputs": [
    {
     "data": {
      "text/plain": [
       "0"
      ]
     },
     "execution_count": 29,
     "metadata": {},
     "output_type": "execute_result"
    }
   ],
   "source": [
    "X_test = prepare_dataset(order_month, dis_month, inv_month, 2018, 10, is_train=False)\n",
    "\n",
    "X_test2 = prepare_dataset(order_cate_month, dis_cate_month, inv_cate_month, 2018, 10, is_train=False, name_prefix='cate')\n",
    "X_test2.index = order_cate_month.index\n",
    "X_test2 = X_test2.reindex(category['category']).reset_index(drop=True)\n",
    "\n",
    "X_test = pd.concat([X_test, X_test2, category.reset_index(drop=True)], axis=1)\n",
    "\n",
    "del X_test2\n",
    "gc.collect()"
   ]
  },
  {
   "cell_type": "markdown",
   "metadata": {},
   "source": [
    "# 3 训练和预测"
   ]
  },
  {
   "cell_type": "code",
   "execution_count": 30,
   "metadata": {},
   "outputs": [
    {
     "name": "stdout",
     "output_type": "stream",
     "text": [
      "[INFO] Start training and predicting...\n",
      "==================================================\n",
      "Step 1\n",
      "==================================================\n"
     ]
    },
    {
     "name": "stderr",
     "output_type": "stream",
     "text": [
      "/root/miniconda3/envs/xPy3/lib/python3.6/site-packages/lightgbm/basic.py:1184: UserWarning: Using categorical_feature in Dataset.\n",
      "  warnings.warn('Using categorical_feature in Dataset.')\n"
     ]
    },
    {
     "name": "stdout",
     "output_type": "stream",
     "text": [
      "Training until validation scores don't improve for 125 rounds.\n",
      "[50]\ttraining's l2: 350.745\tvalid_1's l2: 312.35\n",
      "[100]\ttraining's l2: 242.89\tvalid_1's l2: 242.813\n",
      "[150]\ttraining's l2: 213.273\tvalid_1's l2: 226.491\n",
      "[200]\ttraining's l2: 193.402\tvalid_1's l2: 222.741\n",
      "[250]\ttraining's l2: 179.55\tvalid_1's l2: 220.825\n",
      "[300]\ttraining's l2: 169.712\tvalid_1's l2: 219.021\n",
      "[350]\ttraining's l2: 160.247\tvalid_1's l2: 215.871\n",
      "[400]\ttraining's l2: 153.346\tvalid_1's l2: 214.828\n",
      "[450]\ttraining's l2: 147.156\tvalid_1's l2: 213.204\n",
      "[500]\ttraining's l2: 142.724\tvalid_1's l2: 211.291\n",
      "[550]\ttraining's l2: 138.707\tvalid_1's l2: 210.396\n",
      "[600]\ttraining's l2: 134.746\tvalid_1's l2: 209.556\n",
      "[650]\ttraining's l2: 131.63\tvalid_1's l2: 208.161\n",
      "[700]\ttraining's l2: 128.568\tvalid_1's l2: 206.921\n",
      "[750]\ttraining's l2: 125.519\tvalid_1's l2: 206.61\n",
      "[800]\ttraining's l2: 122.848\tvalid_1's l2: 206.239\n",
      "[850]\ttraining's l2: 120.28\tvalid_1's l2: 205.514\n",
      "[900]\ttraining's l2: 117.719\tvalid_1's l2: 204.99\n",
      "[950]\ttraining's l2: 115.427\tvalid_1's l2: 204.405\n",
      "[1000]\ttraining's l2: 113.115\tvalid_1's l2: 203.6\n",
      "[1050]\ttraining's l2: 110.955\tvalid_1's l2: 203.759\n",
      "[1100]\ttraining's l2: 109.089\tvalid_1's l2: 203.013\n",
      "[1150]\ttraining's l2: 107.31\tvalid_1's l2: 203.206\n",
      "[1200]\ttraining's l2: 105.567\tvalid_1's l2: 203.246\n",
      "[1250]\ttraining's l2: 103.936\tvalid_1's l2: 202.776\n",
      "[1300]\ttraining's l2: 102.268\tvalid_1's l2: 203.193\n",
      "[1350]\ttraining's l2: 100.546\tvalid_1's l2: 203.351\n",
      "Early stopping, best iteration is:\n",
      "[1240]\ttraining's l2: 104.254\tvalid_1's l2: 202.48\n",
      "ord_sum_decay_pre_3: 43784110.37\n",
      "ord_pre_1: 10241432.24\n",
      "cate_ord_diff_mean_pre_9: 8231679.87\n",
      "ord_pre_4: 7303478.35\n",
      "ord_max_pre_3: 6649176.61\n",
      "ord_mean_pre_3: 5910752.58\n",
      "ord_max_pre_6: 4984537.39\n",
      "ord_median_pre_3: 4530905.72\n",
      "ord_pre_2: 3586707.38\n",
      "ord_max_pre_9: 3251326.31\n",
      "ord_diff_mean_pre_6: 1650865.73\n",
      "ord_pre_10: 1415280.95\n",
      "ord_diff_mean_pre_3: 1409359.56\n",
      "ord_min_pre_6: 1405185.44\n",
      "cate_ord_pre_4: 1040190.35\n",
      "ord_std_pre_3: 1008132.40\n",
      "ord_min_pre_12: 910436.33\n",
      "ord_diff_mean_pre_12: 792820.89\n",
      "ord_min_pre_9: 696289.47\n",
      "dis_pre_8: 566533.47\n",
      "cate_ord_diff_mean_pre_3: 563079.50\n",
      "ord_diff_mean_pre_9: 503599.22\n",
      "ord_std_pre_6: 421663.76\n",
      "ord_max_pre_12: 412913.70\n",
      "dis_diff_mean_pre_9: 386759.45\n",
      "cate_inv_std_pre_6: 377512.49\n",
      "ord_pre_8: 361574.72\n",
      "ord_median_pre_6: 319491.85\n",
      "ord_pre_7: 315328.28\n",
      "cate_dis_pre_9: 314655.39\n",
      "ord_min_pre_3: 292042.68\n",
      "inv_pre_1: 278865.55\n",
      "dis_std_pre_9: 271976.91\n",
      "dis_diff_mean_pre_3: 266915.99\n",
      "inv_median_pre_3: 262293.80\n",
      "ord_median_pre_9: 259172.43\n",
      "cate_dis_min_pre_9: 257024.19\n",
      "inv_pre_2: 246146.49\n",
      "cate_inv_diff_mean_pre_3: 243025.93\n",
      "cate_ord_std_pre_3: 241911.52\n",
      "ord_pre_5: 237657.86\n",
      "inv_diff_mean_pre_6: 233128.46\n",
      "cate_ord_pre_10: 230028.31\n",
      "ord_pre_3: 227823.06\n",
      "inv_diff_mean_pre_3: 216868.96\n",
      "ord_pre_9: 213740.16\n",
      "cate_ord_pre_7: 211440.78\n",
      "ord_pre_6: 198475.68\n",
      "inv_std_pre_6: 190096.39\n",
      "inv_pre_3: 184649.29\n",
      "dis_diff_mean_pre_6: 176672.94\n",
      "dis_std_pre_3: 174087.14\n",
      "inv_min_pre_3: 169728.94\n",
      "first_ord_pre_12: 168504.96\n",
      "cate_dis_pre_8: 164973.74\n",
      "dis_pre_1: 161682.00\n",
      "inv_max_pre_3: 155101.49\n",
      "cate_dis_std_pre_3: 154269.54\n",
      "ord_std_pre_9: 152942.96\n",
      "cate_dis_diff_mean_pre_3: 149419.16\n",
      "ord_mean_pre_6: 149358.64\n",
      "ord_sum_decay_pre_6: 144045.54\n",
      "cate_dis_diff_mean_pre_6: 143390.43\n",
      "dis_min_pre_6: 137070.47\n",
      "ord_std_pre_12: 133438.13\n",
      "dis_min_pre_3: 127250.19\n",
      "inv_std_pre_3: 126506.78\n",
      "ord_mean_pre_12: 123525.01\n",
      "inv_median_pre_6: 121862.74\n",
      "dis_pre_2: 118954.94\n",
      "dis_std_pre_6: 117044.26\n",
      "ord_mean_pre_9: 108123.15\n",
      "dis_max_pre_3: 104851.81\n",
      "dis_pre_3: 98978.60\n",
      "inv_mean_pre_3: 97860.74\n",
      "inv_mean_pre_6: 97135.76\n",
      "cate_ord_sum_decay_pre_3: 94103.03\n",
      "ord_sum_decay_pre_12: 92676.77\n",
      "ord_pre_12: 91340.35\n",
      "ord_sum_decay_pre_9: 81682.61\n",
      "inv_min_pre_6: 80884.86\n",
      "dis_min_pre_9: 80636.70\n",
      "inv_sum_decay_pre_3: 77977.43\n",
      "cate_dis_diff_mean_pre_9: 74261.03\n",
      "inv_pre_4: 73951.09\n",
      "dis_mean_pre_9: 70319.63\n",
      "ord_pre_11: 69159.37\n",
      "last_ord_pre_3: 68654.38\n",
      "ord_median_pre_12: 67184.62\n",
      "dis_pre_4: 67033.96\n",
      "inv_max_pre_6: 66040.27\n",
      "first_inv_pre_6: 64508.16\n",
      "dis_sum_decay_pre_3: 63945.31\n",
      "inv_pre_5: 63878.34\n",
      "cate_dis_pre_5: 63836.69\n",
      "cate_ord_std_pre_12: 63057.33\n",
      "dis_max_pre_9: 59739.06\n",
      "cate_ord_pre_2: 57925.99\n",
      "cate_dis_min_pre_3: 57701.86\n",
      "cate_inv_std_pre_3: 56221.62\n",
      "cate_ord_diff_mean_pre_6: 56211.00\n",
      "dis_median_pre_3: 52462.88\n",
      "cate_inv_diff_mean_pre_6: 52259.43\n",
      "dis_pre_9: 52185.43\n",
      "cate_ord_pre_6: 48115.03\n",
      "cate_ord_diff_mean_pre_12: 45976.14\n",
      "dis_max_pre_6: 43162.66\n",
      "dis_mean_pre_3: 41355.19\n",
      "dis_mean_pre_6: 40537.10\n",
      "cate_ord_pre_3: 40246.97\n",
      "cate_dis_pre_2: 40028.36\n",
      "category: 38817.77\n",
      "dis_pre_6: 38117.37\n",
      "inv_sum_decay_pre_6: 37801.22\n",
      "inv_pre_6: 37425.44\n",
      "cate_ord_pre_9: 37187.62\n",
      "dis_pre_5: 32996.35\n",
      "cate_dis_std_pre_6: 32711.57\n",
      "cate_ord_min_pre_3: 31474.31\n",
      "dis_sum_decay_pre_9: 29953.18\n",
      "dis_median_pre_9: 29375.65\n",
      "dis_sum_decay_pre_6: 28681.97\n",
      "last_ord_pre_6: 26987.08\n",
      "dis_median_pre_6: 23063.60\n",
      "cate_inv_pre_2: 21824.65\n",
      "has_inv_pre_6: 20139.48\n",
      "cate_ord_std_pre_6: 19837.33\n",
      "first_ord_pre_6: 18868.96\n",
      "cate_dis_pre_7: 18550.77\n",
      "cate_inv_pre_4: 16575.90\n",
      "cate_dis_pre_4: 15388.97\n",
      "cate_ord_median_pre_3: 15189.45\n",
      "cate_ord_pre_8: 14868.65\n",
      "cate_inv_median_pre_3: 13019.95\n",
      "last_ord_pre_9: 12558.83\n",
      "cate_dis_median_pre_6: 11274.66\n",
      "has_dis_pre_9: 10976.10\n",
      "cate_inv_sum_decay_pre_3: 10654.31\n",
      "cate_dis_sum_decay_pre_3: 10227.43\n",
      "first_ord_pre_9: 9964.00\n",
      "cate_ord_pre_5: 9694.77\n",
      "cate_dis_max_pre_3: 9497.63\n",
      "has_ord_pre_6: 9446.92\n",
      "cate_ord_pre_11: 9383.32\n",
      "first_dis_pre_9: 9216.65\n",
      "cate_dis_pre_3: 8578.73\n",
      "cate_ord_pre_12: 7805.08\n",
      "cate_dis_max_pre_6: 7732.75\n",
      "cate_ord_sum_decay_pre_6: 7683.42\n",
      "dis_pre_7: 7624.40\n",
      "cate_inv_min_pre_3: 7582.80\n",
      "cate_ord_std_pre_9: 7567.45\n",
      "last_inv_pre_3: 7466.56\n",
      "cate_dis_pre_1: 7101.68\n",
      "has_ord_pre_9: 6927.38\n",
      "cate_ord_pre_1: 6664.72\n",
      "cate_ord_sum_decay_pre_12: 5715.15\n",
      "first_ord_pre_3: 5289.12\n",
      "has_ord_pre_12: 4367.95\n",
      "cate_dis_std_pre_9: 4330.90\n",
      "cate_has_inv_pre_6: 4038.15\n",
      "first_dis_pre_6: 3039.89\n",
      "last_dis_pre_3: 2863.64\n",
      "last_ord_pre_12: 2618.29\n",
      "cate_dis_median_pre_9: 2478.15\n",
      "cate_inv_median_pre_6: 2477.10\n",
      "cate_ord_min_pre_12: 2269.37\n",
      "cate_ord_sum_decay_pre_9: 2201.88\n",
      "cate_ord_max_pre_3: 2164.68\n",
      "cate_inv_max_pre_3: 2092.24\n",
      "cate_inv_min_pre_6: 2082.78\n",
      "cate_dis_min_pre_6: 2065.63\n",
      "cate_ord_median_pre_9: 2020.47\n",
      "first_inv_pre_3: 1882.88\n",
      "cate_inv_pre_3: 1845.00\n",
      "cate_ord_mean_pre_6: 1767.94\n",
      "cate_inv_pre_6: 1636.01\n",
      "has_dis_pre_6: 1480.02\n",
      "last_dis_pre_6: 1459.95\n",
      "cate_dis_sum_decay_pre_9: 1407.57\n",
      "cate_dis_median_pre_3: 1283.14\n",
      "first_dis_pre_3: 1247.14\n",
      "cate_inv_pre_1: 1173.53\n",
      "cate_dis_mean_pre_9: 1119.88\n",
      "cate_ord_mean_pre_12: 1115.83\n",
      "cate_dis_sum_decay_pre_6: 1086.12\n",
      "cate_dis_mean_pre_3: 969.46\n",
      "cate_ord_min_pre_6: 948.00\n",
      "last_inv_pre_6: 846.66\n",
      "cate_inv_mean_pre_3: 841.64\n",
      "cate_inv_pre_5: 795.51\n",
      "cate_dis_mean_pre_6: 748.78\n",
      "cate_inv_mean_pre_6: 582.06\n",
      "cate_ord_median_pre_6: 562.53\n",
      "has_ord_pre_3: 417.09\n",
      "cate_ord_max_pre_6: 407.88\n",
      "cate_dis_pre_6: 356.50\n",
      "cate_inv_sum_decay_pre_6: 337.53\n",
      "cate_ord_mean_pre_9: 320.65\n",
      "cate_ord_mean_pre_3: 229.08\n",
      "cate_has_inv_pre_3: 137.04\n",
      "last_dis_pre_9: 69.87\n",
      "cate_inv_max_pre_6: 59.46\n",
      "cate_first_ord_pre_3: 43.19\n",
      "cate_ord_median_pre_12: 17.14\n",
      "cate_first_ord_pre_6: 2.13\n",
      "cate_first_ord_pre_12: 1.84\n",
      "has_dis_pre_3: 0.00\n",
      "has_inv_pre_3: 0.00\n",
      "cate_ord_max_pre_9: 0.00\n",
      "cate_ord_min_pre_9: 0.00\n",
      "cate_ord_max_pre_12: 0.00\n",
      "cate_dis_max_pre_9: 0.00\n",
      "cate_has_ord_pre_3: 0.00\n",
      "cate_last_ord_pre_3: 0.00\n",
      "cate_has_ord_pre_6: 0.00\n",
      "cate_last_ord_pre_6: 0.00\n",
      "cate_has_ord_pre_9: 0.00\n",
      "cate_last_ord_pre_9: 0.00\n",
      "cate_first_ord_pre_9: 0.00\n",
      "cate_has_ord_pre_12: 0.00\n",
      "cate_last_ord_pre_12: 0.00\n",
      "cate_has_dis_pre_3: 0.00\n",
      "cate_last_dis_pre_3: 0.00\n",
      "cate_first_dis_pre_3: 0.00\n",
      "cate_has_dis_pre_6: 0.00\n",
      "cate_last_dis_pre_6: 0.00\n",
      "cate_first_dis_pre_6: 0.00\n",
      "cate_has_dis_pre_9: 0.00\n",
      "cate_last_dis_pre_9: 0.00\n",
      "cate_first_dis_pre_9: 0.00\n",
      "cate_last_inv_pre_3: 0.00\n",
      "cate_first_inv_pre_3: 0.00\n",
      "cate_last_inv_pre_6: 0.00\n",
      "cate_first_inv_pre_6: 0.00\n",
      "==================================================\n",
      "Step 2\n",
      "==================================================\n",
      "Training until validation scores don't improve for 125 rounds.\n",
      "[50]\ttraining's l2: 296.231\tvalid_1's l2: 618.958\n",
      "[100]\ttraining's l2: 225.638\tvalid_1's l2: 483.994\n",
      "[150]\ttraining's l2: 204.84\tvalid_1's l2: 446.497\n",
      "[200]\ttraining's l2: 193.605\tvalid_1's l2: 431.797\n",
      "[250]\ttraining's l2: 183.836\tvalid_1's l2: 423.511\n"
     ]
    },
    {
     "name": "stdout",
     "output_type": "stream",
     "text": [
      "[300]\ttraining's l2: 175.65\tvalid_1's l2: 418.917\n",
      "[350]\ttraining's l2: 170.053\tvalid_1's l2: 418.312\n",
      "[400]\ttraining's l2: 164.732\tvalid_1's l2: 414.17\n",
      "[450]\ttraining's l2: 159.925\tvalid_1's l2: 413.816\n",
      "[500]\ttraining's l2: 155.786\tvalid_1's l2: 412.572\n",
      "[550]\ttraining's l2: 152.21\tvalid_1's l2: 412.256\n",
      "[600]\ttraining's l2: 148.964\tvalid_1's l2: 413.417\n",
      "Early stopping, best iteration is:\n",
      "[519]\ttraining's l2: 154.359\tvalid_1's l2: 411.828\n",
      "ord_pre_1: 36061499.32\n",
      "ord_sum_decay_pre_3: 17595123.68\n",
      "ord_max_pre_9: 3599780.17\n",
      "ord_max_pre_3: 3112470.08\n",
      "ord_max_pre_6: 1989475.11\n",
      "ord_pre_6: 1795395.32\n",
      "cate_dis_pre_8: 1057288.90\n",
      "cate_ord_diff_mean_pre_6: 707145.71\n",
      "dis_pre_8: 666940.16\n",
      "ord_max_pre_12: 652897.44\n",
      "ord_median_pre_3: 572356.35\n",
      "ord_pre_12: 509877.49\n",
      "ord_min_pre_12: 430515.26\n",
      "ord_std_pre_6: 419294.60\n",
      "ord_pre_2: 378576.13\n",
      "inv_diff_mean_pre_3: 372339.55\n",
      "inv_pre_2: 339828.94\n",
      "ord_diff_mean_pre_3: 331691.39\n",
      "ord_diff_mean_pre_9: 316938.79\n",
      "ord_min_pre_9: 314047.51\n",
      "inv_std_pre_3: 299491.35\n",
      "ord_pre_11: 298885.79\n",
      "ord_mean_pre_12: 288632.75\n",
      "cate_inv_std_pre_6: 287844.53\n",
      "inv_median_pre_3: 279562.93\n",
      "dis_min_pre_6: 270440.82\n",
      "ord_mean_pre_3: 258061.52\n",
      "dis_min_pre_3: 257696.96\n",
      "dis_pre_2: 254509.60\n",
      "ord_min_pre_3: 241619.77\n",
      "cate_inv_diff_mean_pre_3: 237688.93\n",
      "dis_median_pre_9: 236982.29\n",
      "inv_diff_mean_pre_6: 233771.59\n",
      "ord_std_pre_3: 211853.24\n",
      "ord_pre_3: 206826.92\n",
      "ord_diff_mean_pre_6: 197317.04\n",
      "ord_diff_mean_pre_12: 178874.10\n",
      "ord_pre_4: 173527.92\n",
      "dis_std_pre_6: 168891.31\n",
      "ord_sum_decay_pre_12: 162260.67\n",
      "cate_inv_diff_mean_pre_6: 155136.87\n",
      "ord_min_pre_6: 140266.42\n",
      "first_inv_pre_6: 136228.96\n",
      "dis_pre_4: 135332.85\n",
      "dis_pre_3: 135303.69\n",
      "inv_pre_1: 135010.82\n",
      "ord_std_pre_9: 133930.38\n",
      "ord_pre_7: 132850.96\n",
      "ord_std_pre_12: 119238.65\n",
      "ord_sum_decay_pre_6: 115965.71\n",
      "cate_dis_std_pre_3: 109610.37\n",
      "cate_dis_std_pre_9: 109417.68\n",
      "dis_mean_pre_9: 108936.09\n",
      "dis_std_pre_3: 107461.53\n",
      "inv_pre_3: 105388.88\n",
      "cate_dis_pre_9: 102940.83\n",
      "inv_pre_4: 101746.76\n",
      "inv_max_pre_3: 101285.91\n",
      "cate_dis_diff_mean_pre_6: 100712.47\n",
      "ord_pre_8: 98574.44\n",
      "dis_std_pre_9: 98491.41\n",
      "inv_std_pre_6: 94346.39\n",
      "ord_mean_pre_6: 89192.29\n",
      "ord_median_pre_12: 86241.97\n",
      "inv_mean_pre_6: 84866.65\n",
      "ord_pre_5: 82834.86\n",
      "dis_pre_1: 81705.52\n",
      "inv_max_pre_6: 81524.92\n",
      "inv_median_pre_6: 80768.05\n",
      "ord_sum_decay_pre_9: 75307.77\n",
      "cate_ord_diff_mean_pre_12: 75159.96\n",
      "first_ord_pre_12: 73003.52\n",
      "inv_sum_decay_pre_3: 72453.63\n",
      "cate_ord_std_pre_9: 71634.84\n",
      "dis_min_pre_9: 70680.21\n",
      "dis_diff_mean_pre_9: 67350.28\n",
      "ord_pre_9: 63362.03\n",
      "ord_mean_pre_9: 62614.47\n",
      "cate_ord_diff_mean_pre_9: 61503.09\n",
      "ord_median_pre_9: 60122.66\n",
      "dis_diff_mean_pre_3: 59400.76\n",
      "cate_dis_diff_mean_pre_3: 59260.56\n",
      "cate_inv_median_pre_3: 56154.76\n",
      "inv_mean_pre_3: 54303.42\n",
      "dis_median_pre_6: 51249.66\n",
      "cate_ord_pre_6: 47807.19\n",
      "cate_ord_std_pre_3: 47283.30\n",
      "cate_dis_min_pre_3: 47255.61\n",
      "dis_max_pre_6: 45396.99\n",
      "cate_dis_max_pre_3: 44819.63\n",
      "dis_max_pre_3: 44557.46\n",
      "cate_inv_std_pre_3: 44250.71\n",
      "ord_pre_10: 43716.31\n",
      "cate_ord_std_pre_6: 43223.71\n",
      "cate_ord_diff_mean_pre_3: 42163.79\n",
      "dis_sum_decay_pre_9: 41722.80\n",
      "inv_min_pre_3: 40282.21\n",
      "cate_ord_pre_12: 37038.90\n",
      "inv_sum_decay_pre_6: 33759.85\n",
      "dis_diff_mean_pre_6: 33383.13\n",
      "ord_median_pre_6: 32865.71\n",
      "dis_max_pre_9: 32447.21\n",
      "dis_pre_7: 32154.48\n",
      "cate_ord_pre_5: 29701.71\n",
      "cate_ord_pre_9: 29206.47\n",
      "inv_min_pre_6: 29153.78\n",
      "inv_pre_6: 26858.77\n",
      "first_dis_pre_9: 26746.19\n",
      "cate_dis_pre_2: 25158.95\n",
      "category: 22515.99\n",
      "dis_pre_5: 21411.92\n",
      "cate_inv_min_pre_3: 21003.89\n",
      "cate_dis_sum_decay_pre_3: 20918.06\n",
      "dis_median_pre_3: 19605.96\n",
      "dis_pre_9: 18816.84\n",
      "dis_sum_decay_pre_3: 18518.29\n",
      "cate_ord_pre_3: 17811.76\n",
      "cate_dis_std_pre_6: 17787.63\n",
      "cate_dis_diff_mean_pre_9: 17683.45\n",
      "cate_ord_min_pre_3: 17243.80\n",
      "cate_ord_max_pre_3: 17157.80\n",
      "cate_dis_min_pre_9: 16819.78\n",
      "cate_dis_pre_3: 16405.95\n",
      "cate_ord_pre_4: 15246.28\n",
      "last_ord_pre_3: 14795.14\n",
      "dis_sum_decay_pre_6: 14712.37\n",
      "first_ord_pre_6: 13764.23\n",
      "dis_mean_pre_6: 13739.13\n",
      "cate_ord_median_pre_3: 13064.31\n",
      "has_dis_pre_9: 12278.77\n",
      "cate_dis_median_pre_3: 11609.38\n",
      "cate_ord_sum_decay_pre_3: 11398.78\n",
      "cate_ord_pre_2: 11064.54\n",
      "dis_mean_pre_3: 11048.89\n",
      "cate_ord_std_pre_12: 10980.37\n",
      "cate_ord_pre_11: 10640.61\n",
      "cate_ord_min_pre_12: 10380.22\n",
      "cate_ord_mean_pre_12: 9724.71\n",
      "cate_ord_pre_8: 9068.40\n",
      "dis_pre_6: 8571.35\n",
      "cate_ord_pre_7: 8295.23\n",
      "first_ord_pre_9: 7938.48\n",
      "cate_has_inv_pre_3: 7232.98\n",
      "cate_dis_pre_5: 7051.07\n",
      "first_dis_pre_6: 6651.66\n",
      "cate_ord_pre_10: 6059.45\n",
      "cate_inv_pre_1: 5994.11\n",
      "cate_inv_min_pre_6: 5699.21\n",
      "cate_dis_pre_1: 5660.09\n",
      "cate_inv_sum_decay_pre_3: 5643.89\n",
      "cate_dis_median_pre_9: 5085.73\n",
      "has_inv_pre_6: 4772.91\n",
      "last_ord_pre_6: 4411.99\n",
      "has_ord_pre_6: 4174.44\n",
      "last_ord_pre_9: 4085.68\n",
      "cate_ord_sum_decay_pre_6: 3801.87\n",
      "last_ord_pre_12: 3692.02\n",
      "last_inv_pre_3: 3306.42\n",
      "cate_ord_pre_1: 3238.02\n",
      "last_dis_pre_3: 3169.94\n",
      "cate_inv_pre_4: 3057.53\n",
      "last_inv_pre_6: 2911.86\n",
      "cate_ord_mean_pre_6: 2844.31\n",
      "has_ord_pre_9: 2677.85\n",
      "cate_ord_max_pre_6: 2614.31\n",
      "has_ord_pre_12: 2373.56\n",
      "cate_dis_mean_pre_9: 2245.18\n",
      "cate_dis_max_pre_6: 2228.69\n",
      "cate_ord_mean_pre_3: 2173.64\n",
      "cate_ord_min_pre_6: 2166.85\n",
      "cate_inv_max_pre_3: 2082.33\n",
      "first_dis_pre_3: 1892.44\n",
      "cate_dis_median_pre_6: 1817.71\n",
      "cate_dis_min_pre_6: 1689.00\n",
      "cate_inv_pre_6: 1275.99\n",
      "inv_pre_5: 1257.88\n",
      "cate_dis_pre_6: 1217.71\n",
      "first_inv_pre_3: 1180.34\n",
      "cate_inv_pre_2: 1050.74\n",
      "cate_dis_mean_pre_3: 898.60\n",
      "cate_inv_median_pre_6: 881.24\n",
      "last_dis_pre_6: 783.76\n",
      "cate_dis_pre_4: 688.18\n",
      "cate_dis_pre_7: 683.84\n",
      "cate_inv_mean_pre_3: 683.84\n",
      "cate_inv_pre_3: 615.53\n",
      "first_ord_pre_3: 576.37\n",
      "cate_dis_sum_decay_pre_9: 545.16\n",
      "has_ord_pre_3: 497.91\n",
      "cate_ord_median_pre_6: 426.74\n",
      "cate_inv_sum_decay_pre_6: 377.76\n",
      "cate_ord_median_pre_9: 371.23\n",
      "cate_ord_mean_pre_9: 306.05\n",
      "last_dis_pre_9: 264.08\n",
      "cate_has_inv_pre_6: 191.75\n",
      "cate_ord_sum_decay_pre_12: 184.42\n",
      "cate_first_inv_pre_6: 182.26\n",
      "cate_dis_mean_pre_6: 176.04\n",
      "cate_first_ord_pre_12: 143.32\n",
      "cate_inv_pre_5: 121.30\n",
      "cate_inv_mean_pre_6: 88.94\n",
      "has_dis_pre_6: 86.17\n",
      "has_inv_pre_3: 62.11\n",
      "has_dis_pre_3: 55.20\n",
      "cate_ord_median_pre_12: 36.58\n",
      "cate_dis_sum_decay_pre_6: 33.41\n",
      "cate_ord_sum_decay_pre_9: 0.07\n",
      "cate_ord_max_pre_9: 0.00\n",
      "cate_ord_min_pre_9: 0.00\n",
      "cate_ord_max_pre_12: 0.00\n",
      "cate_dis_max_pre_9: 0.00\n",
      "cate_inv_max_pre_6: 0.00\n",
      "cate_has_ord_pre_3: 0.00\n",
      "cate_last_ord_pre_3: 0.00\n",
      "cate_first_ord_pre_3: 0.00\n",
      "cate_has_ord_pre_6: 0.00\n",
      "cate_last_ord_pre_6: 0.00\n",
      "cate_first_ord_pre_6: 0.00\n",
      "cate_has_ord_pre_9: 0.00\n",
      "cate_last_ord_pre_9: 0.00\n",
      "cate_first_ord_pre_9: 0.00\n",
      "cate_has_ord_pre_12: 0.00\n",
      "cate_last_ord_pre_12: 0.00\n",
      "cate_has_dis_pre_3: 0.00\n",
      "cate_last_dis_pre_3: 0.00\n",
      "cate_first_dis_pre_3: 0.00\n",
      "cate_has_dis_pre_6: 0.00\n",
      "cate_last_dis_pre_6: 0.00\n",
      "cate_first_dis_pre_6: 0.00\n",
      "cate_has_dis_pre_9: 0.00\n",
      "cate_last_dis_pre_9: 0.00\n",
      "cate_first_dis_pre_9: 0.00\n",
      "cate_last_inv_pre_3: 0.00\n",
      "cate_first_inv_pre_3: 0.00\n",
      "cate_last_inv_pre_6: 0.00\n",
      "==================================================\n",
      "Step 3\n",
      "==================================================\n",
      "Training until validation scores don't improve for 125 rounds.\n",
      "[50]\ttraining's l2: 359.133\tvalid_1's l2: 786.035\n",
      "[100]\ttraining's l2: 284.146\tvalid_1's l2: 635.673\n",
      "[150]\ttraining's l2: 258.745\tvalid_1's l2: 607.244\n",
      "[200]\ttraining's l2: 245.626\tvalid_1's l2: 599.1\n",
      "[250]\ttraining's l2: 235.675\tvalid_1's l2: 594.007\n",
      "[300]\ttraining's l2: 227.988\tvalid_1's l2: 592.254\n",
      "[350]\ttraining's l2: 221.109\tvalid_1's l2: 588.8\n",
      "[400]\ttraining's l2: 215.014\tvalid_1's l2: 589.472\n",
      "[450]\ttraining's l2: 209.391\tvalid_1's l2: 585.698\n",
      "[500]\ttraining's l2: 204.337\tvalid_1's l2: 583.183\n",
      "[550]\ttraining's l2: 199.894\tvalid_1's l2: 580.547\n",
      "[600]\ttraining's l2: 195.693\tvalid_1's l2: 577.309\n",
      "[650]\ttraining's l2: 191.607\tvalid_1's l2: 575.935\n",
      "[700]\ttraining's l2: 188.304\tvalid_1's l2: 573.677\n",
      "[750]\ttraining's l2: 185.34\tvalid_1's l2: 573.907\n",
      "[800]\ttraining's l2: 182.272\tvalid_1's l2: 572.715\n",
      "[850]\ttraining's l2: 179.244\tvalid_1's l2: 567.929\n",
      "[900]\ttraining's l2: 176.36\tvalid_1's l2: 565.732\n",
      "[950]\ttraining's l2: 173.858\tvalid_1's l2: 563.657\n",
      "[1000]\ttraining's l2: 171.288\tvalid_1's l2: 562.896\n",
      "[1050]\ttraining's l2: 168.801\tvalid_1's l2: 560.977\n",
      "[1100]\ttraining's l2: 166.714\tvalid_1's l2: 561.745\n",
      "[1150]\ttraining's l2: 164.655\tvalid_1's l2: 560.921\n",
      "[1200]\ttraining's l2: 162.458\tvalid_1's l2: 558.445\n",
      "[1250]\ttraining's l2: 160.535\tvalid_1's l2: 555.966\n",
      "[1300]\ttraining's l2: 158.659\tvalid_1's l2: 556.53\n",
      "[1350]\ttraining's l2: 156.821\tvalid_1's l2: 554.058\n",
      "[1400]\ttraining's l2: 155.25\tvalid_1's l2: 551.183\n"
     ]
    },
    {
     "name": "stdout",
     "output_type": "stream",
     "text": [
      "[1450]\ttraining's l2: 153.448\tvalid_1's l2: 548.958\n",
      "[1500]\ttraining's l2: 151.909\tvalid_1's l2: 545.89\n",
      "[1550]\ttraining's l2: 150.31\tvalid_1's l2: 543.684\n",
      "[1600]\ttraining's l2: 148.927\tvalid_1's l2: 542.73\n",
      "[1650]\ttraining's l2: 147.399\tvalid_1's l2: 541.981\n",
      "[1700]\ttraining's l2: 145.976\tvalid_1's l2: 540.759\n",
      "[1750]\ttraining's l2: 144.591\tvalid_1's l2: 538.796\n",
      "[1800]\ttraining's l2: 143.334\tvalid_1's l2: 536.483\n",
      "[1850]\ttraining's l2: 142.111\tvalid_1's l2: 535.905\n",
      "[1900]\ttraining's l2: 140.897\tvalid_1's l2: 536.021\n",
      "[1950]\ttraining's l2: 139.698\tvalid_1's l2: 535.362\n",
      "[2000]\ttraining's l2: 138.577\tvalid_1's l2: 534.798\n",
      "[2050]\ttraining's l2: 137.496\tvalid_1's l2: 533.755\n",
      "[2100]\ttraining's l2: 136.47\tvalid_1's l2: 531.31\n",
      "[2150]\ttraining's l2: 135.447\tvalid_1's l2: 531.255\n",
      "[2200]\ttraining's l2: 134.473\tvalid_1's l2: 531.285\n",
      "[2250]\ttraining's l2: 133.517\tvalid_1's l2: 530.321\n",
      "[2300]\ttraining's l2: 132.596\tvalid_1's l2: 528.365\n",
      "[2350]\ttraining's l2: 131.649\tvalid_1's l2: 527.157\n",
      "[2400]\ttraining's l2: 130.69\tvalid_1's l2: 526.518\n",
      "[2450]\ttraining's l2: 129.762\tvalid_1's l2: 525.476\n",
      "[2500]\ttraining's l2: 128.866\tvalid_1's l2: 524.781\n",
      "[2550]\ttraining's l2: 128.036\tvalid_1's l2: 524.043\n",
      "[2600]\ttraining's l2: 127.235\tvalid_1's l2: 523.469\n",
      "[2650]\ttraining's l2: 126.438\tvalid_1's l2: 523.499\n",
      "[2700]\ttraining's l2: 125.622\tvalid_1's l2: 521.246\n",
      "[2750]\ttraining's l2: 124.863\tvalid_1's l2: 522.39\n",
      "[2800]\ttraining's l2: 124.119\tvalid_1's l2: 522.562\n",
      "Early stopping, best iteration is:\n",
      "[2699]\ttraining's l2: 125.64\tvalid_1's l2: 521.205\n",
      "ord_sum_decay_pre_3: 22050137.04\n",
      "ord_sum_decay_pre_6: 11147749.97\n",
      "ord_max_pre_6: 7724979.83\n",
      "ord_pre_1: 5714732.68\n",
      "ord_pre_2: 4374672.86\n",
      "ord_pre_4: 4146844.98\n",
      "ord_mean_pre_3: 3517365.83\n",
      "ord_min_pre_3: 2323436.27\n",
      "ord_min_pre_9: 2242217.72\n",
      "ord_max_pre_3: 2202776.79\n",
      "ord_max_pre_9: 1892631.13\n",
      "ord_pre_10: 1595251.05\n",
      "ord_min_pre_6: 1443446.90\n",
      "cate_ord_diff_mean_pre_9: 1343465.35\n",
      "ord_diff_mean_pre_12: 967373.14\n",
      "ord_median_pre_3: 782768.22\n",
      "ord_diff_mean_pre_3: 760161.42\n",
      "ord_max_pre_12: 747589.00\n",
      "inv_pre_1: 697666.16\n",
      "ord_pre_3: 663121.01\n",
      "ord_std_pre_6: 643403.68\n",
      "ord_mean_pre_6: 636071.69\n",
      "ord_median_pre_12: 605398.11\n",
      "inv_median_pre_3: 585298.46\n",
      "dis_std_pre_9: 584957.18\n",
      "first_inv_pre_6: 582406.08\n",
      "dis_min_pre_3: 573368.21\n",
      "ord_std_pre_3: 557939.92\n",
      "ord_pre_5: 556629.07\n",
      "inv_pre_2: 505660.51\n",
      "ord_pre_8: 459676.75\n",
      "ord_min_pre_12: 449696.71\n",
      "ord_mean_pre_12: 445611.81\n",
      "cate_ord_pre_2: 427824.24\n",
      "ord_median_pre_9: 424308.60\n",
      "ord_sum_decay_pre_9: 416207.39\n",
      "ord_std_pre_9: 409205.62\n",
      "ord_diff_mean_pre_6: 399929.20\n",
      "ord_pre_7: 397279.61\n",
      "ord_diff_mean_pre_9: 393249.35\n",
      "inv_diff_mean_pre_6: 380864.26\n",
      "cate_ord_pre_4: 374837.89\n",
      "cate_dis_pre_9: 370156.73\n",
      "inv_std_pre_3: 365628.41\n",
      "ord_std_pre_12: 362970.43\n",
      "cate_ord_std_pre_12: 362523.00\n",
      "cate_inv_std_pre_6: 355057.39\n",
      "inv_max_pre_6: 349365.83\n",
      "cate_dis_diff_mean_pre_3: 340402.68\n",
      "inv_std_pre_6: 330949.48\n",
      "cate_inv_diff_mean_pre_3: 320685.79\n",
      "ord_pre_9: 312734.91\n",
      "ord_pre_6: 304135.30\n",
      "dis_pre_1: 302902.17\n",
      "inv_diff_mean_pre_3: 291644.09\n",
      "dis_pre_2: 282513.57\n",
      "dis_mean_pre_9: 281958.80\n",
      "dis_median_pre_6: 281827.24\n",
      "dis_min_pre_6: 279124.75\n",
      "ord_sum_decay_pre_12: 274677.17\n",
      "dis_max_pre_6: 273491.18\n",
      "dis_max_pre_9: 268167.29\n",
      "ord_mean_pre_9: 263633.85\n",
      "inv_max_pre_3: 250708.72\n",
      "ord_pre_12: 238273.41\n",
      "cate_inv_diff_mean_pre_6: 222446.30\n",
      "ord_median_pre_6: 220720.11\n",
      "dis_pre_8: 220218.84\n",
      "cate_dis_pre_8: 208592.37\n",
      "inv_sum_decay_pre_6: 205355.11\n",
      "inv_pre_6: 205059.11\n",
      "inv_min_pre_6: 200501.48\n",
      "dis_pre_4: 197534.05\n",
      "inv_mean_pre_6: 193209.75\n",
      "cate_dis_std_pre_6: 192989.27\n",
      "first_ord_pre_12: 189511.00\n",
      "dis_max_pre_3: 186390.08\n",
      "cate_ord_pre_10: 174999.51\n",
      "dis_diff_mean_pre_3: 172246.05\n",
      "dis_diff_mean_pre_6: 166929.07\n",
      "dis_std_pre_3: 152717.99\n",
      "cate_ord_diff_mean_pre_3: 152580.99\n",
      "dis_pre_3: 151433.87\n",
      "cate_inv_std_pre_3: 149724.82\n",
      "cate_dis_std_pre_3: 145659.63\n",
      "dis_std_pre_6: 141999.17\n",
      "dis_min_pre_9: 141962.05\n",
      "dis_pre_7: 139997.13\n",
      "cate_inv_median_pre_3: 138724.47\n",
      "inv_pre_3: 135555.85\n",
      "dis_pre_5: 135235.35\n",
      "dis_diff_mean_pre_9: 132104.35\n",
      "cate_dis_diff_mean_pre_6: 130952.04\n",
      "dis_median_pre_3: 130573.19\n",
      "dis_sum_decay_pre_9: 130332.69\n",
      "cate_ord_std_pre_3: 127168.71\n",
      "dis_sum_decay_pre_6: 125558.27\n",
      "cate_ord_diff_mean_pre_6: 125286.96\n",
      "cate_ord_sum_decay_pre_3: 125117.76\n",
      "cate_ord_pre_9: 116325.25\n",
      "ord_pre_11: 114973.90\n",
      "cate_ord_diff_mean_pre_12: 110533.84\n",
      "cate_dis_pre_5: 110431.93\n",
      "category: 102719.30\n",
      "dis_sum_decay_pre_3: 98735.33\n",
      "cate_dis_min_pre_9: 98418.97\n",
      "cate_dis_diff_mean_pre_9: 97593.03\n",
      "first_dis_pre_9: 97471.77\n",
      "dis_pre_6: 94275.40\n",
      "cate_dis_pre_2: 92486.80\n",
      "inv_pre_4: 91144.28\n",
      "inv_sum_decay_pre_3: 88409.13\n",
      "cate_ord_min_pre_3: 82142.83\n",
      "cate_ord_pre_6: 80145.18\n",
      "cate_ord_pre_8: 76697.86\n",
      "dis_median_pre_9: 75451.38\n",
      "dis_pre_9: 75094.96\n",
      "inv_pre_5: 73748.05\n",
      "inv_min_pre_3: 72232.01\n",
      "inv_mean_pre_3: 67999.88\n",
      "dis_mean_pre_3: 67912.73\n",
      "cate_dis_std_pre_9: 62475.62\n",
      "cate_ord_pre_7: 61501.36\n",
      "dis_mean_pre_6: 60427.51\n",
      "cate_ord_std_pre_6: 57692.38\n",
      "cate_dis_median_pre_9: 54701.51\n",
      "cate_dis_max_pre_3: 53178.65\n",
      "inv_median_pre_6: 52001.23\n",
      "cate_ord_pre_12: 45002.06\n",
      "cate_dis_pre_1: 44279.85\n",
      "has_inv_pre_6: 43805.86\n",
      "has_dis_pre_9: 41056.56\n",
      "last_dis_pre_6: 35890.96\n",
      "cate_dis_median_pre_3: 35571.30\n",
      "cate_ord_std_pre_9: 33577.20\n",
      "cate_dis_min_pre_3: 33205.18\n",
      "cate_dis_pre_3: 32548.06\n",
      "cate_ord_pre_11: 31606.57\n",
      "cate_ord_pre_1: 31573.14\n",
      "first_dis_pre_6: 30807.20\n",
      "cate_dis_mean_pre_6: 30642.65\n",
      "cate_dis_sum_decay_pre_3: 30632.50\n",
      "cate_dis_median_pre_6: 28796.78\n",
      "cate_inv_pre_2: 28789.33\n",
      "cate_ord_pre_3: 24830.01\n",
      "last_ord_pre_3: 22876.41\n",
      "first_ord_pre_9: 22632.43\n",
      "cate_dis_min_pre_6: 22452.33\n",
      "cate_ord_pre_5: 22426.32\n",
      "first_inv_pre_3: 22008.00\n",
      "has_ord_pre_12: 21135.78\n",
      "cate_ord_sum_decay_pre_6: 20143.06\n",
      "cate_ord_median_pre_3: 19413.62\n",
      "cate_ord_max_pre_3: 19216.29\n",
      "cate_ord_mean_pre_3: 19064.26\n",
      "cate_dis_pre_7: 16964.01\n",
      "first_ord_pre_6: 14771.98\n",
      "cate_inv_pre_4: 14575.61\n",
      "cate_has_inv_pre_6: 14486.07\n",
      "last_dis_pre_3: 14369.89\n",
      "cate_inv_min_pre_6: 13879.23\n",
      "cate_dis_pre_4: 13418.19\n",
      "first_dis_pre_3: 12999.69\n",
      "cate_inv_sum_decay_pre_3: 12825.31\n",
      "cate_dis_pre_6: 12511.92\n",
      "cate_ord_mean_pre_6: 12427.80\n",
      "cate_ord_max_pre_6: 12005.68\n",
      "last_ord_pre_6: 11215.86\n",
      "cate_has_inv_pre_3: 11000.54\n",
      "cate_inv_median_pre_6: 10982.31\n",
      "has_ord_pre_6: 10978.51\n",
      "cate_inv_min_pre_3: 10696.87\n",
      "cate_ord_median_pre_9: 10149.59\n",
      "cate_ord_min_pre_12: 9690.99\n",
      "cate_inv_pre_6: 7762.73\n",
      "cate_inv_max_pre_3: 7672.93\n",
      "has_ord_pre_3: 7577.82\n",
      "cate_dis_mean_pre_3: 6578.54\n",
      "first_ord_pre_3: 5998.92\n",
      "cate_ord_min_pre_6: 5869.93\n",
      "cate_ord_median_pre_6: 5743.83\n",
      "cate_dis_sum_decay_pre_9: 5694.58\n",
      "has_dis_pre_6: 4973.21\n",
      "has_ord_pre_9: 4771.81\n",
      "last_ord_pre_9: 4770.33\n",
      "cate_dis_mean_pre_9: 4566.51\n",
      "last_dis_pre_9: 4412.95\n",
      "cate_dis_sum_decay_pre_6: 4302.93\n",
      "last_inv_pre_3: 4216.85\n",
      "cate_inv_pre_3: 3813.03\n",
      "cate_ord_sum_decay_pre_9: 3446.72\n",
      "cate_inv_pre_5: 3411.69\n",
      "cate_inv_sum_decay_pre_6: 3373.05\n",
      "cate_inv_pre_1: 3210.04\n",
      "cate_ord_mean_pre_9: 3186.33\n",
      "cate_ord_mean_pre_12: 2423.04\n",
      "last_inv_pre_6: 2137.59\n",
      "cate_dis_max_pre_6: 1769.90\n",
      "cate_ord_median_pre_12: 1692.50\n",
      "last_ord_pre_12: 1661.24\n",
      "cate_inv_mean_pre_3: 1402.14\n",
      "cate_inv_mean_pre_6: 1364.12\n",
      "cate_ord_sum_decay_pre_12: 862.36\n",
      "cate_ord_min_pre_9: 773.19\n",
      "cate_has_dis_pre_9: 562.08\n",
      "cate_inv_max_pre_6: 435.19\n",
      "cate_first_inv_pre_6: 400.42\n",
      "has_inv_pre_3: 319.07\n",
      "cate_ord_max_pre_9: 114.24\n",
      "cate_last_ord_pre_3: 111.27\n",
      "cate_dis_max_pre_9: 95.48\n",
      "has_dis_pre_3: 73.82\n",
      "cate_first_ord_pre_12: 73.21\n",
      "cate_first_ord_pre_6: 37.05\n",
      "cate_first_ord_pre_3: 31.82\n",
      "cate_ord_max_pre_12: 0.00\n",
      "cate_has_ord_pre_3: 0.00\n",
      "cate_has_ord_pre_6: 0.00\n",
      "cate_last_ord_pre_6: 0.00\n",
      "cate_has_ord_pre_9: 0.00\n",
      "cate_last_ord_pre_9: 0.00\n",
      "cate_first_ord_pre_9: 0.00\n",
      "cate_has_ord_pre_12: 0.00\n",
      "cate_last_ord_pre_12: 0.00\n",
      "cate_has_dis_pre_3: 0.00\n",
      "cate_last_dis_pre_3: 0.00\n",
      "cate_first_dis_pre_3: 0.00\n",
      "cate_has_dis_pre_6: 0.00\n",
      "cate_last_dis_pre_6: 0.00\n",
      "cate_first_dis_pre_6: 0.00\n",
      "cate_last_dis_pre_9: 0.00\n",
      "cate_first_dis_pre_9: 0.00\n",
      "cate_last_inv_pre_3: 0.00\n",
      "cate_first_inv_pre_3: 0.00\n",
      "cate_last_inv_pre_6: 0.00\n",
      "[INFO] Finished! ( ^ _ ^ ) V\n",
      "[INFO] Done in 11.384740 seconds.\n"
     ]
    }
   ],
   "source": [
    "print(\"[INFO] Start training and predicting...\")\n",
    "t0 = time()\n",
    "\n",
    "params = {\n",
    "    'num_leaves': 80, \n",
    "    'objective': 'regression', \n",
    "    'min_data_in_leaf': 200, \n",
    "    'learning_rate': 0.02, \n",
    "    'feature_fraction': 0.9, \n",
    "    'bagging_fraction': 0.8, \n",
    "    'bagging_freq': 1, \n",
    "    'metric': 'l2', \n",
    "    'num_threads': 16\n",
    "}\n",
    "\n",
    "MAX_ROUNDS = 5000\n",
    "pred_val = []\n",
    "pred_test = []\n",
    "cate_vars = []\n",
    "\n",
    "for i in range(3):\n",
    "    print('=' * 50)\n",
    "    print(\"Step %d\" % (i + 1))\n",
    "    print('=' * 50)\n",
    "    \n",
    "    dtrain = lgb.Dataset(X_train, label=y_train[:,i], categorical_feature=cate_vars)\n",
    "    dval = lgb.Dataset(X_val, label=y_val[:,i], reference=dtrain, categorical_feature=cate_vars)\n",
    "    \n",
    "    bst = lgb.train(\n",
    "        params, dtrain, num_boost_round=MAX_ROUNDS, \n",
    "        valid_sets=[dtrain, dval], early_stopping_rounds=125, verbose_eval=50\n",
    "    )\n",
    "    \n",
    "    feat_imp = [(\"%s: %.2f\" % x) for x in sorted(zip(X_train.columns, bst.feature_importance('gain')), key=lambda x: x[1], reverse=True)]\n",
    "    print('\\n'.join(feat_imp))\n",
    "    pred_val.append(\n",
    "        bst.predict(X_val, num_iteration=bst.best_iteration or MAX_ROUNDS)\n",
    "    )\n",
    "    pred_test.append(\n",
    "        bst.predict(X_test, num_iteration=bst.best_iteration or MAX_ROUNDS)\n",
    "    )\n",
    "    \n",
    "print(\"[INFO] Finished! ( ^ _ ^ ) V\")\n",
    "print(\"[INFO] Done in %f seconds.\" % (time() - t0))"
   ]
  },
  {
   "cell_type": "code",
   "execution_count": 31,
   "metadata": {},
   "outputs": [
    {
     "name": "stdout",
     "output_type": "stream",
     "text": [
      "The MSE error of validation set is: 378.50449238176674\n"
     ]
    }
   ],
   "source": [
    "print(\"The MSE error of validation set is:\", mean_squared_error(y_val, np.array(pred_val).transpose()))"
   ]
  },
  {
   "cell_type": "markdown",
   "metadata": {},
   "source": [
    "评价指标为**归一化加权均方根对数误差（Normalized Weighted Root Mean Squared Logarithmic Error, NWRMSLE）**，表达式如下：\n",
    "\n",
    "$$\n",
    "\\text{NWRMSLE} = \\sqrt{ \\frac{\\sum_{i=1}^{m}\\omega_i \\sum_{j=1}^{t}\\left( \\ln \\left(\\widehat{y}_j^{(i)} + 1 \\right) -\\ln \\left(y_j^{(i)} + 1 \\right)\\right)^2}{t\\cdot \\sum_{i=1}^{m}\\omega_i} }\n",
    "$$"
   ]
  },
  {
   "cell_type": "code",
   "execution_count": 32,
   "metadata": {},
   "outputs": [
    {
     "name": "stdout",
     "output_type": "stream",
     "text": [
      "The NWRMSLE error of validation set is: 19.45519191325973\n"
     ]
    }
   ],
   "source": [
    "# 归一化加权均方根对数误差\n",
    "err = (y_val - np.array(pred_val).transpose()) ** 2\n",
    "err = err.sum(axis=1)\n",
    "err = np.sqrt(err.sum() / 3 / len(y_val))\n",
    "print(\"The NWRMSLE error of validation set is:\", err)"
   ]
  },
  {
   "cell_type": "markdown",
   "metadata": {},
   "source": [
    "业务指标的表达式如下：\n",
    "\n",
    "$$\n",
    "E(t, y) = \\frac{\\sum_{i=0}^{n} | y^{(i)} - t^{(i)} |}{\\sum_{i=0}^{n} t^{(i)}}\n",
    "$$"
   ]
  },
  {
   "cell_type": "code",
   "execution_count": 33,
   "metadata": {},
   "outputs": [],
   "source": [
    "def error(y_true, y_pred):\n",
    "    return np.sum(np.abs(y_true - y_pred)) / np.sum(y_true)"
   ]
  },
  {
   "cell_type": "code",
   "execution_count": 34,
   "metadata": {},
   "outputs": [],
   "source": [
    "def expm1_with_clip(x, l=0, r=100000):\n",
    "    return np.clip(np.expm1(x), l, r)"
   ]
  },
  {
   "cell_type": "code",
   "execution_count": 35,
   "metadata": {},
   "outputs": [],
   "source": [
    "df_pred_val = pd.DataFrame(\n",
    "    np.array(pred_val).transpose(), index=order_month.index, \n",
    "    columns=['2018-07', '2018-08', '2018-09']\n",
    ")"
   ]
  },
  {
   "cell_type": "code",
   "execution_count": 36,
   "metadata": {},
   "outputs": [],
   "source": [
    "df_val = pd.DataFrame(\n",
    "    np.array(y_val), index=order_month.index, \n",
    "    columns=['2018-07', '2018-08', '2018-09']\n",
    ")"
   ]
  },
  {
   "cell_type": "code",
   "execution_count": 37,
   "metadata": {},
   "outputs": [],
   "source": [
    "# 验证集准确率\n",
    "first_month_error = error(expm1_with_clip(df_val['2018-07']), expm1_with_clip(df_pred_val['2018-07']))\n",
    "second_month_error = error(expm1_with_clip(df_val['2018-08']), expm1_with_clip(df_pred_val['2018-08']))\n",
    "third_month_error = error(expm1_with_clip(df_val['2018-09']), expm1_with_clip(df_pred_val['2018-09']))"
   ]
  },
  {
   "cell_type": "code",
   "execution_count": 38,
   "metadata": {},
   "outputs": [
    {
     "name": "stdout",
     "output_type": "stream",
     "text": [
      "The accuracy of 'M+1' order amount is: 50.96%\n",
      "The accuracy of 'M+2' order amount is: 54.34%\n",
      "The accuracy of 'M+3' order amount is: 48.82%\n"
     ]
    }
   ],
   "source": [
    "print(\"The accuracy of 'M+1' order amount is: %.2f%%\" % ((1 - first_month_error) * 100))\n",
    "print(\"The accuracy of 'M+2' order amount is: %.2f%%\" % ((1 - second_month_error) * 100))\n",
    "print(\"The accuracy of 'M+3' order amount is: %.2f%%\" % ((1 - third_month_error) * 100))"
   ]
  },
  {
   "cell_type": "code",
   "execution_count": 39,
   "metadata": {},
   "outputs": [],
   "source": [
    "df_pred_test = pd.DataFrame(\n",
    "    np.array(pred_test).transpose(), index=order_month.index, \n",
    "    columns=['2018-10', '2018-11', '2018-12']\n",
    ").stack().to_frame('pred_qty')\n",
    "df_pred_test.index.set_names(['item_code', 'month'], inplace=True)\n",
    "df_pred_test['pred_qty'] = np.clip(np.expm1(df_pred_test['pred_qty']), 0, 100000)"
   ]
  },
  {
   "cell_type": "code",
   "execution_count": 40,
   "metadata": {},
   "outputs": [],
   "source": [
    "comp = df_test.join(df_pred_test, how='left').fillna(0).reset_index()\n",
    "first_month_comp = comp.loc[comp['month'] == '2018-10']\n",
    "second_month_comp = comp.loc[comp['month'] == '2018-11']\n",
    "third_month_comp = comp.loc[comp['month'] == '2018-12']"
   ]
  },
  {
   "cell_type": "code",
   "execution_count": 41,
   "metadata": {},
   "outputs": [],
   "source": [
    "first_month_error = error(first_month_comp['qty'], first_month_comp['pred_qty'])\n",
    "second_month_error = error(second_month_comp['qty'], second_month_comp['pred_qty'])\n",
    "third_month_error = error(third_month_comp['qty'], third_month_comp['pred_qty'])"
   ]
  },
  {
   "cell_type": "code",
   "execution_count": 42,
   "metadata": {},
   "outputs": [
    {
     "name": "stdout",
     "output_type": "stream",
     "text": [
      "The accuracy of 'M+1' order amount is: -2232.79%\n",
      "The accuracy of 'M+2' order amount is: -2010.57%\n",
      "The accuracy of 'M+3' order amount is: -1206.30%\n"
     ]
    }
   ],
   "source": [
    "print(\"The accuracy of 'M+1' order amount is: %.2f%%\" % ((1 - first_month_error) * 100))\n",
    "print(\"The accuracy of 'M+2' order amount is: %.2f%%\" % ((1 - second_month_error) * 100))\n",
    "print(\"The accuracy of 'M+3' order amount is: %.2f%%\" % ((1 - third_month_error) * 100))"
   ]
  },
  {
   "cell_type": "code",
   "execution_count": 43,
   "metadata": {},
   "outputs": [],
   "source": [
    "test_items = set(df_test.index.get_level_values(0))"
   ]
  },
  {
   "cell_type": "code",
   "execution_count": 44,
   "metadata": {},
   "outputs": [
    {
     "data": {
      "text/plain": [
       "1034"
      ]
     },
     "execution_count": 44,
     "metadata": {},
     "output_type": "execute_result"
    }
   ],
   "source": [
    "len(test_items)"
   ]
  },
  {
   "cell_type": "code",
   "execution_count": 45,
   "metadata": {},
   "outputs": [],
   "source": [
    "pred_test_items = set(df_pred_test.index.get_level_values(0))"
   ]
  },
  {
   "cell_type": "code",
   "execution_count": 46,
   "metadata": {},
   "outputs": [
    {
     "data": {
      "text/plain": [
       "1845"
      ]
     },
     "execution_count": 46,
     "metadata": {},
     "output_type": "execute_result"
    }
   ],
   "source": [
    "len(pred_test_items)"
   ]
  },
  {
   "cell_type": "code",
   "execution_count": 47,
   "metadata": {},
   "outputs": [
    {
     "data": {
      "text/plain": [
       "884"
      ]
     },
     "execution_count": 47,
     "metadata": {},
     "output_type": "execute_result"
    }
   ],
   "source": [
    "len(test_items & pred_test_items)"
   ]
  },
  {
   "cell_type": "code",
   "execution_count": null,
   "metadata": {},
   "outputs": [],
   "source": []
  }
 ],
 "metadata": {
  "kernelspec": {
   "display_name": "Python 3",
   "language": "python",
   "name": "python3"
  },
  "language_info": {
   "codemirror_mode": {
    "name": "ipython",
    "version": 3
   },
   "file_extension": ".py",
   "mimetype": "text/x-python",
   "name": "python",
   "nbconvert_exporter": "python",
   "pygments_lexer": "ipython3",
   "version": "3.6.7"
  }
 },
 "nbformat": 4,
 "nbformat_minor": 2
}
