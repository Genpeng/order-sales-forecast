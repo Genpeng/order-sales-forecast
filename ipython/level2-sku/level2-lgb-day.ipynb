{
 "cells": [
  {
   "cell_type": "code",
   "execution_count": 1,
   "metadata": {},
   "outputs": [],
   "source": [
    "import gc\n",
    "import numpy as np\n",
    "import pandas as pd\n",
    "import lightgbm as lgb\n",
    "import matplotlib.pyplot as plt\n",
    "from time import time\n",
    "from datetime import date\n",
    "from sklearn.metrics import mean_squared_error\n",
    "from sklearn.preprocessing import LabelEncoder\n",
    "\n",
    "%matplotlib inline"
   ]
  },
  {
   "cell_type": "code",
   "execution_count": 2,
   "metadata": {},
   "outputs": [],
   "source": [
    "pd.set_option('display.max_columns', 1000)"
   ]
  },
  {
   "cell_type": "markdown",
   "metadata": {},
   "source": [
    "# 1 数据预处理"
   ]
  },
  {
   "cell_type": "code",
   "execution_count": 3,
   "metadata": {},
   "outputs": [],
   "source": [
    "# 载入数据\n",
    "order = pd.read_csv(\"../../data/level2/m111-order-sku.csv\", sep=',', parse_dates=['order_date'])\n",
    "dis = pd.read_csv(\"../../data/level2/m111-dis-sku.csv\", sep=',', parse_dates=['dis_date'])\n",
    "inv = pd.read_csv(\n",
    "    \"../../data/level2/m111-inv-sku.csv\", sep=',', parse_dates=['period_wid']\n",
    ").rename(columns={'period_wid': 'inv_date'})\n",
    "category = pd.read_csv(\n",
    "    \"../../data/level2/m111-item-category.csv\", sep=','\n",
    ").rename(columns={'sales_segment1_code': 'category'})"
   ]
  },
  {
   "cell_type": "markdown",
   "metadata": {},
   "source": [
    "## 1.1 处理订单数据"
   ]
  },
  {
   "cell_type": "code",
   "execution_count": 4,
   "metadata": {},
   "outputs": [],
   "source": [
    "# 取2017年至2018年区间中的数据\n",
    "order = order.loc[(order['order_date'] >= '2017-01-01') & (order['order_date'] <= '2018-12-31')]"
   ]
  },
  {
   "cell_type": "code",
   "execution_count": 5,
   "metadata": {},
   "outputs": [],
   "source": [
    "# 删除订单量为0的记录\n",
    "order = order.loc[~(order.qty == 0)]"
   ]
  },
  {
   "cell_type": "code",
   "execution_count": 6,
   "metadata": {},
   "outputs": [],
   "source": [
    "# 删除异常值\n",
    "order = order.join(category.set_index('item_code'), on='item_code', how='left').fillna('-1')\n",
    "order = order.loc[~(order.category == 'TGWL')]\n",
    "order = order.loc[~(order.category == -1)]\n",
    "order = order.loc[~((order.category == 'CRYJ') & (order.qty > 10000))]\n",
    "order = order.loc[~((order.category == 'CRZJ') & (order.qty > 10000))]\n",
    "order = order.loc[~((order.category == 'CRZTCF') & (order.qty > 10000))]\n",
    "order = order.loc[~((order.category == 'RR') & (order.qty > 10000))]"
   ]
  },
  {
   "cell_type": "code",
   "execution_count": 7,
   "metadata": {},
   "outputs": [],
   "source": [
    "# 划分数据集\n",
    "df_test = order.loc[order['order_date'] >= '2018-10-01']\n",
    "order = order.loc[order['order_date'] <= '2018-09-30']"
   ]
  },
  {
   "cell_type": "markdown",
   "metadata": {},
   "source": [
    "## 1.2 处理分销数据"
   ]
  },
  {
   "cell_type": "code",
   "execution_count": 10,
   "metadata": {},
   "outputs": [],
   "source": [
    "# 取2017年至2018年区间中的数据（分销数据只有从3月份开始的数据且3月份不完整）>_<|||\n",
    "dis = dis.loc[(dis['dis_date'] >= '2017-04-01') & (dis['dis_date'] <= '2018-09-30')]"
   ]
  },
  {
   "cell_type": "code",
   "execution_count": 11,
   "metadata": {},
   "outputs": [],
   "source": [
    "# 处理分销量为负数的情况\n",
    "dis['qty'] = dis['qty'].apply(lambda x: -x if x < 0 else x)"
   ]
  },
  {
   "cell_type": "code",
   "execution_count": 12,
   "metadata": {},
   "outputs": [],
   "source": [
    "# 删除分销量为0的记录\n",
    "dis = dis.loc[~(dis.qty == 0)]"
   ]
  },
  {
   "cell_type": "code",
   "execution_count": 13,
   "metadata": {},
   "outputs": [],
   "source": [
    "# 删除异常值\n",
    "dis = dis.join(category.set_index('item_code'), on='item_code', how='left').fillna('-1')\n",
    "dis = dis.loc[~(dis.category == 'TGWL')]\n",
    "dis = dis.loc[~(dis.category == '-1')]\n",
    "dis = dis.loc[~((dis.category == 'CRYJ') & (dis.item_code == '12173000000014'))]\n",
    "dis = dis.loc[~((dis.category == 'CRZTCF') & (dis.qty > 10000))]\n",
    "dis = dis.loc[~((dis.category == 'RR') & (dis.item_code == '21099910000123'))]"
   ]
  },
  {
   "cell_type": "code",
   "execution_count": 14,
   "metadata": {},
   "outputs": [],
   "source": [
    "dis_month = dis.copy()\n",
    "dis_month['month'] = dis_month['dis_date'].astype('str').apply(lambda x: x[:7])\n",
    "dis_month = dis_month.groupby(['item_code', 'month'])[['qty']].sum()\n",
    "dis_month = dis_month.unstack(level=-1).fillna(0)\n",
    "dis_month.columns = pd.date_range('2017-04-30', '2018-09-30', freq='M')\n",
    "dis_month = dis_month.reindex(order_month.index).fillna(0)"
   ]
  },
  {
   "cell_type": "markdown",
   "metadata": {},
   "source": [
    "## 1.3 处理库存数据"
   ]
  },
  {
   "cell_type": "markdown",
   "metadata": {},
   "source": [
    "**问题**：\n",
    "1. 按月进行统计的话，订单、提货、分销的数值很大，只要拟合不准，误差将是巨大的\n",
    "2. 现在库存是取SKU最后一天的库存作为当月的库存，但是这样也有个问题——会有一些SKU在最后一天没有记录（但是如果以天作为预测粒度的话，就不存在这个问题了）"
   ]
  },
  {
   "cell_type": "code",
   "execution_count": 15,
   "metadata": {},
   "outputs": [],
   "source": [
    "# 取2017年至2018年区间中的数据（库存数据只有从2017年6月份开始的数据）>_<|||\n",
    "inv = inv.loc[(inv['inv_date'] >= '2017-06-01') & (inv['inv_date'] <= '2018-09-30')]"
   ]
  },
  {
   "cell_type": "code",
   "execution_count": 16,
   "metadata": {},
   "outputs": [],
   "source": [
    "# 处理分销量为负数的情况\n",
    "# inv['qty'] = inv['qty'].apply(lambda x: -x if x < 0 else x)\n",
    "\n",
    "# 删除库存数据中小于等于0的记录\n",
    "# 疑问：为什么会存在库存小于0的记录（入不敷出）？\n",
    "inv = inv.loc[~(inv.qty <= 0)]"
   ]
  },
  {
   "cell_type": "code",
   "execution_count": 17,
   "metadata": {},
   "outputs": [],
   "source": [
    "# 取每月的最后一天作为当月的库存\n",
    "inv = inv.loc[inv['inv_date'].isin(pd.date_range('2017-06-30', '2018-09-30', freq='M'))]"
   ]
  },
  {
   "cell_type": "code",
   "execution_count": 18,
   "metadata": {},
   "outputs": [],
   "source": [
    "inv = inv.join(category.set_index('item_code'), on='item_code', how='left').fillna('-1')"
   ]
  },
  {
   "cell_type": "code",
   "execution_count": 19,
   "metadata": {},
   "outputs": [],
   "source": [
    "# 删除异常值\n",
    "# inv = inv.loc[~(inv.qty > 1000000)]\n",
    "inv = inv.loc[~(inv.category == '-1')]\n",
    "inv = inv.loc[~(inv.category == 'TGWL')]\n",
    "inv = inv.loc[~((inv.category == 'RR') & (inv.item_code == '21099910000123'))]\n",
    "inv = inv.loc[~((inv.category == 'CRZTCF') & (inv.item_code == '21074110000008'))]\n",
    "inv = inv.loc[~((inv.category == 'JSJ') & (inv.item_code == '21099910000164'))]\n",
    "inv = inv.loc[~((inv.category == 'JSJ') & (inv.item_code == '21012500000009'))]"
   ]
  },
  {
   "cell_type": "code",
   "execution_count": 20,
   "metadata": {},
   "outputs": [],
   "source": [
    "inv_month = inv.copy()\n",
    "inv_month['month'] = inv_month['inv_date'].astype('str').apply(lambda x: x[:7])\n",
    "inv_month = inv_month.groupby(['item_code', 'month'])[['qty']].sum()\n",
    "inv_month = inv_month.unstack(level=-1).fillna(0)\n",
    "inv_month.columns = pd.date_range('2017-06-30', '2018-09-30', freq='M')\n",
    "inv_month = inv_month.reindex(order_month.index).fillna(0)"
   ]
  },
  {
   "cell_type": "markdown",
   "metadata": {},
   "source": [
    "## 1.4 处理品类信息"
   ]
  },
  {
   "cell_type": "code",
   "execution_count": 21,
   "metadata": {},
   "outputs": [],
   "source": [
    "# Pandas的bug：'21054110000024', '21054110000025', '21054110000084', '21054110000085' 这4个字符串居然是重复的，取消注释即可看到\n",
    "# category.loc[category.item_code.duplicated()]"
   ]
  },
  {
   "cell_type": "code",
   "execution_count": 22,
   "metadata": {},
   "outputs": [],
   "source": [
    "# 解决上面bug的下策，避免下面reindex报错\n",
    "category.drop_duplicates(['item_code'], keep='first', inplace=True)"
   ]
  },
  {
   "cell_type": "code",
   "execution_count": 23,
   "metadata": {},
   "outputs": [],
   "source": [
    "category = category.set_index('item_code').reindex(order_month.index)"
   ]
  },
  {
   "cell_type": "code",
   "execution_count": 24,
   "metadata": {},
   "outputs": [],
   "source": [
    "encoder = LabelEncoder()\n",
    "category['category'] = encoder.fit_transform(category['category'])"
   ]
  },
  {
   "cell_type": "markdown",
   "metadata": {},
   "source": [
    "## 1.5 得到每个品类每个月的提货数据"
   ]
  },
  {
   "cell_type": "code",
   "execution_count": 25,
   "metadata": {},
   "outputs": [],
   "source": [
    "order_cate_month = order_month.reset_index()\n",
    "order_cate_month['category'] = category['category'].values\n",
    "order_cate_month = order_cate_month.groupby('category')[order_month.columns].sum()"
   ]
  },
  {
   "cell_type": "markdown",
   "metadata": {},
   "source": [
    "## 1.6 得到每个品类每个月的分销数据"
   ]
  },
  {
   "cell_type": "code",
   "execution_count": 26,
   "metadata": {},
   "outputs": [],
   "source": [
    "dis_cate_month = dis_month.reset_index()\n",
    "dis_cate_month['category'] = category['category'].values\n",
    "dis_cate_month = dis_cate_month.groupby('category')[dis_month.columns].sum()"
   ]
  },
  {
   "cell_type": "markdown",
   "metadata": {},
   "source": [
    "## 1.7 得到每个品类每个月的库存数据"
   ]
  },
  {
   "cell_type": "code",
   "execution_count": 27,
   "metadata": {},
   "outputs": [],
   "source": [
    "inv_cate_month = inv_month.reset_index()\n",
    "inv_cate_month['category'] = category['category'].values\n",
    "inv_cate_month = inv_cate_month.groupby('category')[inv_month.columns].sum()"
   ]
  },
  {
   "cell_type": "markdown",
   "metadata": {},
   "source": [
    "## 1.8 对所有数据取对数"
   ]
  },
  {
   "cell_type": "code",
   "execution_count": 28,
   "metadata": {},
   "outputs": [],
   "source": [
    "order_month = np.log1p(order_month)\n",
    "dis_month = np.log1p(dis_month)\n",
    "inv_month = np.log1p(inv_month)\n",
    "\n",
    "order_cate_month = np.log1p(order_cate_month)\n",
    "dis_cate_month = np.log1p(dis_cate_month)\n",
    "inv_cate_month = np.log1p(inv_cate_month)"
   ]
  },
  {
   "cell_type": "markdown",
   "metadata": {},
   "source": [
    "# 2 特征工程"
   ]
  },
  {
   "cell_type": "code",
   "execution_count": 29,
   "metadata": {},
   "outputs": [],
   "source": [
    "def prepare_dataset(order, dis, inv, year, month, is_train=True, name_prefix=None):\n",
    "    X = {}\n",
    "    \n",
    "    # 提货的统计特征（28个特征）\n",
    "    for i in [3, 6, 9, 12]:\n",
    "        dt = date(year, month, 1)\n",
    "        tmp = order[pd.date_range(end=dt, periods=i, freq='M')]  # 前i个月提货量\n",
    "        X['ord_diff_mean_pre_%s' % i] = tmp.diff(axis=1).mean(axis=1).values  # 前i个月提货量的平均一阶差分\n",
    "        X['ord_sum_decay_pre_%s' % i] = (tmp * np.power(0.9, np.arange(i)[::-1])).sum(axis=1).values  # 前i个月提货量的和（带衰减）\n",
    "        X['ord_mean_pre_%s' % i] = tmp.mean(axis=1).values  # 前i个月提货量的平均值\n",
    "        X['ord_median_pre_%s' % i] = tmp.median(axis=1).values  # 前i个月提货量的中位数\n",
    "        X['ord_max_pre_%s' % i] = tmp.max(axis=1).values  # 前i个月提货量的最大值\n",
    "        X['ord_min_pre_%s' % i] = tmp.min(axis=1).values  # 前i个月提货量的最小值\n",
    "        X['ord_std_pre_%s' % i] = tmp.std(axis=1).values  # 前i个月提货量的标准差\n",
    "        \n",
    "    # 分销的统计特征（21个特征）>_<|||\n",
    "    for i in [3, 6, 9]:\n",
    "        dt = date(year, month, 1)\n",
    "        tmp = dis[pd.date_range(end=dt, periods=i, freq='M')]  # 前i个月分销量\n",
    "        X['dis_diff_mean_pre_%s' % i] = tmp.diff(axis=1).mean(axis=1).values  # 前i个月分销量的平均一阶差分\n",
    "        X['dis_sum_decay_pre_%s' % i] = (tmp * np.power(0.9, np.arange(i)[::-1])).sum(axis=1).values  # 前i个月分销量的和（带衰减）\n",
    "        X['dis_mean_pre_%s' % i] = tmp.mean(axis=1).values  # 前i个月分销量的均值\n",
    "        X['dis_median_pre_%s' % i] = tmp.median(axis=1).values  # 前i个月分销量的中位数\n",
    "        X['dis_max_pre_%s' % i] = tmp.max(axis=1).values  # 前i个月分销量的最大值\n",
    "        X['dis_min_pre_%s' % i] = tmp.min(axis=1).values  # 前i个月分销量的最小值\n",
    "        X['dis_std_pre_%s' % i] = tmp.std(axis=1).values  # 前i个月分销量的标准差\n",
    "        \n",
    "    # 库存的统计特征（14个）>_<|||\n",
    "    for i in [3, 6]:\n",
    "        dt = date(year, month, 1)\n",
    "        tmp = inv[pd.date_range(end=dt, periods=i, freq='M')]  # 前i个月库存量\n",
    "        X['inv_diff_mean_pre_%s' % i] = tmp.diff(axis=1).mean(axis=1).values  # 前i个月库存量的平均一阶差分\n",
    "        X['inv_sum_decay_pre_%s' % i] = (tmp * np.power(0.9, np.arange(i)[::-1])).sum(axis=1).values  # 前i个月库存量的和（带衰减）\n",
    "        X['inv_mean_pre_%s' % i] = tmp.mean(axis=1).values  # 前i个月库存量的均值\n",
    "        X['inv_median_pre_%s' % i] = tmp.median(axis=1).values  # 前i个月库存量的中位数\n",
    "        X['inv_max_pre_%s' % i] = tmp.max(axis=1).values  # 前i个月库存量的最大值\n",
    "        X['inv_min_pre_%s' % i] = tmp.min(axis=1).values  # 前i个月库存量的最小值\n",
    "        X['inv_std_pre_%s' % i] = tmp.std(axis=1).values  # 前i个月库存量的标准差\n",
    "        \n",
    "    # 提货天数特征（12个特征）\n",
    "#     for i in [3, 6, 9, 12]:\n",
    "#         dt = date(year, month, 1)\n",
    "#         tmp = order[pd.date_range(end=dt, periods=i, freq='M')]\n",
    "#         X['has_ord_pre_%s' % i] = (tmp > 0).sum(axis=1).values  # 前i个月有提货的天数\n",
    "#         X['last_ord_pre_%s' % i] = i - ((tmp > 0) * np.arange(i)).max(axis=1).values  # 前i个月距离上一次有提货的天数\n",
    "#         X['first_ord_pre_%s' % i] = ((tmp > 0) * np.arange(i, 0, -1)).max(axis=1).values  # 前i个月距离第一次有提货的天数\n",
    "        \n",
    "    # 分销天数特征（9个特征）>_<|||\n",
    "#     for i in [3, 6, 9]:\n",
    "#         dt = date(year, month, 1)\n",
    "#         tmp = dis[pd.date_range(end=dt, periods=i, freq='M')]\n",
    "#         X['has_dis_pre_%s' % i] = (tmp > 0).sum(axis=1).values  # 前i个月有分销的天数\n",
    "#         X['last_dis_pre_%s' % i] = i - ((tmp > 0) * np.arange(i)).max(axis=1).values  # 前i个月距离上一次有分销的天数\n",
    "#         X['first_dis_pre_%s' % i] = ((tmp > 0) * np.arange(i, 0, -1)).max(axis=1).values  # 前i个月距离第一次有分销的天数\n",
    "        \n",
    "    # 库存天数特征（6个特征）>_<|||\n",
    "#     for i in [3, 6]:\n",
    "#         dt = date(year, month, 1)\n",
    "#         tmp = inv[pd.date_range(end=dt, periods=i, freq='M')]\n",
    "#         X['has_inv_pre_%s' % i] = (tmp > 0).sum(axis=1).values  # 前i个月有库存的天数\n",
    "#         X['last_inv_pre_%s' % i] = i - ((tmp > 0) * np.arange(i)).max(axis=1).values  # 前i个月距离上一次有库存的天数\n",
    "#         X['first_inv_pre_%s' % i] = ((tmp > 0) * np.arange(i, 0, -1)).max(axis=1).values  # 前i个月距离第一次有库存的天数\n",
    "        \n",
    "    # 前12个月的提货量\n",
    "    for i in range(1, 13):\n",
    "        if month - i <= 0:\n",
    "            start_dt = date(year - 1, month + 12 - i, 1)\n",
    "        else:\n",
    "            start_dt = date(year, month - i, 1)\n",
    "        X['ord_pre_%s' % i] = order[pd.date_range(start_dt, periods=1, freq='M')].values.ravel()\n",
    "        \n",
    "    # 前9个月的分销量>_<|||\n",
    "    for i in range(1, 10):\n",
    "        if month - i <= 0:\n",
    "            start_dt = date(year - 1, month + 12 - i, 1)\n",
    "        else:\n",
    "            start_dt = date(year, month - i, 1)\n",
    "        X['dis_pre_%s' % i] = dis[pd.date_range(start_dt, periods=1, freq='M')].values.ravel()\n",
    "       \n",
    "    # 前6个月的库存量>_<|||\n",
    "    for i in range(1, 7):\n",
    "        if month - i <= 0:\n",
    "            start_dt = date(year - 1, month + 12 - i, 1)\n",
    "        else:\n",
    "            start_dt = date(year, month - i, 1)\n",
    "        X['inv_pre_%s' % i] = inv[pd.date_range(start_dt, periods=1, freq='M')].values.ravel()\n",
    "        \n",
    "    X = pd.DataFrame(X)\n",
    "    \n",
    "    if is_train:\n",
    "        start_dt = date(year, month, 1)\n",
    "        y = order[pd.date_range(start_dt, periods=3, freq='M')].values\n",
    "        return X, y\n",
    "    \n",
    "    if name_prefix is not None:\n",
    "        X.columns = ['%s_%s' % (name_prefix, c) for c in X.columns]\n",
    "        \n",
    "    return X"
   ]
  },
  {
   "cell_type": "markdown",
   "metadata": {},
   "source": [
    "## 2.1 准备训练集"
   ]
  },
  {
   "cell_type": "code",
   "execution_count": 30,
   "metadata": {},
   "outputs": [],
   "source": [
    "train_month = [ \n",
    "    '2018-01', \n",
    "    '2018-02', \n",
    "    '2018-03', \n",
    "    '2018-04'\n",
    "]\n",
    "\n",
    "X_l, y_l = [], []\n",
    "for month in train_month:\n",
    "    y, m = int(month.split('-')[0]), int(month.split('-')[1])\n",
    "    \n",
    "    X_tmp, y_tmp = prepare_dataset(order_month, dis_month, inv_month, y, m)\n",
    "    \n",
    "    X_tmp2 = prepare_dataset(order_cate_month, dis_cate_month, inv_cate_month, y, m, is_train=False, name_prefix='cate')\n",
    "    X_tmp2.index = order_cate_month.index\n",
    "    X_tmp2 = X_tmp2.reindex(category['category']).reset_index(drop=True)\n",
    "    \n",
    "    X_tmp = pd.concat([X_tmp, X_tmp2, category.reset_index(drop=True)], axis=1)\n",
    "    X_l.append(X_tmp)\n",
    "    y_l.append(y_tmp)\n",
    "    \n",
    "    del X_tmp, y_tmp, X_tmp2\n",
    "    gc.collect()\n",
    "    \n",
    "X_train = pd.concat(X_l, axis=0)\n",
    "y_train = np.concatenate(y_l, axis=0)"
   ]
  },
  {
   "cell_type": "markdown",
   "metadata": {},
   "source": [
    "## 2.2 准备验证集"
   ]
  },
  {
   "cell_type": "code",
   "execution_count": 31,
   "metadata": {},
   "outputs": [
    {
     "data": {
      "text/plain": [
       "0"
      ]
     },
     "execution_count": 31,
     "metadata": {},
     "output_type": "execute_result"
    }
   ],
   "source": [
    "X_val, y_val = prepare_dataset(order_month, dis_month, inv_month, 2018, 7)\n",
    "\n",
    "X_val2 = prepare_dataset(order_cate_month, dis_cate_month, inv_cate_month, 2018, 7, is_train=False, name_prefix='cate')\n",
    "X_val2.index = order_cate_month.index\n",
    "X_val2 = X_val2.reindex(category['category']).reset_index(drop=True)\n",
    "\n",
    "X_val = pd.concat([X_val, X_val2, category.reset_index(drop=True)], axis=1)\n",
    "\n",
    "del X_val2\n",
    "gc.collect()"
   ]
  },
  {
   "cell_type": "markdown",
   "metadata": {},
   "source": [
    "## 2.3 准备测试集"
   ]
  },
  {
   "cell_type": "code",
   "execution_count": 32,
   "metadata": {},
   "outputs": [
    {
     "data": {
      "text/plain": [
       "0"
      ]
     },
     "execution_count": 32,
     "metadata": {},
     "output_type": "execute_result"
    }
   ],
   "source": [
    "X_test = prepare_dataset(order_month, dis_month, inv_month, 2018, 10, is_train=False)\n",
    "\n",
    "X_test2 = prepare_dataset(order_cate_month, dis_cate_month, inv_cate_month, 2018, 10, is_train=False, name_prefix='cate')\n",
    "X_test2.index = order_cate_month.index\n",
    "X_test2 = X_test2.reindex(category['category']).reset_index(drop=True)\n",
    "\n",
    "X_test = pd.concat([X_test, X_test2, category.reset_index(drop=True)], axis=1)\n",
    "\n",
    "del X_test2\n",
    "gc.collect()"
   ]
  },
  {
   "cell_type": "markdown",
   "metadata": {},
   "source": [
    "# 3 训练和预测"
   ]
  },
  {
   "cell_type": "code",
   "execution_count": 33,
   "metadata": {},
   "outputs": [
    {
     "name": "stdout",
     "output_type": "stream",
     "text": [
      "[INFO] Start training and predicting...\n",
      "==================================================\n",
      "Step 1\n",
      "==================================================\n"
     ]
    },
    {
     "name": "stderr",
     "output_type": "stream",
     "text": [
      "/root/miniconda3/envs/xPy3/lib/python3.6/site-packages/lightgbm/basic.py:1184: UserWarning: Using categorical_feature in Dataset.\n",
      "  warnings.warn('Using categorical_feature in Dataset.')\n"
     ]
    },
    {
     "name": "stdout",
     "output_type": "stream",
     "text": [
      "Training until validation scores don't improve for 125 rounds.\n",
      "[50]\ttraining's l2: 6.4699\tvalid_1's l2: 5.65617\n",
      "[100]\ttraining's l2: 4.35745\tvalid_1's l2: 4.19036\n",
      "[150]\ttraining's l2: 3.49002\tvalid_1's l2: 3.73468\n",
      "[200]\ttraining's l2: 3.10197\tvalid_1's l2: 3.63887\n",
      "[250]\ttraining's l2: 2.89668\tvalid_1's l2: 3.65655\n",
      "[300]\ttraining's l2: 2.765\tvalid_1's l2: 3.6925\n",
      "Early stopping, best iteration is:\n",
      "[210]\ttraining's l2: 3.0522\tvalid_1's l2: 3.6298\n",
      "ord_max_pre_3: 756303.71\n",
      "ord_sum_decay_pre_3: 717502.35\n",
      "ord_pre_2: 269157.07\n",
      "ord_mean_pre_3: 129642.14\n",
      "ord_pre_1: 84090.77\n",
      "cate_ord_diff_mean_pre_6: 39430.67\n",
      "cate_ord_diff_mean_pre_12: 36798.61\n",
      "ord_diff_mean_pre_3: 16605.77\n",
      "ord_median_pre_3: 16096.40\n",
      "ord_min_pre_3: 14946.42\n",
      "ord_diff_mean_pre_6: 12517.78\n",
      "ord_sum_decay_pre_6: 10792.64\n",
      "cate_dis_diff_mean_pre_6: 8801.16\n",
      "ord_pre_4: 8739.10\n",
      "ord_max_pre_6: 7203.13\n",
      "cate_ord_diff_mean_pre_3: 5590.03\n",
      "ord_std_pre_3: 5462.41\n",
      "cate_ord_pre_4: 5164.71\n",
      "cate_dis_pre_8: 5156.67\n",
      "inv_pre_2: 4784.21\n",
      "cate_dis_std_pre_6: 4246.78\n",
      "ord_max_pre_12: 3847.90\n",
      "ord_max_pre_9: 3710.73\n",
      "dis_pre_8: 2813.66\n",
      "cate_ord_diff_mean_pre_9: 2677.63\n",
      "ord_diff_mean_pre_9: 2489.82\n",
      "cate_dis_pre_9: 2411.83\n",
      "dis_sum_decay_pre_9: 2375.09\n",
      "ord_std_pre_6: 2366.84\n",
      "ord_mean_pre_6: 2261.12\n",
      "cate_inv_std_pre_6: 2246.32\n",
      "dis_max_pre_6: 2111.91\n",
      "ord_sum_decay_pre_9: 1858.93\n",
      "cate_ord_pre_10: 1856.12\n",
      "ord_min_pre_6: 1786.29\n",
      "dis_sum_decay_pre_3: 1760.87\n",
      "dis_mean_pre_9: 1681.70\n",
      "dis_pre_3: 1435.43\n",
      "dis_pre_7: 1409.28\n",
      "cate_dis_std_pre_3: 1346.64\n",
      "inv_pre_4: 1336.21\n",
      "cate_dis_diff_mean_pre_3: 1329.96\n",
      "inv_diff_mean_pre_6: 1306.27\n",
      "cate_dis_pre_1: 1254.57\n",
      "ord_diff_mean_pre_12: 1217.49\n",
      "cate_ord_pre_2: 1191.30\n",
      "cate_inv_diff_mean_pre_6: 1157.42\n",
      "cate_dis_diff_mean_pre_9: 1130.92\n",
      "cate_ord_pre_7: 1046.70\n",
      "cate_inv_diff_mean_pre_3: 844.61\n",
      "dis_std_pre_9: 792.44\n",
      "inv_median_pre_6: 787.15\n",
      "dis_pre_1: 749.18\n",
      "ord_pre_5: 728.63\n",
      "cate_ord_pre_3: 721.67\n",
      "cate_dis_std_pre_9: 699.78\n",
      "dis_max_pre_9: 663.92\n",
      "dis_pre_4: 661.86\n",
      "ord_std_pre_9: 626.33\n",
      "cate_inv_sum_decay_pre_3: 613.31\n",
      "ord_min_pre_12: 611.09\n",
      "ord_pre_11: 574.02\n",
      "dis_max_pre_3: 573.51\n",
      "dis_pre_6: 501.64\n",
      "cate_ord_std_pre_9: 499.03\n",
      "ord_pre_7: 471.47\n",
      "ord_sum_decay_pre_12: 453.20\n",
      "cate_dis_min_pre_9: 449.17\n",
      "ord_mean_pre_9: 434.01\n",
      "inv_pre_5: 415.80\n",
      "inv_std_pre_6: 414.23\n",
      "ord_mean_pre_12: 399.95\n",
      "cate_ord_min_pre_3: 397.51\n",
      "ord_pre_9: 382.91\n",
      "dis_pre_9: 361.35\n",
      "dis_std_pre_6: 326.45\n",
      "cate_ord_std_pre_3: 314.66\n",
      "inv_sum_decay_pre_3: 296.62\n",
      "cate_inv_pre_6: 294.08\n",
      "ord_std_pre_12: 288.58\n",
      "inv_diff_mean_pre_3: 256.79\n",
      "inv_sum_decay_pre_6: 251.00\n",
      "ord_median_pre_6: 241.42\n",
      "inv_mean_pre_6: 238.19\n",
      "inv_pre_6: 232.74\n",
      "dis_min_pre_3: 224.91\n",
      "cate_ord_pre_6: 220.09\n",
      "inv_pre_3: 219.38\n",
      "cate_inv_median_pre_6: 215.88\n",
      "cate_ord_std_pre_12: 208.92\n",
      "cate_dis_pre_7: 202.79\n",
      "cate_ord_pre_1: 200.88\n",
      "cate_ord_std_pre_6: 198.67\n",
      "dis_min_pre_6: 196.51\n",
      "cate_inv_min_pre_3: 188.68\n",
      "dis_mean_pre_3: 182.99\n",
      "category: 179.06\n",
      "cate_ord_sum_decay_pre_3: 170.37\n",
      "cate_inv_std_pre_3: 167.54\n",
      "cate_ord_mean_pre_9: 161.74\n",
      "cate_inv_pre_4: 156.47\n",
      "dis_diff_mean_pre_6: 155.55\n",
      "ord_median_pre_9: 124.57\n",
      "cate_ord_max_pre_3: 121.73\n",
      "cate_inv_mean_pre_6: 112.58\n",
      "cate_inv_pre_5: 111.78\n",
      "cate_inv_sum_decay_pre_6: 111.19\n",
      "inv_std_pre_3: 108.74\n",
      "ord_pre_6: 107.18\n",
      "inv_mean_pre_3: 106.24\n",
      "ord_min_pre_9: 99.00\n",
      "dis_sum_decay_pre_6: 96.10\n",
      "inv_max_pre_6: 95.61\n",
      "dis_median_pre_9: 90.80\n",
      "ord_median_pre_12: 90.66\n",
      "cate_ord_median_pre_3: 86.92\n",
      "cate_ord_pre_9: 84.22\n",
      "ord_pre_10: 79.71\n",
      "cate_ord_pre_8: 75.08\n",
      "inv_min_pre_3: 74.56\n",
      "cate_inv_min_pre_6: 74.25\n",
      "dis_median_pre_6: 72.89\n",
      "cate_dis_pre_4: 72.07\n",
      "cate_ord_pre_12: 69.51\n",
      "dis_std_pre_3: 68.05\n",
      "inv_median_pre_3: 58.94\n",
      "dis_diff_mean_pre_9: 57.84\n",
      "cate_ord_max_pre_6: 56.65\n",
      "cate_dis_pre_5: 55.32\n",
      "cate_dis_median_pre_3: 53.93\n",
      "cate_dis_sum_decay_pre_9: 52.89\n",
      "dis_median_pre_3: 51.68\n",
      "dis_pre_5: 46.49\n",
      "dis_min_pre_9: 45.23\n",
      "cate_dis_median_pre_6: 43.76\n",
      "cate_dis_max_pre_3: 42.11\n",
      "ord_pre_12: 41.69\n",
      "cate_ord_pre_11: 37.72\n",
      "cate_dis_mean_pre_9: 32.42\n",
      "cate_dis_min_pre_3: 31.97\n",
      "cate_dis_max_pre_6: 31.42\n",
      "cate_ord_min_pre_12: 31.03\n",
      "cate_dis_pre_2: 30.14\n",
      "cate_inv_median_pre_3: 29.30\n",
      "cate_dis_sum_decay_pre_3: 29.14\n",
      "ord_pre_3: 28.15\n",
      "dis_diff_mean_pre_3: 26.27\n",
      "cate_ord_max_pre_9: 24.67\n",
      "inv_max_pre_3: 22.30\n",
      "dis_pre_2: 21.54\n",
      "cate_inv_max_pre_3: 21.33\n",
      "cate_ord_median_pre_12: 20.46\n",
      "cate_dis_pre_3: 18.34\n",
      "cate_ord_sum_decay_pre_6: 17.31\n",
      "cate_dis_pre_6: 15.73\n",
      "cate_ord_median_pre_6: 15.43\n",
      "cate_ord_min_pre_6: 15.34\n",
      "cate_ord_median_pre_9: 15.31\n",
      "inv_pre_1: 15.09\n",
      "cate_ord_pre_5: 10.97\n",
      "cate_inv_pre_2: 10.48\n",
      "inv_min_pre_6: 7.15\n",
      "dis_mean_pre_6: 6.97\n",
      "cate_inv_mean_pre_3: 3.19\n",
      "ord_pre_8: 2.91\n",
      "cate_inv_pre_1: 2.30\n",
      "cate_dis_mean_pre_3: 1.00\n",
      "cate_ord_mean_pre_3: 0.95\n",
      "cate_ord_mean_pre_6: 0.00\n",
      "cate_ord_sum_decay_pre_9: 0.00\n",
      "cate_ord_min_pre_9: 0.00\n",
      "cate_ord_sum_decay_pre_12: 0.00\n",
      "cate_ord_mean_pre_12: 0.00\n",
      "cate_ord_max_pre_12: 0.00\n",
      "cate_dis_sum_decay_pre_6: 0.00\n",
      "cate_dis_mean_pre_6: 0.00\n",
      "cate_dis_min_pre_6: 0.00\n",
      "cate_dis_median_pre_9: 0.00\n",
      "cate_dis_max_pre_9: 0.00\n",
      "cate_inv_max_pre_6: 0.00\n",
      "cate_inv_pre_3: 0.00\n",
      "==================================================\n",
      "Step 2\n",
      "==================================================\n",
      "Training until validation scores don't improve for 125 rounds.\n",
      "[50]\ttraining's l2: 6.71108\tvalid_1's l2: 6.99729\n",
      "[100]\ttraining's l2: 4.90876\tvalid_1's l2: 5.43921\n",
      "[150]\ttraining's l2: 4.1688\tvalid_1's l2: 4.83167\n",
      "[200]\ttraining's l2: 3.82581\tvalid_1's l2: 4.60069\n",
      "[250]\ttraining's l2: 3.63569\tvalid_1's l2: 4.50642\n",
      "[300]\ttraining's l2: 3.49964\tvalid_1's l2: 4.49549\n",
      "[350]\ttraining's l2: 3.39383\tvalid_1's l2: 4.50077\n",
      "[400]\ttraining's l2: 3.31786\tvalid_1's l2: 4.51376\n",
      "Early stopping, best iteration is:\n",
      "[284]\ttraining's l2: 3.54073\tvalid_1's l2: 4.48868\n",
      "ord_pre_1: 1368103.79\n",
      "ord_sum_decay_pre_3: 152182.09\n",
      "ord_mean_pre_3: 94409.40\n",
      "ord_sum_decay_pre_6: 39412.02\n",
      "ord_max_pre_3: 24510.11\n",
      "ord_median_pre_3: 21977.70\n",
      "ord_max_pre_9: 21949.40\n",
      "dis_mean_pre_9: 15547.18\n",
      "ord_diff_mean_pre_12: 10189.88\n",
      "cate_dis_pre_8: 9515.63\n",
      "cate_ord_std_pre_12: 8994.85\n",
      "dis_diff_mean_pre_6: 8214.88\n",
      "cate_inv_min_pre_3: 8089.84\n",
      "dis_pre_7: 7048.85\n",
      "ord_max_pre_6: 6707.18\n",
      "cate_dis_std_pre_9: 6628.46\n",
      "cate_inv_median_pre_3: 6530.16\n",
      "ord_min_pre_3: 6370.34\n",
      "dis_std_pre_6: 6048.99\n",
      "ord_pre_2: 5871.05\n",
      "cate_ord_min_pre_12: 5441.24\n",
      "ord_max_pre_12: 5430.41\n",
      "ord_diff_mean_pre_3: 5263.72\n",
      "ord_diff_mean_pre_9: 4615.78\n",
      "cate_ord_diff_mean_pre_9: 4482.26\n",
      "cate_dis_diff_mean_pre_9: 4322.12\n",
      "ord_mean_pre_6: 4028.99\n",
      "cate_dis_min_pre_9: 4012.22\n",
      "inv_sum_decay_pre_6: 3840.52\n",
      "dis_median_pre_9: 3785.51\n",
      "ord_sum_decay_pre_9: 3597.84\n",
      "cate_dis_pre_9: 3430.86\n",
      "dis_std_pre_9: 3241.55\n",
      "cate_ord_pre_6: 3188.21\n",
      "ord_pre_11: 2851.14\n",
      "ord_std_pre_6: 2665.01\n",
      "cate_ord_sum_decay_pre_3: 2323.26\n",
      "cate_inv_sum_decay_pre_3: 2216.53\n",
      "dis_sum_decay_pre_9: 2067.92\n",
      "ord_mean_pre_12: 2058.35\n",
      "cate_inv_std_pre_6: 2040.94\n",
      "cate_dis_std_pre_6: 2036.21\n",
      "ord_sum_decay_pre_12: 1976.32\n",
      "ord_std_pre_3: 1927.57\n",
      "cate_inv_median_pre_6: 1916.32\n",
      "cate_ord_std_pre_3: 1865.58\n",
      "inv_pre_2: 1864.40\n",
      "cate_ord_sum_decay_pre_12: 1853.35\n",
      "cate_inv_diff_mean_pre_3: 1789.77\n",
      "dis_median_pre_3: 1788.05\n",
      "cate_ord_min_pre_3: 1696.23\n",
      "cate_ord_diff_mean_pre_12: 1639.97\n",
      "dis_diff_mean_pre_9: 1586.01\n",
      "inv_pre_3: 1455.34\n",
      "dis_pre_9: 1441.24\n",
      "cate_inv_pre_2: 1356.99\n",
      "ord_std_pre_12: 1341.34\n",
      "dis_min_pre_6: 1337.89\n",
      "cate_ord_pre_2: 1327.25\n",
      "dis_pre_3: 1326.65\n",
      "category: 1310.35\n",
      "ord_min_pre_6: 1307.53\n",
      "inv_mean_pre_6: 1302.07\n",
      "inv_pre_6: 1242.37\n",
      "cate_ord_pre_1: 1231.24\n",
      "dis_diff_mean_pre_3: 1213.81\n",
      "cate_inv_diff_mean_pre_6: 1179.15\n",
      "cate_dis_min_pre_6: 1175.07\n",
      "inv_pre_4: 1145.69\n",
      "dis_mean_pre_3: 1077.37\n",
      "ord_diff_mean_pre_6: 1060.41\n",
      "inv_median_pre_6: 1045.37\n",
      "dis_pre_8: 1019.09\n",
      "ord_pre_6: 972.90\n",
      "cate_ord_pre_11: 948.57\n",
      "inv_median_pre_3: 896.11\n",
      "cate_ord_std_pre_6: 894.99\n",
      "inv_diff_mean_pre_3: 862.74\n",
      "cate_ord_pre_12: 799.88\n",
      "ord_pre_4: 715.16\n",
      "ord_pre_10: 707.47\n",
      "cate_ord_pre_5: 683.48\n",
      "dis_pre_2: 662.86\n",
      "dis_max_pre_3: 645.15\n",
      "ord_pre_3: 627.57\n",
      "inv_std_pre_3: 618.74\n",
      "cate_dis_diff_mean_pre_6: 603.38\n",
      "cate_ord_diff_mean_pre_3: 601.12\n",
      "cate_dis_diff_mean_pre_3: 583.10\n",
      "cate_ord_pre_4: 577.64\n",
      "inv_diff_mean_pre_6: 546.27\n",
      "cate_ord_max_pre_3: 544.60\n",
      "cate_dis_std_pre_3: 539.81\n",
      "dis_max_pre_9: 537.02\n",
      "cate_ord_pre_10: 535.79\n",
      "ord_pre_8: 480.86\n",
      "cate_ord_pre_3: 468.54\n",
      "ord_median_pre_9: 460.79\n",
      "ord_median_pre_6: 456.34\n",
      "cate_dis_pre_4: 445.56\n",
      "ord_std_pre_9: 443.62\n",
      "ord_pre_7: 440.72\n",
      "dis_pre_5: 438.78\n",
      "dis_median_pre_6: 431.62\n",
      "dis_sum_decay_pre_6: 410.28\n",
      "dis_pre_6: 407.92\n",
      "inv_max_pre_6: 402.94\n",
      "cate_inv_std_pre_3: 391.43\n",
      "ord_min_pre_12: 379.30\n",
      "cate_ord_diff_mean_pre_6: 379.08\n",
      "cate_inv_max_pre_3: 354.29\n",
      "cate_dis_mean_pre_9: 348.76\n",
      "cate_inv_pre_3: 346.07\n",
      "cate_dis_pre_3: 343.99\n",
      "cate_dis_pre_1: 340.84\n",
      "ord_pre_5: 306.82\n",
      "cate_dis_sum_decay_pre_3: 303.04\n",
      "cate_dis_mean_pre_3: 298.67\n",
      "inv_std_pre_6: 293.11\n",
      "cate_dis_pre_2: 282.89\n",
      "ord_median_pre_12: 281.78\n",
      "cate_inv_pre_1: 279.33\n",
      "ord_pre_9: 266.66\n",
      "inv_sum_decay_pre_3: 263.09\n",
      "ord_mean_pre_9: 260.73\n",
      "inv_min_pre_3: 250.61\n",
      "dis_max_pre_6: 249.26\n",
      "inv_min_pre_6: 242.16\n",
      "dis_min_pre_9: 231.32\n",
      "cate_ord_mean_pre_3: 213.80\n",
      "cate_inv_mean_pre_3: 213.38\n",
      "cate_ord_sum_decay_pre_6: 208.81\n",
      "cate_dis_sum_decay_pre_9: 207.61\n",
      "cate_ord_pre_7: 206.90\n",
      "cate_ord_std_pre_9: 196.63\n",
      "inv_pre_5: 179.31\n",
      "cate_inv_sum_decay_pre_6: 163.93\n",
      "dis_min_pre_3: 161.81\n",
      "dis_std_pre_3: 152.11\n",
      "dis_pre_1: 142.37\n",
      "cate_ord_max_pre_6: 139.35\n",
      "cate_ord_pre_9: 133.99\n",
      "ord_pre_12: 128.47\n",
      "cate_dis_median_pre_3: 122.81\n",
      "dis_pre_4: 116.65\n",
      "cate_dis_min_pre_3: 113.63\n",
      "cate_dis_pre_7: 113.61\n",
      "inv_pre_1: 113.50\n",
      "dis_mean_pre_6: 103.09\n",
      "cate_ord_min_pre_9: 99.26\n",
      "cate_ord_median_pre_9: 85.32\n",
      "cate_dis_sum_decay_pre_6: 79.93\n",
      "cate_ord_median_pre_3: 77.55\n",
      "cate_ord_median_pre_6: 77.28\n",
      "cate_inv_pre_5: 76.92\n",
      "dis_sum_decay_pre_3: 73.02\n",
      "cate_ord_pre_8: 72.94\n",
      "cate_dis_median_pre_6: 66.73\n",
      "inv_mean_pre_3: 50.47\n",
      "cate_dis_mean_pre_6: 47.21\n",
      "cate_dis_pre_6: 46.53\n",
      "inv_max_pre_3: 41.22\n",
      "ord_min_pre_9: 40.52\n",
      "cate_inv_mean_pre_6: 34.38\n",
      "cate_ord_max_pre_9: 32.75\n",
      "cate_inv_pre_6: 27.83\n",
      "cate_inv_pre_4: 27.34\n",
      "cate_ord_mean_pre_9: 23.36\n",
      "cate_ord_min_pre_6: 20.50\n",
      "cate_dis_pre_5: 19.11\n",
      "cate_ord_sum_decay_pre_9: 8.89\n",
      "cate_inv_min_pre_6: 8.74\n",
      "cate_dis_max_pre_3: 2.91\n",
      "cate_ord_mean_pre_6: 0.00\n",
      "cate_ord_mean_pre_12: 0.00\n",
      "cate_ord_median_pre_12: 0.00\n",
      "cate_ord_max_pre_12: 0.00\n",
      "cate_dis_max_pre_6: 0.00\n",
      "cate_dis_median_pre_9: 0.00\n",
      "cate_dis_max_pre_9: 0.00\n",
      "cate_inv_max_pre_6: 0.00\n",
      "==================================================\n",
      "Step 3\n",
      "==================================================\n"
     ]
    },
    {
     "name": "stdout",
     "output_type": "stream",
     "text": [
      "Training until validation scores don't improve for 125 rounds.\n",
      "[50]\ttraining's l2: 7.15949\tvalid_1's l2: 8.1368\n",
      "[100]\ttraining's l2: 5.55315\tvalid_1's l2: 6.56768\n",
      "[150]\ttraining's l2: 4.85515\tvalid_1's l2: 5.93794\n",
      "[200]\ttraining's l2: 4.51488\tvalid_1's l2: 5.70487\n",
      "[250]\ttraining's l2: 4.32146\tvalid_1's l2: 5.61378\n",
      "[300]\ttraining's l2: 4.19063\tvalid_1's l2: 5.63346\n",
      "[350]\ttraining's l2: 4.09511\tvalid_1's l2: 5.66687\n",
      "Early stopping, best iteration is:\n",
      "[259]\ttraining's l2: 4.29572\tvalid_1's l2: 5.60418\n",
      "ord_pre_1: 674945.18\n",
      "ord_sum_decay_pre_3: 375528.36\n",
      "ord_max_pre_3: 152113.23\n",
      "ord_mean_pre_3: 59151.17\n",
      "ord_sum_decay_pre_6: 44465.93\n",
      "dis_mean_pre_9: 41864.69\n",
      "ord_max_pre_6: 32090.77\n",
      "ord_pre_2: 31386.70\n",
      "ord_min_pre_3: 27405.58\n",
      "ord_max_pre_9: 22980.06\n",
      "cate_ord_diff_mean_pre_12: 16868.57\n",
      "cate_dis_std_pre_6: 16814.82\n",
      "ord_diff_mean_pre_12: 14472.44\n",
      "dis_pre_8: 13396.89\n",
      "dis_std_pre_9: 10713.53\n",
      "cate_dis_std_pre_3: 8874.59\n",
      "cate_ord_pre_12: 8798.19\n",
      "inv_pre_2: 8539.54\n",
      "cate_dis_diff_mean_pre_6: 7448.36\n",
      "ord_diff_mean_pre_9: 6915.82\n",
      "ord_median_pre_6: 6660.86\n",
      "cate_ord_diff_mean_pre_6: 5864.06\n",
      "ord_diff_mean_pre_3: 5735.52\n",
      "ord_std_pre_6: 5246.54\n",
      "inv_pre_5: 5148.62\n",
      "inv_pre_4: 5148.37\n",
      "ord_mean_pre_12: 5045.39\n",
      "dis_pre_7: 4819.06\n",
      "dis_max_pre_9: 4380.78\n",
      "cate_inv_std_pre_6: 4234.92\n",
      "ord_sum_decay_pre_12: 4182.85\n",
      "inv_pre_6: 4150.18\n",
      "cate_ord_pre_2: 4081.35\n",
      "ord_pre_10: 4046.05\n",
      "inv_mean_pre_6: 3872.17\n",
      "ord_mean_pre_6: 3677.73\n",
      "category: 2892.29\n",
      "dis_sum_decay_pre_9: 2832.17\n",
      "dis_median_pre_9: 2804.98\n",
      "dis_pre_6: 2707.32\n",
      "ord_sum_decay_pre_9: 2686.87\n",
      "dis_pre_3: 2563.88\n",
      "cate_dis_pre_2: 2405.13\n",
      "cate_ord_diff_mean_pre_9: 2326.31\n",
      "ord_min_pre_6: 2326.13\n",
      "cate_ord_std_pre_6: 2191.34\n",
      "ord_pre_4: 2178.92\n",
      "dis_std_pre_6: 2172.22\n",
      "cate_dis_mean_pre_9: 2140.64\n",
      "cate_dis_diff_mean_pre_9: 2140.06\n",
      "cate_ord_diff_mean_pre_3: 2132.39\n",
      "ord_std_pre_3: 2018.43\n",
      "cate_ord_pre_6: 2002.63\n",
      "cate_inv_diff_mean_pre_6: 1885.88\n",
      "cate_dis_std_pre_9: 1838.69\n",
      "ord_median_pre_12: 1809.90\n",
      "inv_median_pre_3: 1784.44\n",
      "dis_min_pre_3: 1715.73\n",
      "ord_max_pre_12: 1588.27\n",
      "cate_dis_pre_9: 1546.57\n",
      "cate_inv_diff_mean_pre_3: 1415.51\n",
      "cate_inv_pre_2: 1377.93\n",
      "ord_pre_8: 1346.54\n",
      "cate_dis_pre_8: 1327.49\n",
      "ord_std_pre_9: 1282.26\n",
      "ord_std_pre_12: 1243.02\n",
      "cate_inv_sum_decay_pre_3: 1190.34\n",
      "cate_dis_pre_4: 1180.39\n",
      "ord_diff_mean_pre_6: 1157.85\n",
      "ord_mean_pre_9: 1098.84\n",
      "cate_ord_pre_7: 1068.16\n",
      "cate_dis_diff_mean_pre_3: 953.57\n",
      "ord_pre_9: 944.53\n",
      "cate_dis_min_pre_9: 943.28\n",
      "inv_diff_mean_pre_6: 906.26\n",
      "cate_ord_min_pre_3: 844.61\n",
      "cate_inv_std_pre_3: 757.50\n",
      "ord_pre_7: 750.92\n",
      "cate_ord_pre_4: 750.51\n",
      "ord_median_pre_3: 728.00\n",
      "cate_ord_pre_3: 713.35\n",
      "cate_ord_pre_9: 696.02\n",
      "cate_dis_median_pre_3: 688.71\n",
      "inv_max_pre_6: 674.04\n",
      "inv_std_pre_6: 665.82\n",
      "cate_ord_sum_decay_pre_3: 656.32\n",
      "dis_mean_pre_6: 649.12\n",
      "inv_sum_decay_pre_6: 634.26\n",
      "cate_ord_std_pre_3: 628.42\n",
      "cate_ord_pre_1: 612.25\n",
      "dis_pre_5: 604.51\n",
      "dis_std_pre_3: 601.74\n",
      "inv_mean_pre_3: 568.14\n",
      "ord_median_pre_9: 521.97\n",
      "dis_median_pre_3: 496.44\n",
      "cate_ord_pre_5: 486.39\n",
      "inv_diff_mean_pre_3: 472.52\n",
      "cate_ord_max_pre_3: 470.12\n",
      "dis_min_pre_9: 469.27\n",
      "cate_ord_pre_10: 460.09\n",
      "cate_ord_pre_8: 444.99\n",
      "cate_inv_max_pre_3: 428.14\n",
      "dis_max_pre_6: 419.26\n",
      "ord_pre_5: 389.32\n",
      "dis_mean_pre_3: 385.99\n",
      "cate_inv_pre_1: 377.29\n",
      "inv_pre_3: 367.52\n",
      "ord_pre_3: 361.18\n",
      "dis_median_pre_6: 346.50\n",
      "inv_std_pre_3: 343.63\n",
      "cate_dis_pre_7: 340.47\n",
      "dis_min_pre_6: 332.93\n",
      "cate_ord_std_pre_12: 332.74\n",
      "ord_pre_12: 316.69\n",
      "cate_inv_mean_pre_3: 312.19\n",
      "ord_pre_6: 297.23\n",
      "dis_pre_9: 292.17\n",
      "inv_median_pre_6: 290.20\n",
      "cate_ord_max_pre_6: 274.20\n",
      "dis_diff_mean_pre_9: 271.23\n",
      "cate_dis_max_pre_3: 260.20\n",
      "cate_inv_median_pre_6: 246.83\n",
      "dis_sum_decay_pre_6: 238.63\n",
      "inv_sum_decay_pre_3: 227.94\n",
      "dis_max_pre_3: 219.65\n",
      "inv_max_pre_3: 214.90\n",
      "ord_pre_11: 211.39\n",
      "cate_inv_median_pre_3: 204.53\n",
      "dis_diff_mean_pre_3: 199.26\n",
      "cate_inv_min_pre_3: 191.73\n",
      "cate_dis_sum_decay_pre_3: 179.21\n",
      "cate_ord_std_pre_9: 178.38\n",
      "dis_diff_mean_pre_6: 171.45\n",
      "cate_ord_pre_11: 167.22\n",
      "ord_min_pre_9: 166.23\n",
      "cate_ord_median_pre_3: 163.06\n",
      "dis_sum_decay_pre_3: 149.63\n",
      "cate_inv_pre_3: 148.73\n",
      "dis_pre_4: 146.80\n",
      "cate_inv_pre_6: 133.29\n",
      "cate_inv_sum_decay_pre_6: 119.45\n",
      "inv_pre_1: 110.99\n",
      "cate_ord_sum_decay_pre_9: 102.47\n",
      "cate_ord_min_pre_6: 100.16\n",
      "cate_dis_sum_decay_pre_9: 99.29\n",
      "cate_inv_pre_4: 98.96\n",
      "cate_ord_mean_pre_6: 96.43\n",
      "cate_ord_min_pre_12: 94.41\n",
      "cate_ord_median_pre_6: 75.16\n",
      "dis_pre_1: 71.81\n",
      "cate_dis_min_pre_3: 58.62\n",
      "cate_dis_pre_5: 54.35\n",
      "cate_dis_pre_6: 52.74\n",
      "inv_min_pre_3: 41.79\n",
      "cate_inv_pre_5: 34.36\n",
      "cate_ord_median_pre_9: 34.36\n",
      "cate_dis_median_pre_9: 32.45\n",
      "cate_dis_pre_1: 32.17\n",
      "cate_inv_mean_pre_6: 30.70\n",
      "dis_pre_2: 27.45\n",
      "cate_ord_sum_decay_pre_6: 24.15\n",
      "cate_ord_mean_pre_3: 20.52\n",
      "cate_ord_sum_decay_pre_12: 19.70\n",
      "cate_ord_mean_pre_9: 15.72\n",
      "cate_inv_min_pre_6: 15.57\n",
      "cate_ord_max_pre_9: 12.16\n",
      "cate_dis_mean_pre_3: 10.81\n",
      "inv_min_pre_6: 7.46\n",
      "cate_dis_sum_decay_pre_6: 4.13\n",
      "cate_dis_mean_pre_6: 3.99\n",
      "cate_dis_median_pre_6: 2.28\n",
      "cate_dis_pre_3: 1.62\n",
      "ord_min_pre_12: 0.00\n",
      "cate_ord_min_pre_9: 0.00\n",
      "cate_ord_mean_pre_12: 0.00\n",
      "cate_ord_median_pre_12: 0.00\n",
      "cate_ord_max_pre_12: 0.00\n",
      "cate_dis_max_pre_6: 0.00\n",
      "cate_dis_min_pre_6: 0.00\n",
      "cate_dis_max_pre_9: 0.00\n",
      "cate_inv_max_pre_6: 0.00\n",
      "[INFO] Finished! ( ^ _ ^ ) V\n",
      "[INFO] Done in 2.362357 seconds.\n"
     ]
    }
   ],
   "source": [
    "print(\"[INFO] Start training and predicting...\")\n",
    "t0 = time()\n",
    "\n",
    "params = {\n",
    "    'num_leaves': 80, \n",
    "    'objective': 'regression', \n",
    "    'min_data_in_leaf': 200, \n",
    "    'learning_rate': 0.01, \n",
    "    'feature_fraction': 0.9, \n",
    "    'bagging_fraction': 0.8, \n",
    "    'bagging_freq': 1, \n",
    "    'metric': 'l2', \n",
    "    'num_threads': 16\n",
    "}\n",
    "\n",
    "MAX_ROUNDS = 5000\n",
    "pred_val = []\n",
    "pred_test = []\n",
    "cate_vars = []\n",
    "\n",
    "for i in range(3):\n",
    "    print('=' * 50)\n",
    "    print(\"Step %d\" % (i + 1))\n",
    "    print('=' * 50)\n",
    "    \n",
    "    dtrain = lgb.Dataset(X_train, label=y_train[:,i], categorical_feature=cate_vars)\n",
    "    dval = lgb.Dataset(X_val, label=y_val[:,i], reference=dtrain, categorical_feature=cate_vars)\n",
    "    \n",
    "    bst = lgb.train(\n",
    "        params, dtrain, num_boost_round=MAX_ROUNDS, \n",
    "        valid_sets=[dtrain, dval], early_stopping_rounds=125, verbose_eval=50\n",
    "    )\n",
    "    \n",
    "    feat_imp = [(\"%s: %.2f\" % x) for x in sorted(zip(X_train.columns, bst.feature_importance('gain')), key=lambda x: x[1], reverse=True)]\n",
    "    print('\\n'.join(feat_imp))\n",
    "    pred_val.append(\n",
    "        bst.predict(X_val, num_iteration=bst.best_iteration or MAX_ROUNDS)\n",
    "    )\n",
    "    pred_test.append(\n",
    "        bst.predict(X_test, num_iteration=bst.best_iteration or MAX_ROUNDS)\n",
    "    )\n",
    "    \n",
    "print(\"[INFO] Finished! ( ^ _ ^ ) V\")\n",
    "print(\"[INFO] Done in %f seconds.\" % (time() - t0))"
   ]
  },
  {
   "cell_type": "code",
   "execution_count": 34,
   "metadata": {},
   "outputs": [
    {
     "name": "stdout",
     "output_type": "stream",
     "text": [
      "The MSE error of validation set is: 4.574220182022851\n"
     ]
    }
   ],
   "source": [
    "print(\"The MSE error of validation set is:\", mean_squared_error(y_val, np.array(pred_val).transpose()))"
   ]
  },
  {
   "cell_type": "markdown",
   "metadata": {},
   "source": [
    "评价指标为**归一化加权均方根对数误差（Normalized Weighted Root Mean Squared Logarithmic Error, NWRMSLE）**，表达式如下：\n",
    "\n",
    "$$\n",
    "\\text{NWRMSLE} = \\sqrt{ \\frac{\\sum_{i=1}^{m}\\omega_i \\sum_{j=1}^{t}\\left( \\ln \\left(\\widehat{y}_j^{(i)} + 1 \\right) -\\ln \\left(y_j^{(i)} + 1 \\right)\\right)^2}{t\\cdot \\sum_{i=1}^{m}\\omega_i} }\n",
    "$$"
   ]
  },
  {
   "cell_type": "code",
   "execution_count": 35,
   "metadata": {},
   "outputs": [
    {
     "name": "stdout",
     "output_type": "stream",
     "text": [
      "The NWRMSLE error of validation set is: 2.138742663815086\n"
     ]
    }
   ],
   "source": [
    "# 归一化加权均方根对数误差\n",
    "err = (y_val - np.array(pred_val).transpose()) ** 2\n",
    "err = err.sum(axis=1)\n",
    "err = np.sqrt(err.sum() / 3 / len(y_val))\n",
    "print(\"The NWRMSLE error of validation set is:\", err)"
   ]
  },
  {
   "cell_type": "markdown",
   "metadata": {},
   "source": [
    "业务指标的表达式如下：\n",
    "\n",
    "$$\n",
    "E(t, y) = \\frac{\\sum_{i=0}^{n} | y^{(i)} - t^{(i)} |}{\\sum_{i=0}^{n} t^{(i)}}\n",
    "$$"
   ]
  },
  {
   "cell_type": "code",
   "execution_count": 36,
   "metadata": {},
   "outputs": [],
   "source": [
    "def error(y_true, y_pred):\n",
    "    return np.sum(np.abs(y_true - y_pred)) / np.sum(y_true)"
   ]
  },
  {
   "cell_type": "code",
   "execution_count": 37,
   "metadata": {},
   "outputs": [],
   "source": [
    "def expm1_with_clip(x, l=0, r=100000):\n",
    "    return np.clip(np.expm1(x), l, r)"
   ]
  },
  {
   "cell_type": "code",
   "execution_count": 38,
   "metadata": {},
   "outputs": [],
   "source": [
    "df_val = pd.DataFrame(\n",
    "    np.array(y_val), index=order_month.index, \n",
    "    columns=['2018-07', '2018-08', '2018-09']\n",
    ")"
   ]
  },
  {
   "cell_type": "code",
   "execution_count": 39,
   "metadata": {},
   "outputs": [],
   "source": [
    "df_pred_val = pd.DataFrame(\n",
    "    np.array(pred_val).transpose(), index=order_month.index, \n",
    "    columns=['2018-07', '2018-08', '2018-09']\n",
    ")"
   ]
  },
  {
   "cell_type": "code",
   "execution_count": 40,
   "metadata": {},
   "outputs": [],
   "source": [
    "# 验证集准确率\n",
    "first_month_error = error(np.expm1(df_val['2018-07']), np.expm1(df_pred_val['2018-07']))\n",
    "second_month_error = error(np.expm1(df_val['2018-08']), np.expm1(df_pred_val['2018-08']))\n",
    "third_month_error = error(np.expm1(df_val['2018-09']), np.expm1(df_pred_val['2018-09']))"
   ]
  },
  {
   "cell_type": "code",
   "execution_count": 41,
   "metadata": {},
   "outputs": [
    {
     "name": "stdout",
     "output_type": "stream",
     "text": [
      "The accuracy of 'M+1' order amount is: 25.23%\n",
      "The accuracy of 'M+2' order amount is: 16.68%\n",
      "The accuracy of 'M+3' order amount is: 11.81%\n"
     ]
    }
   ],
   "source": [
    "print(\"The accuracy of 'M+1' order amount is: %.2f%%\" % ((1 - first_month_error) * 100))\n",
    "print(\"The accuracy of 'M+2' order amount is: %.2f%%\" % ((1 - second_month_error) * 100))\n",
    "print(\"The accuracy of 'M+3' order amount is: %.2f%%\" % ((1 - third_month_error) * 100))"
   ]
  },
  {
   "cell_type": "code",
   "execution_count": 42,
   "metadata": {},
   "outputs": [],
   "source": [
    "df_pred_test = pd.DataFrame(\n",
    "    np.array(pred_test).transpose(), index=order_month.index, \n",
    "    columns=['2018-10', '2018-11', '2018-12']\n",
    ").stack().to_frame('pred_qty')\n",
    "df_pred_test.index.set_names(['item_code', 'month'], inplace=True)\n",
    "df_pred_test['pred_qty'] = np.clip(np.expm1(df_pred_test['pred_qty']), 0, 100000)"
   ]
  },
  {
   "cell_type": "code",
   "execution_count": 43,
   "metadata": {},
   "outputs": [],
   "source": [
    "comp = df_test.join(df_pred_test, how='left').fillna(0).reset_index()\n",
    "first_month_comp = comp.loc[comp['month'] == '2018-10']\n",
    "second_month_comp = comp.loc[comp['month'] == '2018-11']\n",
    "third_month_comp = comp.loc[comp['month'] == '2018-12']"
   ]
  },
  {
   "cell_type": "code",
   "execution_count": 44,
   "metadata": {},
   "outputs": [],
   "source": [
    "first_month_error = error(first_month_comp['qty'], first_month_comp['pred_qty'])\n",
    "second_month_error = error(second_month_comp['qty'], second_month_comp['pred_qty'])\n",
    "third_month_error = error(third_month_comp['qty'], third_month_comp['pred_qty'])"
   ]
  },
  {
   "cell_type": "code",
   "execution_count": 45,
   "metadata": {},
   "outputs": [
    {
     "name": "stdout",
     "output_type": "stream",
     "text": [
      "The accuracy of 'M+1' order amount is: 15.44%\n",
      "The accuracy of 'M+2' order amount is: 19.37%\n",
      "The accuracy of 'M+3' order amount is: 8.94%\n"
     ]
    }
   ],
   "source": [
    "print(\"The accuracy of 'M+1' order amount is: %.2f%%\" % ((1 - first_month_error) * 100))\n",
    "print(\"The accuracy of 'M+2' order amount is: %.2f%%\" % ((1 - second_month_error) * 100))\n",
    "print(\"The accuracy of 'M+3' order amount is: %.2f%%\" % ((1 - third_month_error) * 100))"
   ]
  },
  {
   "cell_type": "markdown",
   "metadata": {},
   "source": [
    "# 4 规则微调"
   ]
  },
  {
   "cell_type": "code",
   "execution_count": 46,
   "metadata": {},
   "outputs": [],
   "source": [
    "# 得到品类的上限取值（取品类每个月最大值的60%），用于最后微调结果\n",
    "# cate_max = {}\n",
    "# cates = list(order.category.unique())\n",
    "# for cate in cates:\n",
    "#     tmp = order.loc[order.category == cate]\n",
    "#     tmp['month'] = tmp['order_date'].astype('str').apply(lambda x: x[:7])\n",
    "#     tmp = tmp.groupby(['item_code', 'month'])[['qty']].sum()\n",
    "#     cate_max[cate] = int(tmp.qty.max() * 0.6)"
   ]
  },
  {
   "cell_type": "code",
   "execution_count": null,
   "metadata": {},
   "outputs": [],
   "source": []
  }
 ],
 "metadata": {
  "kernelspec": {
   "display_name": "Python 3",
   "language": "python",
   "name": "python3"
  },
  "language_info": {
   "codemirror_mode": {
    "name": "ipython",
    "version": 3
   },
   "file_extension": ".py",
   "mimetype": "text/x-python",
   "name": "python",
   "nbconvert_exporter": "python",
   "pygments_lexer": "ipython3",
   "version": "3.6.7"
  }
 },
 "nbformat": 4,
 "nbformat_minor": 2
}
