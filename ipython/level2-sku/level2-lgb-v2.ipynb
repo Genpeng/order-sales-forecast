{
 "cells": [
  {
   "cell_type": "markdown",
   "metadata": {},
   "source": [
    "**问题**：\n",
    "1. 按月进行统计的话，提货、分销、库存的数值很大，只要拟合不准，误差将是巨大的\n",
    "2. 库存数据2018年只有每个月月底的库存量"
   ]
  },
  {
   "cell_type": "code",
   "execution_count": 1,
   "metadata": {},
   "outputs": [],
   "source": [
    "import gc\n",
    "import numpy as np\n",
    "import pandas as pd\n",
    "import lightgbm as lgb\n",
    "from time import time\n",
    "from datetime import date\n",
    "from sklearn.metrics import mean_squared_error\n",
    "from sklearn.preprocessing import LabelEncoder, OneHotEncoder\n",
    "\n",
    "import matplotlib.pyplot as plt\n",
    "%matplotlib inline"
   ]
  },
  {
   "cell_type": "code",
   "execution_count": 2,
   "metadata": {},
   "outputs": [],
   "source": [
    "pd.set_option('display.max_columns', 1000)"
   ]
  },
  {
   "cell_type": "markdown",
   "metadata": {},
   "source": [
    "# 1 数据预处理"
   ]
  },
  {
   "cell_type": "code",
   "execution_count": 3,
   "metadata": {},
   "outputs": [],
   "source": [
    "# 载入数据\n",
    "order = pd.read_csv(\"../../data/level2/m111-sku-order.csv\", sep=',', parse_dates=['order_date'])\n",
    "dis = pd.read_csv(\"../../data/level2/m111-sku-dis.csv\", sep=',', parse_dates=['dis_date'])\n",
    "inv = pd.read_csv(\n",
    "    \"../../data/level2/m111-sku-inv.csv\", sep=',', parse_dates=['period_wid']\n",
    ").rename(columns={'period_wid': 'inv_date'})\n",
    "category = pd.read_csv(\n",
    "    \"../../data/level2/item2category-from-3.csv\", sep=','\n",
    ").rename(columns={'sales_segment1_code': 'category'})"
   ]
  },
  {
   "cell_type": "code",
   "execution_count": 4,
   "metadata": {},
   "outputs": [],
   "source": [
    "# 考虑的品类有：消毒柜、洗碗机、烟机、灶具、电热、净水机、燃热、饮水机\n",
    "cates_considered = ['CRXDG', 'CRXWJ', 'CRYJ', 'CRZJ', 'DR', 'JSJ', 'RR', 'YSJ']"
   ]
  },
  {
   "cell_type": "markdown",
   "metadata": {},
   "source": [
    "## 1.1 处理订单数据"
   ]
  },
  {
   "cell_type": "code",
   "execution_count": 5,
   "metadata": {},
   "outputs": [],
   "source": [
    "# 取2017年至2018年区间中的数据（2019/03/01取数有164945条记录）\n",
    "order = order.loc[(order.order_date >= '2017-01-01') & (order.order_date <= '2018-12-31')]"
   ]
  },
  {
   "cell_type": "code",
   "execution_count": 6,
   "metadata": {},
   "outputs": [],
   "source": [
    "# 删除其他品类的数据（剩余记录数为161064）\n",
    "order = order.join(category.set_index('item_code'), on='item_code', how='left')\n",
    "order = order.loc[order.category.isin(cates_considered)]"
   ]
  },
  {
   "cell_type": "code",
   "execution_count": 7,
   "metadata": {},
   "outputs": [],
   "source": [
    "# 划分数据集\n",
    "df_test = order.loc[order.order_date >= '2018-11-01']  # 测试集\n",
    "order = order.loc[order.order_date <= '2018-10-31']  # 训练和验证集"
   ]
  },
  {
   "cell_type": "code",
   "execution_count": 8,
   "metadata": {},
   "outputs": [],
   "source": [
    "df_test['month'] = df_test.order_date.astype('str').apply(lambda x: x[:7])\n",
    "df_test = df_test.groupby(['item_code', 'month'])[['qty']].sum()"
   ]
  },
  {
   "cell_type": "code",
   "execution_count": 9,
   "metadata": {},
   "outputs": [],
   "source": [
    "# 每个产品每个月的提货量\n",
    "order_month = order.copy()\n",
    "order_month['month'] = order_month.order_date.astype('str').apply(lambda x: x[:7])\n",
    "order_month = order_month.groupby(['item_code', 'month'])[['qty']].sum()"
   ]
  },
  {
   "cell_type": "code",
   "execution_count": 10,
   "metadata": {},
   "outputs": [],
   "source": [
    "# 取对数\n",
    "order_month['qty'] = np.log1p(order_month.qty)"
   ]
  },
  {
   "cell_type": "code",
   "execution_count": 11,
   "metadata": {},
   "outputs": [],
   "source": [
    "order_month = order_month.unstack(level=-1).fillna(0)\n",
    "order_month.columns = pd.date_range('2017-01-31', '2018-10-31', freq='M')"
   ]
  },
  {
   "cell_type": "markdown",
   "metadata": {},
   "source": [
    "## 1.2 处理分销数据"
   ]
  },
  {
   "cell_type": "code",
   "execution_count": 12,
   "metadata": {},
   "outputs": [],
   "source": [
    "# 取2017年至2018年区间中的数据（分销数据从2017年6月开始才可用，记录数为358247）\n",
    "dis = dis.loc[(dis.dis_date >= '2017-06-01') & (dis.dis_date <= '2018-10-31')]"
   ]
  },
  {
   "cell_type": "code",
   "execution_count": 13,
   "metadata": {},
   "outputs": [],
   "source": [
    "# 删除其他品类的数据（剩余记录数为343637）\n",
    "dis = dis.join(category.set_index('item_code'), on='item_code', how='left')\n",
    "dis = dis.loc[dis.category.isin(cates_considered)]"
   ]
  },
  {
   "cell_type": "code",
   "execution_count": 14,
   "metadata": {},
   "outputs": [],
   "source": [
    "# 处理分销量为负数的情况，其中负数记录数为8766（备注：负数是有意义的，存在退货的情况）\n",
    "# dis['qty'] = dis.qty.apply(lambda x: -x if x < 0 else x)\n",
    "# dis = dis.loc[~(dis.qty < 0)]"
   ]
  },
  {
   "cell_type": "code",
   "execution_count": 15,
   "metadata": {},
   "outputs": [],
   "source": [
    "# 每个产品每个月的分销量\n",
    "dis_month = dis.copy()\n",
    "dis_month['month'] = dis_month.dis_date.astype('str').apply(lambda x: x[:7])\n",
    "dis_month = dis_month.groupby(['item_code', 'month'])[['qty']].sum()"
   ]
  },
  {
   "cell_type": "code",
   "execution_count": 16,
   "metadata": {},
   "outputs": [],
   "source": [
    "# 删除分销为负数的记录\n",
    "dis_month = dis_month.loc[~(dis_month.qty < 0)]"
   ]
  },
  {
   "cell_type": "code",
   "execution_count": 17,
   "metadata": {},
   "outputs": [],
   "source": [
    "# 取对数\n",
    "dis_month['qty'] = np.log1p(dis_month.qty)"
   ]
  },
  {
   "cell_type": "code",
   "execution_count": 18,
   "metadata": {},
   "outputs": [],
   "source": [
    "dis_month = dis_month.unstack(level=-1).fillna(0)\n",
    "dis_month.columns = pd.date_range('2017-06-30', '2018-10-31', freq='M')"
   ]
  },
  {
   "cell_type": "code",
   "execution_count": 19,
   "metadata": {},
   "outputs": [],
   "source": [
    "dis_month = dis_month.reindex(order_month.index).fillna(0)"
   ]
  },
  {
   "cell_type": "markdown",
   "metadata": {},
   "source": [
    "## 1.3 处理库存数据"
   ]
  },
  {
   "cell_type": "code",
   "execution_count": 20,
   "metadata": {},
   "outputs": [],
   "source": [
    "# 取2017年至2018年区间中的数据（库存数据从2017年12月开始可用，记录数为138437）\n",
    "inv = inv.loc[(inv.inv_date >= '2017-12-01') & (inv.inv_date <= '2018-10-31')]"
   ]
  },
  {
   "cell_type": "code",
   "execution_count": 21,
   "metadata": {},
   "outputs": [],
   "source": [
    "# 删除其他品类的数据（剩余记录数为121249）\n",
    "inv = inv.join(category.set_index('item_code'), on='item_code', how='left')\n",
    "inv = inv.loc[inv.category.isin(cates_considered)]"
   ]
  },
  {
   "cell_type": "code",
   "execution_count": 22,
   "metadata": {},
   "outputs": [],
   "source": [
    "# 取每月的最后一天作为当月的库存（剩余记录数为33698）\n",
    "inv_lastday = inv.loc[inv.inv_date.isin(pd.date_range('2017-12-31', '2018-10-31', freq='M'))]"
   ]
  },
  {
   "cell_type": "code",
   "execution_count": 23,
   "metadata": {},
   "outputs": [],
   "source": [
    "# 每个产品每月的库存量\n",
    "inv_month = inv_lastday.copy()\n",
    "inv_month['month'] = inv_month.inv_date.astype('str').apply(lambda x: x[:7])\n",
    "inv_month = inv_month.groupby(['item_code', 'month'])[['qty']].sum()"
   ]
  },
  {
   "cell_type": "code",
   "execution_count": 24,
   "metadata": {},
   "outputs": [],
   "source": [
    "# 删除库存为负数的记录\n",
    "inv_month = inv_month.loc[~(inv_month.qty < 0)]"
   ]
  },
  {
   "cell_type": "code",
   "execution_count": 25,
   "metadata": {},
   "outputs": [],
   "source": [
    "# 取对数\n",
    "inv_month['qty'] = np.log1p(inv_month.qty)"
   ]
  },
  {
   "cell_type": "code",
   "execution_count": 26,
   "metadata": {},
   "outputs": [],
   "source": [
    "inv_month = inv_month.unstack(level=-1).fillna(0)\n",
    "inv_month.columns = pd.date_range('2017-12-31', '2018-10-31', freq='M')"
   ]
  },
  {
   "cell_type": "code",
   "execution_count": 27,
   "metadata": {},
   "outputs": [],
   "source": [
    "inv_month = inv_month.reindex(order_month.index).fillna(0)"
   ]
  },
  {
   "cell_type": "markdown",
   "metadata": {},
   "source": [
    "## 1.4 处理品类信息"
   ]
  },
  {
   "cell_type": "code",
   "execution_count": 28,
   "metadata": {},
   "outputs": [],
   "source": [
    "category = category.set_index('item_code').reindex(order_month.index)"
   ]
  },
  {
   "cell_type": "code",
   "execution_count": 29,
   "metadata": {},
   "outputs": [],
   "source": [
    "label_enc = LabelEncoder()\n",
    "category['category'] = label_enc.fit_transform(category.category)"
   ]
  },
  {
   "cell_type": "code",
   "execution_count": 30,
   "metadata": {},
   "outputs": [],
   "source": [
    "# onehot_enc = OneHotEncoder()\n",
    "# category_onehot = onehot_enc.fit_transform(category).toarray()  # 不调用toarray方法前的结果是csr_matrix对象"
   ]
  },
  {
   "cell_type": "markdown",
   "metadata": {},
   "source": [
    "## 1.5 得到每个品类每个月的提货数据"
   ]
  },
  {
   "cell_type": "code",
   "execution_count": 31,
   "metadata": {},
   "outputs": [],
   "source": [
    "order_cate_month = order_month.reset_index()\n",
    "order_cate_month['category'] = category.category.values\n",
    "order_cate_month = order_cate_month.groupby('category')[order_month.columns].sum()"
   ]
  },
  {
   "cell_type": "markdown",
   "metadata": {},
   "source": [
    "## 1.6 得到每个品类每个月的分销数据"
   ]
  },
  {
   "cell_type": "code",
   "execution_count": 32,
   "metadata": {},
   "outputs": [],
   "source": [
    "dis_cate_month = dis_month.reset_index()\n",
    "dis_cate_month['category'] = category['category'].values\n",
    "dis_cate_month = dis_cate_month.groupby('category')[dis_month.columns].sum()"
   ]
  },
  {
   "cell_type": "markdown",
   "metadata": {},
   "source": [
    "## 1.7 得到每个品类每个月的库存数据"
   ]
  },
  {
   "cell_type": "code",
   "execution_count": 33,
   "metadata": {},
   "outputs": [],
   "source": [
    "inv_cate_month = inv_month.reset_index()\n",
    "inv_cate_month['category'] = category['category'].values\n",
    "inv_cate_month = inv_cate_month.groupby('category')[inv_month.columns].sum()"
   ]
  },
  {
   "cell_type": "markdown",
   "metadata": {},
   "source": [
    "# 2 特征工程"
   ]
  },
  {
   "cell_type": "code",
   "execution_count": 34,
   "metadata": {},
   "outputs": [],
   "source": [
    "def prepare_dataset(order, dis, inv, year, month, is_train=True, name_prefix=None):\n",
    "    X = {}\n",
    "    \n",
    "    # 提货的统计特征（28个特征）\n",
    "#     for i in [3, 6, 9, 12]:\n",
    "#         dt = date(year, month, 1)\n",
    "#         tmp = order[pd.date_range(end=dt, periods=i, freq='M')]  # 前i个月提货量\n",
    "#         X['ord_diff_mean_pre_%s' % i] = tmp.diff(axis=1).mean(axis=1).values  # 前i个月提货量的平均一阶差分\n",
    "#         X['ord_sum_decay_pre_%s' % i] = (tmp * np.power(0.9, np.arange(i)[::-1])).sum(axis=1).values  # 前i个月提货量的和（带衰减）\n",
    "#         X['ord_mean_pre_%s' % i] = tmp.mean(axis=1).values  # 前i个月提货量的平均值\n",
    "#         X['ord_median_pre_%s' % i] = tmp.median(axis=1).values  # 前i个月提货量的中位数\n",
    "#         X['ord_max_pre_%s' % i] = tmp.max(axis=1).values  # 前i个月提货量的最大值\n",
    "#         X['ord_min_pre_%s' % i] = tmp.min(axis=1).values  # 前i个月提货量的最小值\n",
    "#         X['ord_std_pre_%s' % i] = tmp.std(axis=1).values  # 前i个月提货量的标准差\n",
    "\n",
    "    # 提货的统计特征\n",
    "    for i in [3]:\n",
    "        dt = date(year, month, 1)\n",
    "        tmp = order[pd.date_range(end=dt, periods=i, freq='M')]  # 前i个月提货量\n",
    "        X['ord_diff_mean_pre_%s' % i] = tmp.diff(axis=1).mean(axis=1).values  # 前i个月提货量的平均一阶差分\n",
    "        X['ord_sum_decay_pre_%s' % i] = (tmp * np.power(0.9, np.arange(i)[::-1])).sum(axis=1).values  # 前i个月提货量的和（带衰减）\n",
    "        X['ord_mean_pre_%s' % i] = tmp.mean(axis=1).values  # 前i个月提货量的平均值\n",
    "        X['ord_median_pre_%s' % i] = tmp.median(axis=1).values  # 前i个月提货量的中位数\n",
    "        X['ord_max_pre_%s' % i] = tmp.max(axis=1).values  # 前i个月提货量的最大值\n",
    "        X['ord_min_pre_%s' % i] = tmp.min(axis=1).values  # 前i个月提货量的最小值\n",
    "        X['ord_std_pre_%s' % i] = tmp.std(axis=1).values  # 前i个月提货量的标准差\n",
    "        \n",
    "    # 分销的统计特征（21个特征）>_<|||\n",
    "#     for i in [3, 6, 9]:\n",
    "#         dt = date(year, month, 1)\n",
    "#         tmp = dis[pd.date_range(end=dt, periods=i, freq='M')]  # 前i个月分销量\n",
    "#         X['dis_diff_mean_pre_%s' % i] = tmp.diff(axis=1).mean(axis=1).values  # 前i个月分销量的平均一阶差分\n",
    "#         X['dis_sum_decay_pre_%s' % i] = (tmp * np.power(0.9, np.arange(i)[::-1])).sum(axis=1).values  # 前i个月分销量的和（带衰减）\n",
    "#         X['dis_mean_pre_%s' % i] = tmp.mean(axis=1).values  # 前i个月分销量的均值\n",
    "#         X['dis_median_pre_%s' % i] = tmp.median(axis=1).values  # 前i个月分销量的中位数\n",
    "#         X['dis_max_pre_%s' % i] = tmp.max(axis=1).values  # 前i个月分销量的最大值\n",
    "#         X['dis_min_pre_%s' % i] = tmp.min(axis=1).values  # 前i个月分销量的最小值\n",
    "#         X['dis_std_pre_%s' % i] = tmp.std(axis=1).values  # 前i个月分销量的标准差\n",
    "\n",
    "    # 分销的统计特征\n",
    "    for i in [3]:\n",
    "        dt = date(year, month, 1)\n",
    "        tmp = dis[pd.date_range(end=dt, periods=i, freq='M')]  # 前i个月分销量\n",
    "        X['dis_diff_mean_pre_%s' % i] = tmp.diff(axis=1).mean(axis=1).values  # 前i个月分销量的平均一阶差分\n",
    "        X['dis_sum_decay_pre_%s' % i] = (tmp * np.power(0.9, np.arange(i)[::-1])).sum(axis=1).values  # 前i个月分销量的和（带衰减）\n",
    "        X['dis_mean_pre_%s' % i] = tmp.mean(axis=1).values  # 前i个月分销量的均值\n",
    "        X['dis_median_pre_%s' % i] = tmp.median(axis=1).values  # 前i个月分销量的中位数\n",
    "        X['dis_max_pre_%s' % i] = tmp.max(axis=1).values  # 前i个月分销量的最大值\n",
    "        X['dis_min_pre_%s' % i] = tmp.min(axis=1).values  # 前i个月分销量的最小值\n",
    "        X['dis_std_pre_%s' % i] = tmp.std(axis=1).values  # 前i个月分销量的标准差\n",
    "        \n",
    "    # 库存的统计特征（14个）>_<|||\n",
    "#     for i in [3, 6]:\n",
    "#         dt = date(year, month, 1)\n",
    "#         tmp = inv[pd.date_range(end=dt, periods=i, freq='M')]  # 前i个月库存量\n",
    "#         X['inv_diff_mean_pre_%s' % i] = tmp.diff(axis=1).mean(axis=1).values  # 前i个月库存量的平均一阶差分\n",
    "#         X['inv_sum_decay_pre_%s' % i] = (tmp * np.power(0.9, np.arange(i)[::-1])).sum(axis=1).values  # 前i个月库存量的和（带衰减）\n",
    "#         X['inv_mean_pre_%s' % i] = tmp.mean(axis=1).values  # 前i个月库存量的均值\n",
    "#         X['inv_median_pre_%s' % i] = tmp.median(axis=1).values  # 前i个月库存量的中位数\n",
    "#         X['inv_max_pre_%s' % i] = tmp.max(axis=1).values  # 前i个月库存量的最大值\n",
    "#         X['inv_min_pre_%s' % i] = tmp.min(axis=1).values  # 前i个月库存量的最小值\n",
    "#         X['inv_std_pre_%s' % i] = tmp.std(axis=1).values  # 前i个月库存量的标准差\n",
    "        \n",
    "    # 提货天数特征（12个特征）\n",
    "#     for i in [3, 6, 9, 12]:\n",
    "#         dt = date(year, month, 1)\n",
    "#         tmp = order[pd.date_range(end=dt, periods=i, freq='M')]\n",
    "#         X['has_ord_pre_%s' % i] = (tmp > 0).sum(axis=1).values  # 前i个月有提货的天数\n",
    "#         X['last_ord_pre_%s' % i] = i - ((tmp > 0) * np.arange(i)).max(axis=1).values  # 前i个月距离上一次有提货的天数\n",
    "#         X['first_ord_pre_%s' % i] = ((tmp > 0) * np.arange(i, 0, -1)).max(axis=1).values  # 前i个月距离第一次有提货的天数\n",
    "        \n",
    "    # 分销天数特征（9个特征）>_<|||\n",
    "#     for i in [3, 6, 9]:\n",
    "#         dt = date(year, month, 1)\n",
    "#         tmp = dis[pd.date_range(end=dt, periods=i, freq='M')]\n",
    "#         X['has_dis_pre_%s' % i] = (tmp > 0).sum(axis=1).values  # 前i个月有分销的天数\n",
    "#         X['last_dis_pre_%s' % i] = i - ((tmp > 0) * np.arange(i)).max(axis=1).values  # 前i个月距离上一次有分销的天数\n",
    "#         X['first_dis_pre_%s' % i] = ((tmp > 0) * np.arange(i, 0, -1)).max(axis=1).values  # 前i个月距离第一次有分销的天数\n",
    "        \n",
    "    # 库存天数特征（6个特征）>_<|||\n",
    "#     for i in [3, 6]:\n",
    "#         dt = date(year, month, 1)\n",
    "#         tmp = inv[pd.date_range(end=dt, periods=i, freq='M')]\n",
    "#         X['has_inv_pre_%s' % i] = (tmp > 0).sum(axis=1).values  # 前i个月有库存的天数\n",
    "#         X['last_inv_pre_%s' % i] = i - ((tmp > 0) * np.arange(i)).max(axis=1).values  # 前i个月距离上一次有库存的天数\n",
    "#         X['first_inv_pre_%s' % i] = ((tmp > 0) * np.arange(i, 0, -1)).max(axis=1).values  # 前i个月距离第一次有库存的天数\n",
    "        \n",
    "    # 前12个月的提货量\n",
    "#     for i in range(1, 13):\n",
    "#         if month - i <= 0:\n",
    "#             start_dt = date(year - 1, month + 12 - i, 1)\n",
    "#         else:\n",
    "#             start_dt = date(year, month - i, 1)\n",
    "#         X['ord_pre_%s' % i] = order[pd.date_range(start_dt, periods=1, freq='M')].values.ravel()\n",
    "\n",
    "    # 前3个月的提货量\n",
    "    for i in range(1, 4):\n",
    "        if month - i <= 0:\n",
    "            start_dt = date(year - 1, month + 12 - i, 1)\n",
    "        else:\n",
    "            start_dt = date(year, month - i, 1)\n",
    "        X['ord_pre_%s' % i] = order[pd.date_range(start_dt, periods=1, freq='M')].values.ravel()\n",
    "        \n",
    "    # 前9个月的分销量>_<|||\n",
    "#     for i in range(1, 10):\n",
    "#         if month - i <= 0:\n",
    "#             start_dt = date(year - 1, month + 12 - i, 1)\n",
    "#         else:\n",
    "#             start_dt = date(year, month - i, 1)\n",
    "#         X['dis_pre_%s' % i] = dis[pd.date_range(start_dt, periods=1, freq='M')].values.ravel()\n",
    "\n",
    "    # 前3个月分销量\n",
    "    for i in range(1, 4):\n",
    "        if month - i <= 0:\n",
    "            start_dt = date(year - 1, month + 12 - i, 1)\n",
    "        else:\n",
    "            start_dt = date(year, month - i, 1)\n",
    "        X['dis_pre_%s' % i] = dis[pd.date_range(start_dt, periods=1, freq='M')].values.ravel()\n",
    "       \n",
    "    # 前6个月的库存量>_<|||\n",
    "#     for i in range(1, 7):\n",
    "#         if month - i <= 0:\n",
    "#             start_dt = date(year - 1, month + 12 - i, 1)\n",
    "#         else:\n",
    "#             start_dt = date(year, month - i, 1)\n",
    "#         X['inv_pre_%s' % i] = inv[pd.date_range(start_dt, periods=1, freq='M')].values.ravel()\n",
    "        \n",
    "    X = pd.DataFrame(X)\n",
    "    \n",
    "    if is_train:\n",
    "        start_dt = date(year, month, 1)\n",
    "        y = order[pd.date_range(start_dt, periods=2, freq='M')].values\n",
    "        return X, y\n",
    "    \n",
    "    if name_prefix is not None:\n",
    "        X.columns = ['%s_%s' % (name_prefix, c) for c in X.columns]\n",
    "        \n",
    "    return X"
   ]
  },
  {
   "cell_type": "code",
   "execution_count": 35,
   "metadata": {},
   "outputs": [],
   "source": [
    "def get_pre_10_days(order, dis, inv, index, year, month):\n",
    "    X = {} \n",
    "    start_dt, end_dt = date(year, month, 1), date(year, month, 10)\n",
    "    \n",
    "    # 每个产品M月前10天的提货量\n",
    "    ord_tmp = order.loc[order.order_date.isin(pd.date_range(start_dt, end_dt, freq='D'))]\n",
    "    ord_tmp = ord_tmp.groupby('item_code')[['qty']].sum()\n",
    "    ord_tmp = ord_tmp.reindex(index).fillna(0)\n",
    "    ord_tmp['qty'] = ord_tmp.qty.apply(lambda x: np.log1p(x) if x > 0 else 0)\n",
    "    X['ord_pre_10_days'] = ord_tmp.values.ravel()\n",
    "    \n",
    "    # 每个产品M月前10天的分销量\n",
    "    dis_tmp = dis.loc[dis.dis_date.isin(pd.date_range(start_dt, end_dt, freq='D'))]\n",
    "    dis_tmp = dis_tmp.groupby('item_code')[['qty']].sum()\n",
    "    dis_tmp = dis_tmp.reindex(index).fillna(0)\n",
    "    dis_tmp['qty'] = dis_tmp.qty.apply(lambda x: np.log1p(x) if x > 0 else 0)\n",
    "    X['dis_pre_10_days'] = dis_tmp.values.ravel()\n",
    "    \n",
    "    # 每个产品M月前10天的库存\n",
    "#     inv_tmp = inv.loc[inv.inv_date.isin(pd.date_range(end=end_dt, periods=1, freq='D'))]\n",
    "#     inv_tmp = inv_tmp.groupby('item_code')[['qty']].sum()\n",
    "#     inv_tmp = inv_tmp.reindex(index).fillna(0)\n",
    "#     inv_tmp['qty'] = inv_tmp.qty.apply(lambda x: np.log1p(x) if x > 0 else 0)\n",
    "#     X['inv_pre_10_days'] = inv_tmp.values.ravel()\n",
    "    \n",
    "    X = pd.DataFrame(X)\n",
    "    \n",
    "    return X"
   ]
  },
  {
   "cell_type": "markdown",
   "metadata": {},
   "source": [
    "## 2.1 准备训练集"
   ]
  },
  {
   "cell_type": "code",
   "execution_count": 36,
   "metadata": {},
   "outputs": [],
   "source": [
    "train_month = [ \n",
    "#     '2017-05', \n",
    "#     '2017-06', \n",
    "#     '2017-07', \n",
    "#     '2017-08', \n",
    "    '2017-09', \n",
    "    '2017-10', \n",
    "    '2017-11', \n",
    "    '2017-12', \n",
    "    '2018-01', \n",
    "    '2018-03', \n",
    "    '2018-04', \n",
    "    '2018-05', \n",
    "    '2018-06', \n",
    "    '2018-07'\n",
    "]\n",
    "\n",
    "X_l, y_l = [], []\n",
    "for month in train_month:\n",
    "    y, m = int(month.split('-')[0]), int(month.split('-')[1])\n",
    "    \n",
    "    pre_10_days = get_pre_10_days(order, dis, inv, order_month.index, y, m)\n",
    "    \n",
    "    X_tmp, y_tmp = prepare_dataset(order_month, dis_month, inv_month, y, m)\n",
    "    \n",
    "#     X_tmp2 = prepare_dataset(order_cate_month, dis_cate_month, inv_cate_month, y, m, is_train=False, name_prefix='cate')\n",
    "#     X_tmp2.index = order_cate_month.index\n",
    "#     X_tmp2 = X_tmp2.reindex(category.category).reset_index(drop=True)\n",
    "    \n",
    "#     X_tmp = pd.concat([X_tmp, X_tmp2, category.reset_index(drop=True)], axis=1)\n",
    "    X_tmp = pd.concat([X_tmp, pre_10_days, category.reset_index(drop=True)], axis=1)\n",
    "    X_tmp['pred_month'] = m\n",
    "    X_l.append(X_tmp)\n",
    "    y_l.append(y_tmp)\n",
    "    \n",
    "#     del X_tmp, y_tmp, X_tmp2\n",
    "    del X_tmp, y_tmp\n",
    "    gc.collect()\n",
    "    \n",
    "X_train = pd.concat(X_l, axis=0)\n",
    "y_train = np.concatenate(y_l, axis=0)"
   ]
  },
  {
   "cell_type": "code",
   "execution_count": 37,
   "metadata": {},
   "outputs": [
    {
     "data": {
      "text/html": [
       "<div>\n",
       "<style scoped>\n",
       "    .dataframe tbody tr th:only-of-type {\n",
       "        vertical-align: middle;\n",
       "    }\n",
       "\n",
       "    .dataframe tbody tr th {\n",
       "        vertical-align: top;\n",
       "    }\n",
       "\n",
       "    .dataframe thead th {\n",
       "        text-align: right;\n",
       "    }\n",
       "</style>\n",
       "<table border=\"1\" class=\"dataframe\">\n",
       "  <thead>\n",
       "    <tr style=\"text-align: right;\">\n",
       "      <th></th>\n",
       "      <th>dis_diff_mean_pre_3</th>\n",
       "      <th>dis_max_pre_3</th>\n",
       "      <th>dis_mean_pre_3</th>\n",
       "      <th>dis_median_pre_3</th>\n",
       "      <th>dis_min_pre_3</th>\n",
       "      <th>dis_pre_1</th>\n",
       "      <th>dis_pre_2</th>\n",
       "      <th>dis_pre_3</th>\n",
       "      <th>dis_std_pre_3</th>\n",
       "      <th>dis_sum_decay_pre_3</th>\n",
       "      <th>ord_diff_mean_pre_3</th>\n",
       "      <th>ord_max_pre_3</th>\n",
       "      <th>ord_mean_pre_3</th>\n",
       "      <th>ord_median_pre_3</th>\n",
       "      <th>ord_min_pre_3</th>\n",
       "      <th>ord_pre_1</th>\n",
       "      <th>ord_pre_2</th>\n",
       "      <th>ord_pre_3</th>\n",
       "      <th>ord_std_pre_3</th>\n",
       "      <th>ord_sum_decay_pre_3</th>\n",
       "      <th>dis_pre_10_days</th>\n",
       "      <th>ord_pre_10_days</th>\n",
       "      <th>category</th>\n",
       "      <th>pred_month</th>\n",
       "    </tr>\n",
       "  </thead>\n",
       "  <tbody>\n",
       "    <tr>\n",
       "      <th>0</th>\n",
       "      <td>0.000000</td>\n",
       "      <td>0.000000</td>\n",
       "      <td>0.000000</td>\n",
       "      <td>0.000000</td>\n",
       "      <td>0.000000</td>\n",
       "      <td>0.000000</td>\n",
       "      <td>0.000000</td>\n",
       "      <td>0.000000</td>\n",
       "      <td>0.000000</td>\n",
       "      <td>0.000000</td>\n",
       "      <td>3.454377</td>\n",
       "      <td>8.412055</td>\n",
       "      <td>5.106937</td>\n",
       "      <td>6.908755</td>\n",
       "      <td>0.000000</td>\n",
       "      <td>6.908755</td>\n",
       "      <td>8.412055</td>\n",
       "      <td>0.000000</td>\n",
       "      <td>4.486154</td>\n",
       "      <td>14.479604</td>\n",
       "      <td>0.0</td>\n",
       "      <td>0.000000</td>\n",
       "      <td>5</td>\n",
       "      <td>9</td>\n",
       "    </tr>\n",
       "    <tr>\n",
       "      <th>1</th>\n",
       "      <td>0.000000</td>\n",
       "      <td>0.000000</td>\n",
       "      <td>0.000000</td>\n",
       "      <td>0.000000</td>\n",
       "      <td>0.000000</td>\n",
       "      <td>0.000000</td>\n",
       "      <td>0.000000</td>\n",
       "      <td>0.000000</td>\n",
       "      <td>0.000000</td>\n",
       "      <td>0.000000</td>\n",
       "      <td>-3.314682</td>\n",
       "      <td>6.629363</td>\n",
       "      <td>4.416923</td>\n",
       "      <td>6.621406</td>\n",
       "      <td>0.000000</td>\n",
       "      <td>0.000000</td>\n",
       "      <td>6.621406</td>\n",
       "      <td>6.629363</td>\n",
       "      <td>3.825170</td>\n",
       "      <td>11.329049</td>\n",
       "      <td>0.0</td>\n",
       "      <td>5.771441</td>\n",
       "      <td>2</td>\n",
       "      <td>9</td>\n",
       "    </tr>\n",
       "    <tr>\n",
       "      <th>2</th>\n",
       "      <td>0.000000</td>\n",
       "      <td>0.000000</td>\n",
       "      <td>0.000000</td>\n",
       "      <td>0.000000</td>\n",
       "      <td>0.000000</td>\n",
       "      <td>0.000000</td>\n",
       "      <td>0.000000</td>\n",
       "      <td>0.000000</td>\n",
       "      <td>0.000000</td>\n",
       "      <td>0.000000</td>\n",
       "      <td>-3.524193</td>\n",
       "      <td>7.048386</td>\n",
       "      <td>4.617297</td>\n",
       "      <td>6.803505</td>\n",
       "      <td>0.000000</td>\n",
       "      <td>0.000000</td>\n",
       "      <td>6.803505</td>\n",
       "      <td>7.048386</td>\n",
       "      <td>4.000571</td>\n",
       "      <td>11.832348</td>\n",
       "      <td>0.0</td>\n",
       "      <td>0.000000</td>\n",
       "      <td>2</td>\n",
       "      <td>9</td>\n",
       "    </tr>\n",
       "    <tr>\n",
       "      <th>3</th>\n",
       "      <td>-3.697247</td>\n",
       "      <td>8.366835</td>\n",
       "      <td>5.253776</td>\n",
       "      <td>7.394493</td>\n",
       "      <td>0.000000</td>\n",
       "      <td>0.000000</td>\n",
       "      <td>8.366835</td>\n",
       "      <td>7.394493</td>\n",
       "      <td>4.575804</td>\n",
       "      <td>13.519691</td>\n",
       "      <td>-0.214463</td>\n",
       "      <td>9.016391</td>\n",
       "      <td>8.835211</td>\n",
       "      <td>8.901775</td>\n",
       "      <td>8.587465</td>\n",
       "      <td>8.587465</td>\n",
       "      <td>8.901775</td>\n",
       "      <td>9.016391</td>\n",
       "      <td>0.222076</td>\n",
       "      <td>23.902340</td>\n",
       "      <td>0.0</td>\n",
       "      <td>8.435766</td>\n",
       "      <td>2</td>\n",
       "      <td>9</td>\n",
       "    </tr>\n",
       "    <tr>\n",
       "      <th>4</th>\n",
       "      <td>0.608198</td>\n",
       "      <td>4.369448</td>\n",
       "      <td>3.248242</td>\n",
       "      <td>3.295837</td>\n",
       "      <td>2.079442</td>\n",
       "      <td>3.295837</td>\n",
       "      <td>4.369448</td>\n",
       "      <td>2.079442</td>\n",
       "      <td>1.145745</td>\n",
       "      <td>8.912688</td>\n",
       "      <td>-2.944439</td>\n",
       "      <td>5.888878</td>\n",
       "      <td>2.762258</td>\n",
       "      <td>2.397895</td>\n",
       "      <td>0.000000</td>\n",
       "      <td>0.000000</td>\n",
       "      <td>2.397895</td>\n",
       "      <td>5.888878</td>\n",
       "      <td>2.961299</td>\n",
       "      <td>6.928097</td>\n",
       "      <td>0.0</td>\n",
       "      <td>0.000000</td>\n",
       "      <td>2</td>\n",
       "      <td>9</td>\n",
       "    </tr>\n",
       "  </tbody>\n",
       "</table>\n",
       "</div>"
      ],
      "text/plain": [
       "   dis_diff_mean_pre_3  dis_max_pre_3  dis_mean_pre_3  dis_median_pre_3  \\\n",
       "0             0.000000       0.000000        0.000000          0.000000   \n",
       "1             0.000000       0.000000        0.000000          0.000000   \n",
       "2             0.000000       0.000000        0.000000          0.000000   \n",
       "3            -3.697247       8.366835        5.253776          7.394493   \n",
       "4             0.608198       4.369448        3.248242          3.295837   \n",
       "\n",
       "   dis_min_pre_3  dis_pre_1  dis_pre_2  dis_pre_3  dis_std_pre_3  \\\n",
       "0       0.000000   0.000000   0.000000   0.000000       0.000000   \n",
       "1       0.000000   0.000000   0.000000   0.000000       0.000000   \n",
       "2       0.000000   0.000000   0.000000   0.000000       0.000000   \n",
       "3       0.000000   0.000000   8.366835   7.394493       4.575804   \n",
       "4       2.079442   3.295837   4.369448   2.079442       1.145745   \n",
       "\n",
       "   dis_sum_decay_pre_3  ord_diff_mean_pre_3  ord_max_pre_3  ord_mean_pre_3  \\\n",
       "0             0.000000             3.454377       8.412055        5.106937   \n",
       "1             0.000000            -3.314682       6.629363        4.416923   \n",
       "2             0.000000            -3.524193       7.048386        4.617297   \n",
       "3            13.519691            -0.214463       9.016391        8.835211   \n",
       "4             8.912688            -2.944439       5.888878        2.762258   \n",
       "\n",
       "   ord_median_pre_3  ord_min_pre_3  ord_pre_1  ord_pre_2  ord_pre_3  \\\n",
       "0          6.908755       0.000000   6.908755   8.412055   0.000000   \n",
       "1          6.621406       0.000000   0.000000   6.621406   6.629363   \n",
       "2          6.803505       0.000000   0.000000   6.803505   7.048386   \n",
       "3          8.901775       8.587465   8.587465   8.901775   9.016391   \n",
       "4          2.397895       0.000000   0.000000   2.397895   5.888878   \n",
       "\n",
       "   ord_std_pre_3  ord_sum_decay_pre_3  dis_pre_10_days  ord_pre_10_days  \\\n",
       "0       4.486154            14.479604              0.0         0.000000   \n",
       "1       3.825170            11.329049              0.0         5.771441   \n",
       "2       4.000571            11.832348              0.0         0.000000   \n",
       "3       0.222076            23.902340              0.0         8.435766   \n",
       "4       2.961299             6.928097              0.0         0.000000   \n",
       "\n",
       "   category  pred_month  \n",
       "0         5           9  \n",
       "1         2           9  \n",
       "2         2           9  \n",
       "3         2           9  \n",
       "4         2           9  "
      ]
     },
     "execution_count": 37,
     "metadata": {},
     "output_type": "execute_result"
    }
   ],
   "source": [
    "X_train.head()"
   ]
  },
  {
   "cell_type": "code",
   "execution_count": 38,
   "metadata": {},
   "outputs": [
    {
     "data": {
      "text/plain": [
       "(15890, 24)"
      ]
     },
     "execution_count": 38,
     "metadata": {},
     "output_type": "execute_result"
    }
   ],
   "source": [
    "X_train.shape"
   ]
  },
  {
   "cell_type": "markdown",
   "metadata": {},
   "source": [
    "## 2.2 准备验证集"
   ]
  },
  {
   "cell_type": "code",
   "execution_count": 39,
   "metadata": {},
   "outputs": [],
   "source": [
    "pre_10_days = get_pre_10_days(order, dis, inv, order_month.index, 2018, 9)\n",
    "\n",
    "X_val, y_val = prepare_dataset(order_month, dis_month, inv_month, 2018, 9)\n",
    "\n",
    "# X_val2 = prepare_dataset(order_cate_month, dis_cate_month, inv_cate_month, 2018, 9, is_train=False, name_prefix='cate')\n",
    "# X_val2.index = order_cate_month.index\n",
    "# X_val2 = X_val2.reindex(category.category).reset_index(drop=True)\n",
    "\n",
    "# X_val = pd.concat([X_val, X_val2, category.reset_index(drop=True)], axis=1)\n",
    "X_val = pd.concat([X_val, pre_10_days, category.reset_index(drop=True)], axis=1)\n",
    "X_val['pred_month'] = 9\n",
    "\n",
    "# del X_val2\n",
    "# gc.collect()"
   ]
  },
  {
   "cell_type": "code",
   "execution_count": 40,
   "metadata": {},
   "outputs": [
    {
     "data": {
      "text/html": [
       "<div>\n",
       "<style scoped>\n",
       "    .dataframe tbody tr th:only-of-type {\n",
       "        vertical-align: middle;\n",
       "    }\n",
       "\n",
       "    .dataframe tbody tr th {\n",
       "        vertical-align: top;\n",
       "    }\n",
       "\n",
       "    .dataframe thead th {\n",
       "        text-align: right;\n",
       "    }\n",
       "</style>\n",
       "<table border=\"1\" class=\"dataframe\">\n",
       "  <thead>\n",
       "    <tr style=\"text-align: right;\">\n",
       "      <th></th>\n",
       "      <th>dis_diff_mean_pre_3</th>\n",
       "      <th>dis_max_pre_3</th>\n",
       "      <th>dis_mean_pre_3</th>\n",
       "      <th>dis_median_pre_3</th>\n",
       "      <th>dis_min_pre_3</th>\n",
       "      <th>dis_pre_1</th>\n",
       "      <th>dis_pre_2</th>\n",
       "      <th>dis_pre_3</th>\n",
       "      <th>dis_std_pre_3</th>\n",
       "      <th>dis_sum_decay_pre_3</th>\n",
       "      <th>ord_diff_mean_pre_3</th>\n",
       "      <th>ord_max_pre_3</th>\n",
       "      <th>ord_mean_pre_3</th>\n",
       "      <th>ord_median_pre_3</th>\n",
       "      <th>ord_min_pre_3</th>\n",
       "      <th>ord_pre_1</th>\n",
       "      <th>ord_pre_2</th>\n",
       "      <th>ord_pre_3</th>\n",
       "      <th>ord_std_pre_3</th>\n",
       "      <th>ord_sum_decay_pre_3</th>\n",
       "      <th>dis_pre_10_days</th>\n",
       "      <th>ord_pre_10_days</th>\n",
       "      <th>category</th>\n",
       "      <th>pred_month</th>\n",
       "    </tr>\n",
       "  </thead>\n",
       "  <tbody>\n",
       "    <tr>\n",
       "      <th>0</th>\n",
       "      <td>0.000000</td>\n",
       "      <td>0.000000</td>\n",
       "      <td>0.000000</td>\n",
       "      <td>0.000000</td>\n",
       "      <td>0.000000</td>\n",
       "      <td>0.000000</td>\n",
       "      <td>0.000000</td>\n",
       "      <td>0.000000</td>\n",
       "      <td>0.000000</td>\n",
       "      <td>0.000000</td>\n",
       "      <td>0.000000</td>\n",
       "      <td>8.853808</td>\n",
       "      <td>2.951269</td>\n",
       "      <td>0.000000</td>\n",
       "      <td>0.0</td>\n",
       "      <td>0.000000</td>\n",
       "      <td>8.853808</td>\n",
       "      <td>0.000000</td>\n",
       "      <td>5.111749</td>\n",
       "      <td>7.968427</td>\n",
       "      <td>0.0</td>\n",
       "      <td>0.0</td>\n",
       "      <td>5</td>\n",
       "      <td>9</td>\n",
       "    </tr>\n",
       "    <tr>\n",
       "      <th>1</th>\n",
       "      <td>0.000000</td>\n",
       "      <td>6.216606</td>\n",
       "      <td>2.072202</td>\n",
       "      <td>0.000000</td>\n",
       "      <td>0.000000</td>\n",
       "      <td>0.000000</td>\n",
       "      <td>6.216606</td>\n",
       "      <td>0.000000</td>\n",
       "      <td>3.589159</td>\n",
       "      <td>5.594945</td>\n",
       "      <td>-3.108303</td>\n",
       "      <td>6.216606</td>\n",
       "      <td>2.072202</td>\n",
       "      <td>0.000000</td>\n",
       "      <td>0.0</td>\n",
       "      <td>0.000000</td>\n",
       "      <td>0.000000</td>\n",
       "      <td>6.216606</td>\n",
       "      <td>3.589159</td>\n",
       "      <td>5.035451</td>\n",
       "      <td>0.0</td>\n",
       "      <td>0.0</td>\n",
       "      <td>2</td>\n",
       "      <td>9</td>\n",
       "    </tr>\n",
       "    <tr>\n",
       "      <th>2</th>\n",
       "      <td>0.000000</td>\n",
       "      <td>6.216606</td>\n",
       "      <td>2.072202</td>\n",
       "      <td>0.000000</td>\n",
       "      <td>0.000000</td>\n",
       "      <td>0.000000</td>\n",
       "      <td>6.216606</td>\n",
       "      <td>0.000000</td>\n",
       "      <td>3.589159</td>\n",
       "      <td>5.594945</td>\n",
       "      <td>-3.108303</td>\n",
       "      <td>6.216606</td>\n",
       "      <td>2.072202</td>\n",
       "      <td>0.000000</td>\n",
       "      <td>0.0</td>\n",
       "      <td>0.000000</td>\n",
       "      <td>0.000000</td>\n",
       "      <td>6.216606</td>\n",
       "      <td>3.589159</td>\n",
       "      <td>5.035451</td>\n",
       "      <td>0.0</td>\n",
       "      <td>0.0</td>\n",
       "      <td>2</td>\n",
       "      <td>9</td>\n",
       "    </tr>\n",
       "    <tr>\n",
       "      <th>3</th>\n",
       "      <td>0.000000</td>\n",
       "      <td>0.000000</td>\n",
       "      <td>0.000000</td>\n",
       "      <td>0.000000</td>\n",
       "      <td>0.000000</td>\n",
       "      <td>0.000000</td>\n",
       "      <td>0.000000</td>\n",
       "      <td>0.000000</td>\n",
       "      <td>0.000000</td>\n",
       "      <td>0.000000</td>\n",
       "      <td>3.800701</td>\n",
       "      <td>8.006701</td>\n",
       "      <td>5.202701</td>\n",
       "      <td>7.601402</td>\n",
       "      <td>0.0</td>\n",
       "      <td>7.601402</td>\n",
       "      <td>8.006701</td>\n",
       "      <td>0.000000</td>\n",
       "      <td>4.510226</td>\n",
       "      <td>14.807433</td>\n",
       "      <td>0.0</td>\n",
       "      <td>0.0</td>\n",
       "      <td>2</td>\n",
       "      <td>9</td>\n",
       "    </tr>\n",
       "    <tr>\n",
       "      <th>4</th>\n",
       "      <td>-0.618381</td>\n",
       "      <td>4.127134</td>\n",
       "      <td>3.071577</td>\n",
       "      <td>2.890372</td>\n",
       "      <td>2.197225</td>\n",
       "      <td>2.890372</td>\n",
       "      <td>2.197225</td>\n",
       "      <td>4.127134</td>\n",
       "      <td>0.977632</td>\n",
       "      <td>8.210853</td>\n",
       "      <td>0.000000</td>\n",
       "      <td>0.000000</td>\n",
       "      <td>0.000000</td>\n",
       "      <td>0.000000</td>\n",
       "      <td>0.0</td>\n",
       "      <td>0.000000</td>\n",
       "      <td>0.000000</td>\n",
       "      <td>0.000000</td>\n",
       "      <td>0.000000</td>\n",
       "      <td>0.000000</td>\n",
       "      <td>0.0</td>\n",
       "      <td>0.0</td>\n",
       "      <td>2</td>\n",
       "      <td>9</td>\n",
       "    </tr>\n",
       "  </tbody>\n",
       "</table>\n",
       "</div>"
      ],
      "text/plain": [
       "   dis_diff_mean_pre_3  dis_max_pre_3  dis_mean_pre_3  dis_median_pre_3  \\\n",
       "0             0.000000       0.000000        0.000000          0.000000   \n",
       "1             0.000000       6.216606        2.072202          0.000000   \n",
       "2             0.000000       6.216606        2.072202          0.000000   \n",
       "3             0.000000       0.000000        0.000000          0.000000   \n",
       "4            -0.618381       4.127134        3.071577          2.890372   \n",
       "\n",
       "   dis_min_pre_3  dis_pre_1  dis_pre_2  dis_pre_3  dis_std_pre_3  \\\n",
       "0       0.000000   0.000000   0.000000   0.000000       0.000000   \n",
       "1       0.000000   0.000000   6.216606   0.000000       3.589159   \n",
       "2       0.000000   0.000000   6.216606   0.000000       3.589159   \n",
       "3       0.000000   0.000000   0.000000   0.000000       0.000000   \n",
       "4       2.197225   2.890372   2.197225   4.127134       0.977632   \n",
       "\n",
       "   dis_sum_decay_pre_3  ord_diff_mean_pre_3  ord_max_pre_3  ord_mean_pre_3  \\\n",
       "0             0.000000             0.000000       8.853808        2.951269   \n",
       "1             5.594945            -3.108303       6.216606        2.072202   \n",
       "2             5.594945            -3.108303       6.216606        2.072202   \n",
       "3             0.000000             3.800701       8.006701        5.202701   \n",
       "4             8.210853             0.000000       0.000000        0.000000   \n",
       "\n",
       "   ord_median_pre_3  ord_min_pre_3  ord_pre_1  ord_pre_2  ord_pre_3  \\\n",
       "0          0.000000            0.0   0.000000   8.853808   0.000000   \n",
       "1          0.000000            0.0   0.000000   0.000000   6.216606   \n",
       "2          0.000000            0.0   0.000000   0.000000   6.216606   \n",
       "3          7.601402            0.0   7.601402   8.006701   0.000000   \n",
       "4          0.000000            0.0   0.000000   0.000000   0.000000   \n",
       "\n",
       "   ord_std_pre_3  ord_sum_decay_pre_3  dis_pre_10_days  ord_pre_10_days  \\\n",
       "0       5.111749             7.968427              0.0              0.0   \n",
       "1       3.589159             5.035451              0.0              0.0   \n",
       "2       3.589159             5.035451              0.0              0.0   \n",
       "3       4.510226            14.807433              0.0              0.0   \n",
       "4       0.000000             0.000000              0.0              0.0   \n",
       "\n",
       "   category  pred_month  \n",
       "0         5           9  \n",
       "1         2           9  \n",
       "2         2           9  \n",
       "3         2           9  \n",
       "4         2           9  "
      ]
     },
     "execution_count": 40,
     "metadata": {},
     "output_type": "execute_result"
    }
   ],
   "source": [
    "X_val.head()"
   ]
  },
  {
   "cell_type": "code",
   "execution_count": 41,
   "metadata": {},
   "outputs": [
    {
     "data": {
      "text/plain": [
       "(1589, 24)"
      ]
     },
     "execution_count": 41,
     "metadata": {},
     "output_type": "execute_result"
    }
   ],
   "source": [
    "X_val.shape"
   ]
  },
  {
   "cell_type": "markdown",
   "metadata": {},
   "source": [
    "## 2.3 准备测试集"
   ]
  },
  {
   "cell_type": "code",
   "execution_count": 42,
   "metadata": {},
   "outputs": [],
   "source": [
    "pre_10_days = get_pre_10_days(order, dis, inv, order_month.index, 2018, 11)\n",
    "\n",
    "X_test = prepare_dataset(order_month, dis_month, inv_month, 2018, 11, is_train=False)\n",
    "\n",
    "# X_test2 = prepare_dataset(order_cate_month, dis_cate_month, inv_cate_month, 2018, 11, is_train=False, name_prefix='cate')\n",
    "# X_test2.index = order_cate_month.index\n",
    "# X_test2 = X_test2.reindex(category['category']).reset_index(drop=True)\n",
    "\n",
    "# X_test = pd.concat([X_test, X_test2, category.reset_index(drop=True)], axis=1)\n",
    "X_test = pd.concat([X_test, pre_10_days, category.reset_index(drop=True)], axis=1)\n",
    "X_test['pred_month'] = 11\n",
    "\n",
    "# del X_test2\n",
    "# gc.collect()"
   ]
  },
  {
   "cell_type": "code",
   "execution_count": 43,
   "metadata": {},
   "outputs": [
    {
     "data": {
      "text/html": [
       "<div>\n",
       "<style scoped>\n",
       "    .dataframe tbody tr th:only-of-type {\n",
       "        vertical-align: middle;\n",
       "    }\n",
       "\n",
       "    .dataframe tbody tr th {\n",
       "        vertical-align: top;\n",
       "    }\n",
       "\n",
       "    .dataframe thead th {\n",
       "        text-align: right;\n",
       "    }\n",
       "</style>\n",
       "<table border=\"1\" class=\"dataframe\">\n",
       "  <thead>\n",
       "    <tr style=\"text-align: right;\">\n",
       "      <th></th>\n",
       "      <th>dis_diff_mean_pre_3</th>\n",
       "      <th>dis_max_pre_3</th>\n",
       "      <th>dis_mean_pre_3</th>\n",
       "      <th>dis_median_pre_3</th>\n",
       "      <th>dis_min_pre_3</th>\n",
       "      <th>dis_pre_1</th>\n",
       "      <th>dis_pre_2</th>\n",
       "      <th>dis_pre_3</th>\n",
       "      <th>dis_std_pre_3</th>\n",
       "      <th>dis_sum_decay_pre_3</th>\n",
       "      <th>ord_diff_mean_pre_3</th>\n",
       "      <th>ord_max_pre_3</th>\n",
       "      <th>ord_mean_pre_3</th>\n",
       "      <th>ord_median_pre_3</th>\n",
       "      <th>ord_min_pre_3</th>\n",
       "      <th>ord_pre_1</th>\n",
       "      <th>ord_pre_2</th>\n",
       "      <th>ord_pre_3</th>\n",
       "      <th>ord_std_pre_3</th>\n",
       "      <th>ord_sum_decay_pre_3</th>\n",
       "      <th>dis_pre_10_days</th>\n",
       "      <th>ord_pre_10_days</th>\n",
       "      <th>category</th>\n",
       "      <th>pred_month</th>\n",
       "    </tr>\n",
       "  </thead>\n",
       "  <tbody>\n",
       "    <tr>\n",
       "      <th>0</th>\n",
       "      <td>0.000000</td>\n",
       "      <td>0.000000</td>\n",
       "      <td>0.000000</td>\n",
       "      <td>0.000000</td>\n",
       "      <td>0.0</td>\n",
       "      <td>0.000000</td>\n",
       "      <td>0.0</td>\n",
       "      <td>0.000000</td>\n",
       "      <td>0.000000</td>\n",
       "      <td>0.000000</td>\n",
       "      <td>0.0</td>\n",
       "      <td>0.000000</td>\n",
       "      <td>0.000000</td>\n",
       "      <td>0.000000</td>\n",
       "      <td>0.000000</td>\n",
       "      <td>0.000000</td>\n",
       "      <td>0.000000</td>\n",
       "      <td>0.000000</td>\n",
       "      <td>0.000000e+00</td>\n",
       "      <td>0.000000</td>\n",
       "      <td>0</td>\n",
       "      <td>0</td>\n",
       "      <td>5</td>\n",
       "      <td>11</td>\n",
       "    </tr>\n",
       "    <tr>\n",
       "      <th>1</th>\n",
       "      <td>0.000000</td>\n",
       "      <td>0.000000</td>\n",
       "      <td>0.000000</td>\n",
       "      <td>0.000000</td>\n",
       "      <td>0.0</td>\n",
       "      <td>0.000000</td>\n",
       "      <td>0.0</td>\n",
       "      <td>0.000000</td>\n",
       "      <td>0.000000</td>\n",
       "      <td>0.000000</td>\n",
       "      <td>0.0</td>\n",
       "      <td>0.000000</td>\n",
       "      <td>0.000000</td>\n",
       "      <td>0.000000</td>\n",
       "      <td>0.000000</td>\n",
       "      <td>0.000000</td>\n",
       "      <td>0.000000</td>\n",
       "      <td>0.000000</td>\n",
       "      <td>0.000000e+00</td>\n",
       "      <td>0.000000</td>\n",
       "      <td>0</td>\n",
       "      <td>0</td>\n",
       "      <td>2</td>\n",
       "      <td>11</td>\n",
       "    </tr>\n",
       "    <tr>\n",
       "      <th>2</th>\n",
       "      <td>0.000000</td>\n",
       "      <td>0.000000</td>\n",
       "      <td>0.000000</td>\n",
       "      <td>0.000000</td>\n",
       "      <td>0.0</td>\n",
       "      <td>0.000000</td>\n",
       "      <td>0.0</td>\n",
       "      <td>0.000000</td>\n",
       "      <td>0.000000</td>\n",
       "      <td>0.000000</td>\n",
       "      <td>0.0</td>\n",
       "      <td>6.398595</td>\n",
       "      <td>2.132865</td>\n",
       "      <td>0.000000</td>\n",
       "      <td>0.000000</td>\n",
       "      <td>0.000000</td>\n",
       "      <td>6.398595</td>\n",
       "      <td>0.000000</td>\n",
       "      <td>3.694231e+00</td>\n",
       "      <td>5.758735</td>\n",
       "      <td>0</td>\n",
       "      <td>0</td>\n",
       "      <td>2</td>\n",
       "      <td>11</td>\n",
       "    </tr>\n",
       "    <tr>\n",
       "      <th>3</th>\n",
       "      <td>0.000000</td>\n",
       "      <td>0.000000</td>\n",
       "      <td>0.000000</td>\n",
       "      <td>0.000000</td>\n",
       "      <td>0.0</td>\n",
       "      <td>0.000000</td>\n",
       "      <td>0.0</td>\n",
       "      <td>0.000000</td>\n",
       "      <td>0.000000</td>\n",
       "      <td>0.000000</td>\n",
       "      <td>0.0</td>\n",
       "      <td>7.601402</td>\n",
       "      <td>7.601402</td>\n",
       "      <td>7.601402</td>\n",
       "      <td>7.601402</td>\n",
       "      <td>7.601402</td>\n",
       "      <td>7.601402</td>\n",
       "      <td>7.601402</td>\n",
       "      <td>1.087792e-15</td>\n",
       "      <td>20.599800</td>\n",
       "      <td>0</td>\n",
       "      <td>0</td>\n",
       "      <td>2</td>\n",
       "      <td>11</td>\n",
       "    </tr>\n",
       "    <tr>\n",
       "      <th>4</th>\n",
       "      <td>-0.346574</td>\n",
       "      <td>2.890372</td>\n",
       "      <td>1.695865</td>\n",
       "      <td>2.197225</td>\n",
       "      <td>0.0</td>\n",
       "      <td>2.197225</td>\n",
       "      <td>0.0</td>\n",
       "      <td>2.890372</td>\n",
       "      <td>1.509001</td>\n",
       "      <td>4.538426</td>\n",
       "      <td>0.0</td>\n",
       "      <td>0.000000</td>\n",
       "      <td>0.000000</td>\n",
       "      <td>0.000000</td>\n",
       "      <td>0.000000</td>\n",
       "      <td>0.000000</td>\n",
       "      <td>0.000000</td>\n",
       "      <td>0.000000</td>\n",
       "      <td>0.000000e+00</td>\n",
       "      <td>0.000000</td>\n",
       "      <td>0</td>\n",
       "      <td>0</td>\n",
       "      <td>2</td>\n",
       "      <td>11</td>\n",
       "    </tr>\n",
       "  </tbody>\n",
       "</table>\n",
       "</div>"
      ],
      "text/plain": [
       "   dis_diff_mean_pre_3  dis_max_pre_3  dis_mean_pre_3  dis_median_pre_3  \\\n",
       "0             0.000000       0.000000        0.000000          0.000000   \n",
       "1             0.000000       0.000000        0.000000          0.000000   \n",
       "2             0.000000       0.000000        0.000000          0.000000   \n",
       "3             0.000000       0.000000        0.000000          0.000000   \n",
       "4            -0.346574       2.890372        1.695865          2.197225   \n",
       "\n",
       "   dis_min_pre_3  dis_pre_1  dis_pre_2  dis_pre_3  dis_std_pre_3  \\\n",
       "0            0.0   0.000000        0.0   0.000000       0.000000   \n",
       "1            0.0   0.000000        0.0   0.000000       0.000000   \n",
       "2            0.0   0.000000        0.0   0.000000       0.000000   \n",
       "3            0.0   0.000000        0.0   0.000000       0.000000   \n",
       "4            0.0   2.197225        0.0   2.890372       1.509001   \n",
       "\n",
       "   dis_sum_decay_pre_3  ord_diff_mean_pre_3  ord_max_pre_3  ord_mean_pre_3  \\\n",
       "0             0.000000                  0.0       0.000000        0.000000   \n",
       "1             0.000000                  0.0       0.000000        0.000000   \n",
       "2             0.000000                  0.0       6.398595        2.132865   \n",
       "3             0.000000                  0.0       7.601402        7.601402   \n",
       "4             4.538426                  0.0       0.000000        0.000000   \n",
       "\n",
       "   ord_median_pre_3  ord_min_pre_3  ord_pre_1  ord_pre_2  ord_pre_3  \\\n",
       "0          0.000000       0.000000   0.000000   0.000000   0.000000   \n",
       "1          0.000000       0.000000   0.000000   0.000000   0.000000   \n",
       "2          0.000000       0.000000   0.000000   6.398595   0.000000   \n",
       "3          7.601402       7.601402   7.601402   7.601402   7.601402   \n",
       "4          0.000000       0.000000   0.000000   0.000000   0.000000   \n",
       "\n",
       "   ord_std_pre_3  ord_sum_decay_pre_3  dis_pre_10_days  ord_pre_10_days  \\\n",
       "0   0.000000e+00             0.000000                0                0   \n",
       "1   0.000000e+00             0.000000                0                0   \n",
       "2   3.694231e+00             5.758735                0                0   \n",
       "3   1.087792e-15            20.599800                0                0   \n",
       "4   0.000000e+00             0.000000                0                0   \n",
       "\n",
       "   category  pred_month  \n",
       "0         5          11  \n",
       "1         2          11  \n",
       "2         2          11  \n",
       "3         2          11  \n",
       "4         2          11  "
      ]
     },
     "execution_count": 43,
     "metadata": {},
     "output_type": "execute_result"
    }
   ],
   "source": [
    "X_test.head()"
   ]
  },
  {
   "cell_type": "code",
   "execution_count": 44,
   "metadata": {},
   "outputs": [
    {
     "data": {
      "text/plain": [
       "(1589, 24)"
      ]
     },
     "execution_count": 44,
     "metadata": {},
     "output_type": "execute_result"
    }
   ],
   "source": [
    "X_test.shape"
   ]
  },
  {
   "cell_type": "markdown",
   "metadata": {},
   "source": [
    "## 2.4 将 Categorical Feature 转化成 OneHot 向量\n",
    "\n",
    "**备注**：\n",
    "对于树模型而言，没有必要把 Categorical Feature 转化成 OneHot 向量，反而会使得准确率略微下降。"
   ]
  },
  {
   "cell_type": "code",
   "execution_count": 45,
   "metadata": {},
   "outputs": [],
   "source": [
    "# train_len = len(X_train)\n",
    "# val_len = len(X_val)\n",
    "\n",
    "# tmp = pd.concat([X_train, X_val, X_test], axis=0)\n",
    "# tmp = pd.get_dummies(tmp, columns=['category', 'pred_month'])\n",
    "\n",
    "# X_train = tmp.iloc[:train_len]\n",
    "# X_val = tmp.iloc[train_len:(train_len + val_len)]\n",
    "# X_test = tmp.iloc[(train_len + val_len):]\n",
    "\n",
    "# del tmp\n",
    "# gc.collect()"
   ]
  },
  {
   "cell_type": "markdown",
   "metadata": {},
   "source": [
    "# 3 训练和预测"
   ]
  },
  {
   "cell_type": "code",
   "execution_count": 46,
   "metadata": {},
   "outputs": [
    {
     "name": "stdout",
     "output_type": "stream",
     "text": [
      "[INFO] Start training and predicting...\n",
      "==================================================\n",
      "Step 1\n",
      "==================================================\n"
     ]
    },
    {
     "name": "stderr",
     "output_type": "stream",
     "text": [
      "D:\\Anaconda3\\envs\\py3_for_prac\\lib\\site-packages\\lightgbm\\basic.py:1040: UserWarning: Using categorical_feature in Dataset.\n",
      "  warnings.warn('Using categorical_feature in Dataset.')\n"
     ]
    },
    {
     "name": "stdout",
     "output_type": "stream",
     "text": [
      "Training until validation scores don't improve for 125 rounds.\n",
      "[50]\ttraining's l2: 3.03353\tvalid_1's l2: 3.46879\n",
      "[100]\ttraining's l2: 1.8342\tvalid_1's l2: 2.23764\n",
      "[150]\ttraining's l2: 1.63794\tvalid_1's l2: 2.08059\n",
      "[200]\ttraining's l2: 1.58706\tvalid_1's l2: 2.06795\n",
      "[250]\ttraining's l2: 1.5576\tvalid_1's l2: 2.07182\n",
      "[300]\ttraining's l2: 1.5314\tvalid_1's l2: 2.07406\n",
      "Early stopping, best iteration is:\n",
      "[197]\ttraining's l2: 1.58912\tvalid_1's l2: 2.0668\n",
      "ord_pre_10_days: 2549460.57\n",
      "ord_pre_1: 271067.54\n",
      "ord_sum_decay_pre_3: 170440.75\n",
      "ord_mean_pre_3: 54727.35\n",
      "ord_max_pre_3: 43502.19\n",
      "pred_month: 12479.99\n",
      "ord_min_pre_3: 7874.30\n",
      "ord_median_pre_3: 7357.60\n",
      "dis_pre_3: 5807.84\n",
      "ord_pre_2: 4952.99\n",
      "category: 3877.31\n",
      "dis_std_pre_3: 3729.04\n",
      "ord_pre_3: 3661.12\n",
      "ord_std_pre_3: 3355.42\n",
      "ord_diff_mean_pre_3: 3307.55\n",
      "dis_diff_mean_pre_3: 2654.57\n",
      "dis_max_pre_3: 2147.85\n",
      "dis_pre_10_days: 2063.21\n",
      "dis_pre_2: 1862.30\n",
      "dis_min_pre_3: 1670.06\n",
      "dis_mean_pre_3: 1460.60\n",
      "dis_pre_1: 1032.96\n",
      "dis_median_pre_3: 739.41\n",
      "dis_sum_decay_pre_3: 738.99\n",
      "==================================================\n",
      "Step 2\n",
      "==================================================\n",
      "Training until validation scores don't improve for 125 rounds.\n",
      "[50]\ttraining's l2: 4.24692\tvalid_1's l2: 5.13978\n",
      "[100]\ttraining's l2: 3.2447\tvalid_1's l2: 4.17591\n",
      "[150]\ttraining's l2: 3.0331\tvalid_1's l2: 4.03202\n",
      "[200]\ttraining's l2: 2.94582\tvalid_1's l2: 4.0142\n",
      "[250]\ttraining's l2: 2.88213\tvalid_1's l2: 4.02276\n",
      "[300]\ttraining's l2: 2.83132\tvalid_1's l2: 4.01987\n",
      "Early stopping, best iteration is:\n",
      "[194]\ttraining's l2: 2.95435\tvalid_1's l2: 4.01293\n",
      "ord_pre_1: 1620113.47\n",
      "ord_pre_10_days: 388563.48\n",
      "ord_sum_decay_pre_3: 176381.07\n",
      "ord_median_pre_3: 116997.92\n",
      "ord_mean_pre_3: 62668.74\n",
      "pred_month: 43981.35\n",
      "ord_max_pre_3: 33387.58\n",
      "ord_min_pre_3: 27991.16\n",
      "category: 14422.47\n",
      "dis_max_pre_3: 13716.56\n",
      "ord_pre_2: 11284.14\n",
      "dis_min_pre_3: 9811.33\n",
      "dis_pre_10_days: 7606.29\n",
      "ord_std_pre_3: 6863.94\n",
      "dis_pre_3: 6792.58\n",
      "dis_std_pre_3: 6537.42\n",
      "dis_mean_pre_3: 5619.11\n",
      "dis_pre_2: 5470.14\n",
      "dis_diff_mean_pre_3: 5190.07\n",
      "dis_median_pre_3: 4064.20\n",
      "ord_diff_mean_pre_3: 4017.89\n",
      "dis_sum_decay_pre_3: 2799.30\n",
      "ord_pre_3: 2781.30\n",
      "dis_pre_1: 2307.06\n",
      "[INFO] Finished! ( ^ _ ^ ) V\n",
      "[INFO] Done in 5.830000 seconds.\n"
     ]
    }
   ],
   "source": [
    "print(\"[INFO] Start training and predicting...\")\n",
    "t0 = time()\n",
    "\n",
    "params = {\n",
    "    'num_leaves': 80, \n",
    "    'objective': 'regression', \n",
    "    'min_data_in_leaf': 200, \n",
    "    'learning_rate': 0.02, \n",
    "    'feature_fraction': 0.9, \n",
    "    'bagging_fraction': 0.8, \n",
    "    'bagging_freq': 1, \n",
    "    'metric': 'l2', \n",
    "    'num_threads': 16\n",
    "}\n",
    "\n",
    "MAX_ROUNDS = 5000\n",
    "pred_val = []\n",
    "pred_test = []\n",
    "cate_vars = []\n",
    "\n",
    "for i in range(2):\n",
    "    print('=' * 50)\n",
    "    print(\"Step %d\" % (i + 1))\n",
    "    print('=' * 50)\n",
    "    \n",
    "    dtrain = lgb.Dataset(X_train, label=y_train[:, i], categorical_feature=cate_vars)\n",
    "    dval = lgb.Dataset(X_val, label=y_val[:, i], reference=dtrain, categorical_feature=cate_vars)\n",
    "    \n",
    "    bst = lgb.train(\n",
    "        params, dtrain, num_boost_round=MAX_ROUNDS, \n",
    "        valid_sets=[dtrain, dval], early_stopping_rounds=125, verbose_eval=50\n",
    "    )\n",
    "    \n",
    "    feat_imp = [(\"%s: %.2f\" % x) for x in sorted(zip(X_train.columns, bst.feature_importance('gain')), key=lambda x: x[1], reverse=True)]\n",
    "    print('\\n'.join(feat_imp))\n",
    "    pred_val.append(\n",
    "        bst.predict(X_val, num_iteration=bst.best_iteration or MAX_ROUNDS)\n",
    "    )\n",
    "    pred_test.append(\n",
    "        bst.predict(X_test, num_iteration=bst.best_iteration or MAX_ROUNDS)\n",
    "    )\n",
    "    \n",
    "print(\"[INFO] Finished! ( ^ _ ^ ) V\")\n",
    "print(\"[INFO] Done in %f seconds.\" % (time() - t0))"
   ]
  },
  {
   "cell_type": "code",
   "execution_count": 47,
   "metadata": {},
   "outputs": [
    {
     "name": "stdout",
     "output_type": "stream",
     "text": [
      "The MSE error of validation set is: 3.0398676206330864\n"
     ]
    }
   ],
   "source": [
    "print(\"The MSE error of validation set is:\", mean_squared_error(y_val, np.array(pred_val).transpose()))"
   ]
  },
  {
   "cell_type": "markdown",
   "metadata": {},
   "source": [
    "# 4 结果评估"
   ]
  },
  {
   "cell_type": "markdown",
   "metadata": {},
   "source": [
    "## 4.1 技术指标"
   ]
  },
  {
   "cell_type": "markdown",
   "metadata": {},
   "source": [
    "评价指标为**归一化加权均方根对数误差（Normalized Weighted Root Mean Squared Logarithmic Error, NWRMSLE）**，表达式如下：\n",
    "\n",
    "$$\n",
    "\\text{NWRMSLE} = \\sqrt{ \\frac{\\sum_{i=1}^{m}\\omega_i \\sum_{j=1}^{t}\\left( \\ln \\left(\\widehat{y}_j^{(i)} + 1 \\right) -\\ln \\left(y_j^{(i)} + 1 \\right)\\right)^2}{t\\cdot \\sum_{i=1}^{m}\\omega_i} }\n",
    "$$"
   ]
  },
  {
   "cell_type": "code",
   "execution_count": 48,
   "metadata": {},
   "outputs": [
    {
     "name": "stdout",
     "output_type": "stream",
     "text": [
      "The NWRMSLE error of validation set is: 1.7435216146159722\n"
     ]
    }
   ],
   "source": [
    "# 归一化加权均方根对数误差\n",
    "err = (y_val - np.array(pred_val).transpose()) ** 2\n",
    "err = err.sum(axis=1)\n",
    "err = np.sqrt(err.sum() / 2 / len(y_val))\n",
    "print(\"The NWRMSLE error of validation set is:\", err)"
   ]
  },
  {
   "cell_type": "markdown",
   "metadata": {},
   "source": [
    "## 4.2 业务指标"
   ]
  },
  {
   "cell_type": "markdown",
   "metadata": {},
   "source": [
    "业务指标的表达式如下：\n",
    "\n",
    "$$\n",
    "E(t, y) = \\frac{\\sum_{i=0}^{n} | y^{(i)} - t^{(i)} |}{\\sum_{i=0}^{n} t^{(i)}}\n",
    "$$"
   ]
  },
  {
   "cell_type": "code",
   "execution_count": 49,
   "metadata": {},
   "outputs": [],
   "source": [
    "def error(y_true, y_pred):\n",
    "    return np.sum(np.abs(y_true - y_pred)) / np.sum(y_true)"
   ]
  },
  {
   "cell_type": "code",
   "execution_count": 50,
   "metadata": {},
   "outputs": [],
   "source": [
    "def expm1_with_clip(x, l=0, r=35000):\n",
    "    return np.clip(np.expm1(x), l, r)"
   ]
  },
  {
   "cell_type": "markdown",
   "metadata": {},
   "source": [
    "### 4.2.1 验证集"
   ]
  },
  {
   "cell_type": "code",
   "execution_count": 51,
   "metadata": {},
   "outputs": [],
   "source": [
    "df_val = pd.DataFrame(\n",
    "    np.array(y_val), index=order_month.index, \n",
    "    columns=['2018-09', '2018-10']\n",
    ").apply(np.expm1)\n",
    "\n",
    "df_pred_val = pd.DataFrame(\n",
    "    np.array(pred_val).transpose(), index=order_month.index, \n",
    "    columns=['2018-09', '2018-10']\n",
    ").apply(expm1_with_clip).apply(np.floor)"
   ]
  },
  {
   "cell_type": "code",
   "execution_count": 52,
   "metadata": {},
   "outputs": [
    {
     "name": "stdout",
     "output_type": "stream",
     "text": [
      "The accuracy of 'M' order amount is: 60.00%\n",
      "The accuracy of 'M+1' order amount is: 33.86%\n"
     ]
    }
   ],
   "source": [
    "# 验证集（9-10月）准确率（SKU）\n",
    "m_error = error(df_val['2018-09'], df_pred_val['2018-09'])\n",
    "m1_error = error(df_val['2018-10'], df_pred_val['2018-10'])\n",
    "print(\"The accuracy of 'M' order amount is: %.2f%%\" % ((1 - m_error) * 100))\n",
    "print(\"The accuracy of 'M+1' order amount is: %.2f%%\" % ((1 - m1_error) * 100))"
   ]
  },
  {
   "cell_type": "code",
   "execution_count": 53,
   "metadata": {},
   "outputs": [],
   "source": [
    "df_val = df_val.join(category, how='left')\n",
    "df_pred_val = df_pred_val.join(category, how='left')\n",
    "\n",
    "df_val = df_val.groupby('category')[['2018-09', '2018-10']].sum()\n",
    "df_pred_val = df_pred_val.groupby('category')[['2018-09', '2018-10']].sum()"
   ]
  },
  {
   "cell_type": "code",
   "execution_count": 54,
   "metadata": {},
   "outputs": [
    {
     "name": "stdout",
     "output_type": "stream",
     "text": [
      "The accuracy of 'M' order amount is: 75.67%\n",
      "The accuracy of 'M+1' order amount is: 41.73%\n"
     ]
    }
   ],
   "source": [
    "# 验证集（9-10月）准确率（品类）\n",
    "m_error = error(df_val['2018-09'], df_pred_val['2018-09'])\n",
    "m1_error = error(df_val['2018-10'], df_pred_val['2018-10'])\n",
    "print(\"The accuracy of 'M' order amount is: %.2f%%\" % ((1 - m_error) * 100))\n",
    "print(\"The accuracy of 'M+1' order amount is: %.2f%%\" % ((1 - m1_error) * 100))"
   ]
  },
  {
   "cell_type": "markdown",
   "metadata": {},
   "source": [
    "### 4.2.2 测试集"
   ]
  },
  {
   "cell_type": "code",
   "execution_count": 55,
   "metadata": {},
   "outputs": [],
   "source": [
    "df_pred_test = pd.DataFrame(\n",
    "    np.array(pred_test).transpose(), index=order_month.index, \n",
    "    columns=['2018-11', '2018-12']\n",
    ").stack().to_frame('pred_qty')\n",
    "df_pred_test.index.set_names(['item_code', 'month'], inplace=True)\n",
    "df_pred_test['pred_qty'] = np.floor(expm1_with_clip(df_pred_test.pred_qty))"
   ]
  },
  {
   "cell_type": "code",
   "execution_count": 56,
   "metadata": {},
   "outputs": [],
   "source": [
    "comp = df_test.join(df_pred_test, how='left').fillna(0).reset_index()\n",
    "comp = comp.join(category, on='item_code', how='left')\n",
    "comp.category.fillna('-1', inplace=True)\n",
    "\n",
    "m_comp = comp.loc[comp['month'] == '2018-11']\n",
    "m1_comp = comp.loc[comp['month'] == '2018-12']\n",
    "\n",
    "m_comp_without_new = m_comp.loc[m_comp.category != '-1']\n",
    "m1_comp_without_new = m1_comp.loc[m1_comp.category != '-1']"
   ]
  },
  {
   "cell_type": "code",
   "execution_count": 57,
   "metadata": {},
   "outputs": [
    {
     "name": "stdout",
     "output_type": "stream",
     "text": [
      "The accuracy of 'M' order amount is: 2.86%\n",
      "The accuracy of 'M+1' order amount is: 5.22%\n"
     ]
    }
   ],
   "source": [
    "# 测试集（11-12月）准确率（带新品）（SKU）\n",
    "# 备注：总共1653条提货记录，有120条提货记录是新品\n",
    "m_error = error(m_comp['qty'], m_comp['pred_qty'])\n",
    "m1_error = error(m1_comp['qty'], m1_comp['pred_qty'])\n",
    "print(\"The accuracy of 'M' order amount is: %.2f%%\" % ((1 - m_error) * 100))\n",
    "print(\"The accuracy of 'M+1' order amount is: %.2f%%\" % ((1 - m1_error) * 100))"
   ]
  },
  {
   "cell_type": "code",
   "execution_count": 58,
   "metadata": {},
   "outputs": [
    {
     "name": "stdout",
     "output_type": "stream",
     "text": [
      "The accuracy of 'M' order amount is: 2.94%\n",
      "The accuracy of 'M+1' order amount is: 5.88%\n"
     ]
    }
   ],
   "source": [
    "# 测试集（11-12月）准确率（不带新品）（SKU）\n",
    "# 备注：总共1653条提货记录，有120条提货记录是新品\n",
    "m_error = error(m_comp_without_new['qty'], m_comp['pred_qty'])\n",
    "m1_error = error(m1_comp_without_new['qty'], m1_comp['pred_qty'])\n",
    "print(\"The accuracy of 'M' order amount is: %.2f%%\" % ((1 - m_error) * 100))\n",
    "print(\"The accuracy of 'M+1' order amount is: %.2f%%\" % ((1 - m1_error) * 100))"
   ]
  },
  {
   "cell_type": "code",
   "execution_count": 59,
   "metadata": {},
   "outputs": [],
   "source": [
    "comp_cate = comp.groupby(['category', 'month'])[['qty', 'pred_qty']].sum().reset_index()\n",
    "\n",
    "m_comp = comp_cate.loc[comp_cate['month'] == '2018-11']\n",
    "m1_comp = comp_cate.loc[comp_cate['month'] == '2018-12']\n",
    "\n",
    "m_comp_without_new = m_comp.loc[m_comp.category != '-1']\n",
    "m1_comp_without_new = m1_comp.loc[m1_comp.category != '-1']"
   ]
  },
  {
   "cell_type": "code",
   "execution_count": 60,
   "metadata": {},
   "outputs": [
    {
     "name": "stdout",
     "output_type": "stream",
     "text": [
      "The accuracy of 'M' order amount is: 2.99%\n",
      "The accuracy of 'M+1' order amount is: 5.99%\n"
     ]
    }
   ],
   "source": [
    "# 测试集（11-12月）准确率（带新品）（品类）\n",
    "m_error = error(m_comp['qty'], m_comp['pred_qty'])\n",
    "m1_error = error(m1_comp['qty'], m1_comp['pred_qty'])\n",
    "print(\"The accuracy of 'M' order amount is: %.2f%%\" % ((1 - m_error) * 100))\n",
    "print(\"The accuracy of 'M+1' order amount is: %.2f%%\" % ((1 - m1_error) * 100))"
   ]
  },
  {
   "cell_type": "code",
   "execution_count": 61,
   "metadata": {},
   "outputs": [
    {
     "name": "stdout",
     "output_type": "stream",
     "text": [
      "The accuracy of 'M' order amount is: 3.07%\n",
      "The accuracy of 'M+1' order amount is: 6.74%\n"
     ]
    }
   ],
   "source": [
    "# 测试集（11-12月）准确率（不带新品）（品类）\n",
    "m_error = error(m_comp_without_new['qty'], m_comp['pred_qty'])\n",
    "m1_error = error(m1_comp_without_new['qty'], m1_comp['pred_qty'])\n",
    "print(\"The accuracy of 'M' order amount is: %.2f%%\" % ((1 - m_error) * 100))\n",
    "print(\"The accuracy of 'M+1' order amount is: %.2f%%\" % ((1 - m1_error) * 100))"
   ]
  },
  {
   "cell_type": "code",
   "execution_count": 62,
   "metadata": {},
   "outputs": [
    {
     "name": "stderr",
     "output_type": "stream",
     "text": [
      "D:\\Anaconda3\\envs\\py3_for_prac\\lib\\site-packages\\ipykernel_launcher.py:1: SettingWithCopyWarning: \n",
      "A value is trying to be set on a copy of a slice from a DataFrame.\n",
      "Try using .loc[row_indexer,col_indexer] = value instead\n",
      "\n",
      "See the caveats in the documentation: http://pandas.pydata.org/pandas-docs/stable/indexing.html#indexing-view-versus-copy\n",
      "  \"\"\"Entry point for launching an IPython kernel.\n",
      "D:\\Anaconda3\\envs\\py3_for_prac\\lib\\site-packages\\ipykernel_launcher.py:2: SettingWithCopyWarning: \n",
      "A value is trying to be set on a copy of a slice from a DataFrame.\n",
      "Try using .loc[row_indexer,col_indexer] = value instead\n",
      "\n",
      "See the caveats in the documentation: http://pandas.pydata.org/pandas-docs/stable/indexing.html#indexing-view-versus-copy\n",
      "  \n"
     ]
    }
   ],
   "source": [
    "m_comp['acc'] = 1 - (np.abs(m_comp.qty - m_comp.pred_qty) / m_comp.qty)\n",
    "m1_comp['acc'] = 1 - (np.abs(m1_comp.qty - m1_comp.pred_qty) / m1_comp.qty)"
   ]
  },
  {
   "cell_type": "code",
   "execution_count": 63,
   "metadata": {},
   "outputs": [
    {
     "data": {
      "text/html": [
       "<div>\n",
       "<style scoped>\n",
       "    .dataframe tbody tr th:only-of-type {\n",
       "        vertical-align: middle;\n",
       "    }\n",
       "\n",
       "    .dataframe tbody tr th {\n",
       "        vertical-align: top;\n",
       "    }\n",
       "\n",
       "    .dataframe thead th {\n",
       "        text-align: right;\n",
       "    }\n",
       "</style>\n",
       "<table border=\"1\" class=\"dataframe\">\n",
       "  <thead>\n",
       "    <tr style=\"text-align: right;\">\n",
       "      <th></th>\n",
       "      <th>category</th>\n",
       "      <th>month</th>\n",
       "      <th>qty</th>\n",
       "      <th>pred_qty</th>\n",
       "      <th>acc</th>\n",
       "    </tr>\n",
       "  </thead>\n",
       "  <tbody>\n",
       "    <tr>\n",
       "      <th>0</th>\n",
       "      <td>0</td>\n",
       "      <td>2018-11</td>\n",
       "      <td>17996.0</td>\n",
       "      <td>2036.0</td>\n",
       "      <td>0.113136</td>\n",
       "    </tr>\n",
       "    <tr>\n",
       "      <th>2</th>\n",
       "      <td>1</td>\n",
       "      <td>2018-11</td>\n",
       "      <td>13369.0</td>\n",
       "      <td>1143.0</td>\n",
       "      <td>0.085496</td>\n",
       "    </tr>\n",
       "    <tr>\n",
       "      <th>4</th>\n",
       "      <td>2</td>\n",
       "      <td>2018-11</td>\n",
       "      <td>146590.0</td>\n",
       "      <td>7033.0</td>\n",
       "      <td>0.047977</td>\n",
       "    </tr>\n",
       "    <tr>\n",
       "      <th>14</th>\n",
       "      <td>7</td>\n",
       "      <td>2018-11</td>\n",
       "      <td>144644.0</td>\n",
       "      <td>6606.0</td>\n",
       "      <td>0.045671</td>\n",
       "    </tr>\n",
       "    <tr>\n",
       "      <th>6</th>\n",
       "      <td>3</td>\n",
       "      <td>2018-11</td>\n",
       "      <td>128296.0</td>\n",
       "      <td>5089.0</td>\n",
       "      <td>0.039666</td>\n",
       "    </tr>\n",
       "    <tr>\n",
       "      <th>12</th>\n",
       "      <td>6</td>\n",
       "      <td>2018-11</td>\n",
       "      <td>267108.0</td>\n",
       "      <td>9107.0</td>\n",
       "      <td>0.034095</td>\n",
       "    </tr>\n",
       "    <tr>\n",
       "      <th>10</th>\n",
       "      <td>5</td>\n",
       "      <td>2018-11</td>\n",
       "      <td>373660.0</td>\n",
       "      <td>12679.0</td>\n",
       "      <td>0.033932</td>\n",
       "    </tr>\n",
       "    <tr>\n",
       "      <th>8</th>\n",
       "      <td>4</td>\n",
       "      <td>2018-11</td>\n",
       "      <td>979037.0</td>\n",
       "      <td>19925.0</td>\n",
       "      <td>0.020352</td>\n",
       "    </tr>\n",
       "    <tr>\n",
       "      <th>16</th>\n",
       "      <td>-1</td>\n",
       "      <td>2018-11</td>\n",
       "      <td>57027.0</td>\n",
       "      <td>0.0</td>\n",
       "      <td>0.000000</td>\n",
       "    </tr>\n",
       "  </tbody>\n",
       "</table>\n",
       "</div>"
      ],
      "text/plain": [
       "   category    month       qty  pred_qty       acc\n",
       "0         0  2018-11   17996.0    2036.0  0.113136\n",
       "2         1  2018-11   13369.0    1143.0  0.085496\n",
       "4         2  2018-11  146590.0    7033.0  0.047977\n",
       "14        7  2018-11  144644.0    6606.0  0.045671\n",
       "6         3  2018-11  128296.0    5089.0  0.039666\n",
       "12        6  2018-11  267108.0    9107.0  0.034095\n",
       "10        5  2018-11  373660.0   12679.0  0.033932\n",
       "8         4  2018-11  979037.0   19925.0  0.020352\n",
       "16       -1  2018-11   57027.0       0.0  0.000000"
      ]
     },
     "execution_count": 63,
     "metadata": {},
     "output_type": "execute_result"
    }
   ],
   "source": [
    "m_comp.sort_values(by='acc', ascending=False)"
   ]
  },
  {
   "cell_type": "code",
   "execution_count": 64,
   "metadata": {},
   "outputs": [
    {
     "data": {
      "text/html": [
       "<div>\n",
       "<style scoped>\n",
       "    .dataframe tbody tr th:only-of-type {\n",
       "        vertical-align: middle;\n",
       "    }\n",
       "\n",
       "    .dataframe tbody tr th {\n",
       "        vertical-align: top;\n",
       "    }\n",
       "\n",
       "    .dataframe thead th {\n",
       "        text-align: right;\n",
       "    }\n",
       "</style>\n",
       "<table border=\"1\" class=\"dataframe\">\n",
       "  <thead>\n",
       "    <tr style=\"text-align: right;\">\n",
       "      <th></th>\n",
       "      <th>category</th>\n",
       "      <th>month</th>\n",
       "      <th>qty</th>\n",
       "      <th>pred_qty</th>\n",
       "      <th>acc</th>\n",
       "    </tr>\n",
       "  </thead>\n",
       "  <tbody>\n",
       "    <tr>\n",
       "      <th>1</th>\n",
       "      <td>0</td>\n",
       "      <td>2018-12</td>\n",
       "      <td>37870.0</td>\n",
       "      <td>4696.0</td>\n",
       "      <td>0.124003</td>\n",
       "    </tr>\n",
       "    <tr>\n",
       "      <th>11</th>\n",
       "      <td>5</td>\n",
       "      <td>2018-12</td>\n",
       "      <td>479641.0</td>\n",
       "      <td>48116.0</td>\n",
       "      <td>0.100317</td>\n",
       "    </tr>\n",
       "    <tr>\n",
       "      <th>15</th>\n",
       "      <td>7</td>\n",
       "      <td>2018-12</td>\n",
       "      <td>166659.0</td>\n",
       "      <td>15363.0</td>\n",
       "      <td>0.092182</td>\n",
       "    </tr>\n",
       "    <tr>\n",
       "      <th>5</th>\n",
       "      <td>2</td>\n",
       "      <td>2018-12</td>\n",
       "      <td>313670.0</td>\n",
       "      <td>21727.0</td>\n",
       "      <td>0.069267</td>\n",
       "    </tr>\n",
       "    <tr>\n",
       "      <th>3</th>\n",
       "      <td>1</td>\n",
       "      <td>2018-12</td>\n",
       "      <td>24690.0</td>\n",
       "      <td>1502.0</td>\n",
       "      <td>0.060834</td>\n",
       "    </tr>\n",
       "    <tr>\n",
       "      <th>9</th>\n",
       "      <td>4</td>\n",
       "      <td>2018-12</td>\n",
       "      <td>1295903.0</td>\n",
       "      <td>78154.0</td>\n",
       "      <td>0.060309</td>\n",
       "    </tr>\n",
       "    <tr>\n",
       "      <th>7</th>\n",
       "      <td>3</td>\n",
       "      <td>2018-12</td>\n",
       "      <td>316960.0</td>\n",
       "      <td>18773.0</td>\n",
       "      <td>0.059228</td>\n",
       "    </tr>\n",
       "    <tr>\n",
       "      <th>13</th>\n",
       "      <td>6</td>\n",
       "      <td>2018-12</td>\n",
       "      <td>531017.0</td>\n",
       "      <td>24927.0</td>\n",
       "      <td>0.046942</td>\n",
       "    </tr>\n",
       "    <tr>\n",
       "      <th>17</th>\n",
       "      <td>-1</td>\n",
       "      <td>2018-12</td>\n",
       "      <td>396033.0</td>\n",
       "      <td>0.0</td>\n",
       "      <td>0.000000</td>\n",
       "    </tr>\n",
       "  </tbody>\n",
       "</table>\n",
       "</div>"
      ],
      "text/plain": [
       "   category    month        qty  pred_qty       acc\n",
       "1         0  2018-12    37870.0    4696.0  0.124003\n",
       "11        5  2018-12   479641.0   48116.0  0.100317\n",
       "15        7  2018-12   166659.0   15363.0  0.092182\n",
       "5         2  2018-12   313670.0   21727.0  0.069267\n",
       "3         1  2018-12    24690.0    1502.0  0.060834\n",
       "9         4  2018-12  1295903.0   78154.0  0.060309\n",
       "7         3  2018-12   316960.0   18773.0  0.059228\n",
       "13        6  2018-12   531017.0   24927.0  0.046942\n",
       "17       -1  2018-12   396033.0       0.0  0.000000"
      ]
     },
     "execution_count": 64,
     "metadata": {},
     "output_type": "execute_result"
    }
   ],
   "source": [
    "m1_comp.sort_values(by='acc', ascending=False)"
   ]
  },
  {
   "cell_type": "code",
   "execution_count": null,
   "metadata": {},
   "outputs": [],
   "source": []
  }
 ],
 "metadata": {
  "kernelspec": {
   "display_name": "Python 3",
   "language": "python",
   "name": "python3"
  },
  "language_info": {
   "codemirror_mode": {
    "name": "ipython",
    "version": 3
   },
   "file_extension": ".py",
   "mimetype": "text/x-python",
   "name": "python",
   "nbconvert_exporter": "python",
   "pygments_lexer": "ipython3",
   "version": "3.6.5"
  }
 },
 "nbformat": 4,
 "nbformat_minor": 2
}
