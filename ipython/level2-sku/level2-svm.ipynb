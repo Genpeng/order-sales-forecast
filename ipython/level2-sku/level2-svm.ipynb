{
 "cells": [
  {
   "cell_type": "code",
   "execution_count": 1,
   "metadata": {},
   "outputs": [],
   "source": [
    "import gc\n",
    "import numpy as np\n",
    "import pandas as pd\n",
    "import lightgbm as lgb\n",
    "import matplotlib.pyplot as plt\n",
    "from time import time\n",
    "from datetime import date\n",
    "from sklearn.svm import SVR\n",
    "from sklearn.metrics import mean_squared_error\n",
    "from sklearn.preprocessing import LabelEncoder\n",
    "\n",
    "%matplotlib inline"
   ]
  },
  {
   "cell_type": "code",
   "execution_count": 2,
   "metadata": {},
   "outputs": [],
   "source": [
    "pd.set_option('display.max_columns', 1000)"
   ]
  },
  {
   "cell_type": "markdown",
   "metadata": {},
   "source": [
    "# 1 数据预处理"
   ]
  },
  {
   "cell_type": "code",
   "execution_count": 3,
   "metadata": {},
   "outputs": [],
   "source": [
    "# 载入数据\n",
    "order = pd.read_csv(\"../../data/level2/m111-order-sku.csv\", sep=',', parse_dates=['order_date'])\n",
    "dis = pd.read_csv(\"../../data/level2/m111-dis-sku.csv\", sep=',', parse_dates=['dis_date'])\n",
    "inv = pd.read_csv(\n",
    "    \"../../data/level2/m111-inv-sku.csv\", sep=',', parse_dates=['period_wid']\n",
    ").rename(columns={'period_wid': 'inv_date'})\n",
    "category = pd.read_csv(\n",
    "    \"../../data/level2/m111-item-category.csv\", sep=','\n",
    ").rename(columns={'sales_segment1_code': 'category'})"
   ]
  },
  {
   "cell_type": "markdown",
   "metadata": {},
   "source": [
    "## 1.1 处理订单数据"
   ]
  },
  {
   "cell_type": "code",
   "execution_count": 4,
   "metadata": {},
   "outputs": [],
   "source": [
    "# 取2017年至2018年区间中的数据\n",
    "order = order.loc[(order['order_date'] >= '2017-01-01') & (order['order_date'] <= '2018-12-31')]"
   ]
  },
  {
   "cell_type": "code",
   "execution_count": 5,
   "metadata": {},
   "outputs": [],
   "source": [
    "order['qty'] = np.log1p(order['qty'])"
   ]
  },
  {
   "cell_type": "code",
   "execution_count": 6,
   "metadata": {},
   "outputs": [],
   "source": [
    "order_month = order.copy()\n",
    "order_month['month'] = order_month['order_date'].astype('str').apply(lambda x: x[:7])\n",
    "order_month = order_month.groupby(['item_code', 'month'])[['qty']].sum()\n",
    "order_month = order_month.unstack(level=-1).fillna(0)\n",
    "order_month.columns = pd.date_range('2017-01-31', '2018-12-31', freq='M')"
   ]
  },
  {
   "cell_type": "markdown",
   "metadata": {},
   "source": [
    "## 1.2 处理分销数据"
   ]
  },
  {
   "cell_type": "code",
   "execution_count": 7,
   "metadata": {},
   "outputs": [],
   "source": [
    "# 取2017年至2018年区间中的数据（分销数据只有从3月份开始的数据且3月份不完整）>_<|||\n",
    "dis = dis.loc[(dis['dis_date'] >= '2017-04-01') & (dis['dis_date'] <= '2018-12-31')]"
   ]
  },
  {
   "cell_type": "code",
   "execution_count": 8,
   "metadata": {},
   "outputs": [],
   "source": [
    "# 处理分销量为负数的情况\n",
    "dis['qty'] = dis['qty'].apply(lambda x: -x if x < 0 else x)"
   ]
  },
  {
   "cell_type": "code",
   "execution_count": 9,
   "metadata": {},
   "outputs": [],
   "source": [
    "dis['qty'] = np.log1p(dis['qty'])"
   ]
  },
  {
   "cell_type": "code",
   "execution_count": 10,
   "metadata": {},
   "outputs": [],
   "source": [
    "dis_month = dis.copy()\n",
    "dis_month['month'] = dis_month['dis_date'].astype('str').apply(lambda x: x[:7])\n",
    "dis_month = dis_month.groupby(['item_code', 'month'])[['qty']].sum()\n",
    "dis_month = dis_month.unstack(level=-1).fillna(0)\n",
    "dis_month.columns = pd.date_range('2017-04-30', '2018-12-31', freq='M')\n",
    "dis_month = dis_month.reindex(order_month.index).fillna(0)"
   ]
  },
  {
   "cell_type": "markdown",
   "metadata": {},
   "source": [
    "## 1.3 处理库存数据"
   ]
  },
  {
   "cell_type": "code",
   "execution_count": 11,
   "metadata": {},
   "outputs": [],
   "source": [
    "# 取2017年至2018年区间中的数据（库存数据只有从2017年6月份开始的数据）>_<|||\n",
    "inv = inv.loc[(inv['inv_date'] >= '2017-06-01') & (inv['inv_date'] <= '2018-12-31')]"
   ]
  },
  {
   "cell_type": "code",
   "execution_count": 12,
   "metadata": {},
   "outputs": [],
   "source": [
    "# 处理分销量为负数的情况\n",
    "inv['qty'] = inv['qty'].apply(lambda x: -x if x < 0 else x)"
   ]
  },
  {
   "cell_type": "code",
   "execution_count": 13,
   "metadata": {},
   "outputs": [],
   "source": [
    "# 删除异常值\n",
    "inv = inv.loc[~(inv.qty > 1000000)]"
   ]
  },
  {
   "cell_type": "code",
   "execution_count": 14,
   "metadata": {},
   "outputs": [],
   "source": [
    "# 取每月的最后一天作为当月的库存\n",
    "inv = inv.loc[inv['inv_date'].isin(pd.date_range('2017-06-30', '2018-12-31', freq='M'))]"
   ]
  },
  {
   "cell_type": "code",
   "execution_count": 15,
   "metadata": {},
   "outputs": [],
   "source": [
    "inv['qty'] = np.log1p(inv['qty'])"
   ]
  },
  {
   "cell_type": "code",
   "execution_count": 16,
   "metadata": {},
   "outputs": [],
   "source": [
    "inv_month = inv.copy()\n",
    "inv_month['month'] = inv_month['inv_date'].astype('str').apply(lambda x: x[:7])\n",
    "inv_month = inv_month.groupby(['item_code', 'month'])[['qty']].sum()\n",
    "inv_month = inv_month.unstack(level=-1).fillna(0)\n",
    "inv_month.columns = pd.date_range('2017-06-30', '2018-12-31', freq='M')\n",
    "inv_month = inv_month.reindex(order_month.index).fillna(0)"
   ]
  },
  {
   "cell_type": "markdown",
   "metadata": {},
   "source": [
    "## 1.4 处理品类信息"
   ]
  },
  {
   "cell_type": "code",
   "execution_count": 17,
   "metadata": {},
   "outputs": [],
   "source": [
    "# Pandas的bug：'21054110000024', '21054110000025', '21054110000084', '21054110000085' 这4个字符串居然是重复的，取消注释即可看到\n",
    "# category.loc[category.item_code.duplicated()]"
   ]
  },
  {
   "cell_type": "code",
   "execution_count": 18,
   "metadata": {},
   "outputs": [],
   "source": [
    "# 解决上面bug的下策，避免下面reindex报错\n",
    "category.drop_duplicates(['item_code'], keep='first', inplace=True)"
   ]
  },
  {
   "cell_type": "code",
   "execution_count": 19,
   "metadata": {},
   "outputs": [],
   "source": [
    "category = category.set_index('item_code').reindex(order_month.index)"
   ]
  },
  {
   "cell_type": "code",
   "execution_count": 20,
   "metadata": {},
   "outputs": [],
   "source": [
    "encoder = LabelEncoder()\n",
    "category['category'] = encoder.fit_transform(category['category'])"
   ]
  },
  {
   "cell_type": "markdown",
   "metadata": {},
   "source": [
    "## 1.5 得到每个品类每个月的提货数据"
   ]
  },
  {
   "cell_type": "code",
   "execution_count": 21,
   "metadata": {},
   "outputs": [],
   "source": [
    "order_cate_month = order_month.reset_index()\n",
    "order_cate_month['category'] = category['category'].values\n",
    "order_cate_month = order_cate_month.groupby('category')[order_month.columns].sum()"
   ]
  },
  {
   "cell_type": "markdown",
   "metadata": {},
   "source": [
    "## 1.6 得到每个品类每个月的分销数据"
   ]
  },
  {
   "cell_type": "code",
   "execution_count": 22,
   "metadata": {},
   "outputs": [],
   "source": [
    "dis_cate_month = dis_month.reset_index()\n",
    "dis_cate_month['category'] = category['category'].values\n",
    "dis_cate_month = dis_cate_month.groupby('category')[dis_month.columns].sum()"
   ]
  },
  {
   "cell_type": "markdown",
   "metadata": {},
   "source": [
    "## 1.7 得到每个品类每个月的库存数据"
   ]
  },
  {
   "cell_type": "code",
   "execution_count": 23,
   "metadata": {},
   "outputs": [],
   "source": [
    "inv_cate_month = inv_month.reset_index()\n",
    "inv_cate_month['category'] = category['category'].values\n",
    "inv_cate_month = inv_cate_month.groupby('category')[inv_month.columns].sum()"
   ]
  },
  {
   "cell_type": "markdown",
   "metadata": {},
   "source": [
    "# 2 特征工程"
   ]
  },
  {
   "cell_type": "code",
   "execution_count": 35,
   "metadata": {},
   "outputs": [],
   "source": [
    "def prepare_dataset(order, dis, inv, year, month, is_train=True, name_prefix=None):\n",
    "    X = {}\n",
    "    \n",
    "    # 提货的统计特征（28个特征）\n",
    "    for i in [3, 6, 9, 12]:\n",
    "        dt = date(year, month, 1)\n",
    "        tmp = order[pd.date_range(end=dt, periods=i, freq='M')]  # 前i个月提货量\n",
    "#         X['ord_diff_mean_pre_%s' % i] = tmp.diff(axis=1).mean(axis=1).values  # 前i个月提货量的平均一阶差分\n",
    "#         X['ord_sum_decay_pre_%s' % i] = (tmp * np.power(0.9, np.arange(i)[::-1])).sum(axis=1).values  # 前i个月提货量的和（带衰减）\n",
    "        X['ord_mean_pre_%s' % i] = tmp.mean(axis=1).values  # 前i个月提货量的平均值\n",
    "        X['ord_median_pre_%s' % i] = tmp.median(axis=1).values  # 前i个月提货量的中位数\n",
    "        X['ord_max_pre_%s' % i] = tmp.max(axis=1).values  # 前i个月提货量的最大值\n",
    "        X['ord_min_pre_%s' % i] = tmp.min(axis=1).values  # 前i个月提货量的最小值\n",
    "        X['ord_std_pre_%s' % i] = tmp.std(axis=1).values  # 前i个月提货量的标准差\n",
    "        \n",
    "    # 分销的统计特征（21个特征）>_<|||\n",
    "#     for i in [3, 6, 9]:\n",
    "#         dt = date(year, month, 1)\n",
    "#         tmp = dis[pd.date_range(end=dt, periods=i, freq='M')]  # 前i个月分销量\n",
    "#         X['dis_diff_mean_pre_%s' % i] = tmp.diff(axis=1).mean(axis=1).values  # 前i个月分销量的平均一阶差分\n",
    "#         X['dis_sum_decay_pre_%s' % i] = (tmp * np.power(0.9, np.arange(i)[::-1])).sum(axis=1).values  # 前i个月分销量的和（带衰减）\n",
    "#         X['dis_mean_pre_%s' % i] = tmp.mean(axis=1).values  # 前i个月分销量的均值\n",
    "#         X['dis_median_pre_%s' % i] = tmp.median(axis=1).values  # 前i个月分销量的中位数\n",
    "#         X['dis_max_pre_%s' % i] = tmp.max(axis=1).values  # 前i个月分销量的最大值\n",
    "#         X['dis_min_pre_%s' % i] = tmp.min(axis=1).values  # 前i个月分销量的最小值\n",
    "#         X['dis_std_pre_%s' % i] = tmp.std(axis=1).values  # 前i个月分销量的标准差\n",
    "        \n",
    "    # 库存的统计特征（14个）>_<|||\n",
    "#     for i in [3, 6]:\n",
    "#         dt = date(year, month, 1)\n",
    "#         tmp = inv[pd.date_range(end=dt, periods=i, freq='M')]  # 前i个月库存量\n",
    "#         X['inv_diff_mean_pre_%s' % i] = tmp.diff(axis=1).mean(axis=1).values  # 前i个月库存量的平均一阶差分\n",
    "#         X['inv_sum_decay_pre_%s' % i] = (tmp * np.power(0.9, np.arange(i)[::-1])).sum(axis=1).values  # 前i个月库存量的和（带衰减）\n",
    "#         X['inv_mean_pre_%s' % i] = tmp.mean(axis=1).values  # 前i个月库存量的均值\n",
    "#         X['inv_median_pre_%s' % i] = tmp.median(axis=1).values  # 前i个月库存量的中位数\n",
    "#         X['inv_max_pre_%s' % i] = tmp.max(axis=1).values  # 前i个月库存量的最大值\n",
    "#         X['inv_min_pre_%s' % i] = tmp.min(axis=1).values  # 前i个月库存量的最小值\n",
    "#         X['inv_std_pre_%s' % i] = tmp.std(axis=1).values  # 前i个月库存量的标准差\n",
    "        \n",
    "    # 提货天数特征（12个特征）\n",
    "#     for i in [3, 6, 9, 12]:\n",
    "#         dt = date(year, month, 1)\n",
    "#         tmp = order[pd.date_range(end=dt, periods=i, freq='M')]\n",
    "#         X['has_ord_pre_%s' % i] = (tmp > 0).sum(axis=1).values  # 前i个月有提货的天数\n",
    "#         X['last_ord_pre_%s' % i] = i - ((tmp > 0) * np.arange(i)).max(axis=1).values  # 前i个月距离上一次有提货的天数\n",
    "#         X['first_ord_pre_%s' % i] = ((tmp > 0) * np.arange(i, 0, -1)).max(axis=1).values  # 前i个月距离第一次有提货的天数\n",
    "        \n",
    "    # 分销天数特征（9个特征）>_<|||\n",
    "#     for i in [3, 6, 9]:\n",
    "#         dt = date(year, month, 1)\n",
    "#         tmp = dis[pd.date_range(end=dt, periods=i, freq='M')]\n",
    "#         X['has_dis_pre_%s' % i] = (tmp > 0).sum(axis=1).values  # 前i个月有分销的天数\n",
    "#         X['last_dis_pre_%s' % i] = i - ((tmp > 0) * np.arange(i)).max(axis=1).values  # 前i个月距离上一次有分销的天数\n",
    "#         X['first_dis_pre_%s' % i] = ((tmp > 0) * np.arange(i, 0, -1)).max(axis=1).values  # 前i个月距离第一次有分销的天数\n",
    "        \n",
    "    # 库存天数特征（6个特征）>_<|||\n",
    "#     for i in [3, 6]:\n",
    "#         dt = date(year, month, 1)\n",
    "#         tmp = inv[pd.date_range(end=dt, periods=i, freq='M')]\n",
    "#         X['has_inv_pre_%s' % i] = (tmp > 0).sum(axis=1).values  # 前i个月有库存的天数\n",
    "#         X['last_inv_pre_%s' % i] = i - ((tmp > 0) * np.arange(i)).max(axis=1).values  # 前i个月距离上一次有库存的天数\n",
    "#         X['first_inv_pre_%s' % i] = ((tmp > 0) * np.arange(i, 0, -1)).max(axis=1).values  # 前i个月距离第一次有库存的天数\n",
    "        \n",
    "    # 前12个月的提货量\n",
    "    for i in range(1, 13):\n",
    "        if month - i <= 0:\n",
    "            start_dt = date(year - 1, month + 12 - i, 1)\n",
    "        else:\n",
    "            start_dt = date(year, month - i, 1)\n",
    "        X['ord_pre_%s' % i] = order[pd.date_range(start_dt, periods=1, freq='M')].values.ravel()\n",
    "        \n",
    "    # 前9个月的分销量>_<|||\n",
    "#     for i in range(1, 10):\n",
    "#         if month - i <= 0:\n",
    "#             start_dt = date(year - 1, month + 12 - i, 1)\n",
    "#         else:\n",
    "#             start_dt = date(year, month - i, 1)\n",
    "#         X['dis_pre_%s' % i] = dis[pd.date_range(start_dt, periods=1, freq='M')].values.ravel()\n",
    "       \n",
    "    # 前6个月的库存量>_<|||\n",
    "#     for i in range(1, 7):\n",
    "#         if month - i <= 0:\n",
    "#             start_dt = date(year - 1, month + 12 - i, 1)\n",
    "#         else:\n",
    "#             start_dt = date(year, month - i, 1)\n",
    "#         X['inv_pre_%s' % i] = inv[pd.date_range(start_dt, periods=1, freq='M')].values.ravel()\n",
    "        \n",
    "    X = pd.DataFrame(X)\n",
    "    \n",
    "    if is_train:\n",
    "        start_dt = date(year, month, 1)\n",
    "        y = order[pd.date_range(start_dt, periods=3, freq='M')].values\n",
    "        return X, y\n",
    "    \n",
    "    if name_prefix is not None:\n",
    "        X.columns = ['%s_%s' % (name_prefix, c) for c in X.columns]\n",
    "        \n",
    "    return X"
   ]
  },
  {
   "cell_type": "markdown",
   "metadata": {},
   "source": [
    "## 2.1 准备训练集"
   ]
  },
  {
   "cell_type": "code",
   "execution_count": 36,
   "metadata": {},
   "outputs": [],
   "source": [
    "train_month = [ \n",
    "    '2018-01', \n",
    "    '2018-02', \n",
    "    '2018-03', \n",
    "    '2018-04'\n",
    "]\n",
    "\n",
    "X_l, y_l = [], []\n",
    "for month in train_month:\n",
    "    y, m = int(month.split('-')[0]), int(month.split('-')[1])\n",
    "    \n",
    "    X_tmp, y_tmp = prepare_dataset(order_month, dis_month, inv_month, y, m)\n",
    "    \n",
    "#     X_tmp2 = prepare_dataset(order_cate_month, dis_cate_month, inv_cate_month, y, m, is_train=False, name_prefix='cate')\n",
    "#     X_tmp2.index = order_cate_month.index\n",
    "#     X_tmp2 = X_tmp2.reindex(category['category']).reset_index(drop=True)\n",
    "    \n",
    "#     X_tmp = pd.concat([X_tmp, X_tmp2, category.reset_index(drop=True)], axis=1)\n",
    "    X_l.append(X_tmp)\n",
    "    y_l.append(y_tmp)\n",
    "    \n",
    "#     del X_tmp, y_tmp, X_tmp2\n",
    "#     gc.collect()\n",
    "    \n",
    "X_train = pd.concat(X_l, axis=0)\n",
    "y_train = np.concatenate(y_l, axis=0)"
   ]
  },
  {
   "cell_type": "markdown",
   "metadata": {},
   "source": [
    "## 2.2 准备验证集"
   ]
  },
  {
   "cell_type": "code",
   "execution_count": 37,
   "metadata": {},
   "outputs": [],
   "source": [
    "X_val, y_val = prepare_dataset(order_month, dis_month, inv_month, 2018, 7)\n",
    "\n",
    "# X_val2 = prepare_dataset(order_cate_month, dis_cate_month, inv_cate_month, 2018, 7, is_train=False, name_prefix='cate')\n",
    "# X_val2.index = order_cate_month.index\n",
    "# X_val2 = X_val2.reindex(category['category']).reset_index(drop=True)\n",
    "\n",
    "# X_val = pd.concat([X_val, X_val2, category.reset_index(drop=True)], axis=1)\n",
    "\n",
    "# del X_val2\n",
    "# gc.collect()"
   ]
  },
  {
   "cell_type": "markdown",
   "metadata": {},
   "source": [
    "## 2.3 准备测试集"
   ]
  },
  {
   "cell_type": "code",
   "execution_count": 38,
   "metadata": {},
   "outputs": [],
   "source": [
    "X_test, y_test = prepare_dataset(order_month, dis_month, inv_month, 2018, 10)\n",
    "\n",
    "# X_test2 = prepare_dataset(order_cate_month, dis_cate_month, inv_cate_month, 2018, 10, is_train=False, name_prefix='cate')\n",
    "# X_test2.index = order_cate_month.index\n",
    "# X_test2 = X_test2.reindex(category['category']).reset_index(drop=True)\n",
    "\n",
    "# X_test = pd.concat([X_test, X_test2, category.reset_index(drop=True)], axis=1)\n",
    "\n",
    "# del X_test2\n",
    "# gc.collect()"
   ]
  },
  {
   "cell_type": "markdown",
   "metadata": {},
   "source": [
    "# 3 训练和预测"
   ]
  },
  {
   "cell_type": "code",
   "execution_count": 40,
   "metadata": {},
   "outputs": [
    {
     "name": "stdout",
     "output_type": "stream",
     "text": [
      "[INFO] Start training and predicting...\n",
      "[INFO] Finished! ( ^ _ ^ ) V\n",
      "[INFO] Done in 45.709098 seconds.\n"
     ]
    }
   ],
   "source": [
    "print(\"[INFO] Start training and predicting...\")\n",
    "t0 = time()\n",
    "\n",
    "pred_val, pred_test = [], []\n",
    "for i in range(3):\n",
    "    svr = SVR(kernel='rbf', gamma='auto', C=100, epsilon=0.1)\n",
    "    svr.fit(X_train, y_train[:,i])\n",
    "    pred_val.append(svr.predict(X_val))\n",
    "    pred_test.append(svr.predict(X_test))\n",
    "    \n",
    "print(\"[INFO] Finished! ( ^ _ ^ ) V\")\n",
    "print(\"[INFO] Done in %f seconds.\" % (time() - t0))"
   ]
  },
  {
   "cell_type": "code",
   "execution_count": 43,
   "metadata": {},
   "outputs": [
    {
     "name": "stdout",
     "output_type": "stream",
     "text": [
      "The MSE error of validation set is: 850.3295281388049\n"
     ]
    }
   ],
   "source": [
    "print(\"The MSE error of validation set is:\", mean_squared_error(y_val, np.array(pred_val).transpose()))"
   ]
  },
  {
   "cell_type": "markdown",
   "metadata": {},
   "source": [
    "评价指标为**归一化加权均方根对数误差（Normalized Weighted Root Mean Squared Logarithmic Error, NWRMSLE）**，表达式如下：\n",
    "\n",
    "$$\n",
    "\\text{NWRMSLE} = \\sqrt{ \\frac{\\sum_{i=1}^{m}\\omega_i \\sum_{j=1}^{t}\\left( \\ln \\left(\\widehat{y}_j^{(i)} + 1 \\right) -\\ln \\left(y_j^{(i)} + 1 \\right)\\right)^2}{t\\cdot \\sum_{i=1}^{m}\\omega_i} }\n",
    "$$"
   ]
  },
  {
   "cell_type": "code",
   "execution_count": 42,
   "metadata": {},
   "outputs": [
    {
     "name": "stdout",
     "output_type": "stream",
     "text": [
      "The NWRMSLE error of validation set is: 29.160410287559483\n"
     ]
    }
   ],
   "source": [
    "# 归一化加权均方根对数误差\n",
    "err = (y_val - np.array(pred_val).transpose()) ** 2\n",
    "err = err.sum(axis=1)\n",
    "err = np.sqrt(err.sum() / 3 / len(y_val))\n",
    "print(\"The NWRMSLE error of validation set is:\", err)"
   ]
  },
  {
   "cell_type": "code",
   "execution_count": null,
   "metadata": {},
   "outputs": [],
   "source": []
  }
 ],
 "metadata": {
  "kernelspec": {
   "display_name": "Python 3",
   "language": "python",
   "name": "python3"
  },
  "language_info": {
   "codemirror_mode": {
    "name": "ipython",
    "version": 3
   },
   "file_extension": ".py",
   "mimetype": "text/x-python",
   "name": "python",
   "nbconvert_exporter": "python",
   "pygments_lexer": "ipython3",
   "version": "3.6.7"
  }
 },
 "nbformat": 4,
 "nbformat_minor": 2
}
