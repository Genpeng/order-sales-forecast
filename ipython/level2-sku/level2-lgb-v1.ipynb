{
 "cells": [
  {
   "cell_type": "code",
   "execution_count": 1,
   "metadata": {},
   "outputs": [],
   "source": [
    "import gc\n",
    "import numpy as np\n",
    "import pandas as pd\n",
    "import lightgbm as lgb\n",
    "from time import time\n",
    "from datetime import date\n",
    "from sklearn.metrics import mean_squared_error\n",
    "from sklearn.preprocessing import LabelEncoder\n",
    "\n",
    "import matplotlib.pyplot as plt\n",
    "%matplotlib inline"
   ]
  },
  {
   "cell_type": "code",
   "execution_count": 2,
   "metadata": {},
   "outputs": [],
   "source": [
    "pd.set_option('display.max_columns', 1000)"
   ]
  },
  {
   "cell_type": "markdown",
   "metadata": {},
   "source": [
    "# 1 数据预处理"
   ]
  },
  {
   "cell_type": "code",
   "execution_count": 3,
   "metadata": {},
   "outputs": [],
   "source": [
    "# 载入数据\n",
    "order = pd.read_csv(\"../../data/level2/m111-order-sku.csv\", sep=',', parse_dates=['order_date'])\n",
    "dis = pd.read_csv(\"../../data/level2/m111-dis-sku.csv\", sep=',', parse_dates=['dis_date'])\n",
    "inv = pd.read_csv(\n",
    "    \"../../data/level2/m111-inv-sku.csv\", sep=',', parse_dates=['period_wid']\n",
    ").rename(columns={'period_wid': 'inv_date'})\n",
    "category = pd.read_csv(\n",
    "    \"../../data/level2/m111-item-category.csv\", sep=','\n",
    ").rename(columns={'sales_segment1_code': 'category'})"
   ]
  },
  {
   "cell_type": "markdown",
   "metadata": {},
   "source": [
    "## 1.1 处理订单数据"
   ]
  },
  {
   "cell_type": "code",
   "execution_count": 4,
   "metadata": {},
   "outputs": [],
   "source": [
    "# 取2017年至2018年区间中的数据\n",
    "order = order.loc[(order['order_date'] >= '2017-01-01') & (order['order_date'] <= '2018-12-31')]"
   ]
  },
  {
   "cell_type": "code",
   "execution_count": 5,
   "metadata": {},
   "outputs": [],
   "source": [
    "# 删除订单量为0的记录\n",
    "order = order.loc[~(order.qty == 0)]"
   ]
  },
  {
   "cell_type": "code",
   "execution_count": 6,
   "metadata": {},
   "outputs": [],
   "source": [
    "# 删除异常值\n",
    "order = order.join(category.set_index('item_code'), on='item_code', how='left').fillna('-1')\n",
    "order = order.loc[~(order.category == 'TGWL')]\n",
    "order = order.loc[~(order.category == -1)]\n",
    "order = order.loc[~((order.category == 'CRYJ') & (order.qty > 10000))]\n",
    "order = order.loc[~((order.category == 'CRZJ') & (order.qty > 10000))]\n",
    "order = order.loc[~((order.category == 'CRZTCF') & (order.qty > 10000))]\n",
    "order = order.loc[~((order.category == 'RR') & (order.qty > 10000))]"
   ]
  },
  {
   "cell_type": "code",
   "execution_count": 7,
   "metadata": {},
   "outputs": [],
   "source": [
    "# 划分数据集\n",
    "df_test = order.loc[order['order_date'] >= '2018-10-01']\n",
    "order = order.loc[order['order_date'] <= '2018-09-30']"
   ]
  },
  {
   "cell_type": "code",
   "execution_count": 8,
   "metadata": {},
   "outputs": [
    {
     "data": {
      "text/plain": [
       "array(['YSJ', 'JSJ', 'DR', 'RR', 'CRZJ', 'CRYJ', 'CRXDG', 'CRXWJ',\n",
       "       'CRZTCF', 'CRLJCLQ', 'RQL', 'CRJCZ'], dtype=object)"
      ]
     },
     "execution_count": 8,
     "metadata": {},
     "output_type": "execute_result"
    }
   ],
   "source": [
    "order.category.unique()"
   ]
  },
  {
   "cell_type": "code",
   "execution_count": 9,
   "metadata": {},
   "outputs": [],
   "source": [
    "# 取对数\n",
    "order['qty'] = np.log1p(order['qty'])"
   ]
  },
  {
   "cell_type": "code",
   "execution_count": 10,
   "metadata": {},
   "outputs": [],
   "source": [
    "df_test['month'] = df_test['order_date'].astype('str').apply(lambda x: x[:7])\n",
    "df_test = df_test.groupby(['item_code', 'month'])[['qty']].sum()"
   ]
  },
  {
   "cell_type": "code",
   "execution_count": 11,
   "metadata": {},
   "outputs": [],
   "source": [
    "order_month = order.copy()\n",
    "order_month['month'] = order_month['order_date'].astype('str').apply(lambda x: x[:7])\n",
    "order_month = order_month.groupby(['item_code', 'month'])[['qty']].sum()\n",
    "order_month = order_month.unstack(level=-1).fillna(0)\n",
    "order_month.columns = pd.date_range('2017-01-31', '2018-09-30', freq='M')"
   ]
  },
  {
   "cell_type": "markdown",
   "metadata": {},
   "source": [
    "## 1.2 处理分销数据"
   ]
  },
  {
   "cell_type": "code",
   "execution_count": 12,
   "metadata": {},
   "outputs": [],
   "source": [
    "# 取2017年至2018年区间中的数据（分销数据只有从3月份开始的数据且3月份不完整）>_<|||\n",
    "dis = dis.loc[(dis['dis_date'] >= '2017-04-01') & (dis['dis_date'] <= '2018-09-30')]"
   ]
  },
  {
   "cell_type": "code",
   "execution_count": 13,
   "metadata": {},
   "outputs": [],
   "source": [
    "# 处理分销量为负数的情况\n",
    "dis['qty'] = dis['qty'].apply(lambda x: -x if x < 0 else x)"
   ]
  },
  {
   "cell_type": "code",
   "execution_count": 14,
   "metadata": {},
   "outputs": [],
   "source": [
    "# 删除分销量为0的记录\n",
    "dis = dis.loc[~(dis.qty == 0)]"
   ]
  },
  {
   "cell_type": "code",
   "execution_count": 15,
   "metadata": {},
   "outputs": [],
   "source": [
    "# 删除异常值\n",
    "dis = dis.join(category.set_index('item_code'), on='item_code', how='left').fillna('-1')\n",
    "dis = dis.loc[~(dis.category == 'TGWL')]\n",
    "dis = dis.loc[~(dis.category == '-1')]\n",
    "dis = dis.loc[~((dis.category == 'CRYJ') & (dis.item_code == '12173000000014'))]\n",
    "dis = dis.loc[~((dis.category == 'CRZTCF') & (dis.qty > 10000))]\n",
    "dis = dis.loc[~((dis.category == 'RR') & (dis.item_code == '21099910000123'))]"
   ]
  },
  {
   "cell_type": "code",
   "execution_count": 16,
   "metadata": {},
   "outputs": [],
   "source": [
    "# dis['qty'] = np.log1p(dis['qty'])"
   ]
  },
  {
   "cell_type": "code",
   "execution_count": 17,
   "metadata": {},
   "outputs": [],
   "source": [
    "dis_month = dis.copy()\n",
    "dis_month['month'] = dis_month['dis_date'].astype('str').apply(lambda x: x[:7])\n",
    "dis_month = dis_month.groupby(['item_code', 'month'])[['qty']].sum()\n",
    "dis_month = dis_month.unstack(level=-1).fillna(0)\n",
    "dis_month.columns = pd.date_range('2017-04-30', '2018-09-30', freq='M')\n",
    "dis_month = dis_month.reindex(order_month.index).fillna(0)"
   ]
  },
  {
   "cell_type": "markdown",
   "metadata": {},
   "source": [
    "## 1.3 处理库存数据"
   ]
  },
  {
   "cell_type": "markdown",
   "metadata": {},
   "source": [
    "**问题**：\n",
    "1. 按月进行统计的话，订单、提货、分销的数值很大，只要拟合不准，误差将是巨大的\n",
    "2. 现在库存是取SKU最后一天的库存作为当月的库存，但是这样也有个问题——会有一些SKU在最后一天没有记录（但是如果以天作为预测粒度的话，就不存在这个问题了）"
   ]
  },
  {
   "cell_type": "code",
   "execution_count": 18,
   "metadata": {},
   "outputs": [],
   "source": [
    "# 取2017年至2018年区间中的数据（库存数据只有从2017年6月份开始的数据）>_<|||\n",
    "inv = inv.loc[(inv['inv_date'] >= '2017-06-01') & (inv['inv_date'] <= '2018-09-30')]"
   ]
  },
  {
   "cell_type": "code",
   "execution_count": 19,
   "metadata": {},
   "outputs": [],
   "source": [
    "# 处理分销量为负数的情况\n",
    "# inv['qty'] = inv['qty'].apply(lambda x: -x if x < 0 else x)\n",
    "\n",
    "# 删除库存数据中小于等于0的记录\n",
    "# 疑问：为什么会存在库存小于0的记录（入不敷出）？\n",
    "inv = inv.loc[~(inv.qty <= 0)]"
   ]
  },
  {
   "cell_type": "code",
   "execution_count": 20,
   "metadata": {},
   "outputs": [],
   "source": [
    "# 取每月的最后一天作为当月的库存\n",
    "inv = inv.loc[inv['inv_date'].isin(pd.date_range('2017-06-30', '2018-09-30', freq='M'))]"
   ]
  },
  {
   "cell_type": "code",
   "execution_count": 21,
   "metadata": {},
   "outputs": [],
   "source": [
    "inv = inv.join(category.set_index('item_code'), on='item_code', how='left').fillna('-1')"
   ]
  },
  {
   "cell_type": "code",
   "execution_count": 22,
   "metadata": {},
   "outputs": [],
   "source": [
    "# 删除异常值\n",
    "# inv = inv.loc[~(inv.qty > 1000000)]\n",
    "inv = inv.loc[~(inv.category == '-1')]\n",
    "inv = inv.loc[~(inv.category == 'TGWL')]\n",
    "inv = inv.loc[~((inv.category == 'RR') & (inv.item_code == '21099910000123'))]\n",
    "inv = inv.loc[~((inv.category == 'CRZTCF') & (inv.item_code == '21074110000008'))]\n",
    "inv = inv.loc[~((inv.category == 'JSJ') & (inv.item_code == '21099910000164'))]\n",
    "inv = inv.loc[~((inv.category == 'JSJ') & (inv.item_code == '21012500000009'))]"
   ]
  },
  {
   "cell_type": "code",
   "execution_count": 23,
   "metadata": {},
   "outputs": [],
   "source": [
    "# inv['qty'] = np.log1p(inv['qty'])"
   ]
  },
  {
   "cell_type": "code",
   "execution_count": 24,
   "metadata": {},
   "outputs": [],
   "source": [
    "inv_month = inv.copy()\n",
    "inv_month['month'] = inv_month['inv_date'].astype('str').apply(lambda x: x[:7])\n",
    "inv_month = inv_month.groupby(['item_code', 'month'])[['qty']].sum()\n",
    "inv_month = inv_month.unstack(level=-1).fillna(0)\n",
    "inv_month.columns = pd.date_range('2017-06-30', '2018-09-30', freq='M')\n",
    "inv_month = inv_month.reindex(order_month.index).fillna(0)"
   ]
  },
  {
   "cell_type": "markdown",
   "metadata": {},
   "source": [
    "## 1.4 处理品类信息"
   ]
  },
  {
   "cell_type": "code",
   "execution_count": 25,
   "metadata": {},
   "outputs": [],
   "source": [
    "# Pandas的bug：'21054110000024', '21054110000025', '21054110000084', '21054110000085' 这4个字符串居然是重复的，取消注释即可看到\n",
    "# category.loc[category.item_code.duplicated()]"
   ]
  },
  {
   "cell_type": "code",
   "execution_count": 26,
   "metadata": {},
   "outputs": [],
   "source": [
    "# 解决上面bug的下策，避免下面reindex报错\n",
    "category.drop_duplicates(['item_code'], keep='first', inplace=True)"
   ]
  },
  {
   "cell_type": "code",
   "execution_count": 27,
   "metadata": {},
   "outputs": [],
   "source": [
    "category = category.set_index('item_code').reindex(order_month.index)"
   ]
  },
  {
   "cell_type": "code",
   "execution_count": 28,
   "metadata": {},
   "outputs": [],
   "source": [
    "encoder = LabelEncoder()\n",
    "category['category'] = encoder.fit_transform(category['category'])"
   ]
  },
  {
   "cell_type": "markdown",
   "metadata": {},
   "source": [
    "## 1.5 得到每个品类每个月的提货数据"
   ]
  },
  {
   "cell_type": "code",
   "execution_count": 29,
   "metadata": {},
   "outputs": [],
   "source": [
    "order_cate_month = order_month.reset_index()\n",
    "order_cate_month['category'] = category['category'].values\n",
    "order_cate_month = order_cate_month.groupby('category')[order_month.columns].sum()"
   ]
  },
  {
   "cell_type": "markdown",
   "metadata": {},
   "source": [
    "## 1.6 得到每个品类每个月的分销数据"
   ]
  },
  {
   "cell_type": "code",
   "execution_count": 30,
   "metadata": {},
   "outputs": [],
   "source": [
    "dis_cate_month = dis_month.reset_index()\n",
    "dis_cate_month['category'] = category['category'].values\n",
    "dis_cate_month = dis_cate_month.groupby('category')[dis_month.columns].sum()"
   ]
  },
  {
   "cell_type": "markdown",
   "metadata": {},
   "source": [
    "## 1.7 得到每个品类每个月的库存数据"
   ]
  },
  {
   "cell_type": "code",
   "execution_count": 31,
   "metadata": {},
   "outputs": [],
   "source": [
    "inv_cate_month = inv_month.reset_index()\n",
    "inv_cate_month['category'] = category['category'].values\n",
    "inv_cate_month = inv_cate_month.groupby('category')[inv_month.columns].sum()"
   ]
  },
  {
   "cell_type": "markdown",
   "metadata": {},
   "source": [
    "# 2 特征工程"
   ]
  },
  {
   "cell_type": "code",
   "execution_count": 32,
   "metadata": {},
   "outputs": [],
   "source": [
    "def prepare_dataset(order, dis, inv, year, month, is_train=True, name_prefix=None):\n",
    "    X = {}\n",
    "    \n",
    "    # 提货的统计特征（28个特征）\n",
    "    for i in [3, 6, 9, 12]:\n",
    "        dt = date(year, month, 1)\n",
    "        tmp = order[pd.date_range(end=dt, periods=i, freq='M')]  # 前i个月提货量\n",
    "        X['ord_diff_mean_pre_%s' % i] = tmp.diff(axis=1).mean(axis=1).values  # 前i个月提货量的平均一阶差分\n",
    "        X['ord_sum_decay_pre_%s' % i] = (tmp * np.power(0.9, np.arange(i)[::-1])).sum(axis=1).values  # 前i个月提货量的和（带衰减）\n",
    "        X['ord_mean_pre_%s' % i] = tmp.mean(axis=1).values  # 前i个月提货量的平均值\n",
    "        X['ord_median_pre_%s' % i] = tmp.median(axis=1).values  # 前i个月提货量的中位数\n",
    "        X['ord_max_pre_%s' % i] = tmp.max(axis=1).values  # 前i个月提货量的最大值\n",
    "        X['ord_min_pre_%s' % i] = tmp.min(axis=1).values  # 前i个月提货量的最小值\n",
    "        X['ord_std_pre_%s' % i] = tmp.std(axis=1).values  # 前i个月提货量的标准差\n",
    "        \n",
    "    # 分销的统计特征（21个特征）>_<|||\n",
    "    for i in [3, 6, 9]:\n",
    "        dt = date(year, month, 1)\n",
    "        tmp = dis[pd.date_range(end=dt, periods=i, freq='M')]  # 前i个月分销量\n",
    "        X['dis_diff_mean_pre_%s' % i] = tmp.diff(axis=1).mean(axis=1).values  # 前i个月分销量的平均一阶差分\n",
    "        X['dis_sum_decay_pre_%s' % i] = (tmp * np.power(0.9, np.arange(i)[::-1])).sum(axis=1).values  # 前i个月分销量的和（带衰减）\n",
    "        X['dis_mean_pre_%s' % i] = tmp.mean(axis=1).values  # 前i个月分销量的均值\n",
    "        X['dis_median_pre_%s' % i] = tmp.median(axis=1).values  # 前i个月分销量的中位数\n",
    "        X['dis_max_pre_%s' % i] = tmp.max(axis=1).values  # 前i个月分销量的最大值\n",
    "        X['dis_min_pre_%s' % i] = tmp.min(axis=1).values  # 前i个月分销量的最小值\n",
    "        X['dis_std_pre_%s' % i] = tmp.std(axis=1).values  # 前i个月分销量的标准差\n",
    "        \n",
    "    # 库存的统计特征（14个）>_<|||\n",
    "    for i in [3, 6]:\n",
    "        dt = date(year, month, 1)\n",
    "        tmp = inv[pd.date_range(end=dt, periods=i, freq='M')]  # 前i个月库存量\n",
    "        X['inv_diff_mean_pre_%s' % i] = tmp.diff(axis=1).mean(axis=1).values  # 前i个月库存量的平均一阶差分\n",
    "        X['inv_sum_decay_pre_%s' % i] = (tmp * np.power(0.9, np.arange(i)[::-1])).sum(axis=1).values  # 前i个月库存量的和（带衰减）\n",
    "        X['inv_mean_pre_%s' % i] = tmp.mean(axis=1).values  # 前i个月库存量的均值\n",
    "        X['inv_median_pre_%s' % i] = tmp.median(axis=1).values  # 前i个月库存量的中位数\n",
    "        X['inv_max_pre_%s' % i] = tmp.max(axis=1).values  # 前i个月库存量的最大值\n",
    "        X['inv_min_pre_%s' % i] = tmp.min(axis=1).values  # 前i个月库存量的最小值\n",
    "        X['inv_std_pre_%s' % i] = tmp.std(axis=1).values  # 前i个月库存量的标准差\n",
    "        \n",
    "    # 提货天数特征（12个特征）\n",
    "    for i in [3, 6, 9, 12]:\n",
    "        dt = date(year, month, 1)\n",
    "        tmp = order[pd.date_range(end=dt, periods=i, freq='M')]\n",
    "        X['has_ord_pre_%s' % i] = (tmp > 0).sum(axis=1).values  # 前i个月有提货的天数\n",
    "        X['last_ord_pre_%s' % i] = i - ((tmp > 0) * np.arange(i)).max(axis=1).values  # 前i个月距离上一次有提货的天数\n",
    "        X['first_ord_pre_%s' % i] = ((tmp > 0) * np.arange(i, 0, -1)).max(axis=1).values  # 前i个月距离第一次有提货的天数\n",
    "        \n",
    "    # 分销天数特征（9个特征）>_<|||\n",
    "    for i in [3, 6, 9]:\n",
    "        dt = date(year, month, 1)\n",
    "        tmp = dis[pd.date_range(end=dt, periods=i, freq='M')]\n",
    "        X['has_dis_pre_%s' % i] = (tmp > 0).sum(axis=1).values  # 前i个月有分销的天数\n",
    "        X['last_dis_pre_%s' % i] = i - ((tmp > 0) * np.arange(i)).max(axis=1).values  # 前i个月距离上一次有分销的天数\n",
    "        X['first_dis_pre_%s' % i] = ((tmp > 0) * np.arange(i, 0, -1)).max(axis=1).values  # 前i个月距离第一次有分销的天数\n",
    "        \n",
    "    # 库存天数特征（6个特征）>_<|||\n",
    "    for i in [3, 6]:\n",
    "        dt = date(year, month, 1)\n",
    "        tmp = inv[pd.date_range(end=dt, periods=i, freq='M')]\n",
    "        X['has_inv_pre_%s' % i] = (tmp > 0).sum(axis=1).values  # 前i个月有库存的天数\n",
    "        X['last_inv_pre_%s' % i] = i - ((tmp > 0) * np.arange(i)).max(axis=1).values  # 前i个月距离上一次有库存的天数\n",
    "        X['first_inv_pre_%s' % i] = ((tmp > 0) * np.arange(i, 0, -1)).max(axis=1).values  # 前i个月距离第一次有库存的天数\n",
    "        \n",
    "    # 前12个月的提货量\n",
    "    for i in range(1, 13):\n",
    "        if month - i <= 0:\n",
    "            start_dt = date(year - 1, month + 12 - i, 1)\n",
    "        else:\n",
    "            start_dt = date(year, month - i, 1)\n",
    "        X['ord_pre_%s' % i] = order[pd.date_range(start_dt, periods=1, freq='M')].values.ravel()\n",
    "        \n",
    "    # 前9个月的分销量>_<|||\n",
    "    for i in range(1, 10):\n",
    "        if month - i <= 0:\n",
    "            start_dt = date(year - 1, month + 12 - i, 1)\n",
    "        else:\n",
    "            start_dt = date(year, month - i, 1)\n",
    "        X['dis_pre_%s' % i] = dis[pd.date_range(start_dt, periods=1, freq='M')].values.ravel()\n",
    "       \n",
    "    # 前6个月的库存量>_<|||\n",
    "    for i in range(1, 7):\n",
    "        if month - i <= 0:\n",
    "            start_dt = date(year - 1, month + 12 - i, 1)\n",
    "        else:\n",
    "            start_dt = date(year, month - i, 1)\n",
    "        X['inv_pre_%s' % i] = inv[pd.date_range(start_dt, periods=1, freq='M')].values.ravel()\n",
    "        \n",
    "    X = pd.DataFrame(X)\n",
    "    \n",
    "    if is_train:\n",
    "        start_dt = date(year, month, 1)\n",
    "        y = order[pd.date_range(start_dt, periods=3, freq='M')].values\n",
    "        return X, y\n",
    "    \n",
    "    if name_prefix is not None:\n",
    "        X.columns = ['%s_%s' % (name_prefix, c) for c in X.columns]\n",
    "        \n",
    "    return X"
   ]
  },
  {
   "cell_type": "markdown",
   "metadata": {},
   "source": [
    "## 2.1 准备训练集"
   ]
  },
  {
   "cell_type": "code",
   "execution_count": 33,
   "metadata": {},
   "outputs": [],
   "source": [
    "train_month = [ \n",
    "    '2018-01', \n",
    "    '2018-02', \n",
    "    '2018-03', \n",
    "    '2018-04'\n",
    "]\n",
    "\n",
    "X_l, y_l = [], []\n",
    "for month in train_month:\n",
    "    y, m = int(month.split('-')[0]), int(month.split('-')[1])\n",
    "    \n",
    "    X_tmp, y_tmp = prepare_dataset(order_month, dis_month, inv_month, y, m)\n",
    "    \n",
    "    X_tmp2 = prepare_dataset(order_cate_month, dis_cate_month, inv_cate_month, y, m, is_train=False, name_prefix='cate')\n",
    "    X_tmp2.index = order_cate_month.index\n",
    "    X_tmp2 = X_tmp2.reindex(category['category']).reset_index(drop=True)\n",
    "    \n",
    "    X_tmp = pd.concat([X_tmp, X_tmp2, category.reset_index(drop=True)], axis=1)\n",
    "    X_l.append(X_tmp)\n",
    "    y_l.append(y_tmp)\n",
    "    \n",
    "    del X_tmp, y_tmp, X_tmp2\n",
    "    gc.collect()\n",
    "    \n",
    "X_train = pd.concat(X_l, axis=0)\n",
    "y_train = np.concatenate(y_l, axis=0)"
   ]
  },
  {
   "cell_type": "markdown",
   "metadata": {},
   "source": [
    "## 2.2 准备验证集"
   ]
  },
  {
   "cell_type": "code",
   "execution_count": 34,
   "metadata": {},
   "outputs": [
    {
     "data": {
      "text/plain": [
       "0"
      ]
     },
     "execution_count": 34,
     "metadata": {},
     "output_type": "execute_result"
    }
   ],
   "source": [
    "X_val, y_val = prepare_dataset(order_month, dis_month, inv_month, 2018, 7)\n",
    "\n",
    "X_val2 = prepare_dataset(order_cate_month, dis_cate_month, inv_cate_month, 2018, 7, is_train=False, name_prefix='cate')\n",
    "X_val2.index = order_cate_month.index\n",
    "X_val2 = X_val2.reindex(category['category']).reset_index(drop=True)\n",
    "\n",
    "X_val = pd.concat([X_val, X_val2, category.reset_index(drop=True)], axis=1)\n",
    "\n",
    "del X_val2\n",
    "gc.collect()"
   ]
  },
  {
   "cell_type": "markdown",
   "metadata": {},
   "source": [
    "## 2.3 准备测试集"
   ]
  },
  {
   "cell_type": "code",
   "execution_count": 35,
   "metadata": {},
   "outputs": [
    {
     "data": {
      "text/plain": [
       "0"
      ]
     },
     "execution_count": 35,
     "metadata": {},
     "output_type": "execute_result"
    }
   ],
   "source": [
    "X_test = prepare_dataset(order_month, dis_month, inv_month, 2018, 10, is_train=False)\n",
    "\n",
    "X_test2 = prepare_dataset(order_cate_month, dis_cate_month, inv_cate_month, 2018, 10, is_train=False, name_prefix='cate')\n",
    "X_test2.index = order_cate_month.index\n",
    "X_test2 = X_test2.reindex(category['category']).reset_index(drop=True)\n",
    "\n",
    "X_test = pd.concat([X_test, X_test2, category.reset_index(drop=True)], axis=1)\n",
    "\n",
    "del X_test2\n",
    "gc.collect()"
   ]
  },
  {
   "cell_type": "markdown",
   "metadata": {},
   "source": [
    "# 3 训练和预测"
   ]
  },
  {
   "cell_type": "code",
   "execution_count": 35,
   "metadata": {},
   "outputs": [
    {
     "name": "stdout",
     "output_type": "stream",
     "text": [
      "[INFO] Start training and predicting...\n",
      "==================================================\n",
      "Step 1\n",
      "==================================================\n"
     ]
    },
    {
     "name": "stderr",
     "output_type": "stream",
     "text": [
      "/root/miniconda3/envs/xPy3/lib/python3.6/site-packages/lightgbm/basic.py:1184: UserWarning: Using categorical_feature in Dataset.\n",
      "  warnings.warn('Using categorical_feature in Dataset.')\n"
     ]
    },
    {
     "name": "stdout",
     "output_type": "stream",
     "text": [
      "Training until validation scores don't improve for 125 rounds.\n",
      "[50]\ttraining's l2: 1.3377e+07\tvalid_1's l2: 4.59404e+06\n",
      "[100]\ttraining's l2: 1.12081e+07\tvalid_1's l2: 3.91446e+06\n",
      "[150]\ttraining's l2: 1.04146e+07\tvalid_1's l2: 3.746e+06\n",
      "[200]\ttraining's l2: 9.89668e+06\tvalid_1's l2: 3.64957e+06\n",
      "[250]\ttraining's l2: 9.46655e+06\tvalid_1's l2: 3.59749e+06\n",
      "[300]\ttraining's l2: 9.0817e+06\tvalid_1's l2: 3.52912e+06\n",
      "[350]\ttraining's l2: 8.73805e+06\tvalid_1's l2: 3.47645e+06\n",
      "[400]\ttraining's l2: 8.49151e+06\tvalid_1's l2: 3.47802e+06\n",
      "[450]\ttraining's l2: 8.2394e+06\tvalid_1's l2: 3.47741e+06\n",
      "[500]\ttraining's l2: 8.02626e+06\tvalid_1's l2: 3.46907e+06\n",
      "[550]\ttraining's l2: 7.83597e+06\tvalid_1's l2: 3.50303e+06\n",
      "[600]\ttraining's l2: 7.66836e+06\tvalid_1's l2: 3.51518e+06\n",
      "Early stopping, best iteration is:\n",
      "[481]\ttraining's l2: 8.09517e+06\tvalid_1's l2: 3.44291e+06\n",
      "ord_pre_2: 303793377713.00\n",
      "ord_mean_pre_3: 257930303271.00\n",
      "ord_sum_decay_pre_6: 228871250976.10\n",
      "ord_sum_decay_pre_3: 207568036933.00\n",
      "ord_pre_4: 146634986951.00\n",
      "ord_pre_1: 103304760853.10\n",
      "ord_max_pre_9: 72405147723.70\n",
      "ord_max_pre_6: 72053094451.00\n",
      "ord_max_pre_3: 68545961765.00\n",
      "ord_min_pre_3: 48141922673.00\n",
      "ord_pre_7: 41062316632.30\n",
      "ord_max_pre_12: 30438097163.95\n",
      "ord_std_pre_12: 28114690188.10\n",
      "ord_mean_pre_6: 23635128101.00\n",
      "ord_pre_10: 23295713537.33\n",
      "cate_ord_pre_4: 21331040946.06\n",
      "ord_std_pre_3: 17265016315.00\n",
      "ord_std_pre_6: 16644052518.40\n",
      "ord_median_pre_9: 14596763583.00\n",
      "ord_pre_12: 13063492947.17\n",
      "ord_sum_decay_pre_9: 12633334222.92\n",
      "cate_ord_diff_mean_pre_9: 11055537556.87\n",
      "ord_min_pre_12: 10130167656.00\n",
      "dis_pre_8: 9316322045.18\n",
      "ord_median_pre_6: 8819127193.00\n",
      "ord_pre_6: 7703318959.00\n",
      "ord_mean_pre_12: 7606148782.29\n",
      "ord_pre_3: 7554211754.00\n",
      "inv_pre_2: 7502365713.10\n",
      "ord_diff_mean_pre_3: 7386220332.00\n",
      "ord_sum_decay_pre_12: 7378905168.64\n",
      "ord_diff_mean_pre_9: 6687919448.00\n",
      "cate_ord_std_pre_3: 5689753677.20\n",
      "dis_diff_mean_pre_9: 5096557353.40\n",
      "ord_min_pre_6: 4469531585.00\n",
      "ord_diff_mean_pre_12: 4275992262.20\n",
      "ord_pre_5: 4210099885.00\n",
      "ord_pre_11: 4174826115.90\n",
      "ord_pre_9: 4039874842.00\n",
      "inv_std_pre_6: 3999732026.61\n",
      "inv_std_pre_3: 3903405394.51\n",
      "ord_median_pre_3: 3676776441.70\n",
      "dis_pre_2: 3529429808.90\n",
      "cate_ord_pre_1: 3449216694.60\n",
      "dis_pre_3: 3446580467.30\n",
      "dis_max_pre_9: 3198706907.20\n",
      "inv_pre_1: 3124306735.30\n",
      "ord_pre_8: 2749928908.50\n",
      "inv_max_pre_3: 2731265765.00\n",
      "ord_diff_mean_pre_6: 2563331009.60\n",
      "ord_median_pre_12: 2516142734.00\n",
      "ord_std_pre_9: 2384557546.17\n",
      "dis_sum_decay_pre_6: 2312709507.90\n",
      "dis_diff_mean_pre_3: 2141839890.50\n",
      "inv_median_pre_3: 2097973140.00\n",
      "dis_max_pre_6: 2020678754.40\n",
      "inv_diff_mean_pre_6: 1937046114.31\n",
      "dis_pre_4: 1795216418.58\n",
      "dis_std_pre_9: 1698473749.60\n",
      "inv_max_pre_6: 1643944352.83\n",
      "ord_mean_pre_9: 1461554694.20\n",
      "cate_inv_pre_6: 1394305685.40\n",
      "cate_ord_pre_7: 1195054003.83\n",
      "cate_inv_diff_mean_pre_3: 1173229199.79\n",
      "cate_dis_pre_8: 1084632522.00\n",
      "ord_min_pre_9: 1042488288.00\n",
      "cate_ord_pre_10: 967886416.20\n",
      "dis_mean_pre_9: 892057857.60\n",
      "dis_mean_pre_6: 877919767.60\n",
      "dis_min_pre_6: 820249906.70\n",
      "dis_pre_6: 681531348.50\n",
      "cate_dis_diff_mean_pre_3: 651612004.17\n",
      "cate_ord_diff_mean_pre_12: 646454247.05\n",
      "dis_pre_1: 625461620.40\n",
      "dis_median_pre_6: 580367263.80\n",
      "inv_diff_mean_pre_3: 544753850.30\n",
      "cate_ord_pre_2: 505313712.19\n",
      "dis_diff_mean_pre_6: 485209360.56\n",
      "cate_ord_diff_mean_pre_6: 468391163.62\n",
      "cate_inv_diff_mean_pre_6: 422270721.21\n",
      "first_inv_pre_6: 414806191.40\n",
      "inv_mean_pre_6: 384267131.70\n",
      "cate_dis_pre_4: 380849983.80\n",
      "dis_pre_7: 371238167.70\n",
      "inv_pre_3: 363223168.96\n",
      "cate_inv_pre_5: 355860757.00\n",
      "cate_ord_pre_12: 351371059.50\n",
      "inv_sum_decay_pre_3: 343956073.30\n",
      "dis_pre_9: 336481124.40\n",
      "inv_min_pre_3: 320945092.40\n",
      "cate_ord_pre_11: 312010658.00\n",
      "first_ord_pre_12: 303979869.58\n",
      "dis_median_pre_3: 301099823.70\n",
      "cate_ord_diff_mean_pre_3: 240510716.54\n",
      "inv_mean_pre_3: 222202494.20\n",
      "dis_mean_pre_3: 216413421.80\n",
      "dis_std_pre_3: 196170812.50\n",
      "dis_median_pre_9: 154915146.77\n",
      "cate_inv_min_pre_3: 140170191.60\n",
      "dis_pre_5: 128590732.79\n",
      "last_dis_pre_3: 111055751.60\n",
      "dis_sum_decay_pre_9: 107847694.60\n",
      "dis_std_pre_6: 102973953.80\n",
      "inv_median_pre_6: 102946572.60\n",
      "inv_sum_decay_pre_6: 90889598.60\n",
      "cate_ord_min_pre_12: 80391663.00\n",
      "cate_dis_pre_6: 79721446.00\n",
      "first_dis_pre_9: 73888072.00\n",
      "cate_dis_min_pre_3: 73512985.80\n",
      "cate_dis_diff_mean_pre_6: 67438030.34\n",
      "cate_inv_std_pre_6: 64663569.30\n",
      "dis_max_pre_3: 63200044.20\n",
      "cate_dis_diff_mean_pre_9: 60269114.18\n",
      "cate_inv_std_pre_3: 52890188.11\n",
      "dis_sum_decay_pre_3: 52000287.35\n",
      "cate_dis_pre_5: 51981045.70\n",
      "cate_ord_std_pre_12: 51906817.30\n",
      "cate_inv_median_pre_3: 51331451.00\n",
      "cate_ord_std_pre_6: 49952697.80\n",
      "cate_ord_pre_6: 44242757.59\n",
      "cate_ord_sum_decay_pre_3: 44137464.88\n",
      "dis_min_pre_3: 41860675.30\n",
      "cate_ord_median_pre_3: 41072493.49\n",
      "cate_ord_min_pre_3: 41070630.10\n",
      "last_ord_pre_3: 40234321.00\n",
      "cate_inv_pre_1: 37212743.00\n",
      "inv_pre_6: 36705512.34\n",
      "cate_ord_pre_9: 36581484.30\n",
      "cate_dis_pre_9: 34318702.70\n",
      "cate_ord_pre_5: 34292963.60\n",
      "cate_dis_pre_3: 31452621.00\n",
      "category: 30984741.71\n",
      "cate_dis_min_pre_9: 28787429.60\n",
      "cate_ord_sum_decay_pre_6: 28737436.20\n",
      "cate_dis_sum_decay_pre_3: 28615099.70\n",
      "cate_inv_median_pre_6: 26944717.80\n",
      "cate_has_inv_pre_6: 26143325.00\n",
      "has_dis_pre_9: 24570327.69\n",
      "first_inv_pre_3: 23724984.80\n",
      "first_dis_pre_6: 22962443.60\n",
      "cate_inv_pre_4: 22751027.70\n",
      "has_inv_pre_6: 22103046.60\n",
      "first_ord_pre_6: 21525440.20\n",
      "cate_ord_std_pre_9: 21096654.46\n",
      "cate_ord_mean_pre_3: 21067474.42\n",
      "cate_ord_max_pre_3: 20946943.80\n",
      "cate_dis_pre_2: 17753388.30\n",
      "cate_ord_mean_pre_9: 16329845.00\n",
      "cate_ord_pre_3: 16194351.10\n",
      "cate_inv_sum_decay_pre_3: 16001613.20\n",
      "cate_inv_min_pre_6: 15050627.00\n",
      "dis_min_pre_9: 14484341.40\n",
      "last_dis_pre_6: 14246117.50\n",
      "cate_dis_std_pre_6: 14231524.00\n",
      "cate_dis_pre_7: 13604194.20\n",
      "cate_ord_mean_pre_6: 13583277.00\n",
      "cate_ord_max_pre_6: 13044335.20\n",
      "inv_pre_4: 13036615.98\n",
      "cate_dis_std_pre_3: 12540964.97\n",
      "cate_first_ord_pre_12: 12324500.00\n",
      "cate_ord_pre_8: 11494015.00\n",
      "cate_ord_median_pre_6: 9542689.30\n",
      "cate_inv_pre_2: 8083914.00\n",
      "cate_dis_median_pre_3: 7322369.88\n",
      "first_dis_pre_3: 7104358.20\n",
      "cate_dis_std_pre_9: 6923711.53\n",
      "cate_dis_mean_pre_3: 6604890.00\n",
      "last_inv_pre_3: 6574765.00\n",
      "inv_min_pre_6: 6053830.65\n",
      "last_ord_pre_12: 5983101.50\n",
      "cate_ord_min_pre_9: 5952954.00\n",
      "last_ord_pre_9: 5372507.93\n",
      "has_dis_pre_6: 5210152.00\n",
      "first_ord_pre_9: 4596397.91\n",
      "cate_inv_mean_pre_3: 4389071.50\n",
      "cate_inv_pre_3: 4113918.90\n",
      "cate_last_ord_pre_3: 4108570.00\n",
      "inv_pre_5: 3844086.69\n",
      "cate_ord_min_pre_6: 3704371.20\n",
      "cate_ord_median_pre_12: 3579522.00\n",
      "cate_ord_sum_decay_pre_9: 3452158.00\n",
      "last_ord_pre_6: 2983236.80\n",
      "cate_dis_max_pre_3: 2809963.00\n",
      "cate_last_ord_pre_6: 2656130.00\n",
      "cate_inv_sum_decay_pre_6: 2570740.20\n",
      "cate_dis_median_pre_6: 2373042.00\n",
      "first_ord_pre_3: 2257187.00\n",
      "has_ord_pre_12: 1850412.10\n",
      "cate_has_inv_pre_3: 1610140.00\n",
      "cate_dis_pre_1: 1288920.70\n",
      "cate_ord_mean_pre_12: 1082527.00\n",
      "cate_inv_max_pre_3: 1067998.00\n",
      "cate_dis_sum_decay_pre_9: 963192.00\n",
      "cate_has_ord_pre_3: 736718.00\n",
      "has_ord_pre_3: 615812.00\n",
      "cate_dis_sum_decay_pre_6: 606130.00\n",
      "cate_inv_mean_pre_6: 556272.00\n",
      "has_ord_pre_9: 308047.00\n",
      "cate_dis_median_pre_9: 242249.00\n",
      "has_ord_pre_6: 165724.00\n",
      "cate_ord_median_pre_9: 115024.00\n",
      "cate_dis_mean_pre_6: 110210.40\n",
      "has_dis_pre_3: 0.00\n",
      "last_dis_pre_9: 0.00\n",
      "has_inv_pre_3: 0.00\n",
      "last_inv_pre_6: 0.00\n",
      "cate_ord_max_pre_9: 0.00\n",
      "cate_ord_sum_decay_pre_12: 0.00\n",
      "cate_ord_max_pre_12: 0.00\n",
      "cate_dis_max_pre_6: 0.00\n",
      "cate_dis_min_pre_6: 0.00\n",
      "cate_dis_mean_pre_9: 0.00\n",
      "cate_dis_max_pre_9: 0.00\n",
      "cate_inv_max_pre_6: 0.00\n",
      "cate_first_ord_pre_3: 0.00\n",
      "cate_has_ord_pre_6: 0.00\n",
      "cate_first_ord_pre_6: 0.00\n",
      "cate_has_ord_pre_9: 0.00\n",
      "cate_last_ord_pre_9: 0.00\n",
      "cate_first_ord_pre_9: 0.00\n",
      "cate_has_ord_pre_12: 0.00\n",
      "cate_last_ord_pre_12: 0.00\n",
      "cate_has_dis_pre_3: 0.00\n",
      "cate_last_dis_pre_3: 0.00\n",
      "cate_first_dis_pre_3: 0.00\n",
      "cate_has_dis_pre_6: 0.00\n",
      "cate_last_dis_pre_6: 0.00\n",
      "cate_first_dis_pre_6: 0.00\n",
      "cate_has_dis_pre_9: 0.00\n",
      "cate_last_dis_pre_9: 0.00\n",
      "cate_first_dis_pre_9: 0.00\n",
      "cate_last_inv_pre_3: 0.00\n",
      "cate_first_inv_pre_3: 0.00\n",
      "cate_last_inv_pre_6: 0.00\n",
      "cate_first_inv_pre_6: 0.00\n",
      "==================================================\n",
      "Step 2\n",
      "==================================================\n",
      "Training until validation scores don't improve for 125 rounds.\n",
      "[50]\ttraining's l2: 9.15562e+06\tvalid_1's l2: 1.16203e+07\n",
      "[100]\ttraining's l2: 7.79968e+06\tvalid_1's l2: 9.47893e+06\n",
      "[150]\ttraining's l2: 7.30237e+06\tvalid_1's l2: 8.64188e+06\n",
      "[200]\ttraining's l2: 7.01094e+06\tvalid_1's l2: 8.20021e+06\n",
      "[250]\ttraining's l2: 6.77716e+06\tvalid_1's l2: 8.01412e+06\n",
      "[300]\ttraining's l2: 6.56725e+06\tvalid_1's l2: 7.87014e+06\n",
      "[350]\ttraining's l2: 6.36598e+06\tvalid_1's l2: 7.7316e+06\n",
      "[400]\ttraining's l2: 6.17638e+06\tvalid_1's l2: 7.67348e+06\n",
      "[450]\ttraining's l2: 6.00321e+06\tvalid_1's l2: 7.5606e+06\n",
      "[500]\ttraining's l2: 5.8802e+06\tvalid_1's l2: 7.53179e+06\n",
      "[550]\ttraining's l2: 5.74426e+06\tvalid_1's l2: 7.4423e+06\n",
      "[600]\ttraining's l2: 5.63354e+06\tvalid_1's l2: 7.4219e+06\n",
      "[650]\ttraining's l2: 5.5255e+06\tvalid_1's l2: 7.37589e+06\n",
      "[700]\ttraining's l2: 5.43016e+06\tvalid_1's l2: 7.32112e+06\n",
      "[750]\ttraining's l2: 5.341e+06\tvalid_1's l2: 7.29407e+06\n",
      "[800]\ttraining's l2: 5.26065e+06\tvalid_1's l2: 7.2548e+06\n",
      "[850]\ttraining's l2: 5.18474e+06\tvalid_1's l2: 7.24501e+06\n",
      "[900]\ttraining's l2: 5.11249e+06\tvalid_1's l2: 7.18666e+06\n",
      "[950]\ttraining's l2: 5.03908e+06\tvalid_1's l2: 7.18578e+06\n",
      "[1000]\ttraining's l2: 4.98059e+06\tvalid_1's l2: 7.12753e+06\n",
      "[1050]\ttraining's l2: 4.92124e+06\tvalid_1's l2: 7.08886e+06\n",
      "[1100]\ttraining's l2: 4.85704e+06\tvalid_1's l2: 7.06252e+06\n",
      "[1150]\ttraining's l2: 4.79994e+06\tvalid_1's l2: 7.07438e+06\n",
      "[1200]\ttraining's l2: 4.74878e+06\tvalid_1's l2: 7.03692e+06\n",
      "[1250]\ttraining's l2: 4.69696e+06\tvalid_1's l2: 6.99312e+06\n",
      "[1300]\ttraining's l2: 4.63656e+06\tvalid_1's l2: 6.96681e+06\n",
      "[1350]\ttraining's l2: 4.59172e+06\tvalid_1's l2: 6.93353e+06\n",
      "[1400]\ttraining's l2: 4.54499e+06\tvalid_1's l2: 6.91949e+06\n",
      "[1450]\ttraining's l2: 4.50003e+06\tvalid_1's l2: 6.8999e+06\n",
      "[1500]\ttraining's l2: 4.45556e+06\tvalid_1's l2: 6.894e+06\n",
      "[1550]\ttraining's l2: 4.41547e+06\tvalid_1's l2: 6.85921e+06\n",
      "[1600]\ttraining's l2: 4.38047e+06\tvalid_1's l2: 6.83301e+06\n",
      "[1650]\ttraining's l2: 4.33671e+06\tvalid_1's l2: 6.80745e+06\n",
      "[1700]\ttraining's l2: 4.29577e+06\tvalid_1's l2: 6.77051e+06\n",
      "[1750]\ttraining's l2: 4.25265e+06\tvalid_1's l2: 6.75619e+06\n",
      "[1800]\ttraining's l2: 4.21709e+06\tvalid_1's l2: 6.72808e+06\n",
      "[1850]\ttraining's l2: 4.17573e+06\tvalid_1's l2: 6.73004e+06\n",
      "[1900]\ttraining's l2: 4.14206e+06\tvalid_1's l2: 6.70849e+06\n",
      "[1950]\ttraining's l2: 4.10395e+06\tvalid_1's l2: 6.69737e+06\n",
      "[2000]\ttraining's l2: 4.0701e+06\tvalid_1's l2: 6.6706e+06\n",
      "[2050]\ttraining's l2: 4.03628e+06\tvalid_1's l2: 6.64958e+06\n",
      "[2100]\ttraining's l2: 4.0079e+06\tvalid_1's l2: 6.66093e+06\n",
      "[2150]\ttraining's l2: 3.97468e+06\tvalid_1's l2: 6.65272e+06\n",
      "[2200]\ttraining's l2: 3.94003e+06\tvalid_1's l2: 6.61718e+06\n",
      "[2250]\ttraining's l2: 3.91038e+06\tvalid_1's l2: 6.60882e+06\n",
      "[2300]\ttraining's l2: 3.87802e+06\tvalid_1's l2: 6.5925e+06\n",
      "[2350]\ttraining's l2: 3.84893e+06\tvalid_1's l2: 6.56357e+06\n",
      "[2400]\ttraining's l2: 3.82353e+06\tvalid_1's l2: 6.57052e+06\n",
      "[2450]\ttraining's l2: 3.79633e+06\tvalid_1's l2: 6.54477e+06\n",
      "[2500]\ttraining's l2: 3.76804e+06\tvalid_1's l2: 6.53663e+06\n",
      "[2550]\ttraining's l2: 3.74105e+06\tvalid_1's l2: 6.52218e+06\n",
      "[2600]\ttraining's l2: 3.71738e+06\tvalid_1's l2: 6.5127e+06\n",
      "[2650]\ttraining's l2: 3.68918e+06\tvalid_1's l2: 6.51266e+06\n",
      "[2700]\ttraining's l2: 3.66399e+06\tvalid_1's l2: 6.50527e+06\n",
      "[2750]\ttraining's l2: 3.63564e+06\tvalid_1's l2: 6.48732e+06\n",
      "[2800]\ttraining's l2: 3.60892e+06\tvalid_1's l2: 6.48237e+06\n",
      "[2850]\ttraining's l2: 3.58543e+06\tvalid_1's l2: 6.48373e+06\n",
      "[2900]\ttraining's l2: 3.56082e+06\tvalid_1's l2: 6.44521e+06\n",
      "[2950]\ttraining's l2: 3.53875e+06\tvalid_1's l2: 6.42986e+06\n",
      "[3000]\ttraining's l2: 3.51358e+06\tvalid_1's l2: 6.4152e+06\n",
      "[3050]\ttraining's l2: 3.49073e+06\tvalid_1's l2: 6.3999e+06\n",
      "[3100]\ttraining's l2: 3.46638e+06\tvalid_1's l2: 6.39716e+06\n",
      "[3150]\ttraining's l2: 3.44418e+06\tvalid_1's l2: 6.39928e+06\n",
      "[3200]\ttraining's l2: 3.42226e+06\tvalid_1's l2: 6.38116e+06\n",
      "[3250]\ttraining's l2: 3.39916e+06\tvalid_1's l2: 6.38402e+06\n",
      "[3300]\ttraining's l2: 3.37739e+06\tvalid_1's l2: 6.37901e+06\n",
      "[3350]\ttraining's l2: 3.35525e+06\tvalid_1's l2: 6.38799e+06\n",
      "[3400]\ttraining's l2: 3.33243e+06\tvalid_1's l2: 6.37667e+06\n",
      "[3450]\ttraining's l2: 3.31281e+06\tvalid_1's l2: 6.37881e+06\n",
      "Early stopping, best iteration is:\n",
      "[3325]\ttraining's l2: 3.36718e+06\tvalid_1's l2: 6.3632e+06\n",
      "ord_pre_1: 374148305528.59\n",
      "ord_sum_decay_pre_3: 156232364848.61\n",
      "ord_min_pre_3: 137293084543.00\n",
      "ord_sum_decay_pre_9: 81592798280.07\n",
      "ord_pre_6: 68277954601.40\n",
      "ord_max_pre_9: 55025723081.44\n",
      "ord_std_pre_12: 50294549088.16\n",
      "ord_mean_pre_9: 49158757119.30\n",
      "ord_pre_2: 39983969265.60\n",
      "ord_pre_3: 39568458895.80\n",
      "ord_max_pre_3: 39557304793.90\n",
      "ord_mean_pre_3: 36499143515.80\n",
      "ord_median_pre_3: 31723719935.60\n",
      "ord_std_pre_6: 27914270859.51\n",
      "ord_diff_mean_pre_12: 27822565185.53\n",
      "ord_std_pre_3: 27586335304.20\n",
      "ord_pre_8: 26825800687.79\n",
      "ord_max_pre_12: 25128757439.09\n",
      "ord_pre_9: 22025939981.61\n",
      "ord_pre_4: 17805759219.49\n",
      "dis_diff_mean_pre_3: 16868769978.37\n",
      "inv_pre_1: 15645226766.57\n",
      "ord_pre_5: 15052878115.80\n",
      "ord_sum_decay_pre_6: 14470784762.18\n",
      "dis_std_pre_9: 14228583858.94\n",
      "ord_mean_pre_12: 14157850096.53\n",
      "ord_diff_mean_pre_6: 13610796804.10\n",
      "ord_diff_mean_pre_9: 13234238647.00\n",
      "ord_std_pre_9: 12428872374.15\n",
      "ord_pre_7: 11475808036.03\n",
      "inv_std_pre_3: 11155735619.71\n",
      "ord_median_pre_12: 10254643437.90\n",
      "ord_pre_11: 9935716535.32\n",
      "ord_diff_mean_pre_3: 9725555922.30\n",
      "ord_max_pre_6: 8994263645.21\n",
      "inv_max_pre_6: 8758956402.43\n",
      "ord_pre_10: 8498356063.15\n",
      "dis_min_pre_6: 8160197840.84\n",
      "dis_diff_mean_pre_6: 8088672718.05\n",
      "dis_pre_2: 7349279606.77\n",
      "dis_max_pre_6: 7231432017.31\n",
      "dis_mean_pre_9: 7192392341.52\n",
      "inv_pre_2: 6877174386.68\n",
      "dis_pre_5: 6838171532.60\n",
      "dis_max_pre_3: 6594745002.90\n",
      "inv_diff_mean_pre_3: 6578323753.50\n",
      "ord_mean_pre_6: 6519248159.87\n",
      "dis_diff_mean_pre_9: 6416319169.51\n",
      "dis_pre_8: 6143454877.87\n",
      "inv_max_pre_3: 5998135746.19\n",
      "ord_pre_12: 5994709563.32\n",
      "dis_pre_4: 5984133531.07\n",
      "inv_median_pre_6: 5876204610.80\n",
      "ord_sum_decay_pre_12: 5796420511.13\n",
      "inv_pre_3: 5787209605.29\n",
      "ord_median_pre_6: 5713220451.40\n",
      "ord_median_pre_9: 5624485942.50\n",
      "dis_median_pre_3: 5591432041.11\n",
      "dis_pre_3: 5453777857.69\n",
      "inv_std_pre_6: 4952608050.57\n",
      "dis_std_pre_6: 4803705279.11\n",
      "cate_inv_median_pre_3: 4661907909.00\n",
      "inv_sum_decay_pre_3: 4636980007.10\n",
      "dis_std_pre_3: 4406867668.42\n",
      "cate_inv_diff_mean_pre_3: 4398177851.58\n",
      "inv_diff_mean_pre_6: 4279553189.72\n",
      "inv_pre_6: 4202500221.51\n",
      "ord_min_pre_6: 4195048684.00\n",
      "dis_mean_pre_6: 3959466690.90\n",
      "inv_median_pre_3: 3921499999.81\n",
      "dis_median_pre_9: 3594673459.07\n",
      "dis_min_pre_9: 3549345727.90\n",
      "inv_mean_pre_6: 3511201173.25\n",
      "ord_min_pre_9: 3428762890.00\n",
      "dis_max_pre_9: 3304648525.21\n",
      "inv_min_pre_3: 3120458899.98\n",
      "dis_min_pre_3: 2948247894.42\n",
      "dis_pre_6: 2916857428.10\n",
      "dis_median_pre_6: 2850548289.70\n",
      "dis_pre_1: 2676699359.28\n",
      "cate_inv_min_pre_3: 2611906645.83\n",
      "cate_dis_mean_pre_3: 2457733131.41\n",
      "ord_min_pre_12: 2242767928.00\n",
      "dis_pre_7: 2178208370.31\n",
      "dis_sum_decay_pre_6: 2076668819.52\n",
      "cate_ord_pre_12: 1719333452.89\n",
      "cate_ord_pre_3: 1705584782.87\n",
      "cate_ord_std_pre_3: 1611099306.78\n",
      "inv_sum_decay_pre_6: 1537839504.80\n",
      "cate_dis_diff_mean_pre_3: 1500053557.68\n",
      "cate_dis_pre_8: 1377984536.04\n",
      "dis_sum_decay_pre_9: 1317065886.05\n",
      "cate_ord_pre_2: 1307661646.66\n",
      "cate_ord_diff_mean_pre_3: 1295720926.85\n",
      "first_inv_pre_6: 1286651476.31\n",
      "dis_sum_decay_pre_3: 1229911269.59\n",
      "inv_mean_pre_3: 1222440387.30\n",
      "cate_inv_std_pre_6: 1207274023.62\n",
      "cate_ord_pre_11: 1078925751.09\n",
      "cate_ord_diff_mean_pre_6: 1078585047.95\n",
      "first_ord_pre_12: 881776158.04\n",
      "cate_first_ord_pre_12: 852893993.00\n",
      "cate_inv_std_pre_3: 850265792.20\n",
      "cate_inv_diff_mean_pre_6: 844703023.70\n",
      "dis_pre_9: 796846609.57\n",
      "cate_ord_diff_mean_pre_12: 716883917.04\n",
      "inv_pre_4: 698441451.59\n",
      "cate_dis_pre_1: 682582297.01\n",
      "dis_mean_pre_3: 587469987.29\n",
      "cate_ord_pre_4: 585456213.34\n",
      "cate_ord_pre_6: 571235488.04\n",
      "cate_dis_median_pre_3: 542255356.10\n",
      "last_ord_pre_6: 533175444.39\n",
      "first_dis_pre_9: 510482204.31\n",
      "cate_ord_std_pre_6: 506097772.12\n",
      "cate_ord_diff_mean_pre_9: 482611318.81\n",
      "cate_dis_pre_7: 467538193.21\n",
      "cate_ord_sum_decay_pre_3: 463123700.21\n",
      "cate_ord_pre_10: 452152250.28\n",
      "cate_has_inv_pre_3: 451356765.40\n",
      "cate_dis_diff_mean_pre_6: 426208558.73\n",
      "cate_dis_pre_9: 366304589.00\n",
      "cate_ord_pre_7: 366271980.72\n",
      "cate_inv_pre_5: 341584184.20\n",
      "cate_dis_diff_mean_pre_9: 337293266.20\n",
      "inv_pre_5: 289708396.69\n",
      "cate_dis_min_pre_9: 281095497.66\n",
      "inv_min_pre_6: 276511489.34\n",
      "cate_inv_median_pre_6: 261529469.75\n",
      "cate_dis_pre_2: 257397607.64\n",
      "cate_dis_sum_decay_pre_6: 255741074.70\n",
      "cate_ord_sum_decay_pre_6: 243893198.83\n",
      "cate_dis_pre_6: 237912006.05\n",
      "cate_ord_min_pre_12: 224476694.09\n",
      "category: 223428994.80\n",
      "first_inv_pre_3: 222374328.00\n",
      "cate_ord_pre_1: 209535114.79\n",
      "cate_dis_mean_pre_9: 207276775.71\n",
      "cate_dis_pre_3: 206371715.20\n",
      "cate_inv_min_pre_6: 200660455.89\n",
      "cate_dis_std_pre_3: 195010824.70\n",
      "first_dis_pre_6: 186657367.39\n",
      "cate_dis_min_pre_3: 179982787.11\n",
      "last_ord_pre_12: 176554294.31\n",
      "cate_ord_mean_pre_9: 173151404.70\n",
      "cate_inv_sum_decay_pre_3: 167991903.62\n",
      "last_ord_pre_9: 163531008.86\n",
      "cate_inv_max_pre_3: 156916745.52\n",
      "cate_ord_min_pre_3: 156492492.48\n",
      "cate_ord_pre_9: 154043801.09\n",
      "cate_dis_min_pre_6: 146755924.00\n",
      "has_inv_pre_6: 140719084.73\n",
      "cate_inv_pre_6: 130338523.25\n",
      "cate_dis_max_pre_3: 126814380.90\n",
      "first_dis_pre_3: 125057525.90\n",
      "cate_dis_pre_5: 123364779.60\n",
      "cate_ord_pre_5: 122467262.01\n",
      "cate_dis_sum_decay_pre_3: 111057382.71\n",
      "cate_ord_pre_8: 110739491.80\n",
      "cate_dis_std_pre_9: 97144970.76\n",
      "last_dis_pre_6: 96616160.00\n",
      "first_ord_pre_6: 95323442.39\n",
      "last_dis_pre_3: 94386814.50\n",
      "cate_ord_max_pre_6: 92955698.28\n",
      "has_dis_pre_9: 82589426.80\n",
      "cate_ord_std_pre_12: 79779740.80\n",
      "cate_ord_median_pre_3: 79323938.82\n",
      "cate_dis_std_pre_6: 75213244.29\n",
      "has_ord_pre_12: 71215554.08\n",
      "cate_first_inv_pre_3: 69896400.00\n",
      "cate_inv_pre_4: 66594432.50\n",
      "cate_ord_mean_pre_3: 61334637.10\n",
      "first_ord_pre_9: 58259476.75\n",
      "has_ord_pre_6: 57075511.50\n",
      "cate_ord_std_pre_9: 53392976.65\n",
      "cate_ord_median_pre_6: 52610842.48\n",
      "cate_dis_mean_pre_6: 52190564.70\n",
      "cate_dis_pre_4: 45320600.01\n",
      "cate_dis_median_pre_6: 42924031.30\n",
      "cate_ord_mean_pre_6: 41589128.60\n",
      "cate_has_inv_pre_6: 40349645.30\n",
      "cate_inv_mean_pre_3: 38871353.60\n",
      "first_ord_pre_3: 38045672.40\n",
      "has_dis_pre_6: 37029259.20\n",
      "has_ord_pre_3: 35379300.00\n",
      "cate_ord_max_pre_3: 33119156.71\n",
      "last_inv_pre_3: 31086623.90\n",
      "cate_inv_pre_2: 29567987.20\n",
      "cate_inv_pre_1: 29363704.50\n",
      "cate_inv_mean_pre_6: 28094810.30\n",
      "has_ord_pre_9: 25916882.90\n",
      "last_inv_pre_6: 25508151.10\n",
      "cate_inv_pre_3: 25264610.68\n",
      "cate_inv_sum_decay_pre_6: 24460983.70\n",
      "cate_ord_mean_pre_12: 24329138.60\n",
      "last_ord_pre_3: 23767727.80\n",
      "cate_ord_sum_decay_pre_9: 18623974.41\n",
      "cate_ord_min_pre_6: 16282548.29\n",
      "cate_inv_max_pre_6: 10939220.80\n",
      "last_dis_pre_9: 8366069.00\n",
      "cate_ord_median_pre_12: 7973400.30\n",
      "cate_first_inv_pre_6: 6609142.30\n",
      "cate_dis_sum_decay_pre_9: 6461160.60\n",
      "cate_ord_min_pre_9: 5904689.50\n",
      "cate_ord_median_pre_9: 4441887.30\n",
      "has_inv_pre_3: 3547071.00\n",
      "has_dis_pre_3: 2463023.00\n",
      "cate_last_ord_pre_9: 2043090.00\n",
      "cate_ord_sum_decay_pre_12: 1736124.40\n",
      "cate_dis_max_pre_6: 733927.00\n",
      "cate_ord_max_pre_9: 0.00\n",
      "cate_ord_max_pre_12: 0.00\n",
      "cate_dis_median_pre_9: 0.00\n",
      "cate_dis_max_pre_9: 0.00\n",
      "cate_has_ord_pre_3: 0.00\n",
      "cate_last_ord_pre_3: 0.00\n",
      "cate_first_ord_pre_3: 0.00\n",
      "cate_has_ord_pre_6: 0.00\n",
      "cate_last_ord_pre_6: 0.00\n",
      "cate_first_ord_pre_6: 0.00\n",
      "cate_has_ord_pre_9: 0.00\n",
      "cate_first_ord_pre_9: 0.00\n",
      "cate_has_ord_pre_12: 0.00\n",
      "cate_last_ord_pre_12: 0.00\n",
      "cate_has_dis_pre_3: 0.00\n",
      "cate_last_dis_pre_3: 0.00\n",
      "cate_first_dis_pre_3: 0.00\n",
      "cate_has_dis_pre_6: 0.00\n",
      "cate_last_dis_pre_6: 0.00\n",
      "cate_first_dis_pre_6: 0.00\n",
      "cate_has_dis_pre_9: 0.00\n",
      "cate_last_dis_pre_9: 0.00\n",
      "cate_first_dis_pre_9: 0.00\n",
      "cate_last_inv_pre_3: 0.00\n",
      "cate_last_inv_pre_6: 0.00\n",
      "==================================================\n",
      "Step 3\n",
      "==================================================\n",
      "Training until validation scores don't improve for 125 rounds.\n",
      "[50]\ttraining's l2: 9.48528e+06\tvalid_1's l2: 2.34951e+07\n",
      "[100]\ttraining's l2: 8.1741e+06\tvalid_1's l2: 2.0464e+07\n",
      "[150]\ttraining's l2: 7.60789e+06\tvalid_1's l2: 1.94369e+07\n",
      "[200]\ttraining's l2: 7.24391e+06\tvalid_1's l2: 1.90759e+07\n",
      "[250]\ttraining's l2: 6.96562e+06\tvalid_1's l2: 1.88825e+07\n",
      "[300]\ttraining's l2: 6.73644e+06\tvalid_1's l2: 1.87405e+07\n",
      "[350]\ttraining's l2: 6.51832e+06\tvalid_1's l2: 1.85177e+07\n",
      "[400]\ttraining's l2: 6.33814e+06\tvalid_1's l2: 1.8422e+07\n",
      "[450]\ttraining's l2: 6.15832e+06\tvalid_1's l2: 1.82265e+07\n",
      "[500]\ttraining's l2: 6.01697e+06\tvalid_1's l2: 1.81525e+07\n",
      "[550]\ttraining's l2: 5.86983e+06\tvalid_1's l2: 1.78702e+07\n",
      "[600]\ttraining's l2: 5.73582e+06\tvalid_1's l2: 1.76667e+07\n",
      "[650]\ttraining's l2: 5.61659e+06\tvalid_1's l2: 1.76112e+07\n",
      "[700]\ttraining's l2: 5.50705e+06\tvalid_1's l2: 1.74625e+07\n",
      "[750]\ttraining's l2: 5.41372e+06\tvalid_1's l2: 1.74387e+07\n",
      "[800]\ttraining's l2: 5.32771e+06\tvalid_1's l2: 1.73866e+07\n",
      "[850]\ttraining's l2: 5.23607e+06\tvalid_1's l2: 1.73739e+07\n",
      "[900]\ttraining's l2: 5.1578e+06\tvalid_1's l2: 1.72754e+07\n",
      "[950]\ttraining's l2: 5.07646e+06\tvalid_1's l2: 1.71951e+07\n",
      "[1000]\ttraining's l2: 5.00107e+06\tvalid_1's l2: 1.71244e+07\n",
      "[1050]\ttraining's l2: 4.92946e+06\tvalid_1's l2: 1.71017e+07\n",
      "[1100]\ttraining's l2: 4.86894e+06\tvalid_1's l2: 1.71043e+07\n",
      "[1150]\ttraining's l2: 4.81014e+06\tvalid_1's l2: 1.70851e+07\n",
      "[1200]\ttraining's l2: 4.749e+06\tvalid_1's l2: 1.7079e+07\n",
      "[1250]\ttraining's l2: 4.69584e+06\tvalid_1's l2: 1.70643e+07\n",
      "[1300]\ttraining's l2: 4.64289e+06\tvalid_1's l2: 1.70132e+07\n",
      "[1350]\ttraining's l2: 4.58991e+06\tvalid_1's l2: 1.70513e+07\n",
      "[1400]\ttraining's l2: 4.53431e+06\tvalid_1's l2: 1.71132e+07\n",
      "Early stopping, best iteration is:\n",
      "[1323]\ttraining's l2: 4.61769e+06\tvalid_1's l2: 1.70035e+07\n",
      "ord_pre_2: 226322448023.00\n",
      "ord_sum_decay_pre_3: 142361204200.00\n",
      "ord_std_pre_12: 88506009291.11\n",
      "ord_min_pre_3: 62579987823.00\n",
      "ord_mean_pre_6: 60244901020.70\n",
      "ord_pre_1: 58927962354.00\n",
      "ord_max_pre_6: 46776947646.00\n",
      "ord_mean_pre_3: 44033947924.90\n",
      "ord_sum_decay_pre_9: 43808844612.19\n",
      "ord_sum_decay_pre_6: 41118679191.00\n",
      "ord_max_pre_9: 30091025767.60\n",
      "ord_pre_10: 29449384292.34\n",
      "ord_median_pre_3: 29009271503.00\n",
      "ord_median_pre_6: 28056603115.00\n",
      "ord_pre_5: 25548887110.30\n",
      "ord_max_pre_3: 25188911465.00\n",
      "inv_pre_2: 24695108964.44\n",
      "ord_diff_mean_pre_3: 24271497996.00\n",
      "ord_median_pre_9: 23352486490.50\n",
      "inv_median_pre_3: 21738452340.00\n",
      "ord_pre_4: 19857820761.90\n",
      "ord_diff_mean_pre_12: 18504366550.65\n",
      "ord_std_pre_3: 17685192392.00\n",
      "ord_pre_3: 16640979039.00\n",
      "ord_pre_8: 16364466825.90\n",
      "ord_pre_7: 16086799040.30\n",
      "ord_std_pre_6: 15799667838.90\n",
      "ord_pre_12: 15639583825.84\n",
      "dis_diff_mean_pre_3: 14093607746.02\n",
      "ord_sum_decay_pre_12: 13053660876.97\n",
      "ord_pre_6: 12731190803.00\n",
      "ord_mean_pre_12: 11214012707.68\n",
      "dis_max_pre_9: 9743146998.94\n",
      "ord_std_pre_9: 8660678157.52\n",
      "ord_max_pre_12: 7255791444.50\n",
      "ord_diff_mean_pre_9: 7067196394.65\n",
      "dis_mean_pre_9: 6947700535.02\n",
      "ord_mean_pre_9: 6937881467.40\n",
      "ord_pre_9: 6032500677.70\n",
      "inv_diff_mean_pre_6: 5865094153.14\n",
      "dis_mean_pre_6: 5697150638.50\n",
      "dis_max_pre_6: 5491943980.40\n",
      "inv_pre_1: 5473779459.69\n",
      "ord_min_pre_6: 5353551316.00\n",
      "inv_std_pre_3: 5263722796.61\n",
      "inv_max_pre_3: 4714036804.00\n",
      "dis_median_pre_3: 4202282207.10\n",
      "ord_median_pre_12: 4188504599.70\n",
      "inv_std_pre_6: 3767859360.40\n",
      "cate_dis_pre_8: 3623607630.19\n",
      "dis_pre_6: 3578800087.31\n",
      "dis_pre_4: 3434595689.90\n",
      "ord_diff_mean_pre_6: 3173895134.00\n",
      "dis_std_pre_6: 3129814480.49\n",
      "dis_std_pre_9: 3040618722.12\n",
      "cate_inv_median_pre_3: 2531763866.70\n",
      "dis_pre_8: 2531503942.40\n",
      "dis_median_pre_6: 2434010452.30\n",
      "dis_std_pre_3: 2408344028.59\n",
      "dis_min_pre_6: 2374856492.62\n",
      "dis_min_pre_3: 2306226812.40\n",
      "inv_max_pre_6: 2269099683.60\n",
      "dis_pre_1: 2251604873.25\n",
      "inv_mean_pre_6: 2074781020.22\n",
      "inv_mean_pre_3: 1989309285.79\n",
      "dis_median_pre_9: 1963480805.24\n",
      "cate_inv_diff_mean_pre_3: 1928528825.39\n",
      "first_inv_pre_6: 1882363235.61\n",
      "cate_inv_diff_mean_pre_6: 1810262148.38\n",
      "ord_min_pre_9: 1792154177.00\n",
      "dis_min_pre_9: 1781713738.20\n",
      "cate_ord_pre_2: 1724066252.01\n",
      "cate_inv_pre_6: 1558423268.51\n",
      "dis_sum_decay_pre_6: 1522856180.80\n",
      "dis_pre_2: 1494586916.51\n",
      "cate_inv_std_pre_6: 1462905352.90\n",
      "inv_diff_mean_pre_3: 1378247658.93\n",
      "dis_pre_3: 1376271832.10\n",
      "dis_diff_mean_pre_9: 1318171348.31\n",
      "cate_ord_pre_4: 1271458031.64\n",
      "inv_pre_5: 1263329386.39\n",
      "inv_sum_decay_pre_6: 1252398536.38\n",
      "cate_dis_std_pre_3: 1146695415.79\n",
      "cate_ord_diff_mean_pre_9: 1134054624.81\n",
      "cate_dis_diff_mean_pre_3: 1111398923.67\n",
      "dis_max_pre_3: 974033236.30\n",
      "dis_pre_5: 940888353.80\n",
      "cate_ord_diff_mean_pre_3: 922338670.68\n",
      "dis_sum_decay_pre_9: 918359211.30\n",
      "cate_dis_diff_mean_pre_6: 906302960.99\n",
      "ord_pre_11: 819810953.93\n",
      "first_ord_pre_12: 784336359.26\n",
      "cate_inv_std_pre_3: 768548446.40\n",
      "dis_diff_mean_pre_6: 765142572.00\n",
      "dis_pre_7: 726222166.76\n",
      "dis_sum_decay_pre_3: 688271783.72\n",
      "cate_ord_diff_mean_pre_12: 660256671.21\n",
      "inv_sum_decay_pre_3: 616047493.50\n",
      "cate_ord_min_pre_3: 513186532.30\n",
      "dis_mean_pre_3: 502143612.00\n",
      "cate_ord_diff_mean_pre_6: 485010530.08\n",
      "cate_ord_pre_11: 483205039.50\n",
      "ord_min_pre_12: 471645142.00\n",
      "cate_ord_sum_decay_pre_3: 458433618.70\n",
      "cate_ord_pre_12: 453265883.51\n",
      "cate_ord_std_pre_3: 401612874.29\n",
      "cate_has_inv_pre_3: 400853945.00\n",
      "inv_pre_6: 393764332.39\n",
      "cate_dis_diff_mean_pre_9: 389730697.00\n",
      "dis_pre_9: 364260890.03\n",
      "inv_pre_4: 362455760.03\n",
      "cate_ord_std_pre_6: 307708069.74\n",
      "inv_min_pre_6: 303824961.48\n",
      "cate_dis_pre_2: 298538888.30\n",
      "cate_ord_pre_8: 296087769.10\n",
      "inv_pre_3: 281410346.61\n",
      "cate_ord_pre_7: 238228574.69\n",
      "cate_ord_pre_1: 217204233.40\n",
      "category: 215273921.45\n",
      "first_inv_pre_3: 214354121.60\n",
      "cate_dis_sum_decay_pre_6: 207840324.60\n",
      "first_dis_pre_9: 199665333.29\n",
      "cate_ord_pre_6: 179535172.00\n",
      "cate_ord_pre_5: 172727043.89\n",
      "cate_ord_max_pre_6: 157206179.40\n",
      "cate_inv_sum_decay_pre_6: 153978099.20\n",
      "cate_dis_sum_decay_pre_3: 148388748.50\n",
      "has_dis_pre_9: 144993473.30\n",
      "cate_ord_pre_9: 142341584.09\n",
      "cate_dis_pre_1: 135403602.90\n",
      "last_ord_pre_12: 128116377.40\n",
      "cate_dis_pre_7: 127926640.60\n",
      "cate_ord_pre_3: 126586358.80\n",
      "inv_median_pre_6: 124956397.01\n",
      "cate_dis_pre_5: 123946823.30\n",
      "first_dis_pre_6: 114307681.30\n",
      "cate_ord_pre_10: 108031298.71\n",
      "cate_inv_min_pre_3: 107215170.80\n",
      "cate_ord_mean_pre_9: 88470586.80\n",
      "cate_ord_min_pre_12: 87442338.00\n",
      "inv_min_pre_3: 86886602.00\n",
      "cate_dis_pre_9: 84271397.82\n",
      "cate_ord_sum_decay_pre_6: 81196835.00\n",
      "cate_dis_min_pre_3: 80933187.00\n",
      "cate_dis_pre_4: 80076299.80\n",
      "cate_first_inv_pre_3: 78546600.00\n",
      "cate_dis_std_pre_6: 77035566.00\n",
      "cate_inv_pre_4: 75932207.20\n",
      "cate_inv_sum_decay_pre_3: 74929523.53\n",
      "last_dis_pre_6: 74234370.00\n",
      "cate_ord_std_pre_12: 73129215.57\n",
      "cate_ord_sum_decay_pre_9: 69497345.90\n",
      "first_dis_pre_3: 69360123.00\n",
      "cate_has_inv_pre_6: 62588824.00\n",
      "cate_ord_max_pre_3: 62408884.20\n",
      "cate_dis_pre_6: 60585150.00\n",
      "cate_ord_median_pre_3: 59730415.20\n",
      "has_inv_pre_6: 57541500.20\n",
      "cate_ord_mean_pre_3: 57346246.40\n",
      "cate_dis_pre_3: 55490264.00\n",
      "cate_dis_min_pre_9: 53335979.50\n",
      "cate_dis_std_pre_9: 49907825.90\n",
      "cate_inv_pre_5: 48917679.50\n",
      "last_dis_pre_3: 48424013.40\n",
      "cate_ord_mean_pre_6: 47892309.80\n",
      "last_inv_pre_3: 42902452.00\n",
      "cate_inv_median_pre_6: 42493243.00\n",
      "cate_ord_std_pre_9: 39359961.60\n",
      "last_ord_pre_3: 37752768.20\n",
      "cate_ord_median_pre_6: 30208117.70\n",
      "cate_dis_median_pre_6: 30057199.00\n",
      "cate_inv_min_pre_6: 28414832.60\n",
      "cate_dis_sum_decay_pre_9: 28316874.00\n",
      "cate_inv_pre_2: 27760467.00\n",
      "cate_dis_max_pre_3: 27569637.00\n",
      "cate_first_ord_pre_12: 26135098.00\n",
      "cate_dis_median_pre_3: 21436928.41\n",
      "last_dis_pre_9: 19776199.00\n",
      "cate_ord_min_pre_6: 18463279.00\n",
      "has_dis_pre_6: 18359897.00\n",
      "cate_dis_mean_pre_3: 18203769.80\n",
      "cate_inv_pre_1: 17723561.80\n",
      "cate_ord_median_pre_9: 16704624.10\n",
      "last_ord_pre_6: 14336688.40\n",
      "first_ord_pre_9: 14158996.82\n",
      "cate_inv_mean_pre_3: 14132118.70\n",
      "last_inv_pre_6: 13640871.00\n",
      "has_ord_pre_12: 12809043.50\n",
      "cate_ord_mean_pre_12: 10096451.40\n",
      "cate_inv_mean_pre_6: 9885381.80\n",
      "first_ord_pre_3: 9528198.40\n",
      "has_ord_pre_9: 8188917.38\n",
      "cate_ord_median_pre_12: 8011098.00\n",
      "cate_inv_max_pre_3: 7387993.90\n",
      "has_ord_pre_6: 6914551.90\n",
      "first_ord_pre_6: 6405092.70\n",
      "cate_dis_mean_pre_9: 6296673.10\n",
      "cate_first_inv_pre_6: 6166402.00\n",
      "cate_ord_min_pre_9: 3976192.00\n",
      "has_ord_pre_3: 3399580.00\n",
      "last_ord_pre_9: 3347094.50\n",
      "cate_dis_min_pre_6: 3223331.50\n",
      "cate_dis_mean_pre_6: 3071206.10\n",
      "cate_dis_median_pre_9: 2849720.00\n",
      "cate_inv_pre_3: 2497938.00\n",
      "cate_ord_sum_decay_pre_12: 2455907.60\n",
      "cate_dis_max_pre_9: 1586560.00\n",
      "cate_inv_max_pre_6: 601434.00\n",
      "has_dis_pre_3: 0.00\n",
      "has_inv_pre_3: 0.00\n",
      "cate_ord_max_pre_9: 0.00\n",
      "cate_ord_max_pre_12: 0.00\n",
      "cate_dis_max_pre_6: 0.00\n",
      "cate_has_ord_pre_3: 0.00\n",
      "cate_last_ord_pre_3: 0.00\n",
      "cate_first_ord_pre_3: 0.00\n",
      "cate_has_ord_pre_6: 0.00\n",
      "cate_last_ord_pre_6: 0.00\n",
      "cate_first_ord_pre_6: 0.00\n",
      "cate_has_ord_pre_9: 0.00\n",
      "cate_last_ord_pre_9: 0.00\n",
      "cate_first_ord_pre_9: 0.00\n",
      "cate_has_ord_pre_12: 0.00\n",
      "cate_last_ord_pre_12: 0.00\n",
      "cate_has_dis_pre_3: 0.00\n",
      "cate_last_dis_pre_3: 0.00\n",
      "cate_first_dis_pre_3: 0.00\n",
      "cate_has_dis_pre_6: 0.00\n",
      "cate_last_dis_pre_6: 0.00\n",
      "cate_first_dis_pre_6: 0.00\n",
      "cate_has_dis_pre_9: 0.00\n",
      "cate_last_dis_pre_9: 0.00\n",
      "cate_first_dis_pre_9: 0.00\n",
      "cate_last_inv_pre_3: 0.00\n",
      "cate_last_inv_pre_6: 0.00\n",
      "[INFO] Finished! ( ^ _ ^ ) V\n",
      "[INFO] Done in 11.166340 seconds.\n"
     ]
    }
   ],
   "source": [
    "print(\"[INFO] Start training and predicting...\")\n",
    "t0 = time()\n",
    "\n",
    "params = {\n",
    "    'num_leaves': 80, \n",
    "    'objective': 'regression', \n",
    "    'min_data_in_leaf': 200, \n",
    "    'learning_rate': 0.02, \n",
    "    'feature_fraction': 0.9, \n",
    "    'bagging_fraction': 0.8, \n",
    "    'bagging_freq': 1, \n",
    "    'metric': 'l2', \n",
    "    'num_threads': 16\n",
    "}\n",
    "\n",
    "MAX_ROUNDS = 5000\n",
    "pred_val = []\n",
    "pred_test = []\n",
    "cate_vars = []\n",
    "\n",
    "for i in range(3):\n",
    "    print('=' * 50)\n",
    "    print(\"Step %d\" % (i + 1))\n",
    "    print('=' * 50)\n",
    "    \n",
    "    dtrain = lgb.Dataset(X_train, label=y_train[:,i], categorical_feature=cate_vars)\n",
    "    dval = lgb.Dataset(X_val, label=y_val[:,i], reference=dtrain, categorical_feature=cate_vars)\n",
    "    \n",
    "    bst = lgb.train(\n",
    "        params, dtrain, num_boost_round=MAX_ROUNDS, \n",
    "        valid_sets=[dtrain, dval], early_stopping_rounds=125, verbose_eval=50\n",
    "    )\n",
    "    \n",
    "    feat_imp = [(\"%s: %.2f\" % x) for x in sorted(zip(X_train.columns, bst.feature_importance('gain')), key=lambda x: x[1], reverse=True)]\n",
    "    print('\\n'.join(feat_imp))\n",
    "    pred_val.append(\n",
    "        bst.predict(X_val, num_iteration=bst.best_iteration or MAX_ROUNDS)\n",
    "    )\n",
    "    pred_test.append(\n",
    "        bst.predict(X_test, num_iteration=bst.best_iteration or MAX_ROUNDS)\n",
    "    )\n",
    "    \n",
    "print(\"[INFO] Finished! ( ^ _ ^ ) V\")\n",
    "print(\"[INFO] Done in %f seconds.\" % (time() - t0))"
   ]
  },
  {
   "cell_type": "code",
   "execution_count": 36,
   "metadata": {},
   "outputs": [
    {
     "name": "stdout",
     "output_type": "stream",
     "text": [
      "The MSE error of validation set is: 8936527.72429288\n"
     ]
    }
   ],
   "source": [
    "print(\"The MSE error of validation set is:\", mean_squared_error(y_val, np.array(pred_val).transpose()))"
   ]
  },
  {
   "cell_type": "markdown",
   "metadata": {},
   "source": [
    "评价指标为**归一化加权均方根对数误差（Normalized Weighted Root Mean Squared Logarithmic Error, NWRMSLE）**，表达式如下：\n",
    "\n",
    "$$\n",
    "\\text{NWRMSLE} = \\sqrt{ \\frac{\\sum_{i=1}^{m}\\omega_i \\sum_{j=1}^{t}\\left( \\ln \\left(\\widehat{y}_j^{(i)} + 1 \\right) -\\ln \\left(y_j^{(i)} + 1 \\right)\\right)^2}{t\\cdot \\sum_{i=1}^{m}\\omega_i} }\n",
    "$$"
   ]
  },
  {
   "cell_type": "code",
   "execution_count": 37,
   "metadata": {},
   "outputs": [
    {
     "name": "stdout",
     "output_type": "stream",
     "text": [
      "The NWRMSLE error of validation set is: 2989.40256979432\n"
     ]
    }
   ],
   "source": [
    "# 归一化加权均方根对数误差\n",
    "err = (y_val - np.array(pred_val).transpose()) ** 2\n",
    "err = err.sum(axis=1)\n",
    "err = np.sqrt(err.sum() / 3 / len(y_val))\n",
    "print(\"The NWRMSLE error of validation set is:\", err)"
   ]
  },
  {
   "cell_type": "markdown",
   "metadata": {},
   "source": [
    "业务指标的表达式如下：\n",
    "\n",
    "$$\n",
    "E(t, y) = \\frac{\\sum_{i=0}^{n} | y^{(i)} - t^{(i)} |}{\\sum_{i=0}^{n} t^{(i)}}\n",
    "$$"
   ]
  },
  {
   "cell_type": "code",
   "execution_count": 38,
   "metadata": {},
   "outputs": [],
   "source": [
    "def error(y_true, y_pred):\n",
    "    return np.sum(np.abs(y_true - y_pred)) / np.sum(y_true)"
   ]
  },
  {
   "cell_type": "code",
   "execution_count": 39,
   "metadata": {},
   "outputs": [],
   "source": [
    "def expm1_with_clip(x, l=0, r=100000):\n",
    "    return np.clip(np.expm1(x), l, r)"
   ]
  },
  {
   "cell_type": "code",
   "execution_count": 40,
   "metadata": {},
   "outputs": [],
   "source": [
    "df_pred_val = pd.DataFrame(\n",
    "    np.array(pred_val).transpose(), index=order_month.index, \n",
    "    columns=['2018-07', '2018-08', '2018-09']\n",
    ")"
   ]
  },
  {
   "cell_type": "code",
   "execution_count": 41,
   "metadata": {},
   "outputs": [],
   "source": [
    "df_val = pd.DataFrame(\n",
    "    np.array(y_val), index=order_month.index, \n",
    "    columns=['2018-07', '2018-08', '2018-09']\n",
    ")"
   ]
  },
  {
   "cell_type": "code",
   "execution_count": 37,
   "metadata": {},
   "outputs": [],
   "source": [
    "# 验证集准确率\n",
    "first_month_error = error(expm1_with_clip(df_val['2018-07']), expm1_with_clip(df_pred_val['2018-07']))\n",
    "second_month_error = error(expm1_with_clip(df_val['2018-08']), expm1_with_clip(df_pred_val['2018-08']))\n",
    "third_month_error = error(expm1_with_clip(df_val['2018-09']), expm1_with_clip(df_pred_val['2018-09']))"
   ]
  },
  {
   "cell_type": "code",
   "execution_count": 38,
   "metadata": {},
   "outputs": [
    {
     "name": "stdout",
     "output_type": "stream",
     "text": [
      "The accuracy of 'M+1' order amount is: 50.96%\n",
      "The accuracy of 'M+2' order amount is: 54.34%\n",
      "The accuracy of 'M+3' order amount is: 48.82%\n"
     ]
    }
   ],
   "source": [
    "print(\"The accuracy of 'M+1' order amount is: %.2f%%\" % ((1 - first_month_error) * 100))\n",
    "print(\"The accuracy of 'M+2' order amount is: %.2f%%\" % ((1 - second_month_error) * 100))\n",
    "print(\"The accuracy of 'M+3' order amount is: %.2f%%\" % ((1 - third_month_error) * 100))"
   ]
  },
  {
   "cell_type": "code",
   "execution_count": 42,
   "metadata": {},
   "outputs": [],
   "source": [
    "df_pred_test = pd.DataFrame(\n",
    "    np.array(pred_test).transpose(), index=order_month.index, \n",
    "    columns=['2018-10', '2018-11', '2018-12']\n",
    ")"
   ]
  },
  {
   "cell_type": "code",
   "execution_count": 43,
   "metadata": {},
   "outputs": [],
   "source": [
    "df_pred_test = pd.DataFrame(\n",
    "    np.array(pred_test).transpose(), index=order_month.index, \n",
    "    columns=['2018-10', '2018-11', '2018-12']\n",
    ").stack().to_frame('pred_qty')\n",
    "df_pred_test.index.set_names(['item_code', 'month'], inplace=True)\n",
    "# df_pred_test['pred_qty'] = np.clip(np.expm1(df_pred_test['pred_qty']), 0, 100000)"
   ]
  },
  {
   "cell_type": "code",
   "execution_count": 44,
   "metadata": {},
   "outputs": [],
   "source": [
    "comp = df_test.join(df_pred_test, how='left').fillna(0).reset_index()\n",
    "first_month_comp = comp.loc[comp['month'] == '2018-10']\n",
    "second_month_comp = comp.loc[comp['month'] == '2018-11']\n",
    "third_month_comp = comp.loc[comp['month'] == '2018-12']"
   ]
  },
  {
   "cell_type": "code",
   "execution_count": 45,
   "metadata": {},
   "outputs": [],
   "source": [
    "first_month_error = error(first_month_comp['qty'], first_month_comp['pred_qty'])\n",
    "second_month_error = error(second_month_comp['qty'], second_month_comp['pred_qty'])\n",
    "third_month_error = error(third_month_comp['qty'], third_month_comp['pred_qty'])"
   ]
  },
  {
   "cell_type": "code",
   "execution_count": 46,
   "metadata": {},
   "outputs": [
    {
     "name": "stdout",
     "output_type": "stream",
     "text": [
      "The accuracy of 'M+1' order amount is: 36.63%\n",
      "The accuracy of 'M+2' order amount is: 29.72%\n",
      "The accuracy of 'M+3' order amount is: 19.48%\n"
     ]
    }
   ],
   "source": [
    "print(\"The accuracy of 'M+1' order amount is: %.2f%%\" % ((1 - first_month_error) * 100))\n",
    "print(\"The accuracy of 'M+2' order amount is: %.2f%%\" % ((1 - second_month_error) * 100))\n",
    "print(\"The accuracy of 'M+3' order amount is: %.2f%%\" % ((1 - third_month_error) * 100))"
   ]
  },
  {
   "cell_type": "code",
   "execution_count": 49,
   "metadata": {},
   "outputs": [],
   "source": [
    "test_items = set(df_test.index.get_level_values(0))"
   ]
  },
  {
   "cell_type": "code",
   "execution_count": 50,
   "metadata": {},
   "outputs": [
    {
     "data": {
      "text/plain": [
       "1010"
      ]
     },
     "execution_count": 50,
     "metadata": {},
     "output_type": "execute_result"
    }
   ],
   "source": [
    "len(test_items)"
   ]
  },
  {
   "cell_type": "code",
   "execution_count": 51,
   "metadata": {},
   "outputs": [],
   "source": [
    "pred_test_items = set(df_pred_test.index.get_level_values(0))"
   ]
  },
  {
   "cell_type": "code",
   "execution_count": 52,
   "metadata": {},
   "outputs": [
    {
     "data": {
      "text/plain": [
       "1558"
      ]
     },
     "execution_count": 52,
     "metadata": {},
     "output_type": "execute_result"
    }
   ],
   "source": [
    "len(pred_test_items)"
   ]
  },
  {
   "cell_type": "code",
   "execution_count": 53,
   "metadata": {},
   "outputs": [
    {
     "data": {
      "text/plain": [
       "860"
      ]
     },
     "execution_count": 53,
     "metadata": {},
     "output_type": "execute_result"
    }
   ],
   "source": [
    "len(test_items & pred_test_items)"
   ]
  },
  {
   "cell_type": "code",
   "execution_count": null,
   "metadata": {},
   "outputs": [],
   "source": []
  }
 ],
 "metadata": {
  "kernelspec": {
   "display_name": "Python 3",
   "language": "python",
   "name": "python3"
  },
  "language_info": {
   "codemirror_mode": {
    "name": "ipython",
    "version": 3
   },
   "file_extension": ".py",
   "mimetype": "text/x-python",
   "name": "python",
   "nbconvert_exporter": "python",
   "pygments_lexer": "ipython3",
   "version": "3.6.5"
  }
 },
 "nbformat": 4,
 "nbformat_minor": 2
}
