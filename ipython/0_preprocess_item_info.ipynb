{
 "cells": [
  {
   "cell_type": "code",
   "execution_count": 1,
   "metadata": {},
   "outputs": [],
   "source": [
    "import re\n",
    "import numpy as np\n",
    "import pandas as pd\n",
    "from sklearn.preprocessing import LabelEncoder"
   ]
  },
  {
   "cell_type": "code",
   "execution_count": 2,
   "metadata": {},
   "outputs": [],
   "source": [
    "items = pd.read_csv(\"../data/item-info.csv\", sep=',')"
   ]
  },
  {
   "cell_type": "code",
   "execution_count": 3,
   "metadata": {},
   "outputs": [
    {
     "name": "stdout",
     "output_type": "stream",
     "text": [
      "The number of all records: 39375\n"
     ]
    }
   ],
   "source": [
    "print(\"The number of all records:\", len(items))"
   ]
  },
  {
   "cell_type": "code",
   "execution_count": 4,
   "metadata": {},
   "outputs": [
    {
     "name": "stdout",
     "output_type": "stream",
     "text": [
      "The number of different items: 37439\n"
     ]
    }
   ],
   "source": [
    "print(\"The number of different items:\", len(items.item_code.unique()))"
   ]
  },
  {
   "cell_type": "code",
   "execution_count": 5,
   "metadata": {},
   "outputs": [],
   "source": [
    "items_filtered = items.drop_duplicates(['item_code'], keep='first')"
   ]
  },
  {
   "cell_type": "code",
   "execution_count": 6,
   "metadata": {},
   "outputs": [],
   "source": [
    "def process_energy_efficiency(x):\n",
    "    if re.match(r'(一级)|(level_1)|(1级)', x.lower()) or x == '1' or x == '一':\n",
    "        return '1级'\n",
    "    elif re.match(r'(二级)|(level_2)|(2级)', x.lower()) or x == '2' or x == '二':\n",
    "        return '2级'\n",
    "    elif re.match(r'(三级)|(level_3)|(3级)', x.lower()) or x == '3' or x == '三':\n",
    "        return '3级'\n",
    "    elif re.match(r'(四级)|(level_4)|(4级)', x.lower()) or x == '4' or x == '四':\n",
    "        return '4级'\n",
    "    elif re.match(r'(五级)|(level_5)|(5级)', x.lower()) or x == '5' or x == '五':\n",
    "        return '5级'\n",
    "    else:\n",
    "        return 'NaN'"
   ]
  },
  {
   "cell_type": "code",
   "execution_count": 7,
   "metadata": {},
   "outputs": [],
   "source": [
    "def process_frequency_type(x):\n",
    "    if re.match(r'(constant_frequency)|(定频)', x.lower()):\n",
    "        return '定频'\n",
    "    elif re.match(r'(variable_frequency)|(变频)', x.lower()):\n",
    "        return '变频'\n",
    "    else:\n",
    "        return 'NaN'"
   ]
  },
  {
   "cell_type": "code",
   "execution_count": 8,
   "metadata": {},
   "outputs": [
    {
     "name": "stderr",
     "output_type": "stream",
     "text": [
      "D:\\Anaconda3\\envs\\py3_for_prac\\lib\\site-packages\\ipykernel_launcher.py:1: SettingWithCopyWarning: \n",
      "A value is trying to be set on a copy of a slice from a DataFrame.\n",
      "Try using .loc[row_indexer,col_indexer] = value instead\n",
      "\n",
      "See the caveats in the documentation: http://pandas.pydata.org/pandas-docs/stable/indexing.html#indexing-view-versus-copy\n",
      "  \"\"\"Entry point for launching an IPython kernel.\n"
     ]
    }
   ],
   "source": [
    "items_filtered['energyeffratiing'] = items_filtered['energyeffratiing'].astype('str').apply(process_energy_efficiency)\n",
    "items_filtered['frequencytype'] = items_filtered['frequencytype'].astype('str').apply(process_frequency_type)"
   ]
  },
  {
   "cell_type": "code",
   "execution_count": 10,
   "metadata": {},
   "outputs": [
    {
     "name": "stderr",
     "output_type": "stream",
     "text": [
      "D:\\Anaconda3\\envs\\py3_for_prac\\lib\\site-packages\\ipykernel_launcher.py:3: SettingWithCopyWarning: \n",
      "A value is trying to be set on a copy of a slice from a DataFrame.\n",
      "Try using .loc[row_indexer,col_indexer] = value instead\n",
      "\n",
      "See the caveats in the documentation: http://pandas.pydata.org/pandas-docs/stable/indexing.html#indexing-view-versus-copy\n",
      "  This is separate from the ipykernel package so we can avoid doing imports until\n",
      "D:\\Anaconda3\\envs\\py3_for_prac\\lib\\site-packages\\ipykernel_launcher.py:4: SettingWithCopyWarning: \n",
      "A value is trying to be set on a copy of a slice from a DataFrame.\n",
      "Try using .loc[row_indexer,col_indexer] = value instead\n",
      "\n",
      "See the caveats in the documentation: http://pandas.pydata.org/pandas-docs/stable/indexing.html#indexing-view-versus-copy\n",
      "  after removing the cwd from sys.path.\n",
      "D:\\Anaconda3\\envs\\py3_for_prac\\lib\\site-packages\\ipykernel_launcher.py:5: SettingWithCopyWarning: \n",
      "A value is trying to be set on a copy of a slice from a DataFrame.\n",
      "Try using .loc[row_indexer,col_indexer] = value instead\n",
      "\n",
      "See the caveats in the documentation: http://pandas.pydata.org/pandas-docs/stable/indexing.html#indexing-view-versus-copy\n",
      "  \"\"\"\n",
      "D:\\Anaconda3\\envs\\py3_for_prac\\lib\\site-packages\\ipykernel_launcher.py:6: SettingWithCopyWarning: \n",
      "A value is trying to be set on a copy of a slice from a DataFrame.\n",
      "Try using .loc[row_indexer,col_indexer] = value instead\n",
      "\n",
      "See the caveats in the documentation: http://pandas.pydata.org/pandas-docs/stable/indexing.html#indexing-view-versus-copy\n",
      "  \n"
     ]
    }
   ],
   "source": [
    "encoder = LabelEncoder()\n",
    "items_filtered['sales_category_wid'] = encoder.fit_transform(items_filtered['sales_category_wid'])\n",
    "items_filtered['productform'] = encoder.fit_transform(items_filtered['productform'].astype('str'))\n",
    "items_filtered['energyeffratiing'] = encoder.fit_transform(items_filtered['energyeffratiing'])\n",
    "items_filtered['frequencytype'] = encoder.fit_transform(items_filtered['frequencytype'])"
   ]
  },
  {
   "cell_type": "code",
   "execution_count": 107,
   "metadata": {},
   "outputs": [],
   "source": [
    "# items = pd.read_csv(\"../data/item-info.csv\", sep=',')\n",
    "\n",
    "# items = items.drop_duplicates(['item_code'], keep='first')\n",
    "\n",
    "# items['energyeffratiing'] = items['energyeffratiing'].astype('str').apply(process_energy_efficiency)\n",
    "# items['frequencytype'] = items['frequencytype'].astype('str').apply(process_frequency_type)\n",
    "\n",
    "# encoder = LabelEncoder()\n",
    "# items['sales_category_wid'] = encoder.fit_transform(items['sales_category_wid'])\n",
    "# items['productform'] = encoder.fit_transform(items['productform'].astype('str'))\n",
    "# items['energyeffratiing'] = encoder.fit_transform(items['energyeffratiing'])\n",
    "# items['frequencytype'] = encoder.fit_transform(items['frequencytype'])"
   ]
  },
  {
   "cell_type": "code",
   "execution_count": 105,
   "metadata": {},
   "outputs": [],
   "source": [
    "# item_category_info = pd.read_csv(\"../data/item-category-info.csv\", sep=',')\n",
    "\n",
    "# item_category_info = item_category_info.drop_duplicates(['item_code'], keep='first')\n",
    "# item_category_info.fillna('-1', inplace=True)\n",
    "# item_category_info.drop(['bd_code', 'segment1_name', 'segment2_name', 'rn'], axis=1, inplace=True)\n",
    "\n",
    "# encoder = LabelEncoder()\n",
    "# item_category_info['category_wid'] = encoder.fit_transform(item_category_info['category_wid'].astype('str'))\n",
    "# item_category_info['segment1_code'] = encoder.fit_transform(item_category_info['segment1_code'].astype('str'))\n",
    "# item_category_info['segment2_code'] = encoder.fit_transform(item_category_info['segment2_code'].astype('str'))"
   ]
  },
  {
   "cell_type": "code",
   "execution_count": 11,
   "metadata": {},
   "outputs": [],
   "source": [
    "items_filtered.to_csv(\"../processed_data/item-info2.csv\", index=False)"
   ]
  },
  {
   "cell_type": "code",
   "execution_count": null,
   "metadata": {},
   "outputs": [],
   "source": []
  }
 ],
 "metadata": {
  "kernelspec": {
   "display_name": "Python 3",
   "language": "python",
   "name": "python3"
  },
  "language_info": {
   "codemirror_mode": {
    "name": "ipython",
    "version": 3
   },
   "file_extension": ".py",
   "mimetype": "text/x-python",
   "name": "python",
   "nbconvert_exporter": "python",
   "pygments_lexer": "ipython3",
   "version": "3.6.5"
  }
 },
 "nbformat": 4,
 "nbformat_minor": 2
}
