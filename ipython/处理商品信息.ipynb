{
 "cells": [
  {
   "cell_type": "code",
   "execution_count": 18,
   "metadata": {},
   "outputs": [],
   "source": [
    "import re\n",
    "import numpy as np\n",
    "import pandas as pd\n",
    "from sklearn.preprocessing import LabelEncoder"
   ]
  },
  {
   "cell_type": "code",
   "execution_count": 19,
   "metadata": {},
   "outputs": [],
   "source": [
    "items = pd.read_csv(\"../data/item-info-20181116.csv\", sep=',')"
   ]
  },
  {
   "cell_type": "code",
   "execution_count": 20,
   "metadata": {},
   "outputs": [
    {
     "name": "stdout",
     "output_type": "stream",
     "text": [
      "The number of all records: 44746\n"
     ]
    }
   ],
   "source": [
    "print(\"The number of all records:\", len(items))"
   ]
  },
  {
   "cell_type": "code",
   "execution_count": 21,
   "metadata": {},
   "outputs": [],
   "source": [
    "unique_items = pd.DataFrame(items.item_code.unique(), columns=['item_code'])"
   ]
  },
  {
   "cell_type": "code",
   "execution_count": 22,
   "metadata": {},
   "outputs": [
    {
     "name": "stdout",
     "output_type": "stream",
     "text": [
      "The number of different items: 37398\n"
     ]
    }
   ],
   "source": [
    "print(\"The number of different items:\", len(unique_items))"
   ]
  },
  {
   "cell_type": "code",
   "execution_count": 23,
   "metadata": {},
   "outputs": [],
   "source": [
    "items_filtered = items.drop_duplicates(['item_code'], keep='first').drop(\n",
    "    ['item_wid', 'item_name', 'brand'], axis=1)"
   ]
  },
  {
   "cell_type": "code",
   "execution_count": 24,
   "metadata": {},
   "outputs": [],
   "source": [
    "def process_energy_efficiency(x):\n",
    "    if re.match(r'(一级)|(level_1)|(1级)', x.lower()) or x == '1' or x == '一':\n",
    "        return '1级'\n",
    "    elif re.match(r'(二级)|(level_2)|(2级)', x.lower()) or x == '2' or x == '二':\n",
    "        return '2级'\n",
    "    elif re.match(r'(三级)|(level_3)|(3级)', x.lower()) or x == '3' or x == '三':\n",
    "        return '3级'\n",
    "    elif re.match(r'(四级)|(level_4)|(4级)', x.lower()) or x == '4' or x == '四':\n",
    "        return '4级'\n",
    "    elif re.match(r'(五级)|(level_5)|(5级)', x.lower()) or x == '5' or x == '五':\n",
    "        return '5级'\n",
    "    else:\n",
    "        return 'NaN'"
   ]
  },
  {
   "cell_type": "code",
   "execution_count": 25,
   "metadata": {},
   "outputs": [],
   "source": [
    "def process_frequency_type(x):\n",
    "    if re.match(r'(constant_frequency)|(定频)', x.lower()):\n",
    "        return '定频'\n",
    "    elif re.match(r'(variable_frequency)|(变频)', x.lower()):\n",
    "        return '变频'\n",
    "    else:\n",
    "        return 'NaN'"
   ]
  },
  {
   "cell_type": "code",
   "execution_count": 26,
   "metadata": {},
   "outputs": [],
   "source": [
    "items_filtered['energyeffratiing'] = items_filtered['energyeffratiing'].astype('str').apply(process_energy_efficiency)"
   ]
  },
  {
   "cell_type": "code",
   "execution_count": 27,
   "metadata": {},
   "outputs": [],
   "source": [
    "items_filtered['frequencytype'] = items_filtered['frequencytype'].astype('str').apply(process_frequency_type)"
   ]
  },
  {
   "cell_type": "code",
   "execution_count": 30,
   "metadata": {},
   "outputs": [],
   "source": [
    "encoder = LabelEncoder()\n",
    "\n",
    "items_filtered['sales_category_wid'] = encoder.fit_transform(items_filtered['sales_category_wid'])\n",
    "items_filtered['productform'] = encoder.fit_transform(items_filtered['productform'].astype('str'))\n",
    "items_filtered['energyeffratiing'] = encoder.fit_transform(items_filtered['energyeffratiing'])\n",
    "items_filtered['frequencytype'] = encoder.fit_transform(items_filtered['frequencytype'])"
   ]
  },
  {
   "cell_type": "code",
   "execution_count": 32,
   "metadata": {},
   "outputs": [],
   "source": [
    "items_filtered.to_csv(\"../processed_data/item-info.csv\", index=False)"
   ]
  },
  {
   "cell_type": "code",
   "execution_count": null,
   "metadata": {},
   "outputs": [],
   "source": []
  }
 ],
 "metadata": {
  "kernelspec": {
   "display_name": "Python 3",
   "language": "python",
   "name": "python3"
  },
  "language_info": {
   "codemirror_mode": {
    "name": "ipython",
    "version": 3
   },
   "file_extension": ".py",
   "mimetype": "text/x-python",
   "name": "python",
   "nbconvert_exporter": "python",
   "pygments_lexer": "ipython3",
   "version": "3.6.5"
  }
 },
 "nbformat": 4,
 "nbformat_minor": 2
}
