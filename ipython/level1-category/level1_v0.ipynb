{
 "cells": [
  {
   "cell_type": "code",
   "execution_count": 1,
   "metadata": {},
   "outputs": [],
   "source": [
    "import gc\n",
    "import numpy as np\n",
    "import pandas as pd\n",
    "import lightgbm as lgb\n",
    "from time import time\n",
    "from datetime import date\n",
    "from sklearn.metrics import mean_squared_error\n",
    "from sklearn.preprocessing import LabelEncoder, OneHotEncoder\n",
    "\n",
    "import matplotlib.pyplot as plt\n",
    "%matplotlib inline"
   ]
  },
  {
   "cell_type": "code",
   "execution_count": 2,
   "metadata": {},
   "outputs": [],
   "source": [
    "pd.set_option('display.max_columns', 1000)"
   ]
  },
  {
   "cell_type": "markdown",
   "metadata": {},
   "source": [
    "# 1 数据预处理"
   ]
  },
  {
   "cell_type": "code",
   "execution_count": 44,
   "metadata": {},
   "outputs": [],
   "source": [
    "# 载入数据\n",
    "order = pd.read_csv(\"../../data/level2/m111-sku-order.csv\", sep=',', parse_dates=['order_date'])\n",
    "dis = pd.read_csv(\"../../data/level2/m111-sku-dis.csv\", sep=',', parse_dates=['dis_date'])\n",
    "inv = pd.read_csv(\n",
    "    \"../../data/level2/m111-sku-inv.csv\", sep=',', parse_dates=['period_wid']\n",
    ").rename(columns={'period_wid': 'inv_date'})\n",
    "category = pd.read_csv(\n",
    "    \"../../data/level2/item2category-from-3.csv\", sep=','\n",
    ").rename(columns={'sales_segment1_code': 'category'})"
   ]
  },
  {
   "cell_type": "code",
   "execution_count": 45,
   "metadata": {},
   "outputs": [],
   "source": [
    "# 考虑的品类有：消毒柜、洗碗机、烟机、灶具、电热、净水机、燃热、饮水机\n",
    "cates_considered = ['CRXDG', 'CRXWJ', 'CRYJ', 'CRZJ', 'DR', 'JSJ', 'RR', 'YSJ']"
   ]
  },
  {
   "cell_type": "markdown",
   "metadata": {},
   "source": [
    "## 1.1 处理订单数据"
   ]
  },
  {
   "cell_type": "code",
   "execution_count": 46,
   "metadata": {},
   "outputs": [],
   "source": [
    "# 取2017年至2018年区间中的数据（2019/03/01取数有164945条记录）\n",
    "order = order.loc[(order.order_date >= '2017-01-01') & (order.order_date <= '2018-12-31')]"
   ]
  },
  {
   "cell_type": "code",
   "execution_count": 47,
   "metadata": {},
   "outputs": [],
   "source": [
    "# 删除其他品类的数据（剩余记录数为161064）\n",
    "order = order.join(category.set_index('item_code'), on='item_code', how='left')\n",
    "order = order.loc[order.category.isin(cates_considered)]"
   ]
  },
  {
   "cell_type": "code",
   "execution_count": 48,
   "metadata": {},
   "outputs": [],
   "source": [
    "# 划分数据集\n",
    "df_test = order.loc[order.order_date >= '2018-11-01']  # 测试集\n",
    "order = order.loc[order.order_date <= '2018-10-31']  # 训练和验证集"
   ]
  },
  {
   "cell_type": "code",
   "execution_count": 49,
   "metadata": {},
   "outputs": [],
   "source": [
    "df_test['month'] = df_test.order_date.astype('str').apply(lambda x: x[:7])\n",
    "df_test = df_test.groupby(['category', 'month'])[['qty']].sum()"
   ]
  },
  {
   "cell_type": "code",
   "execution_count": 50,
   "metadata": {},
   "outputs": [],
   "source": [
    "# 每个品类每个月的提货量\n",
    "order_cate_month = order.copy()\n",
    "order_cate_month['month'] = order_cate_month.order_date.astype('str').apply(lambda x: x[:7])\n",
    "order_cate_month = order_cate_month.groupby(['category', 'month'])[['qty']].sum()"
   ]
  },
  {
   "cell_type": "code",
   "execution_count": 51,
   "metadata": {},
   "outputs": [],
   "source": [
    "# 取对数\n",
    "order_cate_month['qty'] = np.log1p(order_cate_month.qty)"
   ]
  },
  {
   "cell_type": "code",
   "execution_count": 52,
   "metadata": {},
   "outputs": [],
   "source": [
    "order_cate_month = order_cate_month.unstack(level=-1).fillna(0)\n",
    "order_cate_month.columns = pd.date_range('2017-01-31', '2018-10-31', freq='M')"
   ]
  },
  {
   "cell_type": "markdown",
   "metadata": {},
   "source": [
    "## 1.2 处理分销数据"
   ]
  },
  {
   "cell_type": "code",
   "execution_count": 53,
   "metadata": {},
   "outputs": [],
   "source": [
    "# 取2017年至2018年区间中的数据（分销数据从2017年6月开始才可用，记录数为358247）\n",
    "dis = dis.loc[(dis.dis_date >= '2017-06-01') & (dis.dis_date <= '2018-10-31')]"
   ]
  },
  {
   "cell_type": "code",
   "execution_count": 54,
   "metadata": {},
   "outputs": [],
   "source": [
    "# 删除其他品类的数据（剩余记录数为343637）\n",
    "dis = dis.join(category.set_index('item_code'), on='item_code', how='left')\n",
    "dis = dis.loc[dis.category.isin(cates_considered)]"
   ]
  },
  {
   "cell_type": "code",
   "execution_count": 55,
   "metadata": {},
   "outputs": [],
   "source": [
    "# 每个品类每个月的分销量\n",
    "dis_cate_month = dis.copy()\n",
    "dis_cate_month['month'] = dis_cate_month.dis_date.astype('str').apply(lambda x: x[:7])\n",
    "dis_cate_month = dis_cate_month.groupby(['category', 'month'])[['qty']].sum()"
   ]
  },
  {
   "cell_type": "code",
   "execution_count": 56,
   "metadata": {},
   "outputs": [],
   "source": [
    "# 取对数\n",
    "dis_cate_month['qty'] = np.log1p(dis_cate_month.qty)"
   ]
  },
  {
   "cell_type": "code",
   "execution_count": 57,
   "metadata": {},
   "outputs": [],
   "source": [
    "dis_cate_month = dis_cate_month.unstack(level=-1).fillna(0)\n",
    "dis_cate_month.columns = pd.date_range('2017-06-30', '2018-10-31', freq='M')"
   ]
  },
  {
   "cell_type": "code",
   "execution_count": 62,
   "metadata": {},
   "outputs": [],
   "source": [
    "dis_cate_month = dis_cate_month.reindex(order_cate_month.index).fillna(0)"
   ]
  },
  {
   "cell_type": "markdown",
   "metadata": {},
   "source": [
    "## 1.3 处理库存数据"
   ]
  },
  {
   "cell_type": "code",
   "execution_count": 64,
   "metadata": {},
   "outputs": [],
   "source": [
    "# 取2017年至2018年区间中的数据（库存数据从2017年12月开始可用，记录数为138437）\n",
    "inv = inv.loc[(inv.inv_date >= '2017-12-01') & (inv.inv_date <= '2018-10-31')]"
   ]
  },
  {
   "cell_type": "code",
   "execution_count": 65,
   "metadata": {},
   "outputs": [],
   "source": [
    "# 删除其他品类的数据（剩余记录数为121249）\n",
    "inv = inv.join(category.set_index('item_code'), on='item_code', how='left')\n",
    "inv = inv.loc[inv.category.isin(cates_considered)]"
   ]
  },
  {
   "cell_type": "code",
   "execution_count": 66,
   "metadata": {},
   "outputs": [],
   "source": [
    "# 取每月的最后一天作为当月的库存（剩余记录数为33698）\n",
    "inv_lastday = inv.loc[inv.inv_date.isin(pd.date_range('2017-12-31', '2018-10-31', freq='M'))]"
   ]
  },
  {
   "cell_type": "code",
   "execution_count": 70,
   "metadata": {},
   "outputs": [],
   "source": [
    "# 每个品类每月的库存量\n",
    "inv_cate_month = inv_lastday.copy()\n",
    "inv_cate_month['month'] = inv_cate_month.inv_date.astype('str').apply(lambda x: x[:7])\n",
    "inv_cate_month = inv_cate_month.groupby(['category', 'month'])[['qty']].sum()"
   ]
  },
  {
   "cell_type": "code",
   "execution_count": 72,
   "metadata": {},
   "outputs": [],
   "source": [
    "# 取对数\n",
    "inv_cate_month['qty'] = np.log1p(inv_cate_month.qty)"
   ]
  },
  {
   "cell_type": "code",
   "execution_count": 73,
   "metadata": {},
   "outputs": [],
   "source": [
    "inv_cate_month = inv_cate_month.unstack(level=-1).fillna(0)\n",
    "inv_cate_month.columns = pd.date_range('2017-12-31', '2018-10-31', freq='M')"
   ]
  },
  {
   "cell_type": "code",
   "execution_count": 77,
   "metadata": {},
   "outputs": [],
   "source": [
    "inv_cate_month = inv_cate_month.reindex(order_cate_month.index).fillna(0)"
   ]
  },
  {
   "cell_type": "markdown",
   "metadata": {},
   "source": [
    "## 2.4 处理品类特征"
   ]
  },
  {
   "cell_type": "code",
   "execution_count": 122,
   "metadata": {},
   "outputs": [],
   "source": [
    "cates = pd.DataFrame(cates_considered, columns=['category'])\n",
    "\n",
    "encoder = LabelEncoder()\n",
    "cates['cate_enc'] = encoder.fit_transform(cates.category)\n",
    "\n",
    "cates = cates.set_index('category').reindex(order_cate_month.index)"
   ]
  },
  {
   "cell_type": "markdown",
   "metadata": {},
   "source": [
    "# 2 特征工程"
   ]
  },
  {
   "cell_type": "code",
   "execution_count": 123,
   "metadata": {},
   "outputs": [],
   "source": [
    "def prepare_dataset(order, dis, inv, year, month, is_train=True, name_prefix=None):\n",
    "    X = {}\n",
    "\n",
    "    # 提货的统计特征\n",
    "    for i in [3]:\n",
    "        dt = date(year, month, 1)\n",
    "        tmp = order[pd.date_range(end=dt, periods=i, freq='M')]  # 前i个月提货量\n",
    "        X['ord_diff_mean_pre_%s' % i] = tmp.diff(axis=1).mean(axis=1).values  # 前i个月提货量的平均一阶差分\n",
    "        X['ord_sum_decay_pre_%s' % i] = (tmp * np.power(0.9, np.arange(i)[::-1])).sum(axis=1).values  # 前i个月提货量的和（带衰减）\n",
    "        X['ord_mean_pre_%s' % i] = tmp.mean(axis=1).values  # 前i个月提货量的平均值\n",
    "        X['ord_median_pre_%s' % i] = tmp.median(axis=1).values  # 前i个月提货量的中位数\n",
    "        X['ord_max_pre_%s' % i] = tmp.max(axis=1).values  # 前i个月提货量的最大值\n",
    "        X['ord_min_pre_%s' % i] = tmp.min(axis=1).values  # 前i个月提货量的最小值\n",
    "        X['ord_std_pre_%s' % i] = tmp.std(axis=1).values  # 前i个月提货量的标准差\n",
    "\n",
    "    # 分销的统计特征\n",
    "#     for i in [3]:\n",
    "#         dt = date(year, month, 1)\n",
    "#         tmp = dis[pd.date_range(end=dt, periods=i, freq='M')]  # 前i个月分销量\n",
    "#         X['dis_diff_mean_pre_%s' % i] = tmp.diff(axis=1).mean(axis=1).values  # 前i个月分销量的平均一阶差分\n",
    "#         X['dis_sum_decay_pre_%s' % i] = (tmp * np.power(0.9, np.arange(i)[::-1])).sum(axis=1).values  # 前i个月分销量的和（带衰减）\n",
    "#         X['dis_mean_pre_%s' % i] = tmp.mean(axis=1).values  # 前i个月分销量的均值\n",
    "#         X['dis_median_pre_%s' % i] = tmp.median(axis=1).values  # 前i个月分销量的中位数\n",
    "#         X['dis_max_pre_%s' % i] = tmp.max(axis=1).values  # 前i个月分销量的最大值\n",
    "#         X['dis_min_pre_%s' % i] = tmp.min(axis=1).values  # 前i个月分销量的最小值\n",
    "#         X['dis_std_pre_%s' % i] = tmp.std(axis=1).values  # 前i个月分销量的标准差\n",
    "        \n",
    "    # 库存的统计特征\n",
    "#     for i in [3, 6]:\n",
    "#         dt = date(year, month, 1)\n",
    "#         tmp = inv[pd.date_range(end=dt, periods=i, freq='M')]  # 前i个月库存量\n",
    "#         X['inv_diff_mean_pre_%s' % i] = tmp.diff(axis=1).mean(axis=1).values  # 前i个月库存量的平均一阶差分\n",
    "#         X['inv_sum_decay_pre_%s' % i] = (tmp * np.power(0.9, np.arange(i)[::-1])).sum(axis=1).values  # 前i个月库存量的和（带衰减）\n",
    "#         X['inv_mean_pre_%s' % i] = tmp.mean(axis=1).values  # 前i个月库存量的均值\n",
    "#         X['inv_median_pre_%s' % i] = tmp.median(axis=1).values  # 前i个月库存量的中位数\n",
    "#         X['inv_max_pre_%s' % i] = tmp.max(axis=1).values  # 前i个月库存量的最大值\n",
    "#         X['inv_min_pre_%s' % i] = tmp.min(axis=1).values  # 前i个月库存量的最小值\n",
    "#         X['inv_std_pre_%s' % i] = tmp.std(axis=1).values  # 前i个月库存量的标准差\n",
    "\n",
    "    # 前3个月的提货量\n",
    "    for i in range(1, 4):\n",
    "        if month - i <= 0:\n",
    "            start_dt = date(year - 1, month + 12 - i, 1)\n",
    "        else:\n",
    "            start_dt = date(year, month - i, 1)\n",
    "        X['ord_pre_%s' % i] = order[pd.date_range(start_dt, periods=1, freq='M')].values.ravel()\n",
    "\n",
    "    # 前3个月分销量\n",
    "#     for i in range(1, 4):\n",
    "#         if month - i <= 0:\n",
    "#             start_dt = date(year - 1, month + 12 - i, 1)\n",
    "#         else:\n",
    "#             start_dt = date(year, month - i, 1)\n",
    "#         X['dis_pre_%s' % i] = dis[pd.date_range(start_dt, periods=1, freq='M')].values.ravel()\n",
    "       \n",
    "    # 前6个月的库存量\n",
    "#     for i in range(1, 7):\n",
    "#         if month - i <= 0:\n",
    "#             start_dt = date(year - 1, month + 12 - i, 1)\n",
    "#         else:\n",
    "#             start_dt = date(year, month - i, 1)\n",
    "#         X['inv_pre_%s' % i] = inv[pd.date_range(start_dt, periods=1, freq='M')].values.ravel()\n",
    "        \n",
    "    X = pd.DataFrame(X)\n",
    "    \n",
    "    if is_train:\n",
    "        start_dt = date(year, month, 1)\n",
    "        y = order[pd.date_range(start_dt, periods=2, freq='M')].values\n",
    "        return X, y\n",
    "    \n",
    "    if name_prefix is not None:\n",
    "        X.columns = ['%s_%s' % (name_prefix, c) for c in X.columns]\n",
    "        \n",
    "    return X"
   ]
  },
  {
   "cell_type": "code",
   "execution_count": 124,
   "metadata": {},
   "outputs": [],
   "source": [
    "def get_pre_10_days(order, dis, inv, index, year, month):\n",
    "    X = {} \n",
    "    start_dt, end_dt = date(year, month, 1), date(year, month, 10)\n",
    "    \n",
    "    # 每个品类M月前10天的提货量\n",
    "    ord_tmp = order.loc[order.order_date.isin(pd.date_range(start_dt, end_dt, freq='D'))]\n",
    "    ord_tmp = ord_tmp.groupby('category')[['qty']].sum()\n",
    "    ord_tmp = ord_tmp.reindex(index).fillna(0)\n",
    "    ord_tmp['qty'] = ord_tmp.qty.apply(lambda x: np.log1p(x) if x > 0 else 0)\n",
    "    X['ord_pre_10_days'] = ord_tmp.values.ravel()\n",
    "    \n",
    "    # 每个品类M月前10天的分销量\n",
    "#     dis_tmp = dis.loc[dis.dis_date.isin(pd.date_range(start_dt, end_dt, freq='D'))]\n",
    "#     dis_tmp = dis_tmp.groupby('category')[['qty']].sum()\n",
    "#     dis_tmp = dis_tmp.reindex(index).fillna(0)\n",
    "#     dis_tmp['qty'] = dis_tmp.qty.apply(lambda x: np.log1p(x) if x > 0 else 0)\n",
    "#     X['dis_pre_10_days'] = dis_tmp.values.ravel()\n",
    "    \n",
    "    # 每个品类M月前10天的库存\n",
    "#     inv_tmp = inv.loc[inv.inv_date.isin(pd.date_range(end=end_dt, periods=1, freq='D'))]\n",
    "#     inv_tmp = inv_tmp.groupby('category')[['qty']].sum()\n",
    "#     inv_tmp = inv_tmp.reindex(index).fillna(0)\n",
    "#     inv_tmp['qty'] = inv_tmp.qty.apply(lambda x: np.log1p(x) if x > 0 else 0)\n",
    "#     X['inv_pre_10_days'] = inv_tmp.values.ravel()\n",
    "    \n",
    "    X = pd.DataFrame(X)\n",
    "    \n",
    "    return X"
   ]
  },
  {
   "cell_type": "markdown",
   "metadata": {},
   "source": [
    "## 2.1 准备训练集"
   ]
  },
  {
   "cell_type": "code",
   "execution_count": 131,
   "metadata": {},
   "outputs": [],
   "source": [
    "train_month = [ \n",
    "    '2017-05', \n",
    "    '2017-06', \n",
    "    '2017-07', \n",
    "    '2017-08', \n",
    "    '2017-09', \n",
    "    '2017-10', \n",
    "    '2017-11', \n",
    "    '2017-12', \n",
    "    '2018-01', \n",
    "    '2018-03', \n",
    "    '2018-04', \n",
    "    '2018-05', \n",
    "    '2018-06', \n",
    "    '2018-07'\n",
    "]\n",
    "\n",
    "X_l, y_l = [], []\n",
    "category = pd.DataFrame(order_cate_month.index, columns=['category'])\n",
    "for month in train_month:\n",
    "    y, m = int(month.split('-')[0]), int(month.split('-')[1]) \n",
    "    pre_10_days = get_pre_10_days(order, dis, inv, order_cate_month.index, y, m)   \n",
    "    X_tmp, y_tmp = prepare_dataset(order_cate_month, dis_cate_month, inv_cate_month, y, m)\n",
    "    X_tmp = pd.concat([X_tmp, pre_10_days, cates.reset_index(drop=True)], axis=1)\n",
    "    X_tmp['pred_month'] = m\n",
    "    X_l.append(X_tmp)\n",
    "    y_l.append(y_tmp)\n",
    "    \n",
    "    del X_tmp, y_tmp\n",
    "    gc.collect()\n",
    "    \n",
    "X_train = pd.concat(X_l, axis=0)\n",
    "y_train = np.concatenate(y_l, axis=0)"
   ]
  },
  {
   "cell_type": "code",
   "execution_count": 132,
   "metadata": {},
   "outputs": [
    {
     "data": {
      "text/html": [
       "<div>\n",
       "<style scoped>\n",
       "    .dataframe tbody tr th:only-of-type {\n",
       "        vertical-align: middle;\n",
       "    }\n",
       "\n",
       "    .dataframe tbody tr th {\n",
       "        vertical-align: top;\n",
       "    }\n",
       "\n",
       "    .dataframe thead th {\n",
       "        text-align: right;\n",
       "    }\n",
       "</style>\n",
       "<table border=\"1\" class=\"dataframe\">\n",
       "  <thead>\n",
       "    <tr style=\"text-align: right;\">\n",
       "      <th></th>\n",
       "      <th>ord_diff_mean_pre_3</th>\n",
       "      <th>ord_max_pre_3</th>\n",
       "      <th>ord_mean_pre_3</th>\n",
       "      <th>ord_median_pre_3</th>\n",
       "      <th>ord_min_pre_3</th>\n",
       "      <th>ord_pre_1</th>\n",
       "      <th>ord_pre_2</th>\n",
       "      <th>ord_pre_3</th>\n",
       "      <th>ord_std_pre_3</th>\n",
       "      <th>ord_sum_decay_pre_3</th>\n",
       "      <th>ord_pre_10_days</th>\n",
       "      <th>cate_enc</th>\n",
       "      <th>pred_month</th>\n",
       "    </tr>\n",
       "  </thead>\n",
       "  <tbody>\n",
       "    <tr>\n",
       "      <th>0</th>\n",
       "      <td>-0.307230</td>\n",
       "      <td>11.186946</td>\n",
       "      <td>10.630865</td>\n",
       "      <td>10.660055</td>\n",
       "      <td>10.045595</td>\n",
       "      <td>10.045595</td>\n",
       "      <td>11.186946</td>\n",
       "      <td>10.660055</td>\n",
       "      <td>0.571235</td>\n",
       "      <td>28.748491</td>\n",
       "      <td>9.974458</td>\n",
       "      <td>0</td>\n",
       "      <td>5</td>\n",
       "    </tr>\n",
       "    <tr>\n",
       "      <th>1</th>\n",
       "      <td>0.432129</td>\n",
       "      <td>10.055822</td>\n",
       "      <td>9.660306</td>\n",
       "      <td>9.733529</td>\n",
       "      <td>9.191565</td>\n",
       "      <td>10.055822</td>\n",
       "      <td>9.733529</td>\n",
       "      <td>9.191565</td>\n",
       "      <td>0.436757</td>\n",
       "      <td>26.261166</td>\n",
       "      <td>9.188299</td>\n",
       "      <td>1</td>\n",
       "      <td>5</td>\n",
       "    </tr>\n",
       "    <tr>\n",
       "      <th>2</th>\n",
       "      <td>0.118687</td>\n",
       "      <td>12.845998</td>\n",
       "      <td>12.056541</td>\n",
       "      <td>11.780499</td>\n",
       "      <td>11.543125</td>\n",
       "      <td>11.780499</td>\n",
       "      <td>12.845998</td>\n",
       "      <td>11.543125</td>\n",
       "      <td>0.693916</td>\n",
       "      <td>32.691829</td>\n",
       "      <td>11.278999</td>\n",
       "      <td>2</td>\n",
       "      <td>5</td>\n",
       "    </tr>\n",
       "    <tr>\n",
       "      <th>3</th>\n",
       "      <td>-0.074273</td>\n",
       "      <td>12.654952</td>\n",
       "      <td>11.862755</td>\n",
       "      <td>11.540930</td>\n",
       "      <td>11.392384</td>\n",
       "      <td>11.392384</td>\n",
       "      <td>12.654952</td>\n",
       "      <td>11.540930</td>\n",
       "      <td>0.690071</td>\n",
       "      <td>32.129993</td>\n",
       "      <td>11.174217</td>\n",
       "      <td>3</td>\n",
       "      <td>5</td>\n",
       "    </tr>\n",
       "    <tr>\n",
       "      <th>4</th>\n",
       "      <td>-0.085944</td>\n",
       "      <td>13.130270</td>\n",
       "      <td>13.072399</td>\n",
       "      <td>13.128546</td>\n",
       "      <td>12.958382</td>\n",
       "      <td>12.958382</td>\n",
       "      <td>13.128546</td>\n",
       "      <td>13.130270</td>\n",
       "      <td>0.098746</td>\n",
       "      <td>35.409593</td>\n",
       "      <td>12.121473</td>\n",
       "      <td>4</td>\n",
       "      <td>5</td>\n",
       "    </tr>\n",
       "  </tbody>\n",
       "</table>\n",
       "</div>"
      ],
      "text/plain": [
       "   ord_diff_mean_pre_3  ord_max_pre_3  ord_mean_pre_3  ord_median_pre_3  \\\n",
       "0            -0.307230      11.186946       10.630865         10.660055   \n",
       "1             0.432129      10.055822        9.660306          9.733529   \n",
       "2             0.118687      12.845998       12.056541         11.780499   \n",
       "3            -0.074273      12.654952       11.862755         11.540930   \n",
       "4            -0.085944      13.130270       13.072399         13.128546   \n",
       "\n",
       "   ord_min_pre_3  ord_pre_1  ord_pre_2  ord_pre_3  ord_std_pre_3  \\\n",
       "0      10.045595  10.045595  11.186946  10.660055       0.571235   \n",
       "1       9.191565  10.055822   9.733529   9.191565       0.436757   \n",
       "2      11.543125  11.780499  12.845998  11.543125       0.693916   \n",
       "3      11.392384  11.392384  12.654952  11.540930       0.690071   \n",
       "4      12.958382  12.958382  13.128546  13.130270       0.098746   \n",
       "\n",
       "   ord_sum_decay_pre_3  ord_pre_10_days  cate_enc  pred_month  \n",
       "0            28.748491         9.974458         0           5  \n",
       "1            26.261166         9.188299         1           5  \n",
       "2            32.691829        11.278999         2           5  \n",
       "3            32.129993        11.174217         3           5  \n",
       "4            35.409593        12.121473         4           5  "
      ]
     },
     "execution_count": 132,
     "metadata": {},
     "output_type": "execute_result"
    }
   ],
   "source": [
    "X_train.head()"
   ]
  },
  {
   "cell_type": "code",
   "execution_count": 133,
   "metadata": {},
   "outputs": [
    {
     "data": {
      "text/plain": [
       "(112, 13)"
      ]
     },
     "execution_count": 133,
     "metadata": {},
     "output_type": "execute_result"
    }
   ],
   "source": [
    "X_train.shape"
   ]
  },
  {
   "cell_type": "markdown",
   "metadata": {},
   "source": [
    "## 2.2 准备验证集"
   ]
  },
  {
   "cell_type": "code",
   "execution_count": 134,
   "metadata": {},
   "outputs": [],
   "source": [
    "pre_10_days = get_pre_10_days(order, dis, inv, order_cate_month.index, 2018, 9)\n",
    "X_val, y_val = prepare_dataset(order_cate_month, dis_cate_month, inv_cate_month, 2018, 9)\n",
    "X_val = pd.concat([X_val, pre_10_days, cates.reset_index(drop=True)], axis=1)\n",
    "X_val['pred_month'] = 9"
   ]
  },
  {
   "cell_type": "code",
   "execution_count": 135,
   "metadata": {},
   "outputs": [
    {
     "data": {
      "text/html": [
       "<div>\n",
       "<style scoped>\n",
       "    .dataframe tbody tr th:only-of-type {\n",
       "        vertical-align: middle;\n",
       "    }\n",
       "\n",
       "    .dataframe tbody tr th {\n",
       "        vertical-align: top;\n",
       "    }\n",
       "\n",
       "    .dataframe thead th {\n",
       "        text-align: right;\n",
       "    }\n",
       "</style>\n",
       "<table border=\"1\" class=\"dataframe\">\n",
       "  <thead>\n",
       "    <tr style=\"text-align: right;\">\n",
       "      <th></th>\n",
       "      <th>ord_diff_mean_pre_3</th>\n",
       "      <th>ord_max_pre_3</th>\n",
       "      <th>ord_mean_pre_3</th>\n",
       "      <th>ord_median_pre_3</th>\n",
       "      <th>ord_min_pre_3</th>\n",
       "      <th>ord_pre_1</th>\n",
       "      <th>ord_pre_2</th>\n",
       "      <th>ord_pre_3</th>\n",
       "      <th>ord_std_pre_3</th>\n",
       "      <th>ord_sum_decay_pre_3</th>\n",
       "      <th>ord_pre_10_days</th>\n",
       "      <th>cate_enc</th>\n",
       "      <th>pred_month</th>\n",
       "    </tr>\n",
       "  </thead>\n",
       "  <tbody>\n",
       "    <tr>\n",
       "      <th>0</th>\n",
       "      <td>0.551319</td>\n",
       "      <td>10.451436</td>\n",
       "      <td>9.643555</td>\n",
       "      <td>9.348797</td>\n",
       "      <td>9.130431</td>\n",
       "      <td>10.451436</td>\n",
       "      <td>9.130431</td>\n",
       "      <td>9.348797</td>\n",
       "      <td>0.708113</td>\n",
       "      <td>26.241349</td>\n",
       "      <td>9.354354</td>\n",
       "      <td>0</td>\n",
       "      <td>9</td>\n",
       "    </tr>\n",
       "    <tr>\n",
       "      <th>1</th>\n",
       "      <td>-0.241491</td>\n",
       "      <td>9.684585</td>\n",
       "      <td>9.264600</td>\n",
       "      <td>9.201602</td>\n",
       "      <td>8.907612</td>\n",
       "      <td>9.201602</td>\n",
       "      <td>8.907612</td>\n",
       "      <td>9.684585</td>\n",
       "      <td>0.392299</td>\n",
       "      <td>25.062967</td>\n",
       "      <td>8.471568</td>\n",
       "      <td>1</td>\n",
       "      <td>9</td>\n",
       "    </tr>\n",
       "    <tr>\n",
       "      <th>2</th>\n",
       "      <td>0.362496</td>\n",
       "      <td>11.948661</td>\n",
       "      <td>11.201481</td>\n",
       "      <td>11.223669</td>\n",
       "      <td>10.432114</td>\n",
       "      <td>11.948661</td>\n",
       "      <td>10.432114</td>\n",
       "      <td>11.223669</td>\n",
       "      <td>0.758517</td>\n",
       "      <td>30.428735</td>\n",
       "      <td>10.957416</td>\n",
       "      <td>2</td>\n",
       "      <td>9</td>\n",
       "    </tr>\n",
       "    <tr>\n",
       "      <th>3</th>\n",
       "      <td>0.440142</td>\n",
       "      <td>11.731756</td>\n",
       "      <td>10.952046</td>\n",
       "      <td>10.851471</td>\n",
       "      <td>10.272911</td>\n",
       "      <td>11.731756</td>\n",
       "      <td>10.272911</td>\n",
       "      <td>10.851471</td>\n",
       "      <td>0.734604</td>\n",
       "      <td>29.767067</td>\n",
       "      <td>10.852071</td>\n",
       "      <td>3</td>\n",
       "      <td>9</td>\n",
       "    </tr>\n",
       "    <tr>\n",
       "      <th>4</th>\n",
       "      <td>0.435005</td>\n",
       "      <td>13.373780</td>\n",
       "      <td>12.953509</td>\n",
       "      <td>12.982975</td>\n",
       "      <td>12.503771</td>\n",
       "      <td>13.373780</td>\n",
       "      <td>12.982975</td>\n",
       "      <td>12.503771</td>\n",
       "      <td>0.435753</td>\n",
       "      <td>35.186512</td>\n",
       "      <td>12.634974</td>\n",
       "      <td>4</td>\n",
       "      <td>9</td>\n",
       "    </tr>\n",
       "  </tbody>\n",
       "</table>\n",
       "</div>"
      ],
      "text/plain": [
       "   ord_diff_mean_pre_3  ord_max_pre_3  ord_mean_pre_3  ord_median_pre_3  \\\n",
       "0             0.551319      10.451436        9.643555          9.348797   \n",
       "1            -0.241491       9.684585        9.264600          9.201602   \n",
       "2             0.362496      11.948661       11.201481         11.223669   \n",
       "3             0.440142      11.731756       10.952046         10.851471   \n",
       "4             0.435005      13.373780       12.953509         12.982975   \n",
       "\n",
       "   ord_min_pre_3  ord_pre_1  ord_pre_2  ord_pre_3  ord_std_pre_3  \\\n",
       "0       9.130431  10.451436   9.130431   9.348797       0.708113   \n",
       "1       8.907612   9.201602   8.907612   9.684585       0.392299   \n",
       "2      10.432114  11.948661  10.432114  11.223669       0.758517   \n",
       "3      10.272911  11.731756  10.272911  10.851471       0.734604   \n",
       "4      12.503771  13.373780  12.982975  12.503771       0.435753   \n",
       "\n",
       "   ord_sum_decay_pre_3  ord_pre_10_days  cate_enc  pred_month  \n",
       "0            26.241349         9.354354         0           9  \n",
       "1            25.062967         8.471568         1           9  \n",
       "2            30.428735        10.957416         2           9  \n",
       "3            29.767067        10.852071         3           9  \n",
       "4            35.186512        12.634974         4           9  "
      ]
     },
     "execution_count": 135,
     "metadata": {},
     "output_type": "execute_result"
    }
   ],
   "source": [
    "X_val.head()"
   ]
  },
  {
   "cell_type": "code",
   "execution_count": 136,
   "metadata": {},
   "outputs": [
    {
     "data": {
      "text/plain": [
       "(8, 13)"
      ]
     },
     "execution_count": 136,
     "metadata": {},
     "output_type": "execute_result"
    }
   ],
   "source": [
    "X_val.shape"
   ]
  },
  {
   "cell_type": "markdown",
   "metadata": {},
   "source": [
    "## 2.3 准备测试集"
   ]
  },
  {
   "cell_type": "code",
   "execution_count": 139,
   "metadata": {},
   "outputs": [],
   "source": [
    "pre_10_days = get_pre_10_days(order, dis, inv, order_cate_month.index, 2018, 11)\n",
    "X_test = prepare_dataset(order_cate_month, dis_cate_month, inv_cate_month, 2018, 11, is_train=False)\n",
    "X_test = pd.concat([X_test, pre_10_days, cates.reset_index(drop=True)], axis=1)\n",
    "X_test['pred_month'] = 11"
   ]
  },
  {
   "cell_type": "code",
   "execution_count": 143,
   "metadata": {},
   "outputs": [
    {
     "data": {
      "text/html": [
       "<div>\n",
       "<style scoped>\n",
       "    .dataframe tbody tr th:only-of-type {\n",
       "        vertical-align: middle;\n",
       "    }\n",
       "\n",
       "    .dataframe tbody tr th {\n",
       "        vertical-align: top;\n",
       "    }\n",
       "\n",
       "    .dataframe thead th {\n",
       "        text-align: right;\n",
       "    }\n",
       "</style>\n",
       "<table border=\"1\" class=\"dataframe\">\n",
       "  <thead>\n",
       "    <tr style=\"text-align: right;\">\n",
       "      <th></th>\n",
       "      <th>ord_diff_mean_pre_3</th>\n",
       "      <th>ord_max_pre_3</th>\n",
       "      <th>ord_mean_pre_3</th>\n",
       "      <th>ord_median_pre_3</th>\n",
       "      <th>ord_min_pre_3</th>\n",
       "      <th>ord_pre_1</th>\n",
       "      <th>ord_pre_2</th>\n",
       "      <th>ord_pre_3</th>\n",
       "      <th>ord_std_pre_3</th>\n",
       "      <th>ord_sum_decay_pre_3</th>\n",
       "      <th>ord_pre_10_days</th>\n",
       "      <th>cate_enc</th>\n",
       "      <th>pred_month</th>\n",
       "    </tr>\n",
       "  </thead>\n",
       "  <tbody>\n",
       "    <tr>\n",
       "      <th>0</th>\n",
       "      <td>0.046808</td>\n",
       "      <td>10.776746</td>\n",
       "      <td>10.591078</td>\n",
       "      <td>10.545052</td>\n",
       "      <td>10.451436</td>\n",
       "      <td>10.545052</td>\n",
       "      <td>10.776746</td>\n",
       "      <td>10.451436</td>\n",
       "      <td>0.167468</td>\n",
       "      <td>28.709786</td>\n",
       "      <td>0</td>\n",
       "      <td>0</td>\n",
       "      <td>11</td>\n",
       "    </tr>\n",
       "    <tr>\n",
       "      <th>1</th>\n",
       "      <td>0.627109</td>\n",
       "      <td>10.455820</td>\n",
       "      <td>9.778400</td>\n",
       "      <td>9.677778</td>\n",
       "      <td>9.201602</td>\n",
       "      <td>10.455820</td>\n",
       "      <td>9.677778</td>\n",
       "      <td>9.201602</td>\n",
       "      <td>0.633134</td>\n",
       "      <td>26.619118</td>\n",
       "      <td>0</td>\n",
       "      <td>1</td>\n",
       "      <td>11</td>\n",
       "    </tr>\n",
       "    <tr>\n",
       "      <th>2</th>\n",
       "      <td>0.209780</td>\n",
       "      <td>12.368221</td>\n",
       "      <td>12.145287</td>\n",
       "      <td>12.118978</td>\n",
       "      <td>11.948661</td>\n",
       "      <td>12.368221</td>\n",
       "      <td>12.118978</td>\n",
       "      <td>11.948661</td>\n",
       "      <td>0.211014</td>\n",
       "      <td>32.953717</td>\n",
       "      <td>0</td>\n",
       "      <td>2</td>\n",
       "      <td>11</td>\n",
       "    </tr>\n",
       "    <tr>\n",
       "      <th>3</th>\n",
       "      <td>0.340865</td>\n",
       "      <td>12.413485</td>\n",
       "      <td>12.077296</td>\n",
       "      <td>12.086647</td>\n",
       "      <td>11.731756</td>\n",
       "      <td>12.413485</td>\n",
       "      <td>12.086647</td>\n",
       "      <td>11.731756</td>\n",
       "      <td>0.340961</td>\n",
       "      <td>32.794190</td>\n",
       "      <td>0</td>\n",
       "      <td>3</td>\n",
       "      <td>11</td>\n",
       "    </tr>\n",
       "    <tr>\n",
       "      <th>4</th>\n",
       "      <td>0.180279</td>\n",
       "      <td>13.740801</td>\n",
       "      <td>13.616307</td>\n",
       "      <td>13.734338</td>\n",
       "      <td>13.373780</td>\n",
       "      <td>13.734338</td>\n",
       "      <td>13.740801</td>\n",
       "      <td>13.373780</td>\n",
       "      <td>0.210059</td>\n",
       "      <td>36.933821</td>\n",
       "      <td>0</td>\n",
       "      <td>4</td>\n",
       "      <td>11</td>\n",
       "    </tr>\n",
       "  </tbody>\n",
       "</table>\n",
       "</div>"
      ],
      "text/plain": [
       "   ord_diff_mean_pre_3  ord_max_pre_3  ord_mean_pre_3  ord_median_pre_3  \\\n",
       "0             0.046808      10.776746       10.591078         10.545052   \n",
       "1             0.627109      10.455820        9.778400          9.677778   \n",
       "2             0.209780      12.368221       12.145287         12.118978   \n",
       "3             0.340865      12.413485       12.077296         12.086647   \n",
       "4             0.180279      13.740801       13.616307         13.734338   \n",
       "\n",
       "   ord_min_pre_3  ord_pre_1  ord_pre_2  ord_pre_3  ord_std_pre_3  \\\n",
       "0      10.451436  10.545052  10.776746  10.451436       0.167468   \n",
       "1       9.201602  10.455820   9.677778   9.201602       0.633134   \n",
       "2      11.948661  12.368221  12.118978  11.948661       0.211014   \n",
       "3      11.731756  12.413485  12.086647  11.731756       0.340961   \n",
       "4      13.373780  13.734338  13.740801  13.373780       0.210059   \n",
       "\n",
       "   ord_sum_decay_pre_3  ord_pre_10_days  cate_enc  pred_month  \n",
       "0            28.709786                0         0          11  \n",
       "1            26.619118                0         1          11  \n",
       "2            32.953717                0         2          11  \n",
       "3            32.794190                0         3          11  \n",
       "4            36.933821                0         4          11  "
      ]
     },
     "execution_count": 143,
     "metadata": {},
     "output_type": "execute_result"
    }
   ],
   "source": [
    "X_test.head()"
   ]
  },
  {
   "cell_type": "code",
   "execution_count": 144,
   "metadata": {},
   "outputs": [
    {
     "data": {
      "text/plain": [
       "(8, 13)"
      ]
     },
     "execution_count": 144,
     "metadata": {},
     "output_type": "execute_result"
    }
   ],
   "source": [
    "X_test.shape"
   ]
  },
  {
   "cell_type": "markdown",
   "metadata": {},
   "source": [
    "## 2.4 将 Categorical Feature 转化成 OneHot 向量\n",
    "\n",
    "**备注**：\n",
    "对于树模型而言，没有必要把 Categorical Feature 转化成 OneHot 向量，反而会使得准确率略微下降。"
   ]
  },
  {
   "cell_type": "code",
   "execution_count": 145,
   "metadata": {},
   "outputs": [],
   "source": [
    "# train_len = len(X_train)\n",
    "# val_len = len(X_val)\n",
    "\n",
    "# tmp = pd.concat([X_train, X_val, X_test], axis=0)\n",
    "# tmp = pd.get_dummies(tmp, columns=['category', 'pred_month'])\n",
    "\n",
    "# X_train = tmp.iloc[:train_len]\n",
    "# X_val = tmp.iloc[train_len:(train_len + val_len)]\n",
    "# X_test = tmp.iloc[(train_len + val_len):]\n",
    "\n",
    "# del tmp\n",
    "# gc.collect()"
   ]
  },
  {
   "cell_type": "markdown",
   "metadata": {},
   "source": [
    "# 3 训练和预测"
   ]
  },
  {
   "cell_type": "code",
   "execution_count": 148,
   "metadata": {},
   "outputs": [
    {
     "name": "stdout",
     "output_type": "stream",
     "text": [
      "[INFO] Start training and predicting...\n",
      "==================================================\n",
      "Step 1\n",
      "==================================================\n"
     ]
    },
    {
     "name": "stderr",
     "output_type": "stream",
     "text": [
      "D:\\Anaconda3\\envs\\py3_for_prac\\lib\\site-packages\\lightgbm\\basic.py:1040: UserWarning: Using categorical_feature in Dataset.\n",
      "  warnings.warn('Using categorical_feature in Dataset.')\n"
     ]
    },
    {
     "ename": "LightGBMError",
     "evalue": "Cannot construct Dataset since there are not useful features.\nIt should be at least two unique rows.\nIf the num_row (num_data) is small, you can set min_data=1 and min_data_in_bin=1 to fix this.\nOtherwise please make sure you are using the right dataset",
     "output_type": "error",
     "traceback": [
      "\u001b[1;31m---------------------------------------------------------------------------\u001b[0m",
      "\u001b[1;31mLightGBMError\u001b[0m                             Traceback (most recent call last)",
      "\u001b[1;32m<ipython-input-148-983741157d16>\u001b[0m in \u001b[0;36m<module>\u001b[1;34m()\u001b[0m\n\u001b[0;32m     29\u001b[0m     bst = lgb.train(\n\u001b[0;32m     30\u001b[0m         \u001b[0mparams\u001b[0m\u001b[1;33m,\u001b[0m \u001b[0mdtrain\u001b[0m\u001b[1;33m,\u001b[0m \u001b[0mnum_boost_round\u001b[0m\u001b[1;33m=\u001b[0m\u001b[0mMAX_ROUNDS\u001b[0m\u001b[1;33m,\u001b[0m\u001b[1;33m\u001b[0m\u001b[0m\n\u001b[1;32m---> 31\u001b[1;33m         \u001b[0mvalid_sets\u001b[0m\u001b[1;33m=\u001b[0m\u001b[1;33m[\u001b[0m\u001b[0mdtrain\u001b[0m\u001b[1;33m,\u001b[0m \u001b[0mdval\u001b[0m\u001b[1;33m]\u001b[0m\u001b[1;33m,\u001b[0m \u001b[0mearly_stopping_rounds\u001b[0m\u001b[1;33m=\u001b[0m\u001b[1;36m125\u001b[0m\u001b[1;33m,\u001b[0m \u001b[0mverbose_eval\u001b[0m\u001b[1;33m=\u001b[0m\u001b[1;36m50\u001b[0m\u001b[1;33m\u001b[0m\u001b[0m\n\u001b[0m\u001b[0;32m     32\u001b[0m     )\n\u001b[0;32m     33\u001b[0m \u001b[1;33m\u001b[0m\u001b[0m\n",
      "\u001b[1;32mD:\\Anaconda3\\envs\\py3_for_prac\\lib\\site-packages\\lightgbm\\engine.py\u001b[0m in \u001b[0;36mtrain\u001b[1;34m(params, train_set, num_boost_round, valid_sets, valid_names, fobj, feval, init_model, feature_name, categorical_feature, early_stopping_rounds, evals_result, verbose_eval, learning_rates, keep_training_booster, callbacks)\u001b[0m\n\u001b[0;32m    181\u001b[0m     \u001b[1;31m# construct booster\u001b[0m\u001b[1;33m\u001b[0m\u001b[1;33m\u001b[0m\u001b[0m\n\u001b[0;32m    182\u001b[0m     \u001b[1;32mtry\u001b[0m\u001b[1;33m:\u001b[0m\u001b[1;33m\u001b[0m\u001b[0m\n\u001b[1;32m--> 183\u001b[1;33m         \u001b[0mbooster\u001b[0m \u001b[1;33m=\u001b[0m \u001b[0mBooster\u001b[0m\u001b[1;33m(\u001b[0m\u001b[0mparams\u001b[0m\u001b[1;33m=\u001b[0m\u001b[0mparams\u001b[0m\u001b[1;33m,\u001b[0m \u001b[0mtrain_set\u001b[0m\u001b[1;33m=\u001b[0m\u001b[0mtrain_set\u001b[0m\u001b[1;33m)\u001b[0m\u001b[1;33m\u001b[0m\u001b[0m\n\u001b[0m\u001b[0;32m    184\u001b[0m         \u001b[1;32mif\u001b[0m \u001b[0mis_valid_contain_train\u001b[0m\u001b[1;33m:\u001b[0m\u001b[1;33m\u001b[0m\u001b[0m\n\u001b[0;32m    185\u001b[0m             \u001b[0mbooster\u001b[0m\u001b[1;33m.\u001b[0m\u001b[0mset_train_data_name\u001b[0m\u001b[1;33m(\u001b[0m\u001b[0mtrain_data_name\u001b[0m\u001b[1;33m)\u001b[0m\u001b[1;33m\u001b[0m\u001b[0m\n",
      "\u001b[1;32mD:\\Anaconda3\\envs\\py3_for_prac\\lib\\site-packages\\lightgbm\\basic.py\u001b[0m in \u001b[0;36m__init__\u001b[1;34m(self, params, train_set, model_file, silent)\u001b[0m\n\u001b[0;32m   1305\u001b[0m             \u001b[0mself\u001b[0m\u001b[1;33m.\u001b[0m\u001b[0mhandle\u001b[0m \u001b[1;33m=\u001b[0m \u001b[0mctypes\u001b[0m\u001b[1;33m.\u001b[0m\u001b[0mc_void_p\u001b[0m\u001b[1;33m(\u001b[0m\u001b[1;33m)\u001b[0m\u001b[1;33m\u001b[0m\u001b[0m\n\u001b[0;32m   1306\u001b[0m             _safe_call(_LIB.LGBM_BoosterCreate(\n\u001b[1;32m-> 1307\u001b[1;33m                 \u001b[0mtrain_set\u001b[0m\u001b[1;33m.\u001b[0m\u001b[0mconstruct\u001b[0m\u001b[1;33m(\u001b[0m\u001b[1;33m)\u001b[0m\u001b[1;33m.\u001b[0m\u001b[0mhandle\u001b[0m\u001b[1;33m,\u001b[0m\u001b[1;33m\u001b[0m\u001b[0m\n\u001b[0m\u001b[0;32m   1308\u001b[0m                 \u001b[0mc_str\u001b[0m\u001b[1;33m(\u001b[0m\u001b[0mparams_str\u001b[0m\u001b[1;33m)\u001b[0m\u001b[1;33m,\u001b[0m\u001b[1;33m\u001b[0m\u001b[0m\n\u001b[0;32m   1309\u001b[0m                 ctypes.byref(self.handle)))\n",
      "\u001b[1;32mD:\\Anaconda3\\envs\\py3_for_prac\\lib\\site-packages\\lightgbm\\basic.py\u001b[0m in \u001b[0;36mconstruct\u001b[1;34m(self)\u001b[0m\n\u001b[0;32m    858\u001b[0m                                 \u001b[0mweight\u001b[0m\u001b[1;33m=\u001b[0m\u001b[0mself\u001b[0m\u001b[1;33m.\u001b[0m\u001b[0mweight\u001b[0m\u001b[1;33m,\u001b[0m \u001b[0mgroup\u001b[0m\u001b[1;33m=\u001b[0m\u001b[0mself\u001b[0m\u001b[1;33m.\u001b[0m\u001b[0mgroup\u001b[0m\u001b[1;33m,\u001b[0m \u001b[0minit_score\u001b[0m\u001b[1;33m=\u001b[0m\u001b[0mself\u001b[0m\u001b[1;33m.\u001b[0m\u001b[0minit_score\u001b[0m\u001b[1;33m,\u001b[0m\u001b[1;33m\u001b[0m\u001b[0m\n\u001b[0;32m    859\u001b[0m                                 \u001b[0mpredictor\u001b[0m\u001b[1;33m=\u001b[0m\u001b[0mself\u001b[0m\u001b[1;33m.\u001b[0m\u001b[0m_predictor\u001b[0m\u001b[1;33m,\u001b[0m \u001b[0msilent\u001b[0m\u001b[1;33m=\u001b[0m\u001b[0mself\u001b[0m\u001b[1;33m.\u001b[0m\u001b[0msilent\u001b[0m\u001b[1;33m,\u001b[0m \u001b[0mfeature_name\u001b[0m\u001b[1;33m=\u001b[0m\u001b[0mself\u001b[0m\u001b[1;33m.\u001b[0m\u001b[0mfeature_name\u001b[0m\u001b[1;33m,\u001b[0m\u001b[1;33m\u001b[0m\u001b[0m\n\u001b[1;32m--> 860\u001b[1;33m                                 categorical_feature=self.categorical_feature, params=self.params)\n\u001b[0m\u001b[0;32m    861\u001b[0m             \u001b[1;32mif\u001b[0m \u001b[0mself\u001b[0m\u001b[1;33m.\u001b[0m\u001b[0mfree_raw_data\u001b[0m\u001b[1;33m:\u001b[0m\u001b[1;33m\u001b[0m\u001b[0m\n\u001b[0;32m    862\u001b[0m                 \u001b[0mself\u001b[0m\u001b[1;33m.\u001b[0m\u001b[0mdata\u001b[0m \u001b[1;33m=\u001b[0m \u001b[1;32mNone\u001b[0m\u001b[1;33m\u001b[0m\u001b[0m\n",
      "\u001b[1;32mD:\\Anaconda3\\envs\\py3_for_prac\\lib\\site-packages\\lightgbm\\basic.py\u001b[0m in \u001b[0;36m_lazy_init\u001b[1;34m(self, data, label, reference, weight, group, init_score, predictor, silent, feature_name, categorical_feature, params)\u001b[0m\n\u001b[0;32m    712\u001b[0m             \u001b[0mself\u001b[0m\u001b[1;33m.\u001b[0m\u001b[0m__init_from_csc\u001b[0m\u001b[1;33m(\u001b[0m\u001b[0mdata\u001b[0m\u001b[1;33m,\u001b[0m \u001b[0mparams_str\u001b[0m\u001b[1;33m,\u001b[0m \u001b[0mref_dataset\u001b[0m\u001b[1;33m)\u001b[0m\u001b[1;33m\u001b[0m\u001b[0m\n\u001b[0;32m    713\u001b[0m         \u001b[1;32melif\u001b[0m \u001b[0misinstance\u001b[0m\u001b[1;33m(\u001b[0m\u001b[0mdata\u001b[0m\u001b[1;33m,\u001b[0m \u001b[0mnp\u001b[0m\u001b[1;33m.\u001b[0m\u001b[0mndarray\u001b[0m\u001b[1;33m)\u001b[0m\u001b[1;33m:\u001b[0m\u001b[1;33m\u001b[0m\u001b[0m\n\u001b[1;32m--> 714\u001b[1;33m             \u001b[0mself\u001b[0m\u001b[1;33m.\u001b[0m\u001b[0m__init_from_np2d\u001b[0m\u001b[1;33m(\u001b[0m\u001b[0mdata\u001b[0m\u001b[1;33m,\u001b[0m \u001b[0mparams_str\u001b[0m\u001b[1;33m,\u001b[0m \u001b[0mref_dataset\u001b[0m\u001b[1;33m)\u001b[0m\u001b[1;33m\u001b[0m\u001b[0m\n\u001b[0m\u001b[0;32m    715\u001b[0m         \u001b[1;32melse\u001b[0m\u001b[1;33m:\u001b[0m\u001b[1;33m\u001b[0m\u001b[0m\n\u001b[0;32m    716\u001b[0m             \u001b[1;32mtry\u001b[0m\u001b[1;33m:\u001b[0m\u001b[1;33m\u001b[0m\u001b[0m\n",
      "\u001b[1;32mD:\\Anaconda3\\envs\\py3_for_prac\\lib\\site-packages\\lightgbm\\basic.py\u001b[0m in \u001b[0;36m__init_from_np2d\u001b[1;34m(self, mat, params_str, ref_dataset)\u001b[0m\n\u001b[0;32m    774\u001b[0m             \u001b[0mc_str\u001b[0m\u001b[1;33m(\u001b[0m\u001b[0mparams_str\u001b[0m\u001b[1;33m)\u001b[0m\u001b[1;33m,\u001b[0m\u001b[1;33m\u001b[0m\u001b[0m\n\u001b[0;32m    775\u001b[0m             \u001b[0mref_dataset\u001b[0m\u001b[1;33m,\u001b[0m\u001b[1;33m\u001b[0m\u001b[0m\n\u001b[1;32m--> 776\u001b[1;33m             ctypes.byref(self.handle)))\n\u001b[0m\u001b[0;32m    777\u001b[0m \u001b[1;33m\u001b[0m\u001b[0m\n\u001b[0;32m    778\u001b[0m     \u001b[1;32mdef\u001b[0m \u001b[0m__init_from_csr\u001b[0m\u001b[1;33m(\u001b[0m\u001b[0mself\u001b[0m\u001b[1;33m,\u001b[0m \u001b[0mcsr\u001b[0m\u001b[1;33m,\u001b[0m \u001b[0mparams_str\u001b[0m\u001b[1;33m,\u001b[0m \u001b[0mref_dataset\u001b[0m\u001b[1;33m)\u001b[0m\u001b[1;33m:\u001b[0m\u001b[1;33m\u001b[0m\u001b[0m\n",
      "\u001b[1;32mD:\\Anaconda3\\envs\\py3_for_prac\\lib\\site-packages\\lightgbm\\basic.py\u001b[0m in \u001b[0;36m_safe_call\u001b[1;34m(ret)\u001b[0m\n\u001b[0;32m     47\u001b[0m     \"\"\"\n\u001b[0;32m     48\u001b[0m     \u001b[1;32mif\u001b[0m \u001b[0mret\u001b[0m \u001b[1;33m!=\u001b[0m \u001b[1;36m0\u001b[0m\u001b[1;33m:\u001b[0m\u001b[1;33m\u001b[0m\u001b[0m\n\u001b[1;32m---> 49\u001b[1;33m         \u001b[1;32mraise\u001b[0m \u001b[0mLightGBMError\u001b[0m\u001b[1;33m(\u001b[0m\u001b[0mdecode_string\u001b[0m\u001b[1;33m(\u001b[0m\u001b[0m_LIB\u001b[0m\u001b[1;33m.\u001b[0m\u001b[0mLGBM_GetLastError\u001b[0m\u001b[1;33m(\u001b[0m\u001b[1;33m)\u001b[0m\u001b[1;33m)\u001b[0m\u001b[1;33m)\u001b[0m\u001b[1;33m\u001b[0m\u001b[0m\n\u001b[0m\u001b[0;32m     50\u001b[0m \u001b[1;33m\u001b[0m\u001b[0m\n\u001b[0;32m     51\u001b[0m \u001b[1;33m\u001b[0m\u001b[0m\n",
      "\u001b[1;31mLightGBMError\u001b[0m: Cannot construct Dataset since there are not useful features.\nIt should be at least two unique rows.\nIf the num_row (num_data) is small, you can set min_data=1 and min_data_in_bin=1 to fix this.\nOtherwise please make sure you are using the right dataset"
     ]
    }
   ],
   "source": [
    "print(\"[INFO] Start training and predicting...\")\n",
    "t0 = time()\n",
    "\n",
    "params = {\n",
    "    'num_leaves': 80, \n",
    "    'objective': 'regression', \n",
    "    'min_data_in_leaf': 200, \n",
    "    'learning_rate': 0.02, \n",
    "    'feature_fraction': 0.9, \n",
    "    'bagging_fraction': 0.8, \n",
    "    'bagging_freq': 1, \n",
    "    'metric': 'l2', \n",
    "    'num_threads': 16\n",
    "}\n",
    "\n",
    "MAX_ROUNDS = 5000\n",
    "pred_val = []\n",
    "pred_test = []\n",
    "cate_vars = []\n",
    "\n",
    "for i in range(2):\n",
    "    print('=' * 50)\n",
    "    print(\"Step %d\" % (i + 1))\n",
    "    print('=' * 50)\n",
    "    \n",
    "    dtrain = lgb.Dataset(X_train, label=y_train[:, i], categorical_feature=cate_vars)\n",
    "    dval = lgb.Dataset(X_val, label=y_val[:, i], reference=dtrain, categorical_feature=cate_vars)\n",
    "    \n",
    "    bst = lgb.train(\n",
    "        params, dtrain, num_boost_round=MAX_ROUNDS, \n",
    "        valid_sets=[dtrain, dval], early_stopping_rounds=125, verbose_eval=50\n",
    "    )\n",
    "    \n",
    "    feat_imp = [(\"%s: %.2f\" % x) for x in sorted(zip(X_train.columns, bst.feature_importance('gain')), key=lambda x: x[1], reverse=True)]\n",
    "    print('\\n'.join(feat_imp))\n",
    "    pred_val.append(\n",
    "        bst.predict(X_val, num_iteration=bst.best_iteration or MAX_ROUNDS)\n",
    "    )\n",
    "    pred_test.append(\n",
    "        bst.predict(X_test, num_iteration=bst.best_iteration or MAX_ROUNDS)\n",
    "    )\n",
    "    \n",
    "print(\"[INFO] Finished! ( ^ _ ^ ) V\")\n",
    "print(\"[INFO] Done in %f seconds.\" % (time() - t0))"
   ]
  },
  {
   "cell_type": "code",
   "execution_count": 47,
   "metadata": {},
   "outputs": [
    {
     "name": "stdout",
     "output_type": "stream",
     "text": [
      "The MSE error of validation set is: 3.0398676206330864\n"
     ]
    }
   ],
   "source": [
    "print(\"The MSE error of validation set is:\", mean_squared_error(y_val, np.array(pred_val).transpose()))"
   ]
  },
  {
   "cell_type": "markdown",
   "metadata": {},
   "source": [
    "# 4 结果评估"
   ]
  },
  {
   "cell_type": "markdown",
   "metadata": {},
   "source": [
    "## 4.1 技术指标"
   ]
  },
  {
   "cell_type": "markdown",
   "metadata": {},
   "source": [
    "评价指标为**归一化加权均方根对数误差（Normalized Weighted Root Mean Squared Logarithmic Error, NWRMSLE）**，表达式如下：\n",
    "\n",
    "$$\n",
    "\\text{NWRMSLE} = \\sqrt{ \\frac{\\sum_{i=1}^{m}\\omega_i \\sum_{j=1}^{t}\\left( \\ln \\left(\\widehat{y}_j^{(i)} + 1 \\right) -\\ln \\left(y_j^{(i)} + 1 \\right)\\right)^2}{t\\cdot \\sum_{i=1}^{m}\\omega_i} }\n",
    "$$"
   ]
  },
  {
   "cell_type": "code",
   "execution_count": 248,
   "metadata": {},
   "outputs": [
    {
     "name": "stdout",
     "output_type": "stream",
     "text": [
      "The NWRMSLE error of validation set is: 1.7435216146159722\n"
     ]
    }
   ],
   "source": [
    "# 归一化加权均方根对数误差\n",
    "err = (y_val - np.array(pred_val).transpose()) ** 2\n",
    "err = err.sum(axis=1)\n",
    "err = np.sqrt(err.sum() / 2 / len(y_val))\n",
    "print(\"The NWRMSLE error of validation set is:\", err)"
   ]
  },
  {
   "cell_type": "markdown",
   "metadata": {},
   "source": [
    "## 4.2 业务指标"
   ]
  },
  {
   "cell_type": "markdown",
   "metadata": {},
   "source": [
    "业务指标的表达式如下：\n",
    "\n",
    "$$\n",
    "E(t, y) = \\frac{\\sum_{i=0}^{n} | y^{(i)} - t^{(i)} |}{\\sum_{i=0}^{n} t^{(i)}}\n",
    "$$"
   ]
  },
  {
   "cell_type": "code",
   "execution_count": 249,
   "metadata": {},
   "outputs": [],
   "source": [
    "def error(y_true, y_pred):\n",
    "    return np.sum(np.abs(y_true - y_pred)) / np.sum(y_true)"
   ]
  },
  {
   "cell_type": "code",
   "execution_count": 250,
   "metadata": {},
   "outputs": [],
   "source": [
    "def expm1_with_clip(x, l=0, r=35000):\n",
    "    return np.clip(np.expm1(x), l, r)"
   ]
  },
  {
   "cell_type": "markdown",
   "metadata": {},
   "source": [
    "### 4.2.1 验证集"
   ]
  },
  {
   "cell_type": "code",
   "execution_count": 251,
   "metadata": {},
   "outputs": [],
   "source": [
    "df_val = pd.DataFrame(\n",
    "    np.array(y_val), index=order_month.index, \n",
    "    columns=['2018-09', '2018-10']\n",
    ").apply(np.expm1)\n",
    "\n",
    "df_pred_val = pd.DataFrame(\n",
    "    np.array(pred_val).transpose(), index=order_month.index, \n",
    "    columns=['2018-09', '2018-10']\n",
    ").apply(expm1_with_clip).apply(np.floor)"
   ]
  },
  {
   "cell_type": "code",
   "execution_count": 252,
   "metadata": {},
   "outputs": [
    {
     "name": "stdout",
     "output_type": "stream",
     "text": [
      "The accuracy of 'M' order amount is: 60.00%\n",
      "The accuracy of 'M+1' order amount is: 33.86%\n"
     ]
    }
   ],
   "source": [
    "# 验证集（9-10月）准确率（SKU）\n",
    "m_error = error(df_val['2018-09'], df_pred_val['2018-09'])\n",
    "m1_error = error(df_val['2018-10'], df_pred_val['2018-10'])\n",
    "print(\"The accuracy of 'M' order amount is: %.2f%%\" % ((1 - m_error) * 100))\n",
    "print(\"The accuracy of 'M+1' order amount is: %.2f%%\" % ((1 - m1_error) * 100))"
   ]
  },
  {
   "cell_type": "code",
   "execution_count": 253,
   "metadata": {},
   "outputs": [],
   "source": [
    "df_val = df_val.join(category, how='left')\n",
    "df_pred_val = df_pred_val.join(category, how='left')\n",
    "\n",
    "df_val = df_val.groupby('category')[['2018-09', '2018-10']].sum()\n",
    "df_pred_val = df_pred_val.groupby('category')[['2018-09', '2018-10']].sum()"
   ]
  },
  {
   "cell_type": "code",
   "execution_count": 254,
   "metadata": {},
   "outputs": [
    {
     "name": "stdout",
     "output_type": "stream",
     "text": [
      "The accuracy of 'M' order amount is: 75.67%\n",
      "The accuracy of 'M+1' order amount is: 41.73%\n"
     ]
    }
   ],
   "source": [
    "# 验证集（9-10月）准确率（品类）\n",
    "m_error = error(df_val['2018-09'], df_pred_val['2018-09'])\n",
    "m1_error = error(df_val['2018-10'], df_pred_val['2018-10'])\n",
    "print(\"The accuracy of 'M' order amount is: %.2f%%\" % ((1 - m_error) * 100))\n",
    "print(\"The accuracy of 'M+1' order amount is: %.2f%%\" % ((1 - m1_error) * 100))"
   ]
  },
  {
   "cell_type": "markdown",
   "metadata": {},
   "source": [
    "### 4.2.2 测试集"
   ]
  },
  {
   "cell_type": "code",
   "execution_count": 264,
   "metadata": {},
   "outputs": [],
   "source": [
    "df_pred_test = pd.DataFrame(\n",
    "    np.array(pred_test).transpose(), index=order_month.index, \n",
    "    columns=['2018-11', '2018-12']\n",
    ").stack().to_frame('pred_qty')\n",
    "df_pred_test.index.set_names(['item_code', 'month'], inplace=True)\n",
    "df_pred_test['pred_qty'] = np.floor(expm1_with_clip(df_pred_test.pred_qty))"
   ]
  },
  {
   "cell_type": "code",
   "execution_count": 265,
   "metadata": {},
   "outputs": [],
   "source": [
    "comp = df_test.join(df_pred_test, how='left').fillna(0).reset_index()\n",
    "comp = comp.join(category, on='item_code', how='left')\n",
    "comp.category.fillna('-1', inplace=True)\n",
    "\n",
    "m_comp = comp.loc[comp['month'] == '2018-11']\n",
    "m1_comp = comp.loc[comp['month'] == '2018-12']\n",
    "\n",
    "m_comp_without_new = m_comp.loc[m_comp.category != '-1']\n",
    "m1_comp_without_new = m1_comp.loc[m1_comp.category != '-1']"
   ]
  },
  {
   "cell_type": "code",
   "execution_count": 266,
   "metadata": {},
   "outputs": [
    {
     "name": "stdout",
     "output_type": "stream",
     "text": [
      "The accuracy of 'M' order amount is: 34.89%\n",
      "The accuracy of 'M+1' order amount is: 18.48%\n"
     ]
    }
   ],
   "source": [
    "# 测试集（11-12月）准确率（带新品）（SKU）\n",
    "# 备注：总共1653条提货记录，有120条提货记录是新品\n",
    "m_error = error(m_comp['qty'], m_comp['pred_qty'])\n",
    "m1_error = error(m1_comp['qty'], m1_comp['pred_qty'])\n",
    "print(\"The accuracy of 'M' order amount is: %.2f%%\" % ((1 - m_error) * 100))\n",
    "print(\"The accuracy of 'M+1' order amount is: %.2f%%\" % ((1 - m1_error) * 100))"
   ]
  },
  {
   "cell_type": "code",
   "execution_count": 267,
   "metadata": {},
   "outputs": [
    {
     "name": "stdout",
     "output_type": "stream",
     "text": [
      "The accuracy of 'M' order amount is: 35.85%\n",
      "The accuracy of 'M+1' order amount is: 20.79%\n"
     ]
    }
   ],
   "source": [
    "# 测试集（11-12月）准确率（不带新品）（SKU）\n",
    "# 备注：总共1653条提货记录，有120条提货记录是新品\n",
    "m_error = error(m_comp_without_new['qty'], m_comp['pred_qty'])\n",
    "m1_error = error(m1_comp_without_new['qty'], m1_comp['pred_qty'])\n",
    "print(\"The accuracy of 'M' order amount is: %.2f%%\" % ((1 - m_error) * 100))\n",
    "print(\"The accuracy of 'M+1' order amount is: %.2f%%\" % ((1 - m1_error) * 100))"
   ]
  },
  {
   "cell_type": "code",
   "execution_count": 268,
   "metadata": {},
   "outputs": [],
   "source": [
    "comp_cate = comp.groupby(['category', 'month'])[['qty', 'pred_qty']].sum().reset_index()\n",
    "\n",
    "m_comp = comp_cate.loc[comp_cate['month'] == '2018-11']\n",
    "m1_comp = comp_cate.loc[comp_cate['month'] == '2018-12']\n",
    "\n",
    "m_comp_without_new = m_comp.loc[m_comp.category != '-1']\n",
    "m1_comp_without_new = m1_comp.loc[m1_comp.category != '-1']"
   ]
  },
  {
   "cell_type": "code",
   "execution_count": 269,
   "metadata": {},
   "outputs": [
    {
     "name": "stdout",
     "output_type": "stream",
     "text": [
      "The accuracy of 'M' order amount is: 51.43%\n",
      "The accuracy of 'M+1' order amount is: 23.73%\n"
     ]
    }
   ],
   "source": [
    "# 测试集（11-12月）准确率（带新品）（品类）\n",
    "m_error = error(m_comp['qty'], m_comp['pred_qty'])\n",
    "m1_error = error(m1_comp['qty'], m1_comp['pred_qty'])\n",
    "print(\"The accuracy of 'M' order amount is: %.2f%%\" % ((1 - m_error) * 100))\n",
    "print(\"The accuracy of 'M+1' order amount is: %.2f%%\" % ((1 - m1_error) * 100))"
   ]
  },
  {
   "cell_type": "code",
   "execution_count": 270,
   "metadata": {},
   "outputs": [
    {
     "name": "stdout",
     "output_type": "stream",
     "text": [
      "The accuracy of 'M' order amount is: 52.85%\n",
      "The accuracy of 'M+1' order amount is: 26.69%\n"
     ]
    }
   ],
   "source": [
    "# 测试集（11-12月）准确率（不带新品）（品类）\n",
    "m_error = error(m_comp_without_new['qty'], m_comp['pred_qty'])\n",
    "m1_error = error(m1_comp_without_new['qty'], m1_comp['pred_qty'])\n",
    "print(\"The accuracy of 'M' order amount is: %.2f%%\" % ((1 - m_error) * 100))\n",
    "print(\"The accuracy of 'M+1' order amount is: %.2f%%\" % ((1 - m1_error) * 100))"
   ]
  },
  {
   "cell_type": "code",
   "execution_count": 271,
   "metadata": {},
   "outputs": [
    {
     "name": "stderr",
     "output_type": "stream",
     "text": [
      "D:\\Anaconda3\\envs\\py3_for_prac\\lib\\site-packages\\ipykernel_launcher.py:1: SettingWithCopyWarning: \n",
      "A value is trying to be set on a copy of a slice from a DataFrame.\n",
      "Try using .loc[row_indexer,col_indexer] = value instead\n",
      "\n",
      "See the caveats in the documentation: http://pandas.pydata.org/pandas-docs/stable/indexing.html#indexing-view-versus-copy\n",
      "  \"\"\"Entry point for launching an IPython kernel.\n",
      "D:\\Anaconda3\\envs\\py3_for_prac\\lib\\site-packages\\ipykernel_launcher.py:2: SettingWithCopyWarning: \n",
      "A value is trying to be set on a copy of a slice from a DataFrame.\n",
      "Try using .loc[row_indexer,col_indexer] = value instead\n",
      "\n",
      "See the caveats in the documentation: http://pandas.pydata.org/pandas-docs/stable/indexing.html#indexing-view-versus-copy\n",
      "  \n"
     ]
    }
   ],
   "source": [
    "m_comp['acc'] = 1 - (np.abs(m_comp.qty - m_comp.pred_qty) / m_comp.qty)\n",
    "m1_comp['acc'] = 1 - (np.abs(m1_comp.qty - m1_comp.pred_qty) / m1_comp.qty)"
   ]
  },
  {
   "cell_type": "code",
   "execution_count": 273,
   "metadata": {},
   "outputs": [
    {
     "data": {
      "text/html": [
       "<div>\n",
       "<style scoped>\n",
       "    .dataframe tbody tr th:only-of-type {\n",
       "        vertical-align: middle;\n",
       "    }\n",
       "\n",
       "    .dataframe tbody tr th {\n",
       "        vertical-align: top;\n",
       "    }\n",
       "\n",
       "    .dataframe thead th {\n",
       "        text-align: right;\n",
       "    }\n",
       "</style>\n",
       "<table border=\"1\" class=\"dataframe\">\n",
       "  <thead>\n",
       "    <tr style=\"text-align: right;\">\n",
       "      <th></th>\n",
       "      <th>category</th>\n",
       "      <th>month</th>\n",
       "      <th>qty</th>\n",
       "      <th>pred_qty</th>\n",
       "      <th>acc</th>\n",
       "    </tr>\n",
       "  </thead>\n",
       "  <tbody>\n",
       "    <tr>\n",
       "      <th>10</th>\n",
       "      <td>5</td>\n",
       "      <td>2018-11</td>\n",
       "      <td>373660.0</td>\n",
       "      <td>344541.0</td>\n",
       "      <td>0.922071</td>\n",
       "    </tr>\n",
       "    <tr>\n",
       "      <th>2</th>\n",
       "      <td>1</td>\n",
       "      <td>2018-11</td>\n",
       "      <td>13369.0</td>\n",
       "      <td>9384.0</td>\n",
       "      <td>0.701922</td>\n",
       "    </tr>\n",
       "    <tr>\n",
       "      <th>0</th>\n",
       "      <td>0</td>\n",
       "      <td>2018-11</td>\n",
       "      <td>17996.0</td>\n",
       "      <td>11753.0</td>\n",
       "      <td>0.653090</td>\n",
       "    </tr>\n",
       "    <tr>\n",
       "      <th>14</th>\n",
       "      <td>7</td>\n",
       "      <td>2018-11</td>\n",
       "      <td>144644.0</td>\n",
       "      <td>93196.0</td>\n",
       "      <td>0.644313</td>\n",
       "    </tr>\n",
       "    <tr>\n",
       "      <th>6</th>\n",
       "      <td>3</td>\n",
       "      <td>2018-11</td>\n",
       "      <td>128296.0</td>\n",
       "      <td>60867.0</td>\n",
       "      <td>0.474426</td>\n",
       "    </tr>\n",
       "    <tr>\n",
       "      <th>8</th>\n",
       "      <td>4</td>\n",
       "      <td>2018-11</td>\n",
       "      <td>979037.0</td>\n",
       "      <td>416864.0</td>\n",
       "      <td>0.425790</td>\n",
       "    </tr>\n",
       "    <tr>\n",
       "      <th>4</th>\n",
       "      <td>2</td>\n",
       "      <td>2018-11</td>\n",
       "      <td>146590.0</td>\n",
       "      <td>56985.0</td>\n",
       "      <td>0.388737</td>\n",
       "    </tr>\n",
       "    <tr>\n",
       "      <th>12</th>\n",
       "      <td>6</td>\n",
       "      <td>2018-11</td>\n",
       "      <td>267108.0</td>\n",
       "      <td>100790.0</td>\n",
       "      <td>0.377338</td>\n",
       "    </tr>\n",
       "    <tr>\n",
       "      <th>16</th>\n",
       "      <td>-1</td>\n",
       "      <td>2018-11</td>\n",
       "      <td>57027.0</td>\n",
       "      <td>0.0</td>\n",
       "      <td>0.000000</td>\n",
       "    </tr>\n",
       "  </tbody>\n",
       "</table>\n",
       "</div>"
      ],
      "text/plain": [
       "   category    month       qty  pred_qty       acc\n",
       "10        5  2018-11  373660.0  344541.0  0.922071\n",
       "2         1  2018-11   13369.0    9384.0  0.701922\n",
       "0         0  2018-11   17996.0   11753.0  0.653090\n",
       "14        7  2018-11  144644.0   93196.0  0.644313\n",
       "6         3  2018-11  128296.0   60867.0  0.474426\n",
       "8         4  2018-11  979037.0  416864.0  0.425790\n",
       "4         2  2018-11  146590.0   56985.0  0.388737\n",
       "12        6  2018-11  267108.0  100790.0  0.377338\n",
       "16       -1  2018-11   57027.0       0.0  0.000000"
      ]
     },
     "execution_count": 273,
     "metadata": {},
     "output_type": "execute_result"
    }
   ],
   "source": [
    "m_comp.sort_values(by='acc', ascending=False)"
   ]
  },
  {
   "cell_type": "code",
   "execution_count": 272,
   "metadata": {},
   "outputs": [
    {
     "data": {
      "text/html": [
       "<div>\n",
       "<style scoped>\n",
       "    .dataframe tbody tr th:only-of-type {\n",
       "        vertical-align: middle;\n",
       "    }\n",
       "\n",
       "    .dataframe tbody tr th {\n",
       "        vertical-align: top;\n",
       "    }\n",
       "\n",
       "    .dataframe thead th {\n",
       "        text-align: right;\n",
       "    }\n",
       "</style>\n",
       "<table border=\"1\" class=\"dataframe\">\n",
       "  <thead>\n",
       "    <tr style=\"text-align: right;\">\n",
       "      <th></th>\n",
       "      <th>category</th>\n",
       "      <th>month</th>\n",
       "      <th>qty</th>\n",
       "      <th>pred_qty</th>\n",
       "      <th>acc</th>\n",
       "    </tr>\n",
       "  </thead>\n",
       "  <tbody>\n",
       "    <tr>\n",
       "      <th>11</th>\n",
       "      <td>5</td>\n",
       "      <td>2018-12</td>\n",
       "      <td>479641.0</td>\n",
       "      <td>218327.0</td>\n",
       "      <td>0.455188</td>\n",
       "    </tr>\n",
       "    <tr>\n",
       "      <th>1</th>\n",
       "      <td>0</td>\n",
       "      <td>2018-12</td>\n",
       "      <td>37870.0</td>\n",
       "      <td>14475.0</td>\n",
       "      <td>0.382229</td>\n",
       "    </tr>\n",
       "    <tr>\n",
       "      <th>15</th>\n",
       "      <td>7</td>\n",
       "      <td>2018-12</td>\n",
       "      <td>166659.0</td>\n",
       "      <td>63274.0</td>\n",
       "      <td>0.379661</td>\n",
       "    </tr>\n",
       "    <tr>\n",
       "      <th>9</th>\n",
       "      <td>4</td>\n",
       "      <td>2018-12</td>\n",
       "      <td>1295903.0</td>\n",
       "      <td>318142.0</td>\n",
       "      <td>0.245498</td>\n",
       "    </tr>\n",
       "    <tr>\n",
       "      <th>5</th>\n",
       "      <td>2</td>\n",
       "      <td>2018-12</td>\n",
       "      <td>313670.0</td>\n",
       "      <td>69742.0</td>\n",
       "      <td>0.222342</td>\n",
       "    </tr>\n",
       "    <tr>\n",
       "      <th>7</th>\n",
       "      <td>3</td>\n",
       "      <td>2018-12</td>\n",
       "      <td>316960.0</td>\n",
       "      <td>70098.0</td>\n",
       "      <td>0.221157</td>\n",
       "    </tr>\n",
       "    <tr>\n",
       "      <th>13</th>\n",
       "      <td>6</td>\n",
       "      <td>2018-12</td>\n",
       "      <td>531017.0</td>\n",
       "      <td>88310.0</td>\n",
       "      <td>0.166304</td>\n",
       "    </tr>\n",
       "    <tr>\n",
       "      <th>3</th>\n",
       "      <td>1</td>\n",
       "      <td>2018-12</td>\n",
       "      <td>24690.0</td>\n",
       "      <td>2889.0</td>\n",
       "      <td>0.117011</td>\n",
       "    </tr>\n",
       "    <tr>\n",
       "      <th>17</th>\n",
       "      <td>-1</td>\n",
       "      <td>2018-12</td>\n",
       "      <td>396033.0</td>\n",
       "      <td>0.0</td>\n",
       "      <td>0.000000</td>\n",
       "    </tr>\n",
       "  </tbody>\n",
       "</table>\n",
       "</div>"
      ],
      "text/plain": [
       "   category    month        qty  pred_qty       acc\n",
       "11        5  2018-12   479641.0  218327.0  0.455188\n",
       "1         0  2018-12    37870.0   14475.0  0.382229\n",
       "15        7  2018-12   166659.0   63274.0  0.379661\n",
       "9         4  2018-12  1295903.0  318142.0  0.245498\n",
       "5         2  2018-12   313670.0   69742.0  0.222342\n",
       "7         3  2018-12   316960.0   70098.0  0.221157\n",
       "13        6  2018-12   531017.0   88310.0  0.166304\n",
       "3         1  2018-12    24690.0    2889.0  0.117011\n",
       "17       -1  2018-12   396033.0       0.0  0.000000"
      ]
     },
     "execution_count": 272,
     "metadata": {},
     "output_type": "execute_result"
    }
   ],
   "source": [
    "m1_comp.sort_values(by='acc', ascending=False)"
   ]
  },
  {
   "cell_type": "code",
   "execution_count": null,
   "metadata": {},
   "outputs": [],
   "source": []
  }
 ],
 "metadata": {
  "kernelspec": {
   "display_name": "Python 3",
   "language": "python",
   "name": "python3"
  },
  "language_info": {
   "codemirror_mode": {
    "name": "ipython",
    "version": 3
   },
   "file_extension": ".py",
   "mimetype": "text/x-python",
   "name": "python",
   "nbconvert_exporter": "python",
   "pygments_lexer": "ipython3",
   "version": "3.6.5"
  }
 },
 "nbformat": 4,
 "nbformat_minor": 2
}
