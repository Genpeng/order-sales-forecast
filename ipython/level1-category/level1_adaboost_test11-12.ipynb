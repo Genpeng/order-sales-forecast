{
 "cells": [
  {
   "cell_type": "code",
   "execution_count": 1,
   "metadata": {},
   "outputs": [],
   "source": [
    "# Import necessary libraries\n",
    "import gc\n",
    "import numpy as np\n",
    "import pandas as pd\n",
    "from time import time\n",
    "from datetime import date\n",
    "from sklearn.tree import DecisionTreeRegressor\n",
    "from sklearn.ensemble import AdaBoostRegressor\n",
    "from sklearn.metrics import mean_squared_error\n",
    "from sklearn.preprocessing import LabelEncoder, OneHotEncoder\n",
    "\n",
    "import matplotlib.pyplot as plt\n",
    "%matplotlib inline"
   ]
  },
  {
   "cell_type": "code",
   "execution_count": 2,
   "metadata": {},
   "outputs": [],
   "source": [
    "pd.set_option('display.max_columns', 1000)"
   ]
  },
  {
   "cell_type": "markdown",
   "metadata": {},
   "source": [
    "# 1 数据预处理"
   ]
  },
  {
   "cell_type": "code",
   "execution_count": 3,
   "metadata": {},
   "outputs": [],
   "source": [
    "# 载入数据\n",
    "order = pd.read_csv(\"../../data/level2/m111-sku-order.csv\", sep=',', parse_dates=['order_date'])\n",
    "dis = pd.read_csv(\"../../data/level2/m111-sku-dis.csv\", sep=',', parse_dates=['dis_date'])\n",
    "inv = pd.read_csv(\n",
    "    \"../../data/level2/m111-sku-inv.csv\", sep=',', parse_dates=['period_wid']\n",
    ").rename(columns={'period_wid': 'inv_date'})\n",
    "category = pd.read_csv(\n",
    "    \"../../data/level2/item2category-from-3.csv\", sep=','\n",
    ").rename(columns={'sales_segment1_code': 'category'})"
   ]
  },
  {
   "cell_type": "code",
   "execution_count": 4,
   "metadata": {},
   "outputs": [],
   "source": [
    "# 考虑的品类有：消毒柜、洗碗机、烟机、灶具、电热、净水机、燃热、饮水机\n",
    "cates_considered = ['CRXDG', 'CRXWJ', 'CRYJ', 'CRZJ', 'DR', 'JSJ', 'RR', 'YSJ']"
   ]
  },
  {
   "cell_type": "markdown",
   "metadata": {},
   "source": [
    "## 1.1 处理订单数据"
   ]
  },
  {
   "cell_type": "code",
   "execution_count": 5,
   "metadata": {},
   "outputs": [],
   "source": [
    "# 取2017年至2018年区间中的数据（2019/03/01取数有164945条记录）\n",
    "order = order.loc[(order.order_date >= '2017-01-01') & (order.order_date <= '2018-12-31')]"
   ]
  },
  {
   "cell_type": "code",
   "execution_count": 6,
   "metadata": {},
   "outputs": [],
   "source": [
    "# 删除其他品类的数据（剩余记录数为161064）\n",
    "order = order.join(category.set_index('item_code'), on='item_code', how='left')\n",
    "order = order.loc[order.category.isin(cates_considered)]"
   ]
  },
  {
   "cell_type": "code",
   "execution_count": 7,
   "metadata": {},
   "outputs": [],
   "source": [
    "# 划分数据集\n",
    "df_test = order.loc[order.order_date >= '2018-11-01']  # 测试集\n",
    "order = order.loc[order.order_date <= '2018-10-31']  # 训练和验证集"
   ]
  },
  {
   "cell_type": "code",
   "execution_count": 8,
   "metadata": {},
   "outputs": [],
   "source": [
    "df_test['month'] = df_test.order_date.astype('str').apply(lambda x: x[:7])\n",
    "df_test = df_test.groupby(['category', 'month'])[['qty']].sum()"
   ]
  },
  {
   "cell_type": "code",
   "execution_count": 9,
   "metadata": {},
   "outputs": [],
   "source": [
    "# 每个品类每个月的提货量\n",
    "order_cate_month = order.copy()\n",
    "order_cate_month['month'] = order_cate_month.order_date.astype('str').apply(lambda x: x[:7])\n",
    "order_cate_month = order_cate_month.groupby(['category', 'month'])[['qty']].sum()"
   ]
  },
  {
   "cell_type": "code",
   "execution_count": 10,
   "metadata": {},
   "outputs": [],
   "source": [
    "# 取对数\n",
    "# order_cate_month['qty'] = np.log1p(order_cate_month.qty)"
   ]
  },
  {
   "cell_type": "code",
   "execution_count": 11,
   "metadata": {},
   "outputs": [],
   "source": [
    "order_cate_month = order_cate_month.unstack(level=-1).fillna(0)\n",
    "order_cate_month.columns = pd.date_range('2017-01-31', '2018-10-31', freq='M')"
   ]
  },
  {
   "cell_type": "markdown",
   "metadata": {},
   "source": [
    "## 1.2 处理分销数据"
   ]
  },
  {
   "cell_type": "code",
   "execution_count": 12,
   "metadata": {},
   "outputs": [],
   "source": [
    "# 取2017年至2018年区间中的数据（分销数据从2017年6月开始才可用，记录数为358247）\n",
    "dis = dis.loc[(dis.dis_date >= '2017-06-01') & (dis.dis_date <= '2018-10-31')]"
   ]
  },
  {
   "cell_type": "code",
   "execution_count": 13,
   "metadata": {},
   "outputs": [],
   "source": [
    "# 删除其他品类的数据（剩余记录数为343637）\n",
    "dis = dis.join(category.set_index('item_code'), on='item_code', how='left')\n",
    "dis = dis.loc[dis.category.isin(cates_considered)]"
   ]
  },
  {
   "cell_type": "code",
   "execution_count": 14,
   "metadata": {},
   "outputs": [],
   "source": [
    "# 每个品类每个月的分销量\n",
    "dis_cate_month = dis.copy()\n",
    "dis_cate_month['month'] = dis_cate_month.dis_date.astype('str').apply(lambda x: x[:7])\n",
    "dis_cate_month = dis_cate_month.groupby(['category', 'month'])[['qty']].sum()"
   ]
  },
  {
   "cell_type": "code",
   "execution_count": 15,
   "metadata": {},
   "outputs": [],
   "source": [
    "# 取对数\n",
    "# dis_cate_month['qty'] = np.log1p(dis_cate_month.qty)"
   ]
  },
  {
   "cell_type": "code",
   "execution_count": 16,
   "metadata": {},
   "outputs": [],
   "source": [
    "dis_cate_month = dis_cate_month.unstack(level=-1).fillna(0)\n",
    "dis_cate_month.columns = pd.date_range('2017-06-30', '2018-10-31', freq='M')"
   ]
  },
  {
   "cell_type": "code",
   "execution_count": 17,
   "metadata": {},
   "outputs": [],
   "source": [
    "dis_cate_month = dis_cate_month.reindex(order_cate_month.index).fillna(0)"
   ]
  },
  {
   "cell_type": "markdown",
   "metadata": {},
   "source": [
    "## 1.3 处理库存数据"
   ]
  },
  {
   "cell_type": "code",
   "execution_count": 18,
   "metadata": {},
   "outputs": [],
   "source": [
    "# 取2017年至2018年区间中的数据（库存数据从2017年12月开始可用，记录数为138437）\n",
    "inv = inv.loc[(inv.inv_date >= '2017-12-01') & (inv.inv_date <= '2018-10-31')]"
   ]
  },
  {
   "cell_type": "code",
   "execution_count": 19,
   "metadata": {},
   "outputs": [],
   "source": [
    "# 删除其他品类的数据（剩余记录数为121249）\n",
    "inv = inv.join(category.set_index('item_code'), on='item_code', how='left')\n",
    "inv = inv.loc[inv.category.isin(cates_considered)]"
   ]
  },
  {
   "cell_type": "code",
   "execution_count": 20,
   "metadata": {},
   "outputs": [],
   "source": [
    "# 取每月的最后一天作为当月的库存（剩余记录数为33698）\n",
    "inv_lastday = inv.loc[inv.inv_date.isin(pd.date_range('2017-12-31', '2018-10-31', freq='M'))]"
   ]
  },
  {
   "cell_type": "code",
   "execution_count": 21,
   "metadata": {},
   "outputs": [],
   "source": [
    "# 每个品类每月的库存量\n",
    "inv_cate_month = inv_lastday.copy()\n",
    "inv_cate_month['month'] = inv_cate_month.inv_date.astype('str').apply(lambda x: x[:7])\n",
    "inv_cate_month = inv_cate_month.groupby(['category', 'month'])[['qty']].sum()"
   ]
  },
  {
   "cell_type": "code",
   "execution_count": 22,
   "metadata": {},
   "outputs": [],
   "source": [
    "# 取对数\n",
    "# inv_cate_month['qty'] = np.log1p(inv_cate_month.qty)"
   ]
  },
  {
   "cell_type": "code",
   "execution_count": 23,
   "metadata": {},
   "outputs": [],
   "source": [
    "inv_cate_month = inv_cate_month.unstack(level=-1).fillna(0)\n",
    "inv_cate_month.columns = pd.date_range('2017-12-31', '2018-10-31', freq='M')"
   ]
  },
  {
   "cell_type": "code",
   "execution_count": 24,
   "metadata": {},
   "outputs": [],
   "source": [
    "inv_cate_month = inv_cate_month.reindex(order_cate_month.index).fillna(0)"
   ]
  },
  {
   "cell_type": "markdown",
   "metadata": {},
   "source": [
    "## 2.4 处理品类特征"
   ]
  },
  {
   "cell_type": "code",
   "execution_count": 25,
   "metadata": {},
   "outputs": [],
   "source": [
    "cates = pd.DataFrame(cates_considered, columns=['category'])\n",
    "\n",
    "encoder = LabelEncoder()\n",
    "cates['cate_enc'] = encoder.fit_transform(cates.category)\n",
    "\n",
    "cates = cates.set_index('category').reindex(order_cate_month.index)"
   ]
  },
  {
   "cell_type": "markdown",
   "metadata": {},
   "source": [
    "# 2 特征工程"
   ]
  },
  {
   "cell_type": "code",
   "execution_count": 26,
   "metadata": {},
   "outputs": [],
   "source": [
    "def prepare_dataset(order, dis, inv, year, month, is_train=True, name_prefix=None):\n",
    "    X = {}\n",
    "\n",
    "    # 提货的统计特征\n",
    "    for i in [3]:\n",
    "        dt = date(year, month, 1)\n",
    "        tmp = order[pd.date_range(end=dt, periods=i, freq='M')]  # 前i个月提货量\n",
    "        X['ord_diff_mean_pre_%s' % i] = tmp.diff(axis=1).mean(axis=1).values  # 前i个月提货量的平均一阶差分\n",
    "        X['ord_sum_decay_pre_%s' % i] = (tmp * np.power(0.9, np.arange(i)[::-1])).sum(axis=1).values  # 前i个月提货量的和（带衰减）\n",
    "        X['ord_mean_pre_%s' % i] = tmp.mean(axis=1).values  # 前i个月提货量的平均值\n",
    "        X['ord_median_pre_%s' % i] = tmp.median(axis=1).values  # 前i个月提货量的中位数\n",
    "        X['ord_max_pre_%s' % i] = tmp.max(axis=1).values  # 前i个月提货量的最大值\n",
    "        X['ord_min_pre_%s' % i] = tmp.min(axis=1).values  # 前i个月提货量的最小值\n",
    "        X['ord_std_pre_%s' % i] = tmp.std(axis=1).values  # 前i个月提货量的标准差\n",
    "\n",
    "    # 分销的统计特征\n",
    "#     for i in [3]:\n",
    "#         dt = date(year, month, 1)\n",
    "#         tmp = dis[pd.date_range(end=dt, periods=i, freq='M')]  # 前i个月分销量\n",
    "#         X['dis_diff_mean_pre_%s' % i] = tmp.diff(axis=1).mean(axis=1).values  # 前i个月分销量的平均一阶差分\n",
    "#         X['dis_sum_decay_pre_%s' % i] = (tmp * np.power(0.9, np.arange(i)[::-1])).sum(axis=1).values  # 前i个月分销量的和（带衰减）\n",
    "#         X['dis_mean_pre_%s' % i] = tmp.mean(axis=1).values  # 前i个月分销量的均值\n",
    "#         X['dis_median_pre_%s' % i] = tmp.median(axis=1).values  # 前i个月分销量的中位数\n",
    "#         X['dis_max_pre_%s' % i] = tmp.max(axis=1).values  # 前i个月分销量的最大值\n",
    "#         X['dis_min_pre_%s' % i] = tmp.min(axis=1).values  # 前i个月分销量的最小值\n",
    "#         X['dis_std_pre_%s' % i] = tmp.std(axis=1).values  # 前i个月分销量的标准差\n",
    "        \n",
    "    # 库存的统计特征\n",
    "#     for i in [3, 6]:\n",
    "#         dt = date(year, month, 1)\n",
    "#         tmp = inv[pd.date_range(end=dt, periods=i, freq='M')]  # 前i个月库存量\n",
    "#         X['inv_diff_mean_pre_%s' % i] = tmp.diff(axis=1).mean(axis=1).values  # 前i个月库存量的平均一阶差分\n",
    "#         X['inv_sum_decay_pre_%s' % i] = (tmp * np.power(0.9, np.arange(i)[::-1])).sum(axis=1).values  # 前i个月库存量的和（带衰减）\n",
    "#         X['inv_mean_pre_%s' % i] = tmp.mean(axis=1).values  # 前i个月库存量的均值\n",
    "#         X['inv_median_pre_%s' % i] = tmp.median(axis=1).values  # 前i个月库存量的中位数\n",
    "#         X['inv_max_pre_%s' % i] = tmp.max(axis=1).values  # 前i个月库存量的最大值\n",
    "#         X['inv_min_pre_%s' % i] = tmp.min(axis=1).values  # 前i个月库存量的最小值\n",
    "#         X['inv_std_pre_%s' % i] = tmp.std(axis=1).values  # 前i个月库存量的标准差\n",
    "\n",
    "    # 前3个月的提货量\n",
    "    for i in range(1, 4):\n",
    "        if month - i <= 0:\n",
    "            start_dt = date(year - 1, month + 12 - i, 1)\n",
    "        else:\n",
    "            start_dt = date(year, month - i, 1)\n",
    "        X['ord_pre_%s' % i] = order[pd.date_range(start_dt, periods=1, freq='M')].values.ravel()\n",
    "\n",
    "    # 前3个月分销量\n",
    "#     for i in range(1, 4):\n",
    "#         if month - i <= 0:\n",
    "#             start_dt = date(year - 1, month + 12 - i, 1)\n",
    "#         else:\n",
    "#             start_dt = date(year, month - i, 1)\n",
    "#         X['dis_pre_%s' % i] = dis[pd.date_range(start_dt, periods=1, freq='M')].values.ravel()\n",
    "       \n",
    "    # 前6个月的库存量\n",
    "#     for i in range(1, 7):\n",
    "#         if month - i <= 0:\n",
    "#             start_dt = date(year - 1, month + 12 - i, 1)\n",
    "#         else:\n",
    "#             start_dt = date(year, month - i, 1)\n",
    "#         X['inv_pre_%s' % i] = inv[pd.date_range(start_dt, periods=1, freq='M')].values.ravel()\n",
    "        \n",
    "    X = pd.DataFrame(X)\n",
    "    \n",
    "    if is_train:\n",
    "        start_dt = date(year, month, 1)\n",
    "        y = order[pd.date_range(start_dt, periods=2, freq='M')].values\n",
    "        return X, y\n",
    "    \n",
    "    if name_prefix is not None:\n",
    "        X.columns = ['%s_%s' % (name_prefix, c) for c in X.columns]\n",
    "        \n",
    "    return X"
   ]
  },
  {
   "cell_type": "code",
   "execution_count": 27,
   "metadata": {},
   "outputs": [],
   "source": [
    "def get_pre_10_days(order, dis, inv, index, year, month):\n",
    "    X = {} \n",
    "    start_dt, end_dt = date(year, month, 1), date(year, month, 10)\n",
    "    \n",
    "    # 每个品类M月前10天的提货量\n",
    "    ord_tmp = order.loc[order.order_date.isin(pd.date_range(start_dt, end_dt, freq='D'))]\n",
    "    ord_tmp = ord_tmp.groupby('category')[['qty']].sum()\n",
    "    ord_tmp = ord_tmp.reindex(index).fillna(0)\n",
    "#     ord_tmp['qty'] = ord_tmp.qty.apply(lambda x: np.log1p(x) if x > 0 else 0)\n",
    "    X['ord_pre_10_days'] = ord_tmp.values.ravel()\n",
    "    \n",
    "    # 每个品类M月前10天的分销量\n",
    "#     dis_tmp = dis.loc[dis.dis_date.isin(pd.date_range(start_dt, end_dt, freq='D'))]\n",
    "#     dis_tmp = dis_tmp.groupby('category')[['qty']].sum()\n",
    "#     dis_tmp = dis_tmp.reindex(index).fillna(0)\n",
    "#     dis_tmp['qty'] = dis_tmp.qty.apply(lambda x: np.log1p(x) if x > 0 else 0)\n",
    "#     X['dis_pre_10_days'] = dis_tmp.values.ravel()\n",
    "    \n",
    "    # 每个品类M月前10天的库存\n",
    "#     inv_tmp = inv.loc[inv.inv_date.isin(pd.date_range(end=end_dt, periods=1, freq='D'))]\n",
    "#     inv_tmp = inv_tmp.groupby('category')[['qty']].sum()\n",
    "#     inv_tmp = inv_tmp.reindex(index).fillna(0)\n",
    "#     inv_tmp['qty'] = inv_tmp.qty.apply(lambda x: np.log1p(x) if x > 0 else 0)\n",
    "#     X['inv_pre_10_days'] = inv_tmp.values.ravel()\n",
    "    \n",
    "    X = pd.DataFrame(X)\n",
    "    \n",
    "    return X"
   ]
  },
  {
   "cell_type": "markdown",
   "metadata": {},
   "source": [
    "## 2.1 准备训练集"
   ]
  },
  {
   "cell_type": "code",
   "execution_count": 28,
   "metadata": {},
   "outputs": [],
   "source": [
    "train_month = [ \n",
    "    '2017-05', \n",
    "    '2017-06', \n",
    "    '2017-07', \n",
    "    '2017-08', \n",
    "    '2017-09', \n",
    "    '2017-10', \n",
    "    '2017-11', \n",
    "    '2017-12', \n",
    "    '2018-01', \n",
    "    '2018-02', \n",
    "    '2018-03', \n",
    "    '2018-04', \n",
    "    '2018-05', \n",
    "    '2018-06', \n",
    "    '2018-07'\n",
    "]\n",
    "\n",
    "X_l, y_l = [], []\n",
    "for month in train_month:\n",
    "    y, m = int(month.split('-')[0]), int(month.split('-')[1]) \n",
    "    pre_10_days = get_pre_10_days(order, dis, inv, order_cate_month.index, y, m)   \n",
    "    X_tmp, y_tmp = prepare_dataset(order_cate_month, dis_cate_month, inv_cate_month, y, m)\n",
    "    X_tmp = pd.concat([X_tmp, cates.reset_index(drop=True)], axis=1)\n",
    "#     X_tmp = pd.concat([X_tmp, pre_10_days, cates.reset_index(drop=True)], axis=1)\n",
    "    X_tmp['pred_month'] = m\n",
    "    X_tmp['is_spring_fest'] = X_tmp.pred_month.apply(lambda x: 1 if (y == 2017 and x == 1) or (y == 2018 and x == 2) else 0)\n",
    "    X_l.append(X_tmp)\n",
    "    y_l.append(y_tmp)\n",
    "    \n",
    "    del X_tmp, y_tmp\n",
    "    gc.collect()\n",
    "    \n",
    "X_train = pd.concat(X_l, axis=0)\n",
    "y_train = np.concatenate(y_l, axis=0)"
   ]
  },
  {
   "cell_type": "code",
   "execution_count": 29,
   "metadata": {},
   "outputs": [
    {
     "data": {
      "text/html": [
       "<div>\n",
       "<style scoped>\n",
       "    .dataframe tbody tr th:only-of-type {\n",
       "        vertical-align: middle;\n",
       "    }\n",
       "\n",
       "    .dataframe tbody tr th {\n",
       "        vertical-align: top;\n",
       "    }\n",
       "\n",
       "    .dataframe thead th {\n",
       "        text-align: right;\n",
       "    }\n",
       "</style>\n",
       "<table border=\"1\" class=\"dataframe\">\n",
       "  <thead>\n",
       "    <tr style=\"text-align: right;\">\n",
       "      <th></th>\n",
       "      <th>ord_diff_mean_pre_3</th>\n",
       "      <th>ord_sum_decay_pre_3</th>\n",
       "      <th>ord_mean_pre_3</th>\n",
       "      <th>ord_median_pre_3</th>\n",
       "      <th>ord_max_pre_3</th>\n",
       "      <th>ord_min_pre_3</th>\n",
       "      <th>ord_std_pre_3</th>\n",
       "      <th>ord_pre_1</th>\n",
       "      <th>ord_pre_2</th>\n",
       "      <th>ord_pre_3</th>\n",
       "      <th>cate_enc</th>\n",
       "      <th>pred_month</th>\n",
       "      <th>is_spring_fest</th>\n",
       "    </tr>\n",
       "  </thead>\n",
       "  <tbody>\n",
       "    <tr>\n",
       "      <th>0</th>\n",
       "      <td>-9782.5</td>\n",
       "      <td>122536.48</td>\n",
       "      <td>45950.666667</td>\n",
       "      <td>42618.0</td>\n",
       "      <td>72181.0</td>\n",
       "      <td>23053.0</td>\n",
       "      <td>24732.975889</td>\n",
       "      <td>23053.0</td>\n",
       "      <td>72181.0</td>\n",
       "      <td>42618.0</td>\n",
       "      <td>0</td>\n",
       "      <td>5</td>\n",
       "      <td>0</td>\n",
       "    </tr>\n",
       "    <tr>\n",
       "      <th>1</th>\n",
       "      <td>6738.5</td>\n",
       "      <td>46424.23</td>\n",
       "      <td>16658.666667</td>\n",
       "      <td>16873.0</td>\n",
       "      <td>23290.0</td>\n",
       "      <td>9813.0</td>\n",
       "      <td>6741.056025</td>\n",
       "      <td>23290.0</td>\n",
       "      <td>16873.0</td>\n",
       "      <td>9813.0</td>\n",
       "      <td>1</td>\n",
       "      <td>5</td>\n",
       "      <td>0</td>\n",
       "    </tr>\n",
       "    <tr>\n",
       "      <th>2</th>\n",
       "      <td>13806.5</td>\n",
       "      <td>555500.95</td>\n",
       "      <td>204336.666667</td>\n",
       "      <td>130678.0</td>\n",
       "      <td>379267.0</td>\n",
       "      <td>103065.0</td>\n",
       "      <td>152121.943132</td>\n",
       "      <td>130678.0</td>\n",
       "      <td>379267.0</td>\n",
       "      <td>103065.0</td>\n",
       "      <td>2</td>\n",
       "      <td>5</td>\n",
       "      <td>0</td>\n",
       "    </tr>\n",
       "    <tr>\n",
       "      <th>3</th>\n",
       "      <td>-7098.0</td>\n",
       "      <td>453921.59</td>\n",
       "      <td>168264.000000</td>\n",
       "      <td>102839.0</td>\n",
       "      <td>313310.0</td>\n",
       "      <td>88643.0</td>\n",
       "      <td>125813.903012</td>\n",
       "      <td>88643.0</td>\n",
       "      <td>313310.0</td>\n",
       "      <td>102839.0</td>\n",
       "      <td>3</td>\n",
       "      <td>5</td>\n",
       "      <td>0</td>\n",
       "    </tr>\n",
       "    <tr>\n",
       "      <th>4</th>\n",
       "      <td>-39795.0</td>\n",
       "      <td>1285382.08</td>\n",
       "      <td>477148.666667</td>\n",
       "      <td>503100.0</td>\n",
       "      <td>503968.0</td>\n",
       "      <td>424378.0</td>\n",
       "      <td>45702.798616</td>\n",
       "      <td>424378.0</td>\n",
       "      <td>503100.0</td>\n",
       "      <td>503968.0</td>\n",
       "      <td>4</td>\n",
       "      <td>5</td>\n",
       "      <td>0</td>\n",
       "    </tr>\n",
       "  </tbody>\n",
       "</table>\n",
       "</div>"
      ],
      "text/plain": [
       "   ord_diff_mean_pre_3  ord_sum_decay_pre_3  ord_mean_pre_3  ord_median_pre_3  \\\n",
       "0              -9782.5            122536.48    45950.666667           42618.0   \n",
       "1               6738.5             46424.23    16658.666667           16873.0   \n",
       "2              13806.5            555500.95   204336.666667          130678.0   \n",
       "3              -7098.0            453921.59   168264.000000          102839.0   \n",
       "4             -39795.0           1285382.08   477148.666667          503100.0   \n",
       "\n",
       "   ord_max_pre_3  ord_min_pre_3  ord_std_pre_3  ord_pre_1  ord_pre_2  \\\n",
       "0        72181.0        23053.0   24732.975889    23053.0    72181.0   \n",
       "1        23290.0         9813.0    6741.056025    23290.0    16873.0   \n",
       "2       379267.0       103065.0  152121.943132   130678.0   379267.0   \n",
       "3       313310.0        88643.0  125813.903012    88643.0   313310.0   \n",
       "4       503968.0       424378.0   45702.798616   424378.0   503100.0   \n",
       "\n",
       "   ord_pre_3  cate_enc  pred_month  is_spring_fest  \n",
       "0    42618.0         0           5               0  \n",
       "1     9813.0         1           5               0  \n",
       "2   103065.0         2           5               0  \n",
       "3   102839.0         3           5               0  \n",
       "4   503968.0         4           5               0  "
      ]
     },
     "execution_count": 29,
     "metadata": {},
     "output_type": "execute_result"
    }
   ],
   "source": [
    "X_train.head()"
   ]
  },
  {
   "cell_type": "code",
   "execution_count": 30,
   "metadata": {},
   "outputs": [
    {
     "data": {
      "text/plain": [
       "(120, 13)"
      ]
     },
     "execution_count": 30,
     "metadata": {},
     "output_type": "execute_result"
    }
   ],
   "source": [
    "X_train.shape"
   ]
  },
  {
   "cell_type": "markdown",
   "metadata": {},
   "source": [
    "## 2.2 准备验证集"
   ]
  },
  {
   "cell_type": "code",
   "execution_count": 31,
   "metadata": {},
   "outputs": [],
   "source": [
    "pre_10_days = get_pre_10_days(order, dis, inv, order_cate_month.index, 2018, 9)\n",
    "X_val, y_val = prepare_dataset(order_cate_month, dis_cate_month, inv_cate_month, 2018, 9)\n",
    "X_val = pd.concat([X_val, cates.reset_index(drop=True)], axis=1)\n",
    "# X_val = pd.concat([X_val, pre_10_days, cates.reset_index(drop=True)], axis=1)\n",
    "X_val['pred_month'] = 9\n",
    "X_val['is_spring_fest'] = X_val.pred_month.apply(lambda x: 1 if (y == 2017 and x == 1) or (y == 2018 and x == 2) else 0)"
   ]
  },
  {
   "cell_type": "code",
   "execution_count": 32,
   "metadata": {},
   "outputs": [
    {
     "data": {
      "text/html": [
       "<div>\n",
       "<style scoped>\n",
       "    .dataframe tbody tr th:only-of-type {\n",
       "        vertical-align: middle;\n",
       "    }\n",
       "\n",
       "    .dataframe tbody tr th {\n",
       "        vertical-align: top;\n",
       "    }\n",
       "\n",
       "    .dataframe thead th {\n",
       "        text-align: right;\n",
       "    }\n",
       "</style>\n",
       "<table border=\"1\" class=\"dataframe\">\n",
       "  <thead>\n",
       "    <tr style=\"text-align: right;\">\n",
       "      <th></th>\n",
       "      <th>ord_diff_mean_pre_3</th>\n",
       "      <th>ord_sum_decay_pre_3</th>\n",
       "      <th>ord_mean_pre_3</th>\n",
       "      <th>ord_median_pre_3</th>\n",
       "      <th>ord_max_pre_3</th>\n",
       "      <th>ord_min_pre_3</th>\n",
       "      <th>ord_std_pre_3</th>\n",
       "      <th>ord_pre_1</th>\n",
       "      <th>ord_pre_2</th>\n",
       "      <th>ord_pre_3</th>\n",
       "      <th>cate_enc</th>\n",
       "      <th>pred_month</th>\n",
       "      <th>is_spring_fest</th>\n",
       "    </tr>\n",
       "  </thead>\n",
       "  <tbody>\n",
       "    <tr>\n",
       "      <th>0</th>\n",
       "      <td>11554.5</td>\n",
       "      <td>52202.94</td>\n",
       "      <td>18436.000000</td>\n",
       "      <td>11484.0</td>\n",
       "      <td>34593.0</td>\n",
       "      <td>9231.0</td>\n",
       "      <td>14037.645422</td>\n",
       "      <td>34593.0</td>\n",
       "      <td>9231.0</td>\n",
       "      <td>11484.0</td>\n",
       "      <td>0</td>\n",
       "      <td>9</td>\n",
       "      <td>0</td>\n",
       "    </tr>\n",
       "    <tr>\n",
       "      <th>1</th>\n",
       "      <td>-3077.5</td>\n",
       "      <td>29574.57</td>\n",
       "      <td>11122.000000</td>\n",
       "      <td>9912.0</td>\n",
       "      <td>16067.0</td>\n",
       "      <td>7387.0</td>\n",
       "      <td>4464.714437</td>\n",
       "      <td>9912.0</td>\n",
       "      <td>7387.0</td>\n",
       "      <td>16067.0</td>\n",
       "      <td>1</td>\n",
       "      <td>9</td>\n",
       "      <td>0</td>\n",
       "    </tr>\n",
       "    <tr>\n",
       "      <th>2</th>\n",
       "      <td>39864.0</td>\n",
       "      <td>245800.51</td>\n",
       "      <td>87807.000000</td>\n",
       "      <td>74881.0</td>\n",
       "      <td>154609.0</td>\n",
       "      <td>33931.0</td>\n",
       "      <td>61368.607838</td>\n",
       "      <td>154609.0</td>\n",
       "      <td>33931.0</td>\n",
       "      <td>74881.0</td>\n",
       "      <td>2</td>\n",
       "      <td>9</td>\n",
       "      <td>0</td>\n",
       "    </tr>\n",
       "    <tr>\n",
       "      <th>3</th>\n",
       "      <td>36426.0</td>\n",
       "      <td>192307.59</td>\n",
       "      <td>68335.666667</td>\n",
       "      <td>51609.0</td>\n",
       "      <td>124461.0</td>\n",
       "      <td>28937.0</td>\n",
       "      <td>49910.366432</td>\n",
       "      <td>124461.0</td>\n",
       "      <td>28937.0</td>\n",
       "      <td>51609.0</td>\n",
       "      <td>3</td>\n",
       "      <td>9</td>\n",
       "      <td>0</td>\n",
       "    </tr>\n",
       "    <tr>\n",
       "      <th>4</th>\n",
       "      <td>186786.0</td>\n",
       "      <td>1252545.10</td>\n",
       "      <td>449072.000000</td>\n",
       "      <td>434944.0</td>\n",
       "      <td>642922.0</td>\n",
       "      <td>269350.0</td>\n",
       "      <td>187186.297800</td>\n",
       "      <td>642922.0</td>\n",
       "      <td>434944.0</td>\n",
       "      <td>269350.0</td>\n",
       "      <td>4</td>\n",
       "      <td>9</td>\n",
       "      <td>0</td>\n",
       "    </tr>\n",
       "  </tbody>\n",
       "</table>\n",
       "</div>"
      ],
      "text/plain": [
       "   ord_diff_mean_pre_3  ord_sum_decay_pre_3  ord_mean_pre_3  ord_median_pre_3  \\\n",
       "0              11554.5             52202.94    18436.000000           11484.0   \n",
       "1              -3077.5             29574.57    11122.000000            9912.0   \n",
       "2              39864.0            245800.51    87807.000000           74881.0   \n",
       "3              36426.0            192307.59    68335.666667           51609.0   \n",
       "4             186786.0           1252545.10   449072.000000          434944.0   \n",
       "\n",
       "   ord_max_pre_3  ord_min_pre_3  ord_std_pre_3  ord_pre_1  ord_pre_2  \\\n",
       "0        34593.0         9231.0   14037.645422    34593.0     9231.0   \n",
       "1        16067.0         7387.0    4464.714437     9912.0     7387.0   \n",
       "2       154609.0        33931.0   61368.607838   154609.0    33931.0   \n",
       "3       124461.0        28937.0   49910.366432   124461.0    28937.0   \n",
       "4       642922.0       269350.0  187186.297800   642922.0   434944.0   \n",
       "\n",
       "   ord_pre_3  cate_enc  pred_month  is_spring_fest  \n",
       "0    11484.0         0           9               0  \n",
       "1    16067.0         1           9               0  \n",
       "2    74881.0         2           9               0  \n",
       "3    51609.0         3           9               0  \n",
       "4   269350.0         4           9               0  "
      ]
     },
     "execution_count": 32,
     "metadata": {},
     "output_type": "execute_result"
    }
   ],
   "source": [
    "X_val.head()"
   ]
  },
  {
   "cell_type": "code",
   "execution_count": 33,
   "metadata": {},
   "outputs": [
    {
     "data": {
      "text/plain": [
       "(8, 13)"
      ]
     },
     "execution_count": 33,
     "metadata": {},
     "output_type": "execute_result"
    }
   ],
   "source": [
    "X_val.shape"
   ]
  },
  {
   "cell_type": "markdown",
   "metadata": {},
   "source": [
    "## 2.3 准备测试集"
   ]
  },
  {
   "cell_type": "code",
   "execution_count": 34,
   "metadata": {},
   "outputs": [],
   "source": [
    "pre_10_days = get_pre_10_days(order, dis, inv, order_cate_month.index, 2018, 11)\n",
    "X_test = prepare_dataset(order_cate_month, dis_cate_month, inv_cate_month, 2018, 11, is_train=False)\n",
    "X_test = pd.concat([X_test, cates.reset_index(drop=True)], axis=1)\n",
    "# X_test = pd.concat([X_test, pre_10_days, cates.reset_index(drop=True)], axis=1)\n",
    "X_test['pred_month'] = 11\n",
    "X_test['is_spring_fest'] = X_test.pred_month.apply(lambda x: 1 if (y == 2017 and x == 1) or (y == 2018 and x == 2) else 0)"
   ]
  },
  {
   "cell_type": "code",
   "execution_count": 35,
   "metadata": {},
   "outputs": [
    {
     "data": {
      "text/html": [
       "<div>\n",
       "<style scoped>\n",
       "    .dataframe tbody tr th:only-of-type {\n",
       "        vertical-align: middle;\n",
       "    }\n",
       "\n",
       "    .dataframe tbody tr th {\n",
       "        vertical-align: top;\n",
       "    }\n",
       "\n",
       "    .dataframe thead th {\n",
       "        text-align: right;\n",
       "    }\n",
       "</style>\n",
       "<table border=\"1\" class=\"dataframe\">\n",
       "  <thead>\n",
       "    <tr style=\"text-align: right;\">\n",
       "      <th></th>\n",
       "      <th>ord_diff_mean_pre_3</th>\n",
       "      <th>ord_sum_decay_pre_3</th>\n",
       "      <th>ord_mean_pre_3</th>\n",
       "      <th>ord_median_pre_3</th>\n",
       "      <th>ord_max_pre_3</th>\n",
       "      <th>ord_min_pre_3</th>\n",
       "      <th>ord_std_pre_3</th>\n",
       "      <th>ord_pre_1</th>\n",
       "      <th>ord_pre_2</th>\n",
       "      <th>ord_pre_3</th>\n",
       "      <th>cate_enc</th>\n",
       "      <th>pred_month</th>\n",
       "      <th>is_spring_fest</th>\n",
       "    </tr>\n",
       "  </thead>\n",
       "  <tbody>\n",
       "    <tr>\n",
       "      <th>0</th>\n",
       "      <td>1697.5</td>\n",
       "      <td>109112.03</td>\n",
       "      <td>40158.000000</td>\n",
       "      <td>37988.0</td>\n",
       "      <td>47893.0</td>\n",
       "      <td>34593.0</td>\n",
       "      <td>6910.439566</td>\n",
       "      <td>37988.0</td>\n",
       "      <td>47893.0</td>\n",
       "      <td>34593.0</td>\n",
       "      <td>0</td>\n",
       "      <td>11</td>\n",
       "      <td>0</td>\n",
       "    </tr>\n",
       "    <tr>\n",
       "      <th>1</th>\n",
       "      <td>12416.5</td>\n",
       "      <td>57135.92</td>\n",
       "      <td>20205.000000</td>\n",
       "      <td>15958.0</td>\n",
       "      <td>34745.0</td>\n",
       "      <td>9912.0</td>\n",
       "      <td>12949.796485</td>\n",
       "      <td>34745.0</td>\n",
       "      <td>15958.0</td>\n",
       "      <td>9912.0</td>\n",
       "      <td>1</td>\n",
       "      <td>11</td>\n",
       "      <td>0</td>\n",
       "    </tr>\n",
       "    <tr>\n",
       "      <th>2</th>\n",
       "      <td>40298.5</td>\n",
       "      <td>525424.59</td>\n",
       "      <td>191044.000000</td>\n",
       "      <td>183317.0</td>\n",
       "      <td>235206.0</td>\n",
       "      <td>154609.0</td>\n",
       "      <td>40850.324344</td>\n",
       "      <td>235206.0</td>\n",
       "      <td>183317.0</td>\n",
       "      <td>154609.0</td>\n",
       "      <td>2</td>\n",
       "      <td>11</td>\n",
       "      <td>0</td>\n",
       "    </tr>\n",
       "    <tr>\n",
       "      <th>3</th>\n",
       "      <td>60818.0</td>\n",
       "      <td>506646.91</td>\n",
       "      <td>182681.000000</td>\n",
       "      <td>177485.0</td>\n",
       "      <td>246097.0</td>\n",
       "      <td>124461.0</td>\n",
       "      <td>60984.243342</td>\n",
       "      <td>246097.0</td>\n",
       "      <td>177485.0</td>\n",
       "      <td>124461.0</td>\n",
       "      <td>3</td>\n",
       "      <td>11</td>\n",
       "      <td>0</td>\n",
       "    </tr>\n",
       "    <tr>\n",
       "      <th>4</th>\n",
       "      <td>139556.0</td>\n",
       "      <td>2278011.62</td>\n",
       "      <td>830989.333333</td>\n",
       "      <td>922034.0</td>\n",
       "      <td>928012.0</td>\n",
       "      <td>642922.0</td>\n",
       "      <td>162898.512950</td>\n",
       "      <td>922034.0</td>\n",
       "      <td>928012.0</td>\n",
       "      <td>642922.0</td>\n",
       "      <td>4</td>\n",
       "      <td>11</td>\n",
       "      <td>0</td>\n",
       "    </tr>\n",
       "  </tbody>\n",
       "</table>\n",
       "</div>"
      ],
      "text/plain": [
       "   ord_diff_mean_pre_3  ord_sum_decay_pre_3  ord_mean_pre_3  ord_median_pre_3  \\\n",
       "0               1697.5            109112.03    40158.000000           37988.0   \n",
       "1              12416.5             57135.92    20205.000000           15958.0   \n",
       "2              40298.5            525424.59   191044.000000          183317.0   \n",
       "3              60818.0            506646.91   182681.000000          177485.0   \n",
       "4             139556.0           2278011.62   830989.333333          922034.0   \n",
       "\n",
       "   ord_max_pre_3  ord_min_pre_3  ord_std_pre_3  ord_pre_1  ord_pre_2  \\\n",
       "0        47893.0        34593.0    6910.439566    37988.0    47893.0   \n",
       "1        34745.0         9912.0   12949.796485    34745.0    15958.0   \n",
       "2       235206.0       154609.0   40850.324344   235206.0   183317.0   \n",
       "3       246097.0       124461.0   60984.243342   246097.0   177485.0   \n",
       "4       928012.0       642922.0  162898.512950   922034.0   928012.0   \n",
       "\n",
       "   ord_pre_3  cate_enc  pred_month  is_spring_fest  \n",
       "0    34593.0         0          11               0  \n",
       "1     9912.0         1          11               0  \n",
       "2   154609.0         2          11               0  \n",
       "3   124461.0         3          11               0  \n",
       "4   642922.0         4          11               0  "
      ]
     },
     "execution_count": 35,
     "metadata": {},
     "output_type": "execute_result"
    }
   ],
   "source": [
    "X_test.head()"
   ]
  },
  {
   "cell_type": "code",
   "execution_count": 36,
   "metadata": {},
   "outputs": [
    {
     "data": {
      "text/plain": [
       "(8, 13)"
      ]
     },
     "execution_count": 36,
     "metadata": {},
     "output_type": "execute_result"
    }
   ],
   "source": [
    "X_test.shape"
   ]
  },
  {
   "cell_type": "markdown",
   "metadata": {},
   "source": [
    "## 2.4 将 Categorical Feature 转化成 OneHot 向量\n",
    "\n",
    "**备注**：\n",
    "对于树模型而言，没有必要把 Categorical Feature 转化成 OneHot 向量，反而会使得准确率略微下降。"
   ]
  },
  {
   "cell_type": "code",
   "execution_count": 37,
   "metadata": {},
   "outputs": [],
   "source": [
    "# train_len = len(X_train)\n",
    "# val_len = len(X_val)\n",
    "\n",
    "# tmp = pd.concat([X_train, X_val, X_test], axis=0)\n",
    "# tmp = pd.get_dummies(tmp, columns=['cate_enc', 'pred_month'])\n",
    "\n",
    "# X_train = tmp.iloc[:train_len]\n",
    "# X_val = tmp.iloc[train_len:(train_len + val_len)]\n",
    "# X_test = tmp.iloc[(train_len + val_len):]\n",
    "\n",
    "# del tmp\n",
    "# gc.collect()"
   ]
  },
  {
   "cell_type": "markdown",
   "metadata": {},
   "source": [
    "# 3 训练和预测"
   ]
  },
  {
   "cell_type": "code",
   "execution_count": 38,
   "metadata": {},
   "outputs": [],
   "source": [
    "def error(y_true, y_pred):\n",
    "    return np.sum(np.abs(y_true - y_pred)) / np.sum(y_true)"
   ]
  },
  {
   "cell_type": "code",
   "execution_count": 39,
   "metadata": {},
   "outputs": [],
   "source": [
    "def acc(y_true, y_pred):\n",
    "    return 1 - error(y_true, y_pred)"
   ]
  },
  {
   "cell_type": "code",
   "execution_count": 40,
   "metadata": {},
   "outputs": [
    {
     "name": "stdout",
     "output_type": "stream",
     "text": [
      "[INFO] Start training and predicting...\n",
      "\n",
      "# ==================================================================================================== #\n",
      "# Step 0                                                                                               #\n",
      "# ==================================================================================================== #\n",
      "[INFO] Fit the model...\n",
      "[INFO] The accuracy of training set is: 97.14%\t The accuracy of validation set is: 55.22%\n",
      "[INFO] The MSE of training set is: 97.14%\t The MSE of validation set is: 55.22%\n",
      "\n",
      "# ==================================================================================================== #\n",
      "# Step 1                                                                                               #\n",
      "# ==================================================================================================== #\n",
      "[INFO] Fit the model...\n",
      "[INFO] The accuracy of training set is: 96.42%\t The accuracy of validation set is: 56.86%\n",
      "[INFO] The MSE of training set is: 96.42%\t The MSE of validation set is: 56.86%\n",
      "\n",
      "[INFO] Finished! ( ^ _ ^ ) V\n",
      "[INFO] Done in 2.993553 seconds.\n"
     ]
    }
   ],
   "source": [
    "print(\"[INFO] Start training and predicting...\")\n",
    "t0 = time()\n",
    "\n",
    "regr = AdaBoostRegressor(\n",
    "    base_estimator=DecisionTreeRegressor(max_depth=8), \n",
    "    n_estimators=1200, random_state=np.random.RandomState(1)\n",
    ")\n",
    "\n",
    "preds_train, preds_val, preds_test = [], [], []\n",
    "accs_train, accs_val = [], []\n",
    "mses_train, mses_val = [], []\n",
    "\n",
    "for i in range(2):\n",
    "    print()\n",
    "    print('# ' + '=' * 100 + ' #')\n",
    "    print('# ' + 'Step %d' % i + ' ' * (100 - len('Step %d' % i)) + ' #')\n",
    "    print('# ' + '=' * 100 + ' #')\n",
    "    \n",
    "    # Add previous predictions as a new feature\n",
    "    if preds_train:\n",
    "        X_train['m%s' % (i - 1)] = pd.Series(preds_train[i - 1])\n",
    "        X_val['m%s' % (i - 1)] = pd.Series(preds_val[i - 1])\n",
    "        X_test['m%s' % (i - 1)] = pd.Series(preds_test[i - 1])\n",
    "    \n",
    "    # Adjust the month predicted\n",
    "    if i != 0:\n",
    "        X_train['pred_month'] = X_train.pred_month.apply(lambda x: x - 11 if x + 1 > 12 else x + 1)\n",
    "        X_val['pred_month'] = X_val.pred_month.apply(lambda x: x - 11 if x + 1 > 12 else x + 1)\n",
    "        X_test['pred_month'] = X_test.pred_month.apply(lambda x: x - 11 if x + 1 > 12 else x + 1)\n",
    "    \n",
    "    print(\"[INFO] Fit the model...\")\n",
    "    regr.fit(X_train.values, y_train[:, i])\n",
    "    \n",
    "    # Predict\n",
    "    pred_train = regr.predict(X_train.values)\n",
    "    pred_val = regr.predict(X_val.values)\n",
    "    pred_test = regr.predict(X_test.values)\n",
    "    \n",
    "    # Calculate accuracy\n",
    "    acc_train = acc(y_train[:, i], pred_train)\n",
    "    acc_val = acc(y_val[:, i], pred_val)\n",
    "    print(\"[INFO] The accuracy of training set is: %.2f%%\\t The accuracy of validation set is: %.2f%%\" % (acc_train * 100, acc_val * 100))\n",
    "    \n",
    "    # Calculate MSE\n",
    "    mse_train = mean_squared_error(y_train[:, i], pred_train)\n",
    "    mse_val = mean_squared_error(y_val[:, i], pred_val)\n",
    "    print(\"[INFO] The MSE of training set is: %.2f%%\\t The MSE of validation set is: %.2f%%\" % (acc_train * 100, acc_val * 100))\n",
    "    \n",
    "    # Store the intermediate results\n",
    "    preds_train.append(pred_train)\n",
    "    preds_val.append(pred_val)\n",
    "    preds_test.append(pred_test)\n",
    "    accs_train.append(acc_train)\n",
    "    accs_val.append(acc_val)\n",
    "    mses_train.append(mse_train)\n",
    "    mses_val.append(mse_val)\n",
    "\n",
    "print()\n",
    "print(\"[INFO] Finished! ( ^ _ ^ ) V\")\n",
    "print(\"[INFO] Done in %f seconds.\" % (time() - t0))"
   ]
  },
  {
   "cell_type": "code",
   "execution_count": 41,
   "metadata": {},
   "outputs": [
    {
     "name": "stdout",
     "output_type": "stream",
     "text": [
      "The MSE error of validation set is: 45826516996.703125\n"
     ]
    }
   ],
   "source": [
    "print(\"The MSE error of validation set is:\", mean_squared_error(y_val, np.array(preds_val).transpose()))"
   ]
  },
  {
   "cell_type": "markdown",
   "metadata": {},
   "source": [
    "# 4 结果评估"
   ]
  },
  {
   "cell_type": "markdown",
   "metadata": {},
   "source": [
    "## 4.1 技术指标"
   ]
  },
  {
   "cell_type": "markdown",
   "metadata": {},
   "source": [
    "评价指标为**归一化加权均方根对数误差（Normalized Weighted Root Mean Squared Logarithmic Error, NWRMSLE）**，表达式如下：\n",
    "\n",
    "$$\n",
    "\\text{NWRMSLE} = \\sqrt{ \\frac{\\sum_{i=1}^{m}\\omega_i \\sum_{j=1}^{t}\\left( \\ln \\left(\\widehat{y}_j^{(i)} + 1 \\right) -\\ln \\left(y_j^{(i)} + 1 \\right)\\right)^2}{t\\cdot \\sum_{i=1}^{m}\\omega_i} }\n",
    "$$"
   ]
  },
  {
   "cell_type": "code",
   "execution_count": 42,
   "metadata": {},
   "outputs": [
    {
     "name": "stdout",
     "output_type": "stream",
     "text": [
      "The NWRMSLE error of validation set is: 214071.2895198773\n"
     ]
    }
   ],
   "source": [
    "# 归一化加权均方根对数误差\n",
    "err = (y_val - np.array(preds_val).transpose()) ** 2\n",
    "err = err.sum(axis=1)\n",
    "err = np.sqrt(err.sum() / 2 / len(y_val))\n",
    "print(\"The NWRMSLE error of validation set is:\", err)"
   ]
  },
  {
   "cell_type": "markdown",
   "metadata": {},
   "source": [
    "## 4.2 业务指标"
   ]
  },
  {
   "cell_type": "markdown",
   "metadata": {},
   "source": [
    "业务指标的表达式如下：\n",
    "\n",
    "$$\n",
    "E(t, y) = \\frac{\\sum_{i=0}^{n} | y^{(i)} - t^{(i)} |}{\\sum_{i=0}^{n} t^{(i)}}\n",
    "$$"
   ]
  },
  {
   "cell_type": "markdown",
   "metadata": {},
   "source": [
    "### 4.2.1 验证集"
   ]
  },
  {
   "cell_type": "code",
   "execution_count": 43,
   "metadata": {},
   "outputs": [],
   "source": [
    "def expm1_with_clip(x, l=0, r=100000):\n",
    "    return np.clip(np.expm1(x), l, r)"
   ]
  },
  {
   "cell_type": "code",
   "execution_count": 44,
   "metadata": {},
   "outputs": [],
   "source": [
    "df_val = pd.DataFrame(\n",
    "    np.array(y_val), index=order_cate_month.index, \n",
    "    columns=['2018-09', '2018-10']\n",
    ")\n",
    "\n",
    "df_pred_val = pd.DataFrame(\n",
    "    np.array(preds_val).transpose(), index=order_cate_month.index, \n",
    "    columns=['2018-09', '2018-10']\n",
    ")"
   ]
  },
  {
   "cell_type": "code",
   "execution_count": 45,
   "metadata": {},
   "outputs": [],
   "source": [
    "# df_val = pd.DataFrame(\n",
    "#     np.array(y_val), index=order_cate_month.index, \n",
    "#     columns=['2018-09', '2018-10']\n",
    "# ).apply(np.expm1)\n",
    "\n",
    "# df_pred_val = pd.DataFrame(\n",
    "#     np.array(preds_val).transpose(), index=order_cate_month.index, \n",
    "#     columns=['2018-09', '2018-10']\n",
    "# ).apply(np.expm1)"
   ]
  },
  {
   "cell_type": "code",
   "execution_count": 46,
   "metadata": {},
   "outputs": [
    {
     "name": "stdout",
     "output_type": "stream",
     "text": [
      "The accuracy of 'M' order amount is: 55.22%\n",
      "The accuracy of 'M+1' order amount is: 56.86%\n"
     ]
    }
   ],
   "source": [
    "# 验证集（9-10月）准确率（品类）\n",
    "m_acc = acc(df_val['2018-09'], df_pred_val['2018-09'])\n",
    "m1_acc = acc(df_val['2018-10'], df_pred_val['2018-10'])\n",
    "print(\"The accuracy of 'M' order amount is: %.2f%%\" % (m_acc * 100))\n",
    "print(\"The accuracy of 'M+1' order amount is: %.2f%%\" % (m1_acc * 100))"
   ]
  },
  {
   "cell_type": "markdown",
   "metadata": {},
   "source": [
    "### 4.2.2 测试集"
   ]
  },
  {
   "cell_type": "code",
   "execution_count": 47,
   "metadata": {},
   "outputs": [],
   "source": [
    "df_pred_test = pd.DataFrame(\n",
    "    np.array(preds_test).transpose(), index=order_cate_month.index, \n",
    "    columns=['2018-11', '2018-12']\n",
    ").stack().to_frame('pred_qty')\n",
    "df_pred_test.index.set_names(['category', 'month'], inplace=True)"
   ]
  },
  {
   "cell_type": "code",
   "execution_count": 48,
   "metadata": {},
   "outputs": [],
   "source": [
    "# df_pred_test = pd.DataFrame(\n",
    "#     np.array(preds_test).transpose(), index=order_cate_month.index, \n",
    "#     columns=['2018-11', '2018-12']\n",
    "# ).stack().to_frame('pred_qty')\n",
    "# df_pred_test.index.set_names(['category', 'month'], inplace=True)\n",
    "# df_pred_test['pred_qty'] = np.floor(np.expm1(df_pred_test.pred_qty))"
   ]
  },
  {
   "cell_type": "code",
   "execution_count": 49,
   "metadata": {},
   "outputs": [],
   "source": [
    "comp = df_test.join(df_pred_test, how='left').fillna(0).reset_index()\n",
    "\n",
    "m_comp = comp.loc[comp['month'] == '2018-11']\n",
    "m1_comp = comp.loc[comp['month'] == '2018-12']"
   ]
  },
  {
   "cell_type": "code",
   "execution_count": 50,
   "metadata": {},
   "outputs": [
    {
     "name": "stdout",
     "output_type": "stream",
     "text": [
      "The accuracy of 'M' order amount is: 50.54%\n",
      "The accuracy of 'M+1' order amount is: 63.98%\n"
     ]
    }
   ],
   "source": [
    "# 测试集（11-12月）准确率（品类）\n",
    "m_acc = acc(m_comp['qty'], m_comp['pred_qty'])\n",
    "m1_acc = acc(m1_comp['qty'], m1_comp['pred_qty'])\n",
    "print(\"The accuracy of 'M' order amount is: %.2f%%\" % (m_acc * 100))\n",
    "print(\"The accuracy of 'M+1' order amount is: %.2f%%\" % (m1_acc * 100))"
   ]
  },
  {
   "cell_type": "code",
   "execution_count": null,
   "metadata": {},
   "outputs": [],
   "source": []
  }
 ],
 "metadata": {
  "kernelspec": {
   "display_name": "Python 3",
   "language": "python",
   "name": "python3"
  },
  "language_info": {
   "codemirror_mode": {
    "name": "ipython",
    "version": 3
   },
   "file_extension": ".py",
   "mimetype": "text/x-python",
   "name": "python",
   "nbconvert_exporter": "python",
   "pygments_lexer": "ipython3",
   "version": "3.6.5"
  }
 },
 "nbformat": 4,
 "nbformat_minor": 2
}
